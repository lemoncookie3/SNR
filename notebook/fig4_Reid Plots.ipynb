{
 "cells": [
  {
   "cell_type": "markdown",
   "metadata": {},
   "source": [
    "## fig4_Reid Plots"
   ]
  },
  {
   "cell_type": "code",
   "execution_count": 2,
   "metadata": {
    "collapsed": false
   },
   "outputs": [],
   "source": [
    "import time, datetime\n",
    "import numpy as np\n",
    "from numpy import zeros, sqrt, pi, vectorize\n",
    "from numpy.linalg import pinv, inv\n",
    "from multiprocessing import Process, Queue\n",
    "#import matplotlib\n",
    "#matplotlib.use('Qt4Agg')\n",
    "import matplotlib.pyplot as plt\n",
    "%matplotlib inline\n",
    "from error_analysis_class import *\n",
    "from noshellavg import *"
   ]
  },
  {
   "cell_type": "markdown",
   "metadata": {},
   "source": [
    "## Initial settings "
   ]
  },
  {
   "cell_type": "code",
   "execution_count": 357,
   "metadata": {
    "collapsed": false
   },
   "outputs": [],
   "source": [
    "#  (parameter description in class code)\n",
    "# Fourier K 0.001~10\n",
    "KMIN = 1e-10\n",
    "KMAX = 2 # 361.32 #502.32\n",
    "RMIN = 0.1\n",
    "RMAX = 180\n",
    "\n",
    "kmin = 0.01\n",
    "kmax = 2\n",
    "\n",
    "# the number of k sample point should be 2^n+1 (b/c romb integration)\n",
    "rN = 200\n",
    "kN_x = 1\n",
    "kN = 2**10 + 1\n",
    "kN_y = 1000\n",
    "#subN = 2**5 + 1\n",
    "# RSD class"
   ]
  },
  {
   "cell_type": "code",
   "execution_count": 358,
   "metadata": {
    "collapsed": false,
    "scrolled": true
   },
   "outputs": [
    {
     "name": "stdout",
     "output_type": "stream",
     "text": [
      "-------------------------------------------------------------------        \n",
      "class error_analysis, no RSD         \n",
      "z = 0.0, kN =1025, N_y = 1000, rN = 200\n",
      "dr = 0.904020100503, dk=0.0019531249999, dk_y=0.0020020020019\n"
     ]
    }
   ],
   "source": [
    "RSDPower = NoShell_covariance(KMIN, KMAX, RMIN, RMAX, kN, rN, kN_x, kN_y, logscale = False)"
   ]
  },
  {
   "cell_type": "code",
   "execution_count": 392,
   "metadata": {
    "collapsed": false
   },
   "outputs": [],
   "source": [
    "rcut_max = get_closest_index_in_data( RMAX, RSDPower.rmax )\n",
    "rcut_min = get_closest_index_in_data( RMIN, RSDPower.rmin )\n",
    "kcut_min = get_closest_index_in_data( kmin, RSDPower.kmin_y )\n",
    "kcut_max = get_closest_index_in_data( kmax, RSDPower.kmax_y )"
   ]
  },
  {
   "cell_type": "markdown",
   "metadata": {},
   "source": [
    "Call noshell class"
   ]
  },
  {
   "cell_type": "code",
   "execution_count": 360,
   "metadata": {
    "collapsed": false
   },
   "outputs": [
    {
     "name": "stdout",
     "output_type": "stream",
     "text": [
      "multiprocessing 100 %"
     ]
    }
   ],
   "source": [
    "file = 'matterpower_z_0.55.dat'  # from camb (z=0.55)\n",
    "RSDPower.MatterPower(file = file)\n",
    "# power spectrum multipoles l = 0,2,4\n",
    "RSDPower.multipole_P_band_all()\n",
    "\n",
    "# derivative dXi/dp\n",
    "RSDPower.derivative_Xi_band_all()\n",
    "\n",
    "# derivative dXidb, s, f\n",
    "RSDPower.derivative_bfs_all()\n",
    "RSDPower.derivative_P_bfs_all()\n",
    "\n",
    "# P covariance matrix ( nine submatrices C_ll' )\n",
    "RSDPower.RSDband_covariance_PP_all()\n",
    "\n",
    "# Xi covariance matrix ( nine submatrices C_ll' )\n",
    "RSDPower.covariance_Xi_all()\n",
    "RSDPower.covariance_PXi_All()"
   ]
  },
  {
   "cell_type": "code",
   "execution_count": 361,
   "metadata": {
    "collapsed": true
   },
   "outputs": [],
   "source": [
    "matricesXi = [RSDPower.covariance00[rcut_max:rcut_min+1,rcut_max:rcut_min+1],\\\n",
    "              RSDPower.covariance02[rcut_max:rcut_min+1,rcut_max:rcut_min+1],\\\n",
    "              RSDPower.covariance04[rcut_max:rcut_min+1,rcut_max:rcut_min+1],\\\n",
    "              np.transpose(RSDPower.covariance02[rcut_max:rcut_min+1,rcut_max:rcut_min+1]),\\\n",
    "              RSDPower.covariance22[rcut_max:rcut_min+1,rcut_max:rcut_min+1],\\\n",
    "              RSDPower.covariance24[rcut_max:rcut_min+1,rcut_max:rcut_min+1],\\\n",
    "              np.transpose(RSDPower.covariance04[rcut_max:rcut_min+1,rcut_max:rcut_min+1]),\\\n",
    "              np.transpose(RSDPower.covariance24[rcut_max:rcut_min+1,rcut_max:rcut_min+1]),\\\n",
    "              RSDPower.covariance44[rcut_max:rcut_min+1,rcut_max:rcut_min+1]]\n",
    "\n",
    "matricesPP_all = [RSDPower.covariance_PP00,RSDPower.covariance_PP02,\\\n",
    "                RSDPower.covariance_PP04,RSDPower.covariance_PP02,\\\n",
    "                RSDPower.covariance_PP22,RSDPower.covariance_PP24,\\\n",
    "                RSDPower.covariance_PP04,RSDPower.covariance_PP24,\\\n",
    "                RSDPower.covariance_PP44]\n",
    "\n",
    "matricesPP = [RSDPower.covariance_PP00[kcut_min:kcut_max+1,kcut_min:kcut_max+1],\n",
    "            RSDPower.covariance_PP02[kcut_min:kcut_max+1,kcut_min:kcut_max+1],\n",
    "            RSDPower.covariance_PP04[kcut_min:kcut_max+1,kcut_min:kcut_max+1],\n",
    "            RSDPower.covariance_PP02[kcut_min:kcut_max+1,kcut_min:kcut_max+1],\n",
    "            RSDPower.covariance_PP22[kcut_min:kcut_max+1,kcut_min:kcut_max+1],\n",
    "            RSDPower.covariance_PP24[kcut_min:kcut_max+1,kcut_min:kcut_max+1],\n",
    "            RSDPower.covariance_PP04[kcut_min:kcut_max+1,kcut_min:kcut_max+1],\n",
    "            RSDPower.covariance_PP24[kcut_min:kcut_max+1,kcut_min:kcut_max+1],\n",
    "            RSDPower.covariance_PP44[kcut_min:kcut_max+1,kcut_min:kcut_max+1]]\n",
    "\n",
    "matricesPXi = [RSDPower.covariance_PXi00[kcut_min:kcut_max+1,rcut_max:rcut_min+1],\\\n",
    "             RSDPower.covariance_PXi02[kcut_min:kcut_max+1,rcut_max:rcut_min+1],\\\n",
    "             RSDPower.covariance_PXi04[kcut_min:kcut_max+1,rcut_max:rcut_min+1],\\\n",
    "             RSDPower.covariance_PXi20[kcut_min:kcut_max+1,rcut_max:rcut_min+1],\\\n",
    "             RSDPower.covariance_PXi22[kcut_min:kcut_max+1,rcut_max:rcut_min+1],\\\n",
    "             RSDPower.covariance_PXi24[kcut_min:kcut_max+1,rcut_max:rcut_min+1],\\\n",
    "             RSDPower.covariance_PXi40[kcut_min:kcut_max+1,rcut_max:rcut_min+1],\\\n",
    "             RSDPower.covariance_PXi42[kcut_min:kcut_max+1,rcut_max:rcut_min+1],\\\n",
    "             RSDPower.covariance_PXi44[kcut_min:kcut_max+1,rcut_max:rcut_min+1]]\n"
   ]
  },
  {
   "cell_type": "markdown",
   "metadata": {},
   "source": [
    "Make matrices lists to construt covriance matrices\n",
    "\n"
   ]
  },
  {
   "cell_type": "code",
   "execution_count": 362,
   "metadata": {
    "collapsed": true
   },
   "outputs": [],
   "source": [
    "l1 = RSDPower.kcenter_y.size\n",
    "l2 = rcut_min+1 - rcut_max\n",
    "l3 = kcut_max+1 - kcut_min"
   ]
  },
  {
   "cell_type": "code",
   "execution_count": 363,
   "metadata": {
    "collapsed": false
   },
   "outputs": [],
   "source": [
    "# combining covariances\n",
    "C_matrix3PP_all = CombineCovariance3(l1, matricesPP_all)\n",
    "C_matrix3PP = CombineCovariance3(l3, matricesPP)\n",
    "C_matrix3Xi = CombineCovariance3(l2, matricesXi)\n",
    "                                 \n",
    "#C_matrix3PXi = np.zeros((C_matrix3PXi.shape))\n",
    "#C_matrix3PXi, C_matrix3XiP = CombineCrossCovariance3(l3, l2, matricesPXi, transpose = True)\n",
    "#C_matrix3_tot = np.concatenate((np.concatenate((C_matrix3PP, C_matrix3PXi), axis=1),\\\n",
    "#                                np.concatenate((C_matrix3PXi.T, C_matrix3Xi), axis=1)), axis = 0)"
   ]
  },
  {
   "cell_type": "markdown",
   "metadata": {},
   "source": [
    "Covariance matrices for each estimator. Suffix `_all`  covoers all k scales.  \n",
    "`C_matrix3_tot`  is a combined covariance matrix. if cross-covariance is zero matrix, The combined one is optimistic."
   ]
  },
  {
   "cell_type": "code",
   "execution_count": 364,
   "metadata": {
    "collapsed": false
   },
   "outputs": [],
   "source": [
    "# inverting matrices\n",
    "from test_SNR import blockwiseInversion\n",
    "FisherP_all = inv(C_matrix3PP_all)\n",
    "FisherP = inv(C_matrix3PP)\n",
    "FisherXi = inv(C_matrix3Xi) \n",
    "#blockwiseInversion( C_matrix3Xi, rcut_min+1-rcut_max )\n",
    "#Fisher3_tot = blockwiseInversion( C_matrix3_tot, 3 * (kcut_max+1-kcut_min) )"
   ]
  },
  {
   "cell_type": "markdown",
   "metadata": {},
   "source": [
    "Use **Blockwise Inversion** method to invert C_xi and combined C.  \n",
    "엥 솔직히 한번에 뒤집어도 되는 거라서 blockwise inversion 안 써도 될 거 같지만....\n",
    "\n",
    "Make derivatives. All derivative matrices consist of 3x3 sub matrices.  \n",
    "Since derivatives between different multipoles becomes zero, off-diagonal sub-matrices are zero.  \n",
    "Diagonal sub-matrices of P multipoles are one.  \n",
    "\n",
    "```\n",
    "derivative_P : dP0/P0, dP2/P2, dP4/P4....  \n",
    "derivative_correl_avg : dXi0/P0, dXi2/P2, dXi4/P4 ....  \n",
    "Deriva tives : derivatives of combined estimator. (derivative_P, derivative_correl_avg)\n",
    "```"
   ]
  },
  {
   "cell_type": "code",
   "execution_count": 365,
   "metadata": {
    "collapsed": true
   },
   "outputs": [],
   "source": [
    "# derivatives\n",
    "derivative_P0 = np.identity(RSDPower.kcenter_y.size)[:,kcut_min:kcut_max+1]\n",
    "Pzeros = np.zeros((derivative_P0.shape))\n",
    "\n",
    "derivative_P = np.concatenate((np.concatenate((derivative_P0, Pzeros, Pzeros),axis=1 ),\\\n",
    "                               np.concatenate((Pzeros, derivative_P0, Pzeros),axis=1 ),\\\n",
    "                               np.concatenate((Pzeros, Pzeros, derivative_P0),axis=1 )), axis=0)\n",
    "Xizeros = np.zeros((RSDPower.dxip0[:,rcut_max:rcut_min+1].shape))\n",
    "derivative_correl_avg = np.concatenate(( np.concatenate((RSDPower.dxip0[:,rcut_max:rcut_min+1],Xizeros,Xizeros), axis=1),\\\n",
    "                                        np.concatenate((Xizeros,RSDPower.dxip2[:,rcut_max:rcut_min+1],Xizeros), axis=1),\\\n",
    "                                        np.concatenate((Xizeros,Xizeros,RSDPower.dxip4[:,rcut_max:rcut_min+1]), axis=1)),axis=0 )\n",
    "Derivatives = np.concatenate((derivative_P,derivative_correl_avg), axis=1)"
   ]
  },
  {
   "cell_type": "markdown",
   "metadata": {},
   "source": [
    "Inner product of Fisher matrices and derivative matrices gives Fisher information matrices in k space from different estimators.  \n",
    "These Fisher matrices include all input k and r information.  "
   ]
  },
  {
   "cell_type": "markdown",
   "metadata": {},
   "source": [
    "#### Band-power Fisher matrixes from different estimators"
   ]
  },
  {
   "cell_type": "code",
   "execution_count": 366,
   "metadata": {
    "collapsed": false
   },
   "outputs": [],
   "source": [
    "#FisherBand_P = FisherP.copy()\n",
    "FisherBand_P_all = FisherP_all.copy()\n",
    "#FisherBand_Xi = FisherProjection_Fishergiven(derivative_correl_avg, FisherXi)\n",
    "#FisherBand_tot = FisherProjection_Fishergiven(Derivatives, Fisher3_tot)"
   ]
  },
  {
   "cell_type": "code",
   "execution_count": 367,
   "metadata": {
    "collapsed": false
   },
   "outputs": [],
   "source": [
    "# Fisher reorering\n",
    "re_FisherBand_P_all, _ = reordering( RSDPower, FisherBand_P_all)\n",
    "#re_FisherBand_P, _ = reordering( RSDPower, FisherBand_P)\n",
    "#re_FisherBand_Xi, m_P_all = reordering( RSDPower, FisherBand_Xi)\n",
    "#re_FisherBand_tot, _ = reordering( RSDPower, FisherBand_tot)"
   ]
  },
  {
   "cell_type": "markdown",
   "metadata": {},
   "source": [
    "## b and f Reid plot"
   ]
  },
  {
   "cell_type": "markdown",
   "metadata": {},
   "source": [
    "I could reuse Fisher matrices and derivatives obtained above, but if I reorder matrices, it would be more convenient to cut out matrices by scales.\n",
    "\n",
    "Reorder Xi covariance matrix."
   ]
  },
  {
   "cell_type": "code",
   "execution_count": 368,
   "metadata": {
    "collapsed": false
   },
   "outputs": [],
   "source": [
    "from test_SNR import reordering, reorderingVector, blockwise\n",
    "re_C_matrix3Xi, _ = reordering( RSDPower, C_matrix3Xi )"
   ]
  },
  {
   "cell_type": "markdown",
   "metadata": {},
   "source": [
    "Reorder derivatives"
   ]
  },
  {
   "cell_type": "code",
   "execution_count": 393,
   "metadata": {
    "collapsed": true
   },
   "outputs": [],
   "source": [
    "# for xi\n",
    "Xizeros = np.zeros((RSDPower.dxip0[:, rcut_max:rcut_min+1].shape))\n",
    "dxip0 = reorderingVector([RSDPower.dxip0[:, rcut_max:rcut_min+1], Xizeros, Xizeros])\n",
    "dxip2 = reorderingVector([Xizeros, RSDPower.dxip2[:, rcut_max:rcut_min+1], Xizeros])\n",
    "dxip4 = reorderingVector([Xizeros, Xizeros, RSDPower.dxip4[:, rcut_max:rcut_min+1]])\n",
    "dxip = np.vstack(( dxip0, dxip2, dxip4 ))\n",
    "\n",
    "dPb = np.hstack(([RSDPower.dPb0, RSDPower.dPb2, RSDPower.dPb4]))\n",
    "dPf = np.hstack(([RSDPower.dPf0, RSDPower.dPf2, RSDPower.dPf4]))\n",
    "dPs = np.hstack(([RSDPower.dPs0, RSDPower.dPs2, RSDPower.dPs4]))\n",
    "dPn = np.hstack(([np.ones(RSDPower.dPs0.size),np.zeros(RSDPower.dPs0.size),np.zeros(RSDPower.dPs0.size) ]))\n",
    "\n",
    "dPbf = np.vstack(( dPb, dPf ))\n",
    "dPbfs = np.vstack(( dPb, dPf, dPs ))\n",
    "dPbfsn = np.vstack(( dPb, dPf, dPs, dPn ))\n",
    "\n",
    "# for P (limited k range. but not sure these are needed for reid plots...)\n",
    "dPb_cut = reorderingVector([RSDPower.dPb0[kcut_min:kcut_max+1], \\\n",
    "                            RSDPower.dPb2[kcut_min:kcut_max+1], \\\n",
    "                            RSDPower.dPb4[kcut_min:kcut_max+1]])\n",
    "dPf_cut = reorderingVector([RSDPower.dPf0[kcut_min:kcut_max+1], \\\n",
    "                            RSDPower.dPf2[kcut_min:kcut_max+1], \\\n",
    "                            RSDPower.dPf4[kcut_min:kcut_max+1]])\n",
    "dPbf_cut = np.vstack(( dPb_cut, dPf_cut )) #, dPs ))"
   ]
  },
  {
   "cell_type": "markdown",
   "metadata": {},
   "source": [
    "Calculate fractional error of f and b.\n",
    "\n",
    "1) bandpower from $\\xi$"
   ]
  },
  {
   "cell_type": "code",
   "execution_count": 370,
   "metadata": {
    "collapsed": false
   },
   "outputs": [
    {
     "name": "stdout",
     "output_type": "stream",
     "text": [
      "2.29207953871e-06\n"
     ]
    }
   ],
   "source": [
    "# err list\n",
    "errb, errbn, errbv, errb_alldet = [], [], [], []\n",
    "errf, errfn, errfv, errf_alldet = [], [], [], [] # when n marginalized\n",
    "rlist = [] \n",
    "\n",
    "#=== First term (all scale of r) =====================\n",
    "\n",
    "F = np.dot( np.dot(dxip, inv(re_C_matrix3Xi)), dxip.T ) \n",
    "\n",
    "# fs marginalized\n",
    "Fparams = np.dot( np.dot(dPbfs, F), dPbfs.T )\n",
    "Cparams = inv(Fparams)\n",
    "sigma_b, sigma_f = Cparams[0,0], Cparams[1,1]\n",
    "errb.append(np.sqrt(sigma_b)/RSDPower.b)\n",
    "errf.append(np.sqrt(sigma_f)/RSDPower.f)\n",
    "reverser = RSDPower.rcenter[rcut_max:rcut_min+1][::-1]\n",
    "rlist.append(reverser[0])\n",
    "\n",
    "# fsn marginalized\n",
    "Fparamsn = np.dot( np.dot(dPbfsn, F), dPbfsn.T )\n",
    "Cparamsn = inv(Fparamsn)\n",
    "sigma_bn, sigma_fn = Cparamsn[0,0], Cparamsn[1,1]\n",
    "errbn.append(np.sqrt(sigma_bn)/RSDPower.b)\n",
    "errfn.append(np.sqrt(sigma_fn)/RSDPower.f)\n",
    "\n",
    "# f marginalized\n",
    "Fparamsv = np.dot( np.dot(dPbf, F), dPbf.T )\n",
    "Cparamsv = inv(Fparamsv)\n",
    "sigma_bv, sigma_fv = Cparamsv[0,0], Cparamsv[1,1]\n",
    "errbv.append(np.sqrt(sigma_bv)/RSDPower.b)\n",
    "errfv.append(np.sqrt(sigma_fv)/RSDPower.f)\n",
    "\n",
    "# only b \n",
    "Fparams_alldet = np.dot( np.dot(dPb.reshape(1, dPb.size), F), dPb.reshape(1, dPb.size).T )\n",
    "sigma_b_alldet = 1./Fparams_alldet[0][0]\n",
    "\n",
    "print sigma_b_alldet\n",
    "\n",
    "#sigma_b_alldet, sigma_f_alldet = Cparams_alldet[0,0], Cparams_alldet[1,1]\n",
    "errb_alldet.append(np.sqrt(sigma_b_alldet)/RSDPower.b)\n",
    "#err_alldet.append(np.sqrt(sigma_f_alldet)/RSDPower.f)\n",
    "\n",
    "C = re_C_matrix3Xi.copy()\n",
    "DXIP = dxip.copy()\n",
    "\n",
    "\n",
    "#=== now from 2nd term =====================\n",
    "for j in range(1, rcut_min + 1 - rcut_max):\n",
    "\n",
    "    DXIP = DXIP[:, :-3 ]\n",
    "    C = C[:-3, :-3 ]\n",
    "    F = np.dot( np.dot(DXIP, inv(C)), DXIP.T )\n",
    "    \n",
    "    # shot noise determined\n",
    "    Fparams = np.dot( np.dot(dPbfs, F), dPbfs.T )\n",
    "    Cparams = inv(Fparams)\n",
    "    sigma_b, sigma_f = Cparams[0,0], Cparams[1,1]\n",
    "    errb.append(np.sqrt(sigma_b)/RSDPower.b)\n",
    "    errf.append(np.sqrt(sigma_f)/RSDPower.f)\n",
    "\n",
    "    # shot noise marginalized\n",
    "    Fparamsn = np.dot( np.dot(dPbfsn, F), dPbfsn.T )\n",
    "    Cparamsn = inv(Fparamsn)\n",
    "    sigma_bn, sigma_fn = Cparamsn[0,0], Cparamsn[1,1]\n",
    "    errbn.append(np.sqrt(sigma_bn)/RSDPower.b)\n",
    "    errfn.append(np.sqrt(sigma_fn)/RSDPower.f)\n",
    "\n",
    "    # shot noise, velocity dispersion determined\n",
    "    Fparamsv = np.dot( np.dot(dPbf, F), dPbf.T )\n",
    "    Cparamsv = inv(Fparamsv)\n",
    "    sigma_bv, sigma_fv = Cparamsv[0,0], Cparamsv[1,1]\n",
    "    errbv.append(np.sqrt(sigma_bv)/RSDPower.b)\n",
    "    errfv.append(np.sqrt(sigma_fv)/RSDPower.f)\n",
    "\n",
    "    # only b \n",
    "    Fparams_alldet = np.dot( np.dot(dPb, F), dPb.T )   \n",
    "    sigma_b_alldet = 1./Fparams_alldet\n",
    "    errb_alldet.append(np.sqrt(sigma_b_alldet)/RSDPower.b)\n",
    "    #err_alldet.append(np.sqrt(sigma_f_alldet)/RSDPower.f)\n",
    "\n",
    "    #rlist.append(1.15 * np.pi/klist[j])\n",
    "    rlist.append(reverser[j])"
   ]
  },
  {
   "cell_type": "markdown",
   "metadata": {},
   "source": [
    "Plotting"
   ]
  },
  {
   "cell_type": "code",
   "execution_count": 424,
   "metadata": {
    "collapsed": false
   },
   "outputs": [],
   "source": [
    "DAT = np.column_stack((rlist, errb, errbn, errbv, errb_alldet))\n",
    "np.savetxt('data_txt/reid_xi_b_marginalization_comparison_Nk1000', DAT)\n",
    "\n",
    "DAT2 = np.column_stack((rlist, errf, errfn, errfv))\n",
    "np.savetxt('data_txt/reid_xi_f_marginalization_comparison_Nk1000', DAT2)"
   ]
  },
  {
   "cell_type": "code",
   "execution_count": null,
   "metadata": {
    "collapsed": true
   },
   "outputs": [],
   "source": [
    "data_txt/reid_xi_f_marginalization_comparison_Nk1000"
   ]
  },
  {
   "cell_type": "markdown",
   "metadata": {},
   "source": [
    "2) bandpower from P"
   ]
  },
  {
   "cell_type": "code",
   "execution_count": 445,
   "metadata": {
    "collapsed": false
   },
   "outputs": [],
   "source": [
    "from test_SNR import reorderingVector\n",
    "re_F =  re_FisherBand_P_all.copy()\n",
    "\n",
    "re_dPb = reorderingVector([RSDPower.dPb0, RSDPower.dPb2, RSDPower.dPb4])\n",
    "re_dPf = reorderingVector([RSDPower.dPf0, RSDPower.dPf2, RSDPower.dPf4])\n",
    "re_dPs = reorderingVector([RSDPower.dPs0, RSDPower.dPs2, RSDPower.dPs4])\n",
    "re_dPn = reorderingVector([np.ones(RSDPower.dPs0.size),np.zeros(RSDPower.dPs0.size),np.ones(RSDPower.dPs0.size) ])\n",
    "\n",
    "re_dP_alldet = re_dPb.copy().reshape(1, re_dPb.size)\n",
    "re_dPbf = np.vstack(( re_dPb, re_dPf )) #, dPs ))\n",
    "re_dPbfs = np.vstack(( re_dPb, re_dPf, re_dPs ))\n",
    "re_dPbfsn = np.vstack(( re_dPb, re_dPf, re_dPs, re_dPn ))\n",
    "\n",
    "#D = re_dPbf.copy()"
   ]
  },
  {
   "cell_type": "code",
   "execution_count": 448,
   "metadata": {
    "collapsed": false
   },
   "outputs": [],
   "source": [
    "# from P\n",
    "\n",
    "errPb, errPbn, errPbv, errPb_alldet = [], [], [], []\n",
    "errPf, errPfn, errPfv, errPf_alldet = [], [], [], [] # when n marginalized\n",
    "\n",
    "rlistP = []\n",
    "#klist = RSDPower.kcenter_y[::-1]\n",
    "\n",
    "# bf \n",
    "FPparams = np.dot( np.dot(re_dPbf, re_F), re_dPbf.T )      \n",
    "CPparams = inv(FPparams)\n",
    "sigma_Pb, sigma_Pf = CPparams[0,0], CPparams[1,1]\n",
    "errPb.append(np.sqrt(sigma_Pb)/RSDPower.b)\n",
    "errPf.append(np.sqrt(sigma_Pf)/RSDPower.f)\n",
    "\n",
    "# bfs \n",
    "FPparams = np.dot( np.dot(re_dPbfs, re_F), re_dPbfs.T )      \n",
    "CPparams = inv(FPparams)\n",
    "sigma_Pb, sigma_Pf = CPparams[0,0], CPparams[1,1]\n",
    "errPbv.append(np.sqrt(sigma_Pb)/RSDPower.b)\n",
    "errPfv.append(np.sqrt(sigma_Pf)/RSDPower.f)\n",
    "\n",
    "# bfsn \n",
    "FPparams = np.dot( np.dot(re_dPbfsn, re_F), re_dPbfsn.T )      \n",
    "CPparams = inv(FPparams)\n",
    "sigma_Pb, sigma_Pf = CPparams[0,0], CPparams[1,1]\n",
    "errPbn.append(np.sqrt(sigma_Pb)/RSDPower.b)\n",
    "errPfn.append(np.sqrt(sigma_Pf)/RSDPower.f)\n",
    "\n",
    "# b only \n",
    "FPparams = np.dot( np.dot(re_dP_alldet, re_F), re_dP_alldet.T )      \n",
    "#CPparams = inv(FPparams)\n",
    "sigma_Pb = 1./Fparams[0][0]\n",
    "errPb_alldet.append(np.sqrt(sigma_Pb)/RSDPower.b)\n",
    "#errPf_alldet.append(np.sqrt(sigma_Pf)/RSDPower.f)\n",
    "\n",
    "\n",
    "rlistP.append( 1.15 * np.pi/RSDPower.kcenter_y[::-1][0])\n",
    "\n",
    "\n",
    "#bf\n",
    "\n",
    "for j in range(1, RSDPower.kcenter_y[::-1].size ):\n",
    "    # from P in r\n",
    "\n",
    "    re_F = re_F[:-3, :-3]\n",
    "    rlistP.append( 1.15 * np.pi/RSDPower.kcenter_y[::-1][j])\n",
    "    \n",
    "    # bf\n",
    "    re_dPbf = re_dPbf[:,:-3]\n",
    "    FPparams = np.dot( np.dot(re_dPbf, re_F), re_dPbf.T )\n",
    "    CPparams = inv(FPparams)\n",
    "    sigma_Pb, sigma_Pf = CPparams[0,0], CPparams[1,1]\n",
    "    errPb.append(np.sqrt(sigma_Pb)/RSDPower.b)\n",
    "    errPf.append(np.sqrt(sigma_Pf)/RSDPower.f)\n",
    "    \n",
    "    \n",
    "    # bfs\n",
    "    re_dPbfs = re_dPbfs[:,:-3]\n",
    "    FPparams = np.dot( np.dot(re_dPbfs, re_F), re_dPbfs.T )\n",
    "    CPparams = inv(FPparams)\n",
    "    sigma_Pb, sigma_Pf = CPparams[0,0], CPparams[1,1]\n",
    "    errPbv.append(np.sqrt(sigma_Pb)/RSDPower.b)\n",
    "    errPfv.append(np.sqrt(sigma_Pf)/RSDPower.f)\n",
    "    \n",
    "    # bfsn\n",
    "    re_dPbfsn = re_dPbfsn[:,:-3]\n",
    "    FPparams = np.dot( np.dot(re_dPbfsn, re_F), re_dPbfsn.T )\n",
    "    CPparams = inv(FPparams)\n",
    "    sigma_Pb, sigma_Pf = CPparams[0,0], CPparams[1,1]\n",
    "    errPbn.append(np.sqrt(sigma_Pb)/RSDPower.b)\n",
    "    errPfn.append(np.sqrt(sigma_Pf)/RSDPower.f)\n",
    "    \n",
    "    # b only\n",
    "    re_dP_alldet = re_dP_alldet[:,:-3]\n",
    "    FPparams = np.dot( np.dot(re_dP_alldet, re_F), re_dP_alldet.T )\n",
    "    sigma_Pb = 1./FPparams[0][0]\n",
    "\n",
    "    errPb_alldet.append(np.sqrt(sigma_Pb)/RSDPower.b)\n",
    "    #errPf.append(np.sqrt(sigma_Pf)/RSDPower.f)"
   ]
  },
  {
   "cell_type": "code",
   "execution_count": 449,
   "metadata": {
    "collapsed": false
   },
   "outputs": [],
   "source": [
    "DAT = np.column_stack((rlistP, errPb, errPbn, errPbv, errPb_alldet))\n",
    "np.savetxt('data_txt/reid_p_b_marginalization_comparison_Nk1000', DAT)\n",
    "\n",
    "DAT = np.column_stack((rlistP, errPf, errPfn, errPfv))\n",
    "np.savetxt('data_txt/reid_p_f_marginalization_comparison_Nk1000', DAT)"
   ]
  },
  {
   "cell_type": "code",
   "execution_count": 222,
   "metadata": {
    "collapsed": false
   },
   "outputs": [],
   "source": [
    "# save to txt\n",
    "DAT = np.column_stack(( rlist, errb, errf, rlist, errbn, errfn ))\n",
    "DAT2 = np.column_stack((rlistP, errPb, errPf))\n",
    "#np.savetxt('data_txt/reid_xi_default.txt', DAT)\n",
    "#np.savetxt('data_txt/reid_p_default.txt', DAT2)"
   ]
  },
  {
   "cell_type": "code",
   "execution_count": 261,
   "metadata": {
    "collapsed": false
   },
   "outputs": [],
   "source": [
    "DAT = np.genfromtxt('data_txt/reid_xi_default.txt')\n",
    "DAT2 = np.genfromtxt('data_txt/reid_p_default.txt')\n",
    "rlist, errb, errf, rlist, errbn, errfn = [DAT[:,i] for i in range(DAT[0,:].size)]\n",
    "rlistP, errPb, errPf = [DAT2[:,i] for i in range(DAT2[0,:].size)]"
   ]
  },
  {
   "cell_type": "code",
   "execution_count": 258,
   "metadata": {
    "collapsed": false
   },
   "outputs": [
    {
     "name": "stdout",
     "output_type": "stream",
     "text": [
      "fig save to  figure/reid_n_linear_v2.pdf\n"
     ]
    },
    {
     "data": {
      "image/png": "[encoded data removed]",
      "text/plain": [
       "<matplotlib.figure.Figure at 0x5539ad0>"
      ]
     },
     "metadata": {},
     "output_type": "display_data"
    }
   ],
   "source": [
    "# plotting\n",
    "fig, (ax, ax2) = plt.subplots(2,1, figsize=(7, 7))\n",
    "ax.plot(rlist, errb, label = r'$\\xi(r)$')\n",
    "ax2.plot(rlist, errf, label = r'$\\xi(r)$')\n",
    "ax.plot(rlist, errbn, color = 'red', linestyle = '--', label = 'frac err b -n')\n",
    "ax2.plot(rlist, errfn, color = 'red', linestyle = '--', label = 'frac err f -n')\n",
    "ax.plot(rlistP, errPb, 'k-.', label = r'$P(k)$')\n",
    "ax2.plot(rlistP, errPf, 'k-.', label = r'$P(k)$')\n",
    "ax.set_xlim(0, 20)\n",
    "ax.set_ylim(0.0005, 0.008)\n",
    "ax.set_ylabel(r'$\\sigma_{b}/b$', size = 20)\n",
    "ax2.set_ylabel(r'$\\sigma_{f}/f$',size=20)\n",
    "ax.set_xlabel(r'$r_{\\rm{min}} (Mpc/h)$', size = 20)\n",
    "#ax.set_xlabel(r'$k_{\\rm{max}} (h/Mpc)$', size = 20)\n",
    "ax.set_yscale('linear')\n",
    "#ax2.set_xlim(0,60)\n",
    "ax2.set_xlim(0, 20)\n",
    "ax2.set_ylim(0.00, 0.04)\n",
    "#ax2.set_ylabel('f')\n",
    "ax2.set_xlabel(r'$r_{\\rm{min}} (Mpc/h)$', size = 20)\n",
    "#ax2.set_xlabel(r'$k_{\\rm{max}} (h/Mpc)$', size = 20)\n",
    "\n",
    "ax.legend(loc = 'best')\n",
    "#ax2.legend(loc='best')\n",
    "\n",
    "ax.tick_params(labelsize=15)\n",
    "ax2.tick_params(labelsize=15)\n",
    "plt.tight_layout()\n",
    "#ax.set_title(' from F_bandpower ')\n",
    "#figname = 'figure/reid.pdf'\n",
    "figname = 'figure/reid_n.pdf'\n",
    "#fig.savefig(figname)\n",
    "print 'fig save to ', figname"
   ]
  },
  {
   "cell_type": "code",
   "execution_count": 450,
   "metadata": {
    "collapsed": false,
    "scrolled": true
   },
   "outputs": [],
   "source": [
    "errorb_P_dat = np.genfromtxt('data_txt/reid_p_b_marginalization_comparison_Nk1000')\n",
    "errorb_Xi_dat = np.genfromtxt('data_txt/reid_xi_b_marginalization_comparison_Nk1000')\n",
    "rlistP, errPb, errPbn, errPbv, errPb_alldet = [errorb_P_dat[:,q] for q in range(errorb_P_dat[0,:].size) ]\n",
    "rlist, errb, errbn, errbv, errb_alldet = [errorb_Xi_dat[:,q] for q in range(errorb_Xi_dat[0,:].size) ]\n",
    "\n",
    "errorf_P_dat = np.genfromtxt('data_txt/reid_p_f_marginalization_comparison_Nk1000')\n",
    "errorf_Xi_dat = np.genfromtxt('data_txt/reid_xi_f_marginalization_comparison_Nk1000')\n",
    "_, errPf, errPfn, errPfv = [errorf_P_dat[:,q] for q in range(errorf_P_dat[0,:].size) ]\n",
    "_, errf, errfn, errfv = [errorf_Xi_dat[:,q] for q in range(errorf_Xi_dat[0,:].size) ]"
   ]
  },
  {
   "cell_type": "code",
   "execution_count": 438,
   "metadata": {
    "collapsed": false
   },
   "outputs": [],
   "source": [
    "r_interp = np.linspace(rlistP.min(), rlist.max(), 100)"
   ]
  },
  {
   "cell_type": "code",
   "execution_count": 451,
   "metadata": {
    "collapsed": false,
    "scrolled": false
   },
   "outputs": [
    {
     "name": "stdout",
     "output_type": "stream",
     "text": [
      "fig save to  figure/reid_n_linear_v2.pdf\n"
     ]
    },
    {
     "data": {
      "image/png": "[encoded data removed]",
      "text/plain": [
       "<matplotlib.figure.Figure at 0x8b46b10>"
      ]
     },
     "metadata": {},
     "output_type": "display_data"
    }
   ],
   "source": [
    "# plotting\n",
    "fig, (ax, ax2) = plt.subplots(2,1, figsize=(7, 7))\n",
    "\n",
    "ax.plot(rlist, errb_alldet, 'c-',label='b only')\n",
    "ax.plot(rlist, errb, 'b-',label='f marginal')\n",
    "ax.plot(rlist, errbv, 'g-',label='f v marginalized')\n",
    "ax.plot(rlist, errbn, 'r-',  label='f n v marginal')\n",
    "\n",
    "\n",
    "ax.plot(rlistP[1:], errPb_alldet[1:], 'c--')\n",
    "ax.plot(rlistP, errPb, 'b--')\n",
    "ax.plot(rlistP, errPbn, 'r--')\n",
    "ax.plot(rlistP, errPbv, 'g-.')\n",
    "\n",
    "\n",
    "\n",
    "\n",
    "ax2.plot(rlist, errf, 'b-',label='f marginal')\n",
    "ax2.plot(rlist, errfv, 'g-',label='f v marginalized')\n",
    "ax2.plot(rlist, errfn, 'r-',  label='f n v marginal')\n",
    "\n",
    "ax2.plot(rlistP, errPf, 'b--')\n",
    "ax2.plot(rlistP, errPfv, 'g--')\n",
    "ax2.plot(rlistP, errPfn, 'r--')\n",
    "\n",
    "ax.set_xlim(0, 60)\n",
    "ax.set_ylim(0.0005, 0.07)\n",
    "ax.set_ylabel(r'$\\sigma_{b}/b$', size = 20)\n",
    "ax2.set_ylabel(r'$\\sigma_{f}/f$',size=20)\n",
    "ax.set_xlabel(r'$r_{\\rm{min}} (Mpc/h)$', size = 20)\n",
    "#ax.set_xlabel(r'$k_{\\rm{max}} (h/Mpc)$', size = 20)\n",
    "ax.set_yscale('log')\n",
    "#ax2.set_xlim(0,60)\n",
    "ax2.set_xlim(0, 60)\n",
    "ax2.set_ylim(0.00, 0.08)\n",
    "#ax2.set_ylabel('f')\n",
    "ax2.set_xlabel(r'$r_{\\rm{min}} (Mpc/h)$', size = 20)\n",
    "#ax2.set_xlabel(r'$k_{\\rm{max}} (h/Mpc)$', size = 20)\n",
    "\n",
    "ax.legend(loc = 'best')\n",
    "#ax2.legend(loc='best')\n",
    "\n",
    "ax.tick_params(labelsize=15)\n",
    "ax2.tick_params(labelsize=15)\n",
    "plt.tight_layout()\n",
    "#ax.set_title(' from F_bandpower ')\n",
    "#figname = 'figure/reid.pdf'\n",
    "#figname = 'figure/reid_n.pdf'\n",
    "#fig.savefig(figname)\n",
    "print 'fig save to ', figname"
   ]
  },
  {
   "cell_type": "markdown",
   "metadata": {},
   "source": [
    "----"
   ]
  },
  {
   "cell_type": "code",
   "execution_count": 377,
   "metadata": {
    "collapsed": false
   },
   "outputs": [],
   "source": [
    "ax.plot(rlist, errb_alldet, 'c-',label='b only')\n",
    "ax.plot(rlist, errbv, 'b-',label='f marginal')\n",
    "ax.plot(rlist, errb, 'g-',label='f v marginalized')\n",
    "ax.plot(rlist, errbn, 'r-',  label='f v n marginal')\n",
    "\n",
    "\n",
    "\n",
    "from scipy import interpolate\n",
    "errPb_itp = interpolate.interp1d(rlistP, errPb)\n",
    "errPbn_itp = interpolate.interp1d(rlistP, errPbn)\n",
    "errPbv_itp = interpolate.interp1d(rlistP, errPbv)\n",
    "errPb_alldet_itp = interpolate.interp1d(rlistP, errPb_alldet)\n",
    "\n",
    "errb_itp = interpolate.interp1d(rlist, errb)\n",
    "errbn_itp = interpolate.interp1d(rlist, errbn)\n",
    "errbv_itp = interpolate.interp1d(rlist, errbv)\n",
    "errb_alldet_itp = interpolate.interp1d(rlist, errb_alldet)"
   ]
  },
  {
   "cell_type": "code",
   "execution_count": 341,
   "metadata": {
    "collapsed": true
   },
   "outputs": [],
   "source": [
    "r_pivot = 18.0\n",
    "ratio_b = errb_itp(r_pivot)/errPb_itp(r_pivot)\n",
    "ratio_bn = errbn_itp(r_pivot)/errPbn_itp(r_pivot)\n",
    "ratio_bv = errbv_itp(r_pivot)/errPbv_itp(r_pivot)\n",
    "ratio_b_alldet = errb_alldet_itp(r_pivot)/errPb_alldet_itp(r_pivot)"
   ]
  },
  {
   "cell_type": "code",
   "execution_count": 378,
   "metadata": {
    "collapsed": false
   },
   "outputs": [
    {
     "data": {
      "text/plain": [
       "[<matplotlib.text.Text at 0xa251190>,\n",
       " <matplotlib.text.Text at 0xa240990>,\n",
       " <matplotlib.text.Text at 0x19a9b550>,\n",
       " <matplotlib.text.Text at 0x19a9bd90>,\n",
       " <matplotlib.text.Text at 0xa233c10>,\n",
       " <matplotlib.text.Text at 0xa233e90>]"
      ]
     },
     "execution_count": 378,
     "metadata": {},
     "output_type": "execute_result"
    },
    {
     "data": {
      "image/png": "[encoded data removed]",
      "text/plain": [
       "<matplotlib.figure.Figure at 0x6386b50>"
      ]
     },
     "metadata": {},
     "output_type": "display_data"
    }
   ],
   "source": [
    "fig, ax = plt.subplots()\n",
    "ax.plot(1, ratio_b_alldet,'co')\n",
    "ax.plot(2, ratio_bv, 'bo')\n",
    "ax.plot(3, ratio_b,'go')\n",
    "ax.plot(4, ratio_bn,'ro')\n",
    "\n",
    "ax.set_xlim(0,5)\n",
    "ax.set_ylabel(r'$\\sigma_{b,P} / \\sigma_{b, \\xi}$ $(18 < r < 180) Mpc/h$')\n",
    "ax.set_xticklabels(['','all det', 'f marg', 'f,v marg', 'f,v,n marg' ,''])"
   ]
  },
  {
   "cell_type": "code",
   "execution_count": null,
   "metadata": {
    "collapsed": true
   },
   "outputs": [],
   "source": []
  },
  {
   "cell_type": "code",
   "execution_count": null,
   "metadata": {
    "collapsed": true
   },
   "outputs": [],
   "source": []
  }
 ],
 "metadata": {
  "kernelspec": {
   "display_name": "Python 2",
   "language": "python",
   "name": "python2"
  },
  "language_info": {
   "codemirror_mode": {
    "name": "ipython",
    "version": 2
   },
   "file_extension": ".py",
   "mimetype": "text/x-python",
   "name": "python",
   "nbconvert_exporter": "python",
   "pygments_lexer": "ipython2",
   "version": "2.7.5"
  }
 },
 "nbformat": 4,
 "nbformat_minor": 0
}
