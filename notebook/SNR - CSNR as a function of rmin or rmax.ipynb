{
 "cells": [
  {
   "cell_type": "code",
   "execution_count": 1,
   "metadata": {
    "collapsed": true
   },
   "outputs": [],
   "source": [
    "import time, datetime\n",
    "import numpy as np\n",
    "from numpy import zeros, sqrt, pi, vectorize\n",
    "from numpy.linalg import pinv, inv\n",
    "from multiprocessing import Process, Queue\n",
    "#import matplotlib\n",
    "#matplotlib.use('Qt4Agg')\n",
    "import matplotlib.pyplot as plt\n",
    "%matplotlib inline\n",
    "from error_analysis_class import *\n",
    "from noshellavg import *\n",
    "from matplotlib.backends.backend_pdf import PdfPages\n",
    "\n",
    "%load_ext autoreload\n",
    "%autoreload 2"
   ]
  },
  {
   "cell_type": "code",
   "execution_count": 2,
   "metadata": {
    "collapsed": true
   },
   "outputs": [],
   "source": [
    "import warnings\n",
    "\n",
    "def fxn():\n",
    "    warnings.warn(\"deprecated\", DeprecationWarning)\n",
    "\n",
    "with warnings.catch_warnings():\n",
    "    warnings.simplefilter(\"ignore\")\n",
    "    fxn()"
   ]
  },
  {
   "cell_type": "code",
   "execution_count": 3,
   "metadata": {
    "collapsed": true
   },
   "outputs": [],
   "source": [
    "#  (parameter description in class code)\n",
    "# Fourier K 0.001~10\n",
    "KMIN = 1e-10\n",
    "KMAX = 2 # 361.32 #502.32\n",
    "RMIN = 25\n",
    "RMAX = 150\n",
    "\n",
    "kmin = 1e-10\n",
    "kmax = 0.25\n",
    "\n",
    "# the number of k sample point should be 2^n+1 (b/c romb integration)\n",
    "rN = 67 # (RMAX-int(RMIN)) * 2\n",
    "kN = 2**10 + 1\n",
    "kN_x = 1.\n",
    "kN_y = 500\n",
    "#subN = 2**5 + 1\n",
    "# RSD class"
   ]
  },
  {
   "cell_type": "code",
   "execution_count": null,
   "metadata": {
    "collapsed": true
   },
   "outputs": [],
   "source": []
  }
 ],
 "metadata": {
  "kernelspec": {
   "display_name": "Python 2",
   "language": "python",
   "name": "python2"
  },
  "language_info": {
   "codemirror_mode": {
    "name": "ipython",
    "version": 2
   },
   "file_extension": ".py",
   "mimetype": "text/x-python",
   "name": "python",
   "nbconvert_exporter": "python",
   "pygments_lexer": "ipython2",
   "version": "2.7.5"
  }
 },
 "nbformat": 4,
 "nbformat_minor": 0
}
