{
 "cells": [
  {
   "cell_type": "markdown",
   "metadata": {},
   "source": [
    "## SNR notebook"
   ]
  },
  {
   "cell_type": "markdown",
   "metadata": {},
   "source": [
    "- [Initial Settings](#Initial-settings)\n",
    "- [Signal to noise](#Signal-to-Noise)\n",
    "- [Error ellipses for b and f](#b-and-f-error-ellipses)\n",
    "- [Fractional error of b and f as a function of r](#b-and-f-Reid-plot)"
   ]
  },
  {
   "cell_type": "code",
   "execution_count": 65,
   "metadata": {
    "collapsed": false
   },
   "outputs": [],
   "source": [
    "import time, datetime\n",
    "import numpy as np\n",
    "from numpy import zeros, sqrt, pi, vectorize\n",
    "from numpy.linalg import pinv, inv\n",
    "from multiprocessing import Process, Queue\n",
    "#import matplotlib\n",
    "#matplotlib.use('Qt4Agg')\n",
    "import matplotlib.pyplot as plt\n",
    "%matplotlib inline\n",
    "from error_analysis_class import *\n",
    "from noshellavg import *"
   ]
  },
  {
   "cell_type": "markdown",
   "metadata": {},
   "source": [
    "## Initial settings "
   ]
  },
  {
   "cell_type": "code",
   "execution_count": 100,
   "metadata": {
    "collapsed": false
   },
   "outputs": [],
   "source": [
    "#  (parameter description in class code)\n",
    "# Fourier K 0.001~10\n",
    "KMIN = 0.001\n",
    "KMAX = 2 # 361.32 #502.32\n",
    "RMIN = 20\n",
    "RMAX = 180\n",
    "\n",
    "kmin = 0.001\n",
    "kmax = 2\n",
    "\n",
    "# the number of k sample point should be 2^n+1 (b/c romb integration)\n",
    "rN = 200\n",
    "kN = 1\n",
    "kN_x = 2**13 + 1\n",
    "kN_y = 2000\n",
    "#subN = 2**5 + 1\n",
    "# RSD class"
   ]
  },
  {
   "cell_type": "code",
   "execution_count": 101,
   "metadata": {
    "collapsed": false,
    "scrolled": true
   },
   "outputs": [
    {
     "name": "stdout",
     "output_type": "stream",
     "text": [
      "-------------------------------------------------------------------        \n",
      "class error_analysis, no RSD         \n",
      "z = 0.0, kN =1, N_y = 2000, rN = 200, N_x = 8193\n",
      "dr = 0.804020100503, dk=nan, dk_y=0.001\n"
     ]
    }
   ],
   "source": [
    "RSDPower = NoShell_covariance(KMIN, KMAX, RMIN, RMAX, kN, rN, kN_x, kN_y, logscale = False)"
   ]
  },
  {
   "cell_type": "code",
   "execution_count": 69,
   "metadata": {
    "collapsed": false
   },
   "outputs": [],
   "source": [
    "rcut_max = get_closest_index_in_data( RMAX, RSDPower.rmax )\n",
    "rcut_min = get_closest_index_in_data( RMIN, RSDPower.rmin )\n",
    "kcut_min = get_closest_index_in_data( kmin, RSDPower.kmin_y )\n",
    "kcut_max = get_closest_index_in_data( kmax, RSDPower.kmax_y )"
   ]
  },
  {
   "cell_type": "markdown",
   "metadata": {},
   "source": [
    "Call noshell class"
   ]
  },
  {
   "cell_type": "code",
   "execution_count": 70,
   "metadata": {
    "collapsed": false
   },
   "outputs": [
    {
     "name": "stdout",
     "output_type": "stream",
     "text": [
      "multiprocessing 100 %"
     ]
    }
   ],
   "source": [
    "file = 'matterpower_z_0.55.dat'  # from camb (z=0.55)\n",
    "RSDPower.MatterPower(file = file)\n",
    "# power spectrum multipoles l = 0,2,4\n",
    "RSDPower.multipole_P_band_all()\n",
    "\n",
    "# derivative dXi/dp\n",
    "RSDPower.derivative_Xi_band_all()\n",
    "\n",
    "# derivative dXidb, s, f\n",
    "RSDPower.derivative_bfs_all()\n",
    "RSDPower.derivative_P_bfs_all()\n",
    "\n",
    "# P covariance matrix ( nine submatrices C_ll' )\n",
    "RSDPower.RSDband_covariance_PP_all()\n",
    "\n",
    "# Xi covariance matrix ( nine submatrices C_ll' )\n",
    "RSDPower.covariance_Xi_all()\n",
    "RSDPower.covariance_PXi_All()"
   ]
  },
  {
   "cell_type": "code",
   "execution_count": 71,
   "metadata": {
    "collapsed": true
   },
   "outputs": [],
   "source": [
    "matricesXi = [RSDPower.covariance00[rcut_max:rcut_min+1,rcut_max:rcut_min+1],\\\n",
    "              RSDPower.covariance02[rcut_max:rcut_min+1,rcut_max:rcut_min+1],\\\n",
    "              RSDPower.covariance04[rcut_max:rcut_min+1,rcut_max:rcut_min+1],\\\n",
    "              np.transpose(RSDPower.covariance02[rcut_max:rcut_min+1,rcut_max:rcut_min+1]),\\\n",
    "              RSDPower.covariance22[rcut_max:rcut_min+1,rcut_max:rcut_min+1],\\\n",
    "              RSDPower.covariance24[rcut_max:rcut_min+1,rcut_max:rcut_min+1],\\\n",
    "              np.transpose(RSDPower.covariance04[rcut_max:rcut_min+1,rcut_max:rcut_min+1]),\\\n",
    "              np.transpose(RSDPower.covariance24[rcut_max:rcut_min+1,rcut_max:rcut_min+1]),\\\n",
    "              RSDPower.covariance44[rcut_max:rcut_min+1,rcut_max:rcut_min+1]]\n",
    "\n",
    "matricesPP_all = [RSDPower.covariance_PP00,RSDPower.covariance_PP02,\\\n",
    "                RSDPower.covariance_PP04,RSDPower.covariance_PP02,\\\n",
    "                RSDPower.covariance_PP22,RSDPower.covariance_PP24,\\\n",
    "                RSDPower.covariance_PP04,RSDPower.covariance_PP24,\\\n",
    "                RSDPower.covariance_PP44]\n",
    "\n",
    "matricesPP = [RSDPower.covariance_PP00[kcut_min:kcut_max+1,kcut_min:kcut_max+1],\n",
    "            RSDPower.covariance_PP02[kcut_min:kcut_max+1,kcut_min:kcut_max+1],\n",
    "            RSDPower.covariance_PP04[kcut_min:kcut_max+1,kcut_min:kcut_max+1],\n",
    "            RSDPower.covariance_PP02[kcut_min:kcut_max+1,kcut_min:kcut_max+1],\n",
    "            RSDPower.covariance_PP22[kcut_min:kcut_max+1,kcut_min:kcut_max+1],\n",
    "            RSDPower.covariance_PP24[kcut_min:kcut_max+1,kcut_min:kcut_max+1],\n",
    "            RSDPower.covariance_PP04[kcut_min:kcut_max+1,kcut_min:kcut_max+1],\n",
    "            RSDPower.covariance_PP24[kcut_min:kcut_max+1,kcut_min:kcut_max+1],\n",
    "            RSDPower.covariance_PP44[kcut_min:kcut_max+1,kcut_min:kcut_max+1]]\n",
    "\n",
    "matricesPXi = [RSDPower.covariance_PXi00[kcut_min:kcut_max+1,rcut_max:rcut_min+1],\\\n",
    "             RSDPower.covariance_PXi02[kcut_min:kcut_max+1,rcut_max:rcut_min+1],\\\n",
    "             RSDPower.covariance_PXi04[kcut_min:kcut_max+1,rcut_max:rcut_min+1],\\\n",
    "             RSDPower.covariance_PXi20[kcut_min:kcut_max+1,rcut_max:rcut_min+1],\\\n",
    "             RSDPower.covariance_PXi22[kcut_min:kcut_max+1,rcut_max:rcut_min+1],\\\n",
    "             RSDPower.covariance_PXi24[kcut_min:kcut_max+1,rcut_max:rcut_min+1],\\\n",
    "             RSDPower.covariance_PXi40[kcut_min:kcut_max+1,rcut_max:rcut_min+1],\\\n",
    "             RSDPower.covariance_PXi42[kcut_min:kcut_max+1,rcut_max:rcut_min+1],\\\n",
    "             RSDPower.covariance_PXi44[kcut_min:kcut_max+1,rcut_max:rcut_min+1]]\n"
   ]
  },
  {
   "cell_type": "markdown",
   "metadata": {},
   "source": [
    "Make matrices lists to construt covriance matrices\n",
    "\n"
   ]
  },
  {
   "cell_type": "code",
   "execution_count": 72,
   "metadata": {
    "collapsed": true
   },
   "outputs": [],
   "source": [
    "l1 = RSDPower.kcenter_y.size\n",
    "l2 = rcut_min+1 - rcut_max\n",
    "l3 = kcut_max+1 - kcut_min"
   ]
  },
  {
   "cell_type": "code",
   "execution_count": 73,
   "metadata": {
    "collapsed": false
   },
   "outputs": [],
   "source": [
    "# combining covariances\n",
    "C_matrix3PP_all = CombineCovariance3(l1, matricesPP_all)\n",
    "C_matrix3PP = CombineCovariance3(l3, matricesPP)\n",
    "C_matrix3Xi = CombineCovariance3(l2, matricesXi)\n",
    "                                 \n",
    "#C_matrix3PXi = np.zeros((C_matrix3PXi.shape))\n",
    "C_matrix3PXi, C_matrix3XiP = CombineCrossCovariance3(l3, l2, matricesPXi, transpose = True)\n",
    "C_matrix3_tot = np.concatenate((np.concatenate((C_matrix3PP, C_matrix3PXi), axis=1),\\\n",
    "                                np.concatenate((C_matrix3PXi.T, C_matrix3Xi), axis=1)), axis = 0)"
   ]
  },
  {
   "cell_type": "markdown",
   "metadata": {},
   "source": [
    "Covariance matrices for each estimator. Suffix `_all`  covoers all k scales.  \n",
    "`C_matrix3_tot`  is a combined covariance matrix. if cross-covariance is zero matrix, The combined one is optimistic."
   ]
  },
  {
   "cell_type": "code",
   "execution_count": 74,
   "metadata": {
    "collapsed": false
   },
   "outputs": [],
   "source": [
    "# inverting matrices\n",
    "from test_SNR import blockwiseInversion\n",
    "FisherP_all = inv(C_matrix3PP_all)\n",
    "FisherP = inv(C_matrix3PP)\n",
    "FisherXi = blockwiseInversion( C_matrix3Xi, rcut_min+1-rcut_max )\n",
    "Fisher3_tot = blockwiseInversion( C_matrix3_tot, 3 * (kcut_max+1-kcut_min) )"
   ]
  },
  {
   "cell_type": "markdown",
   "metadata": {},
   "source": [
    "Use **Blockwise Inversion** method to invert C_xi and combined C.  \n",
    "엥 솔직히 한번에 뒤집어도 되는 거라서 blockwise inversion 안 써도 될 거 같지만....\n",
    "\n",
    "Make derivatives. All derivative matrices consist of 3x3 sub matrices.  \n",
    "Since derivatives between different multipoles becomes zero, off-diagonal sub-matrices are zero.  \n",
    "Diagonal sub-matrices of P multipoles are one.  \n",
    "\n",
    "```\n",
    "derivative_P : dP0/P0, dP2/P2, dP4/P4....  \n",
    "derivative_correl_avg : dXi0/P0, dXi2/P2, dXi4/P4 ....  \n",
    "Deriva tives : derivatives of combined estimator. (derivative_P, derivative_correl_avg)\n",
    "```"
   ]
  },
  {
   "cell_type": "code",
   "execution_count": 75,
   "metadata": {
    "collapsed": true
   },
   "outputs": [],
   "source": [
    "# derivatives\n",
    "derivative_P0 = np.identity(RSDPower.kcenter_y.size)[:,kcut_min:kcut_max+1]\n",
    "Pzeros = np.zeros((derivative_P0.shape))\n",
    "\n",
    "derivative_P = np.concatenate((np.concatenate((derivative_P0, Pzeros, Pzeros),axis=1 ),\\\n",
    "                               np.concatenate((Pzeros, derivative_P0, Pzeros),axis=1 ),\\\n",
    "                               np.concatenate((Pzeros, Pzeros, derivative_P0),axis=1 )), axis=0)\n",
    "Xizeros = np.zeros((RSDPower.dxip0[:,rcut_max:rcut_min+1].shape))\n",
    "derivative_correl_avg = np.concatenate(( np.concatenate((RSDPower.dxip0[:,rcut_max:rcut_min+1],Xizeros,Xizeros), axis=1),\\\n",
    "                                        np.concatenate((Xizeros,RSDPower.dxip2[:,rcut_max:rcut_min+1],Xizeros), axis=1),\\\n",
    "                                        np.concatenate((Xizeros,Xizeros,RSDPower.dxip4[:,rcut_max:rcut_min+1]), axis=1)),axis=0 )\n",
    "Derivatives = np.concatenate((derivative_P,derivative_correl_avg), axis=1)"
   ]
  },
  {
   "cell_type": "markdown",
   "metadata": {},
   "source": [
    "Inner product of Fisher matrices and derivative matrices gives Fisher information matrices in k space from different estimators.  \n",
    "These Fisher matrices include all input k and r information.  "
   ]
  },
  {
   "cell_type": "markdown",
   "metadata": {},
   "source": [
    "#### Band-power Fisher matrixes from different estimators"
   ]
  },
  {
   "cell_type": "code",
   "execution_count": 76,
   "metadata": {
    "collapsed": true
   },
   "outputs": [],
   "source": [
    "FisherBand_P = FisherP.copy()\n",
    "FisherBand_P_all = FisherP_all.copy()\n",
    "FisherBand_Xi = FisherProjection_Fishergiven(derivative_correl_avg, FisherXi)\n",
    "FisherBand_tot = FisherProjection_Fishergiven(Derivatives, Fisher3_tot)"
   ]
  },
  {
   "cell_type": "markdown",
   "metadata": {},
   "source": [
    "----"
   ]
  },
  {
   "cell_type": "markdown",
   "metadata": {},
   "source": [
    "## Signal to Noise"
   ]
  },
  {
   "cell_type": "markdown",
   "metadata": {},
   "source": [
    "SNR = $\\sum_{i,j} P_i ~F_{P} ~P_j$  \n",
    "\n",
    "Reordering vectors and Multipoles"
   ]
  },
  {
   "cell_type": "code",
   "execution_count": 77,
   "metadata": {
    "collapsed": false
   },
   "outputs": [],
   "source": [
    "from test_SNR import reorderingVector, reordering\n",
    "\n",
    "m_P0 = RSDPower.multipole_bandpower0[kcut_min:kcut_max+1]\n",
    "m_P2 = RSDPower.multipole_bandpower2[kcut_min:kcut_max+1]\n",
    "m_P4 = RSDPower.multipole_bandpower4[kcut_min:kcut_max+1]\n",
    "m_P = reorderingVector( [m_P0, m_P2, m_P4] )"
   ]
  },
  {
   "cell_type": "code",
   "execution_count": 78,
   "metadata": {
    "collapsed": false
   },
   "outputs": [],
   "source": [
    "re_FisherBand_P_all, _ = reordering( RSDPower, FisherBand_P_all)\n",
    "re_FisherBand_P, _ = reordering( RSDPower, FisherBand_P)\n",
    "re_FisherBand_Xi, m_P_all = reordering( RSDPower, FisherBand_Xi)\n",
    "re_FisherBand_tot, _ = reordering( RSDPower, FisherBand_tot)"
   ]
  },
  {
   "cell_type": "markdown",
   "metadata": {},
   "source": [
    "P"
   ]
  },
  {
   "cell_type": "code",
   "execution_count": 79,
   "metadata": {
    "collapsed": false
   },
   "outputs": [
    {
     "name": "stdout",
     "output_type": "stream",
     "text": [
      "0.861827118109\n"
     ]
    }
   ],
   "source": [
    "print np.sum(re_FisherBand_Xi)"
   ]
  },
  {
   "cell_type": "code",
   "execution_count": 80,
   "metadata": {
    "collapsed": false
   },
   "outputs": [],
   "source": [
    "from test_SNR import blockwise\n",
    "\n",
    "FP = re_FisherBand_P_all.copy()\n",
    "PP = m_P_all.copy()\n",
    "\n",
    "SNRlist_P = []\n",
    "SNRP = np.dot( np.dot(PP, FP), PP.T )\n",
    "SNRlist_P.append(SNRP)\n",
    "for j in range(1, PP.size/3):\n",
    "    PP = PP[:-3]\n",
    "    for i in range(0,3):\n",
    "        FP = blockwise( FP )\n",
    "    SNRP = np.dot( np.dot(PP, FP), PP.T )\n",
    "    SNRlist_P.append(SNRP)\n",
    "\n",
    "SNRlist_P = np.array(SNRlist_P[::-1]).ravel()\n",
    "kklist = RSDPower.kcenter_y#[kcut_min:kcut_max+1]"
   ]
  },
  {
   "cell_type": "markdown",
   "metadata": {},
   "source": [
    "Xi"
   ]
  },
  {
   "cell_type": "code",
   "execution_count": 81,
   "metadata": {
    "collapsed": true
   },
   "outputs": [],
   "source": [
    "F = re_FisherBand_Xi.copy()\n",
    "P = m_P_all.copy()\n",
    "\n",
    "SNRlist = []\n",
    "SNR = np.dot( np.dot(P, F), P.T )\n",
    "SNRlist.append(SNR)\n",
    "for j in range(1, P.size/3):\n",
    "    P = P[:-3]\n",
    "    for i in range(0,3):\n",
    "        F = blockwise( F )\n",
    "    SNR = np.dot( np.dot(P, F), P.T )\n",
    "    SNRlist.append(SNR)\n",
    "\n",
    "SNRlist = np.array(SNRlist[::-1]).ravel()\n",
    "kklist2 = RSDPower.kcenter_y"
   ]
  },
  {
   "cell_type": "markdown",
   "metadata": {},
   "source": [
    "tot"
   ]
  },
  {
   "cell_type": "code",
   "execution_count": 82,
   "metadata": {
    "collapsed": true
   },
   "outputs": [],
   "source": [
    "Ft = re_FisherBand_tot.copy()\n",
    "Pt = m_P_all.copy()\n",
    "\n",
    "SNRlist_t = []\n",
    "SNRt = np.dot( np.dot(Pt, Ft), Pt.T )\n",
    "SNRlist_t.append(SNRt)\n",
    "for j in range(1, Pt.size/3):\n",
    "    Pt = Pt[:-3]\n",
    "    for i in range(0,3):\n",
    "        Ft = blockwise( Ft )\n",
    "    SNRt = np.dot( np.dot(Pt, Ft), Pt.T )\n",
    "    SNRlist_t.append(SNRt)\n",
    "\n",
    "SNRlist_t = np.array(SNRlist_t[::-1]).ravel()\n",
    "#kklist2 = RSDPower.kcenter_y"
   ]
  },
  {
   "cell_type": "code",
   "execution_count": 83,
   "metadata": {
    "collapsed": false
   },
   "outputs": [],
   "source": [
    "#from test_SNR import convergence_P, convergence_Xi\n",
    "#kklist, SNRPP = convergence_P(RSDPower, KMIN, KMAX)\n",
    "#kklist2, SNRXI = convergence_Xi(RSDPower, RMIN, RMAX , None, None)"
   ]
  },
  {
   "cell_type": "markdown",
   "metadata": {},
   "source": [
    "Plotting"
   ]
  },
  {
   "cell_type": "code",
   "execution_count": 84,
   "metadata": {
    "collapsed": false
   },
   "outputs": [
    {
     "name": "stdout",
     "output_type": "stream",
     "text": [
      "fig save to figure/SNR.png\n"
     ]
    },
    {
     "data": {
      "image/png": "[encoded data removed]",
      "text/plain": [
       "<matplotlib.figure.Figure at 0x58b0310>"
      ]
     },
     "metadata": {},
     "output_type": "display_data"
    }
   ],
   "source": [
    "fig, (ax, ax2) = plt.subplots(1,2, figsize = (15, 5))\n",
    "ax.plot(kklist, SNRlist_P, linestyle = '--', label = 'SNRPP')\n",
    "ax.plot(kklist2, SNRlist, linestyle = '-', color = ax.lines[-1].get_color(), label='SNRXI')\n",
    "ax.plot(kklist2, SNRlist_t, linestyle = '-.', color = 'black', label='SNR tot')\n",
    "ax.set_xscale('linear')\n",
    "ax.set_yscale('linear')\n",
    "ax.set_xlabel('k')\n",
    "#ax.set_ylim(1e-12, 1e+10)\n",
    "ax.set_xlim(1e-3, 1)\n",
    "ax.set_ylabel('SNR')\n",
    "ax.set_title('SNR P (dashed) Xi(solid)')\n",
    "ax.legend(loc='best')\n",
    "\n",
    "ax2.plot(kklist, SNRlist_P, linestyle = '--', label = 'SNRPP')\n",
    "ax2.plot(kklist2, SNRlist, linestyle = '-', color = ax2.lines[-1].get_color(), label='SNRXI')\n",
    "ax2.plot(kklist2, SNRlist_t, linestyle = '-.', color = 'black', label='SNR tot')\n",
    "ax2.set_xscale('linear')\n",
    "ax2.set_yscale('linear')\n",
    "ax2.set_xlabel('k')\n",
    "ax2.set_ylim(-1, 1e+5)\n",
    "ax2.set_xlim(1e-3, 0.2)\n",
    "ax2.set_ylabel('SNR')\n",
    "ax2.set_title('SNR P (dashed) Xi(solid)')\n",
    "ax2.legend(loc='best')\n",
    "\n",
    "figname='figure/SNR.png'\n",
    "fig.savefig(figname)\n",
    "print 'fig save to', figname"
   ]
  },
  {
   "cell_type": "markdown",
   "metadata": {},
   "source": [
    "## Delta Cumulative Sinal to Noise"
   ]
  },
  {
   "cell_type": "markdown",
   "metadata": {},
   "source": [
    "$\\Delta~\\sum (S/N)^2$"
   ]
  },
  {
   "cell_type": "code",
   "execution_count": 85,
   "metadata": {
    "collapsed": true
   },
   "outputs": [],
   "source": [
    "def DeltaCumulativeSNR(RSDPower, re_FisherBand_P, m_P_all, kmin, kmax):\n",
    "    \n",
    "    kcut_min = get_closest_index_in_data( kmin, RSDPower.kmin_y )\n",
    "    kcut_max = get_closest_index_in_data( kmax, RSDPower.kmax_y )\n",
    "\n",
    "    FP = re_FisherBand_P_all.copy()[3*kcut_min:3*kcut_max+3, 3*kcut_min:3*kcut_max+3]\n",
    "    PP = m_P_all.copy()[3*kcut_min:3*kcut_max+3]\n",
    "    \n",
    "    SNRlist_P = []\n",
    "    SNRP = np.dot( np.dot(PP, FP), PP.T )\n",
    "    SNRlist_P.append(SNRP)\n",
    "    for j in range(1, PP.size/3):\n",
    "        PP = PP[:-3]\n",
    "        for i in range(0,3):\n",
    "            FP = blockwise( FP )\n",
    "        SNRP = np.dot( np.dot(PP, FP), PP.T )\n",
    "        SNRlist_P.append(SNRP)\n",
    "\n",
    "    SNRlist_P = np.array(SNRlist_P[::-1]).ravel()\n",
    "    kklist = RSDPower.kcenter_y[kcut_min:kcut_max+1]\n",
    "    return kklist, SNRlist_P"
   ]
  },
  {
   "cell_type": "markdown",
   "metadata": {},
   "source": [
    "Plotting"
   ]
  },
  {
   "cell_type": "code",
   "execution_count": 86,
   "metadata": {
    "collapsed": false
   },
   "outputs": [
    {
     "ename": "ValueError",
     "evalue": "x and y must have same first dimension",
     "output_type": "error",
     "traceback": [
      "\u001b[0;31m---------------------------------------------------------------------------\u001b[0m",
      "\u001b[0;31mValueError\u001b[0m                                Traceback (most recent call last)",
      "\u001b[0;32m<ipython-input-86-f46261bea567>\u001b[0m in \u001b[0;36m<module>\u001b[0;34m()\u001b[0m\n\u001b[1;32m     12\u001b[0m     \u001b[0mks\u001b[0m\u001b[0;34m,\u001b[0m \u001b[0mSNRs\u001b[0m \u001b[0;34m=\u001b[0m \u001b[0mDeltaCumulativeSNR\u001b[0m\u001b[0;34m(\u001b[0m\u001b[0mRSDPower\u001b[0m\u001b[0;34m,\u001b[0m \u001b[0mre_FisherBand_P\u001b[0m\u001b[0;34m,\u001b[0m \u001b[0mm_P_all\u001b[0m\u001b[0;34m,\u001b[0m \u001b[0mkkk2\u001b[0m\u001b[0;34m[\u001b[0m\u001b[0mi\u001b[0m\u001b[0;34m]\u001b[0m\u001b[0;34m,\u001b[0m \u001b[0mkkk2\u001b[0m\u001b[0;34m[\u001b[0m\u001b[0mi\u001b[0m\u001b[0;34m+\u001b[0m\u001b[0;36m1\u001b[0m\u001b[0;34m]\u001b[0m\u001b[0;34m)\u001b[0m\u001b[0;34m\u001b[0m\u001b[0m\n\u001b[1;32m     13\u001b[0m     \u001b[0m_\u001b[0m\u001b[0;34m,\u001b[0m \u001b[0mSNRXis\u001b[0m \u001b[0;34m=\u001b[0m \u001b[0mDeltaCumulativeSNR\u001b[0m\u001b[0;34m(\u001b[0m\u001b[0mRSDPower\u001b[0m\u001b[0;34m,\u001b[0m \u001b[0mre_FisherBand_Xi\u001b[0m\u001b[0;34m,\u001b[0m \u001b[0mm_P_all\u001b[0m\u001b[0;34m,\u001b[0m \u001b[0mkkk2\u001b[0m\u001b[0;34m[\u001b[0m\u001b[0mi\u001b[0m\u001b[0;34m]\u001b[0m\u001b[0;34m,\u001b[0m \u001b[0mkkk2\u001b[0m\u001b[0;34m[\u001b[0m\u001b[0mi\u001b[0m\u001b[0;34m+\u001b[0m\u001b[0;36m1\u001b[0m\u001b[0;34m]\u001b[0m\u001b[0;34m)\u001b[0m\u001b[0;34m\u001b[0m\u001b[0m\n\u001b[0;32m---> 14\u001b[0;31m     \u001b[0max\u001b[0m\u001b[0;34m.\u001b[0m\u001b[0mplot\u001b[0m\u001b[0;34m(\u001b[0m\u001b[0mks\u001b[0m\u001b[0;34m,\u001b[0m \u001b[0mSNRs\u001b[0m\u001b[0;34m,\u001b[0m \u001b[0mlinestyle\u001b[0m\u001b[0;34m=\u001b[0m\u001b[0;34m'--'\u001b[0m\u001b[0;34m,\u001b[0m \u001b[0mcolor\u001b[0m \u001b[0;34m=\u001b[0m \u001b[0;34m'blue'\u001b[0m \u001b[0;34m)\u001b[0m\u001b[0;34m\u001b[0m\u001b[0m\n\u001b[0m\u001b[1;32m     15\u001b[0m     \u001b[0max\u001b[0m\u001b[0;34m.\u001b[0m\u001b[0mplot\u001b[0m\u001b[0;34m(\u001b[0m\u001b[0mks\u001b[0m\u001b[0;34m,\u001b[0m \u001b[0mSNRXis\u001b[0m\u001b[0;34m,\u001b[0m \u001b[0mlinestyle\u001b[0m\u001b[0;34m=\u001b[0m\u001b[0;34m'-'\u001b[0m\u001b[0;34m,\u001b[0m \u001b[0mcolor\u001b[0m \u001b[0;34m=\u001b[0m \u001b[0;34m'blue'\u001b[0m \u001b[0;34m)\u001b[0m \u001b[0;31m#ax.lines[-1].get_color())\u001b[0m\u001b[0;34m\u001b[0m\u001b[0m\n\u001b[1;32m     16\u001b[0m \u001b[0;34m\u001b[0m\u001b[0m\n",
      "\u001b[0;32m/usr/lib64/python2.7/site-packages/matplotlib/__init__.pyc\u001b[0m in \u001b[0;36minner\u001b[0;34m(ax, *args, **kwargs)\u001b[0m\n\u001b[1;32m   1809\u001b[0m                     warnings.warn(msg % (label_namer, func.__name__),\n\u001b[1;32m   1810\u001b[0m                                   RuntimeWarning, stacklevel=2)\n\u001b[0;32m-> 1811\u001b[0;31m             \u001b[0;32mreturn\u001b[0m \u001b[0mfunc\u001b[0m\u001b[0;34m(\u001b[0m\u001b[0max\u001b[0m\u001b[0;34m,\u001b[0m \u001b[0;34m*\u001b[0m\u001b[0margs\u001b[0m\u001b[0;34m,\u001b[0m \u001b[0;34m**\u001b[0m\u001b[0mkwargs\u001b[0m\u001b[0;34m)\u001b[0m\u001b[0;34m\u001b[0m\u001b[0m\n\u001b[0m\u001b[1;32m   1812\u001b[0m         \u001b[0mpre_doc\u001b[0m \u001b[0;34m=\u001b[0m \u001b[0minner\u001b[0m\u001b[0;34m.\u001b[0m\u001b[0m__doc__\u001b[0m\u001b[0;34m\u001b[0m\u001b[0m\n\u001b[1;32m   1813\u001b[0m         \u001b[0;32mif\u001b[0m \u001b[0mpre_doc\u001b[0m \u001b[0;32mis\u001b[0m \u001b[0mNone\u001b[0m\u001b[0;34m:\u001b[0m\u001b[0;34m\u001b[0m\u001b[0m\n",
      "\u001b[0;32m/usr/lib64/python2.7/site-packages/matplotlib/axes/_axes.pyc\u001b[0m in \u001b[0;36mplot\u001b[0;34m(self, *args, **kwargs)\u001b[0m\n\u001b[1;32m   1425\u001b[0m             \u001b[0mkwargs\u001b[0m\u001b[0;34m[\u001b[0m\u001b[0;34m'color'\u001b[0m\u001b[0;34m]\u001b[0m \u001b[0;34m=\u001b[0m \u001b[0mc\u001b[0m\u001b[0;34m\u001b[0m\u001b[0m\n\u001b[1;32m   1426\u001b[0m \u001b[0;34m\u001b[0m\u001b[0m\n\u001b[0;32m-> 1427\u001b[0;31m         \u001b[0;32mfor\u001b[0m \u001b[0mline\u001b[0m \u001b[0;32min\u001b[0m \u001b[0mself\u001b[0m\u001b[0;34m.\u001b[0m\u001b[0m_get_lines\u001b[0m\u001b[0;34m(\u001b[0m\u001b[0;34m*\u001b[0m\u001b[0margs\u001b[0m\u001b[0;34m,\u001b[0m \u001b[0;34m**\u001b[0m\u001b[0mkwargs\u001b[0m\u001b[0;34m)\u001b[0m\u001b[0;34m:\u001b[0m\u001b[0;34m\u001b[0m\u001b[0m\n\u001b[0m\u001b[1;32m   1428\u001b[0m             \u001b[0mself\u001b[0m\u001b[0;34m.\u001b[0m\u001b[0madd_line\u001b[0m\u001b[0;34m(\u001b[0m\u001b[0mline\u001b[0m\u001b[0;34m)\u001b[0m\u001b[0;34m\u001b[0m\u001b[0m\n\u001b[1;32m   1429\u001b[0m             \u001b[0mlines\u001b[0m\u001b[0;34m.\u001b[0m\u001b[0mappend\u001b[0m\u001b[0;34m(\u001b[0m\u001b[0mline\u001b[0m\u001b[0;34m)\u001b[0m\u001b[0;34m\u001b[0m\u001b[0m\n",
      "\u001b[0;32m/usr/lib64/python2.7/site-packages/matplotlib/axes/_base.pyc\u001b[0m in \u001b[0;36m_grab_next_args\u001b[0;34m(self, *args, **kwargs)\u001b[0m\n\u001b[1;32m    384\u001b[0m                 \u001b[0;32mreturn\u001b[0m\u001b[0;34m\u001b[0m\u001b[0m\n\u001b[1;32m    385\u001b[0m             \u001b[0;32mif\u001b[0m \u001b[0mlen\u001b[0m\u001b[0;34m(\u001b[0m\u001b[0mremaining\u001b[0m\u001b[0;34m)\u001b[0m \u001b[0;34m<=\u001b[0m \u001b[0;36m3\u001b[0m\u001b[0;34m:\u001b[0m\u001b[0;34m\u001b[0m\u001b[0m\n\u001b[0;32m--> 386\u001b[0;31m                 \u001b[0;32mfor\u001b[0m \u001b[0mseg\u001b[0m \u001b[0;32min\u001b[0m \u001b[0mself\u001b[0m\u001b[0;34m.\u001b[0m\u001b[0m_plot_args\u001b[0m\u001b[0;34m(\u001b[0m\u001b[0mremaining\u001b[0m\u001b[0;34m,\u001b[0m \u001b[0mkwargs\u001b[0m\u001b[0;34m)\u001b[0m\u001b[0;34m:\u001b[0m\u001b[0;34m\u001b[0m\u001b[0m\n\u001b[0m\u001b[1;32m    387\u001b[0m                     \u001b[0;32myield\u001b[0m \u001b[0mseg\u001b[0m\u001b[0;34m\u001b[0m\u001b[0m\n\u001b[1;32m    388\u001b[0m                 \u001b[0;32mreturn\u001b[0m\u001b[0;34m\u001b[0m\u001b[0m\n",
      "\u001b[0;32m/usr/lib64/python2.7/site-packages/matplotlib/axes/_base.pyc\u001b[0m in \u001b[0;36m_plot_args\u001b[0;34m(self, tup, kwargs)\u001b[0m\n\u001b[1;32m    362\u001b[0m             \u001b[0mx\u001b[0m\u001b[0;34m,\u001b[0m \u001b[0my\u001b[0m \u001b[0;34m=\u001b[0m \u001b[0mindex_of\u001b[0m\u001b[0;34m(\u001b[0m\u001b[0mtup\u001b[0m\u001b[0;34m[\u001b[0m\u001b[0;34m-\u001b[0m\u001b[0;36m1\u001b[0m\u001b[0;34m]\u001b[0m\u001b[0;34m)\u001b[0m\u001b[0;34m\u001b[0m\u001b[0m\n\u001b[1;32m    363\u001b[0m \u001b[0;34m\u001b[0m\u001b[0m\n\u001b[0;32m--> 364\u001b[0;31m         \u001b[0mx\u001b[0m\u001b[0;34m,\u001b[0m \u001b[0my\u001b[0m \u001b[0;34m=\u001b[0m \u001b[0mself\u001b[0m\u001b[0;34m.\u001b[0m\u001b[0m_xy_from_xy\u001b[0m\u001b[0;34m(\u001b[0m\u001b[0mx\u001b[0m\u001b[0;34m,\u001b[0m \u001b[0my\u001b[0m\u001b[0;34m)\u001b[0m\u001b[0;34m\u001b[0m\u001b[0m\n\u001b[0m\u001b[1;32m    365\u001b[0m \u001b[0;34m\u001b[0m\u001b[0m\n\u001b[1;32m    366\u001b[0m         \u001b[0;32mif\u001b[0m \u001b[0mself\u001b[0m\u001b[0;34m.\u001b[0m\u001b[0mcommand\u001b[0m \u001b[0;34m==\u001b[0m \u001b[0;34m'plot'\u001b[0m\u001b[0;34m:\u001b[0m\u001b[0;34m\u001b[0m\u001b[0m\n",
      "\u001b[0;32m/usr/lib64/python2.7/site-packages/matplotlib/axes/_base.pyc\u001b[0m in \u001b[0;36m_xy_from_xy\u001b[0;34m(self, x, y)\u001b[0m\n\u001b[1;32m    221\u001b[0m         \u001b[0my\u001b[0m \u001b[0;34m=\u001b[0m \u001b[0m_check_1d\u001b[0m\u001b[0;34m(\u001b[0m\u001b[0my\u001b[0m\u001b[0;34m)\u001b[0m\u001b[0;34m\u001b[0m\u001b[0m\n\u001b[1;32m    222\u001b[0m         \u001b[0;32mif\u001b[0m \u001b[0mx\u001b[0m\u001b[0;34m.\u001b[0m\u001b[0mshape\u001b[0m\u001b[0;34m[\u001b[0m\u001b[0;36m0\u001b[0m\u001b[0;34m]\u001b[0m \u001b[0;34m!=\u001b[0m \u001b[0my\u001b[0m\u001b[0;34m.\u001b[0m\u001b[0mshape\u001b[0m\u001b[0;34m[\u001b[0m\u001b[0;36m0\u001b[0m\u001b[0;34m]\u001b[0m\u001b[0;34m:\u001b[0m\u001b[0;34m\u001b[0m\u001b[0m\n\u001b[0;32m--> 223\u001b[0;31m             \u001b[0;32mraise\u001b[0m \u001b[0mValueError\u001b[0m\u001b[0;34m(\u001b[0m\u001b[0;34m\"x and y must have same first dimension\"\u001b[0m\u001b[0;34m)\u001b[0m\u001b[0;34m\u001b[0m\u001b[0m\n\u001b[0m\u001b[1;32m    224\u001b[0m         \u001b[0;32mif\u001b[0m \u001b[0mx\u001b[0m\u001b[0;34m.\u001b[0m\u001b[0mndim\u001b[0m \u001b[0;34m>\u001b[0m \u001b[0;36m2\u001b[0m \u001b[0;32mor\u001b[0m \u001b[0my\u001b[0m\u001b[0;34m.\u001b[0m\u001b[0mndim\u001b[0m \u001b[0;34m>\u001b[0m \u001b[0;36m2\u001b[0m\u001b[0;34m:\u001b[0m\u001b[0;34m\u001b[0m\u001b[0m\n\u001b[1;32m    225\u001b[0m             \u001b[0;32mraise\u001b[0m \u001b[0mValueError\u001b[0m\u001b[0;34m(\u001b[0m\u001b[0;34m\"x and y can be no greater than 2-D\"\u001b[0m\u001b[0;34m)\u001b[0m\u001b[0;34m\u001b[0m\u001b[0m\n",
      "\u001b[0;31mValueError\u001b[0m: x and y must have same first dimension"
     ]
    },
    {
     "data": {
      "image/png": "[encoded data removed]",
      "text/plain": [
       "<matplotlib.figure.Figure at 0x8cf1d90>"
      ]
     },
     "metadata": {},
     "output_type": "display_data"
    }
   ],
   "source": [
    "fig, ax = plt.subplots(1,1, figsize=(15,10))\n",
    "\n",
    "kkk = np.logspace(np.log10(KMIN), np.log10(KMAX), 10)\n",
    "for i in range(kkk.size -1):   \n",
    "    ks, SNRs = DeltaCumulativeSNR(RSDPower, re_FisherBand_P, m_P_all, kkk[i], kkk[i+1])\n",
    "    _, SNRXis = DeltaCumulativeSNR(RSDPower, re_FisherBand_Xi, m_P_all, kkk[i], kkk[i+1])\n",
    "    ax.plot(ks, SNRs, linestyle='--', color = 'black' )\n",
    "    ax.plot(ks, SNRXis, linestyle='-', color = 'black' ) #ax.lines[-1].get_color())\n",
    "\n",
    "kkk2 = np.logspace(np.log10(KMIN), np.log10(KMAX), 50)\n",
    "for i in range(kkk2.size -1):   \n",
    "    ks, SNRs = DeltaCumulativeSNR(RSDPower, re_FisherBand_P, m_P_all, kkk2[i], kkk2[i+1])\n",
    "    _, SNRXis = DeltaCumulativeSNR(RSDPower, re_FisherBand_Xi, m_P_all, kkk2[i], kkk2[i+1])\n",
    "    ax.plot(ks, SNRs, linestyle='--', color = 'blue' )\n",
    "    ax.plot(ks, SNRXis, linestyle='-', color = 'blue' ) #ax.lines[-1].get_color())\n",
    "    \n",
    "ax.set_yscale('log')\n",
    "ax.set_xscale('log')\n",
    "ax.set_xlabel('k (h/Mpc)')\n",
    "ax.set_ylabel('Delta SNR Xi')\n",
    "ax.set_title('SNR P (dashed) Xi(solid)')\n",
    "#ax.legend(loc='best')\n",
    "figname = 'figure/DeltaSNR.png'\n",
    "fig.savefig(figname)\n",
    "print 'fig save to ',figname"
   ]
  },
  {
   "cell_type": "markdown",
   "metadata": {},
   "source": [
    "----"
   ]
  },
  {
   "cell_type": "markdown",
   "metadata": {},
   "source": [
    "## b and f error ellipses "
   ]
  },
  {
   "cell_type": "markdown",
   "metadata": {},
   "source": [
    "I am going to test three different ranges of r and k.  \n",
    "1. `r = 0.1 - 180 Mpc/h, k = 0.001 - 2 Mpc/h`  \n",
    "2. `r = 24 - 152 Mpc/h, k = 0.01 - 0.2 Mpc/h`\n",
    "3. `r = 29 - 200 Mpc/h, k = 0.02 - 0.3 Mpc/h`\n",
    "\n",
    "To get contour ellipses for paramters, need to project Fisher matrices to the paramter space.  \n",
    "Construct derivative matrices of dP/da (a can be any parameter such as b, f, sigma, shot noise...)"
   ]
  },
  {
   "cell_type": "code",
   "execution_count": 87,
   "metadata": {
    "collapsed": true
   },
   "outputs": [],
   "source": [
    "matrices2P_cut = [RSDPower.dPb0[kcut_min:kcut_max+1], RSDPower.dPb2[kcut_min:kcut_max+1],\\\n",
    "                  RSDPower.dPb4[kcut_min:kcut_max+1], RSDPower.dPf0[kcut_min:kcut_max+1],\\\n",
    "                  RSDPower.dPf2[kcut_min:kcut_max+1], RSDPower.dPf4[kcut_min:kcut_max+1],\\\n",
    "                  RSDPower.dPs0[kcut_min:kcut_max+1], RSDPower.dPs2[kcut_min:kcut_max+1],\\\n",
    "                  RSDPower.dPs4[kcut_min:kcut_max+1]]\n",
    "\n",
    "matrices2P = [RSDPower.dPb0, RSDPower.dPb2, RSDPower.dPb4,\\\n",
    "              RSDPower.dPf0, RSDPower.dPf2, RSDPower.dPf4,\\\n",
    "              RSDPower.dPs0, RSDPower.dPs2, RSDPower.dPs4]\n",
    "\n",
    "XP, XP2 = CombineDevXi(l1, matrices2P)\n",
    "XP_cut, XP2_cut = CombineDevXi(l3, matrices2P_cut)"
   ]
  },
  {
   "cell_type": "markdown",
   "metadata": {},
   "source": [
    "Suffix `_cut` stands for one in limited k range.  \n",
    "\n",
    "Projected Fisher matrices to the paramter spaces by multiplying derivatives and invert it again to get covariance matrices.  \n",
    "Diagonal components of covariance matrix stand for squared error at `KMAX` or `RMIN`."
   ]
  },
  {
   "cell_type": "code",
   "execution_count": 88,
   "metadata": {
    "collapsed": false
   },
   "outputs": [],
   "source": [
    "FisherPP = np.dot( np.dot( XP_cut, inv(C_matrix3PP)), XP_cut.T)\n",
    "FisherXi = np.dot( np.dot( XP, FisherBand_Xi), XP.T)\n",
    "Fishertot = np.dot( np.dot( XP, FisherBand_tot), XP.T)\n",
    "\n",
    "Cov_PP = inv(FisherPP)[0:2,0:2]\n",
    "Cov_Xi = inv(FisherXi)[0:2,0:2]\n",
    "Cov_tot = inv(Fishertot)[0:2,0:2]"
   ]
  },
  {
   "cell_type": "code",
   "execution_count": 89,
   "metadata": {
    "collapsed": false
   },
   "outputs": [],
   "source": [
    "elllist = confidence_ellipse(RSDPower.b, RSDPower.f, Cov_PP, Cov_Xi, Cov_tot )"
   ]
  },
  {
   "cell_type": "markdown",
   "metadata": {},
   "source": [
    "Plot confident ellipses"
   ]
  },
  {
   "cell_type": "code",
   "execution_count": 90,
   "metadata": {
    "collapsed": false
   },
   "outputs": [
    {
     "name": "stdout",
     "output_type": "stream",
     "text": [
      "fig save to : figure/ellipse_RSD.png\n"
     ]
    },
    {
     "data": {
      "image/png": "[encoded data removed]",
      "text/plain": [
       "<matplotlib.figure.Figure at 0xb13a990>"
      ]
     },
     "metadata": {},
     "output_type": "display_data"
    }
   ],
   "source": [
    "fig, ax = plt.subplots(figsize=(10,7))\n",
    "for e in elllist:\n",
    "    ax.add_artist(e)\n",
    "    ax.add_artist(e)\n",
    "    #e.set_alpha(0.2)\n",
    "    e.set_clip_box(ax.bbox)\n",
    "\n",
    "xmin = RSDPower.b*0.97\n",
    "xmax = RSDPower.b*1.03\n",
    "ymin = RSDPower.f*0.92\n",
    "ymax = RSDPower.f*1.08\n",
    "ax.set_xlim(xmin, xmax)\n",
    "ax.set_ylim(ymin, ymax)\n",
    "ax.set_xlabel('b')\n",
    "ax.set_ylabel('f')\n",
    "labellist = ['P', 'Xi', 'tot', 'P_n', 'Xi_n', 'tot_n']\n",
    "ax.legend(elllist, labellist, loc=4, prop={'size':10})\n",
    "#ax.set_title( 'error ellipse of b and f, s marginalized, RSD scale ( r24-152, k0.01-0.2 )' )\n",
    "#ax.set_title( 'error ellipse of b and f, s marginalized, BAO scale ( r29-200, k0.02-0.3 )' )\n",
    "ax.set_title( 'error ellipse of b and f, s marginalized, ( r {:>0.2f}-{:>0.2f}, k {:>0.2f}-{:>0.2f} )'\\\n",
    "             .format(RMIN, RMAX, KMIN, KMAX) )\n",
    "figname = 'figure/ellipse_RSD.png'\n",
    "fig.savefig(figname)\n",
    "print 'fig save to :', figname\n",
    "#plt.close(fig)"
   ]
  },
  {
   "cell_type": "markdown",
   "metadata": {
    "collapsed": true
   },
   "source": [
    "Add shot noise as a paramter and marginalize it."
   ]
  },
  {
   "cell_type": "code",
   "execution_count": 91,
   "metadata": {
    "collapsed": true
   },
   "outputs": [],
   "source": [
    "dPN0 = np.ones(RSDPower.kcenter_y.size)\n",
    "dPN1 = np.zeros(RSDPower.kcenter_y.size)\n",
    "dPN2 = dPN1.copy()\n",
    "XP_N = np.vstack((XP,np.array([dPN0, dPN1, dPN2]).ravel()))\n",
    "XP_N_cut = np.vstack((XP_cut, np.array([dPN0[kcut_min:kcut_max+1],\\\n",
    "                                        dPN1[kcut_min:kcut_max+1],\\\n",
    "                                        dPN2[kcut_min:kcut_max+1]]).ravel()))\n",
    "\n",
    "FisherPP_N = np.dot( np.dot( XP_N_cut, inv(C_matrix3PP)), XP_N_cut.T)\n",
    "FisherXi_N = np.dot( np.dot( XP_N, FisherBand_Xi), XP_N.T)\n",
    "Fishertot_N = np.dot( np.dot( XP_N, FisherBand_tot), XP_N.T)\n",
    "\n",
    "Cov_PP_N = inv(FisherPP_N)[0:2,0:2]\n",
    "Cov_Xi_N = inv(FisherXi_N)[0:2,0:2]\n",
    "Cov_tot_N = inv(Fishertot_N)[0:2,0:2]"
   ]
  },
  {
   "cell_type": "code",
   "execution_count": 92,
   "metadata": {
    "collapsed": true
   },
   "outputs": [],
   "source": [
    "elllist = confidence_ellipse(RSDPower.b, RSDPower.f, Cov_PP, Cov_Xi, Cov_tot, Cov_PP_N, Cov_Xi_N, Cov_tot_N)"
   ]
  },
  {
   "cell_type": "code",
   "execution_count": 93,
   "metadata": {
    "collapsed": false
   },
   "outputs": [
    {
     "name": "stdout",
     "output_type": "stream",
     "text": [
      "fig save to : figure/ellipse_RSD.png\n"
     ]
    },
    {
     "data": {
      "image/png": "[encoded data removed]",
      "text/plain": [
       "<matplotlib.figure.Figure at 0xb0bd2d0>"
      ]
     },
     "metadata": {},
     "output_type": "display_data"
    }
   ],
   "source": [
    "fig, ax = plt.subplots(figsize=(10,7))\n",
    "for e in elllist:\n",
    "    ax.add_artist(e)\n",
    "    ax.add_artist(e)\n",
    "    #e.set_alpha(0.2)\n",
    "    e.set_clip_box(ax.bbox)\n",
    "\n",
    "xmin = RSDPower.b*0.97\n",
    "xmax = RSDPower.b*1.03\n",
    "ymin = RSDPower.f*0.92\n",
    "ymax = RSDPower.f*1.08\n",
    "ax.set_xlim(xmin, xmax)\n",
    "ax.set_ylim(ymin, ymax)\n",
    "ax.set_xlabel('b')\n",
    "ax.set_ylabel('f')\n",
    "labellist = ['P', 'Xi', 'tot', 'P_n', 'Xi_n', 'tot_n']\n",
    "ax.legend(elllist, labellist, loc=4, prop={'size':10})\n",
    "#ax.set_title( 'error ellipse of b and f, s marginalized, RSD scale ( r24-152, k0.01-0.2 )' )\n",
    "#ax.set_title( 'error ellipse of b and f, s marginalized, BAO scale ( r29-200, k0.02-0.3 )' )\n",
    "ax.set_title( 'error ellipse of b and f, s marginalized, ( r {:>0.2f}-{:>0.2f}, k {:>0.2f}-{:>0.2f} )'\\\n",
    "             .format(RMIN, RMAX, KMIN, KMAX) )\n",
    "figname = 'figure/ellipse_RSD.png'\n",
    "fig.savefig(figname)\n",
    "print 'fig save to :', figname"
   ]
  },
  {
   "cell_type": "markdown",
   "metadata": {},
   "source": [
    "----"
   ]
  },
  {
   "cell_type": "markdown",
   "metadata": {},
   "source": [
    "## b and f Reid plot"
   ]
  },
  {
   "cell_type": "markdown",
   "metadata": {},
   "source": [
    "I could reuse Fisher matrices and derivatives obtained above, but if I reorder matrices, it would be more convenient to cut out matrices by scales.\n",
    "\n",
    "Reorder Xi covariance matrix."
   ]
  },
  {
   "cell_type": "code",
   "execution_count": 94,
   "metadata": {
    "collapsed": false
   },
   "outputs": [],
   "source": [
    "from test_SNR import reordering, reorderingVector, blockwise\n",
    "re_C_matrix3Xi, _ = reordering( RSDPower, C_matrix3Xi )"
   ]
  },
  {
   "cell_type": "markdown",
   "metadata": {},
   "source": [
    "Reorder derivatives"
   ]
  },
  {
   "cell_type": "code",
   "execution_count": 95,
   "metadata": {
    "collapsed": true
   },
   "outputs": [],
   "source": [
    "# for xi\n",
    "Xizeros = np.zeros((RSDPower.dxip0[:, rcut_max:rcut_min+1].shape))\n",
    "dxip0 = reorderingVector([RSDPower.dxip0[:, rcut_max:rcut_min+1], Xizeros, Xizeros])\n",
    "dxip2 = reorderingVector([Xizeros, RSDPower.dxip2[:, rcut_max:rcut_min+1], Xizeros])\n",
    "dxip4 = reorderingVector([Xizeros, Xizeros, RSDPower.dxip4[:, rcut_max:rcut_min+1]])\n",
    "dxip = np.vstack(( dxip0, dxip2, dxip4 ))\n",
    "\n",
    "dPb = np.hstack(([RSDPower.dPb0, RSDPower.dPb2, RSDPower.dPb4]))\n",
    "dPf = np.hstack(([RSDPower.dPf0, RSDPower.dPf2, RSDPower.dPf4]))\n",
    "dPs = np.hstack(([RSDPower.dPs0, RSDPower.dPs2, RSDPower.dPs4]))\n",
    "dPn = np.hstack(([np.ones(RSDPower.dPs0.size),np.zeros(RSDPower.dPs0.size),np.zeros(RSDPower.dPs0.size) ]))\n",
    "\n",
    "dPbf = np.vstack(( dPb, dPf ))\n",
    "dPbfs = np.vstack(( dPb, dPf, dPs ))\n",
    "dPbfsn = np.vstack(( dPb, dPf, dPs, dPn ))\n",
    "\n",
    "# for P (limited k range. but not sure these are needed for reid plots...)\n",
    "dPb_cut = reorderingVector([RSDPower.dPb0[kcut_min:kcut_max+1], \\\n",
    "                            RSDPower.dPb2[kcut_min:kcut_max+1], \\\n",
    "                            RSDPower.dPb4[kcut_min:kcut_max+1]])\n",
    "dPf_cut = reorderingVector([RSDPower.dPf0[kcut_min:kcut_max+1], \\\n",
    "                            RSDPower.dPf2[kcut_min:kcut_max+1], \\\n",
    "                            RSDPower.dPf4[kcut_min:kcut_max+1]])\n",
    "dPbf_cut = np.vstack(( dPb_cut, dPf_cut )) #, dPs ))"
   ]
  },
  {
   "cell_type": "markdown",
   "metadata": {},
   "source": [
    "Calculate fractional error of f and b.\n",
    "\n",
    "1) bandpower from $\\xi$"
   ]
  },
  {
   "cell_type": "code",
   "execution_count": 96,
   "metadata": {
    "collapsed": false
   },
   "outputs": [
    {
     "name": "stderr",
     "output_type": "stream",
     "text": [
      "/usr/lib/python2.7/site-packages/ipykernel/__main__.py:42: RuntimeWarning: invalid value encountered in sqrt\n",
      "/usr/lib/python2.7/site-packages/ipykernel/__main__.py:43: RuntimeWarning: invalid value encountered in sqrt\n"
     ]
    }
   ],
   "source": [
    "# err list\n",
    "errb, errbn = [], [] \n",
    "errf, errfn = [], [] # when n marginalized\n",
    "rlist = [] \n",
    "\n",
    "# First term (all scale of r)\n",
    "F = np.dot( np.dot(dxip, inv(re_C_matrix3Xi)), dxip.T ) \n",
    "\n",
    "# shot noise determined\n",
    "Fparams = np.dot( np.dot(dPbfs, F), dPbfs.T )\n",
    "Cparams = inv(Fparams)\n",
    "sigma_b, sigma_f = Cparams[0,0], Cparams[1,1]\n",
    "errb.append(np.sqrt(sigma_b)/RSDPower.b)\n",
    "errf.append(np.sqrt(sigma_f)/RSDPower.f)\n",
    "reverser = RSDPower.rcenter[rcut_max:rcut_min+1][::-1]\n",
    "rlist.append(reverser[0])\n",
    "\n",
    "# shot noise marginalized\n",
    "Fparamsn = np.dot( np.dot(dPbfsn, F), dPbfsn.T )\n",
    "Cparamsn = inv(Fparamsn)\n",
    "sigma_bn, sigma_fn = Cparamsn[0,0], Cparamsn[1,1]\n",
    "errbn.append(np.sqrt(sigma_bn)/RSDPower.b)\n",
    "errfn.append(np.sqrt(sigma_fn)/RSDPower.f)\n",
    "\n",
    "C = re_C_matrix3Xi.copy()\n",
    "DXIP = dxip.copy()\n",
    "# now from 2nd term\n",
    "for j in range(1, rcut_min + 1 - rcut_max):\n",
    "\n",
    "    DXIP = DXIP[:, :-3 ]\n",
    "    C = C[:-3, :-3 ]\n",
    "    F = np.dot( np.dot(DXIP, inv(C)), DXIP.T )\n",
    "    Fparams = np.dot( np.dot(dPbfs, F), dPbfs.T )\n",
    "    Cparams = inv(Fparams)\n",
    "    sigma_b, sigma_f = Cparams[0,0], Cparams[1,1]\n",
    "    errb.append(np.sqrt(sigma_b)/RSDPower.b)\n",
    "    errf.append(np.sqrt(sigma_f)/RSDPower.f)\n",
    "\n",
    "    Fparamsn = np.dot( np.dot(dPbfsn, F), dPbfsn.T )\n",
    "    Cparamsn = inv(Fparamsn)\n",
    "    sigma_bn, sigma_fn = Cparamsn[0,0], Cparamsn[1,1]\n",
    "    errbn.append(np.sqrt(sigma_bn)/RSDPower.b)\n",
    "    errfn.append(np.sqrt(sigma_fn)/RSDPower.f)\n",
    "\n",
    "    #rlist.append(1.15 * np.pi/klist[j])\n",
    "    rlist.append(reverser[j])"
   ]
  },
  {
   "cell_type": "markdown",
   "metadata": {},
   "source": [
    "Plotting"
   ]
  },
  {
   "cell_type": "markdown",
   "metadata": {},
   "source": [
    "2) bandpower from P"
   ]
  },
  {
   "cell_type": "code",
   "execution_count": 97,
   "metadata": {
    "collapsed": false
   },
   "outputs": [],
   "source": [
    "from test_SNR import reorderingVector\n",
    "re_F = re_FisherBand_P_all.copy()\n",
    "\n",
    "re_dPb = reorderingVector([RSDPower.dPb0, RSDPower.dPb2, RSDPower.dPb4])\n",
    "re_dPf = reorderingVector([RSDPower.dPf0, RSDPower.dPf2, RSDPower.dPf4])\n",
    "re_dPbf = np.vstack(( re_dPb, re_dPf )) #, dPs ))\n",
    "\n",
    "D = re_dPbf.copy()"
   ]
  },
  {
   "cell_type": "code",
   "execution_count": 98,
   "metadata": {
    "collapsed": false
   },
   "outputs": [],
   "source": [
    "# from P\n",
    "errPb = []\n",
    "errPf = []\n",
    "rlistP = []\n",
    "klist = RSDPower.kcenter_y[::-1]\n",
    "FPparams = np.dot( np.dot(D, re_F), D.T )\n",
    "                  \n",
    "CPparams = inv(FPparams)\n",
    "sigma_Pb, sigma_Pf = CPparams[0,0], CPparams[1,1]\n",
    "errPb.append(np.sqrt(sigma_Pb)/RSDPower.b)\n",
    "errPf.append(np.sqrt(sigma_Pf)/RSDPower.f)\n",
    "rlistP.append( 1.15 * np.pi/klist[0])\n",
    "\n",
    "\n",
    "for j in range(1, klist.size ):\n",
    "    # from P in r\n",
    "    D = D[:,:-3]\n",
    "    re_F = re_F[:-3, :-3]\n",
    "    FPparams = np.dot( np.dot(D, re_F), D.T )\n",
    "    CPparams = inv(FPparams)\n",
    "    sigma_Pb, sigma_Pf = CPparams[0,0], CPparams[1,1]\n",
    "    errPb.append(np.sqrt(sigma_Pb)/RSDPower.b)\n",
    "    errPf.append(np.sqrt(sigma_Pf)/RSDPower.f)\n",
    "    rlistP.append( 1.15 * np.pi/klist[j])"
   ]
  },
  {
   "cell_type": "markdown",
   "metadata": {},
   "source": [
    "Plotting"
   ]
  },
  {
   "cell_type": "code",
   "execution_count": 99,
   "metadata": {
    "collapsed": false
   },
   "outputs": [
    {
     "name": "stdout",
     "output_type": "stream",
     "text": [
      "fig save to  figure/reid.png\n"
     ]
    },
    {
     "name": "stderr",
     "output_type": "stream",
     "text": [
      "/usr/lib64/python2.7/site-packages/matplotlib/scale.py:101: RuntimeWarning: invalid value encountered in less_equal\n",
      "  a[a <= 0.0] = 1e-300\n"
     ]
    },
    {
     "data": {
      "image/png": "[encoded data removed]",
      "text/plain": [
       "<matplotlib.figure.Figure at 0x1042cf50>"
      ]
     },
     "metadata": {},
     "output_type": "display_data"
    }
   ],
   "source": [
    "fig, (ax, ax2) = plt.subplots(2,1, figsize=(10, 10))\n",
    "ax.plot(rlist, errb, label = 'frac err b')\n",
    "ax2.plot(rlist, errf, label = 'frac err f')\n",
    "ax.plot(rlist, errbn, color = ax.lines[-1].get_color(), linestyle = '--', label = 'frac err b -n')\n",
    "ax2.plot(rlist, errfn, color = ax.lines[-1].get_color(), linestyle = '--', label = 'frac err f -n')\n",
    "ax.plot(rlistP, errPb, 'k--', label = 'frac err b -P')\n",
    "ax2.plot(rlistP, errPf, 'k--', label = 'frac err f -P')\n",
    "ax.set_xlim(0, 60)\n",
    "ax.set_ylim(0.0005, 0.05)\n",
    "ax.set_ylabel('b')\n",
    "ax.set_xlabel('r (Mpc/h)')\n",
    "ax.set_yscale('log')\n",
    "ax2.set_xlim(0,60)\n",
    "ax2.set_ylim(0.00, 0.07)\n",
    "ax2.set_ylabel('f')\n",
    "ax2.set_xlabel('r (Mpc/h)')\n",
    "\n",
    "ax.legend(loc = 'best')\n",
    "ax2.legend(loc='best')\n",
    "ax.set_title(' from F_bandpower ')\n",
    "figname = 'figure/reid.png'\n",
    "fig.savefig(figname)\n",
    "print 'fig save to ', figname"
   ]
  },
  {
   "cell_type": "markdown",
   "metadata": {},
   "source": [
    "----"
   ]
  }
 ],
 "metadata": {
  "kernelspec": {
   "display_name": "Python 2",
   "language": "python",
   "name": "python2"
  },
  "language_info": {
   "codemirror_mode": {
    "name": "ipython",
    "version": 2
   },
   "file_extension": ".py",
   "mimetype": "text/x-python",
   "name": "python",
   "nbconvert_exporter": "python",
   "pygments_lexer": "ipython2",
   "version": "2.7.5"
  }
 },
 "nbformat": 4,
 "nbformat_minor": 0
}
