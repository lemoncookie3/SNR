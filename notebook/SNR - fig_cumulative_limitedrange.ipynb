{
 "cells": [
  {
   "cell_type": "markdown",
   "metadata": {},
   "source": [
    "## SNR - fig1_convergence test"
   ]
  },
  {
   "cell_type": "code",
   "execution_count": 1,
   "metadata": {
    "collapsed": false
   },
   "outputs": [],
   "source": [
    "import time, datetime\n",
    "import numpy as np\n",
    "from numpy import zeros, sqrt, pi, vectorize\n",
    "from numpy.linalg import pinv, inv\n",
    "from multiprocessing import Process, Queue\n",
    "#import matplotlib\n",
    "#matplotlib.use('Qt4Agg')\n",
    "import matplotlib.pyplot as plt\n",
    "%matplotlib inline\n",
    "from error_analysis_class import *\n",
    "from noshellavg import *\n",
    "from matplotlib.backends.backend_pdf import PdfPages"
   ]
  },
  {
   "cell_type": "code",
   "execution_count": 9,
   "metadata": {
    "collapsed": false
   },
   "outputs": [],
   "source": [
    "def SNR_convergence_test(RSDPower, kmin = 0.001, kmax = 2, reverse = None, re = None):\n",
    "\n",
    "    rcut_max = get_closest_index_in_data( RMAX, RSDPower.rmax )\n",
    "    rcut_min = get_closest_index_in_data( RMIN, RSDPower.rmin )\n",
    "    kcut_min = get_closest_index_in_data( kmin, RSDPower.kmin_y )\n",
    "    kcut_max = get_closest_index_in_data( kmax, RSDPower.kmax_y )\n",
    "\n",
    "    file = 'matterpower_z_0.55.dat'  # from camb (z=0.55)\n",
    "    RSDPower.MatterPower(file = file)\n",
    "    # power spectrum multipoles l = 0,2,4\n",
    "    RSDPower.multipole_P_band_all()\n",
    "\n",
    "    # derivative dXi/dp\n",
    "    RSDPower.derivative_Xi_band_all()\n",
    "\n",
    "    # P covariance matrix ( nine submatrices C_ll' )\n",
    "    RSDPower.RSDband_covariance_PP_all()\n",
    "\n",
    "    # Xi covariance matrix ( nine submatrices C_ll' )\n",
    "    RSDPower.covariance_Xi_all()\n",
    "    RSDPower.covariance_PXi_All()\n",
    "\n",
    "\n",
    "    matricesXi = [RSDPower.covariance00[rcut_max:rcut_min+1,rcut_max:rcut_min+1],\\\n",
    "                  RSDPower.covariance02[rcut_max:rcut_min+1,rcut_max:rcut_min+1],\\\n",
    "                  RSDPower.covariance04[rcut_max:rcut_min+1,rcut_max:rcut_min+1],\\\n",
    "                  np.transpose(RSDPower.covariance02[rcut_max:rcut_min+1,rcut_max:rcut_min+1]),\\\n",
    "                  RSDPower.covariance22[rcut_max:rcut_min+1,rcut_max:rcut_min+1],\\\n",
    "                  RSDPower.covariance24[rcut_max:rcut_min+1,rcut_max:rcut_min+1],\\\n",
    "                  np.transpose(RSDPower.covariance04[rcut_max:rcut_min+1,rcut_max:rcut_min+1]),\\\n",
    "                  np.transpose(RSDPower.covariance24[rcut_max:rcut_min+1,rcut_max:rcut_min+1]),\\\n",
    "                  RSDPower.covariance44[rcut_max:rcut_min+1,rcut_max:rcut_min+1]]\n",
    "\n",
    "    matricesPP_all = [RSDPower.covariance_PP00,RSDPower.covariance_PP02,\\\n",
    "                    RSDPower.covariance_PP04,RSDPower.covariance_PP02,\\\n",
    "                    RSDPower.covariance_PP22,RSDPower.covariance_PP24,\\\n",
    "                    RSDPower.covariance_PP04,RSDPower.covariance_PP24,\\\n",
    "                    RSDPower.covariance_PP44]\n",
    "\n",
    "    matricesPP = [RSDPower.covariance_PP00[kcut_min:kcut_max+1,kcut_min:kcut_max+1],\n",
    "                RSDPower.covariance_PP02[kcut_min:kcut_max+1,kcut_min:kcut_max+1],\n",
    "                RSDPower.covariance_PP04[kcut_min:kcut_max+1,kcut_min:kcut_max+1],\n",
    "                RSDPower.covariance_PP02[kcut_min:kcut_max+1,kcut_min:kcut_max+1],\n",
    "                RSDPower.covariance_PP22[kcut_min:kcut_max+1,kcut_min:kcut_max+1],\n",
    "                RSDPower.covariance_PP24[kcut_min:kcut_max+1,kcut_min:kcut_max+1],\n",
    "                RSDPower.covariance_PP04[kcut_min:kcut_max+1,kcut_min:kcut_max+1],\n",
    "                RSDPower.covariance_PP24[kcut_min:kcut_max+1,kcut_min:kcut_max+1],\n",
    "                RSDPower.covariance_PP44[kcut_min:kcut_max+1,kcut_min:kcut_max+1]]\n",
    "\n",
    "    matricesPXi = [RSDPower.covariance_PXi00[kcut_min:kcut_max+1,rcut_max:rcut_min+1],\\\n",
    "                 RSDPower.covariance_PXi02[kcut_min:kcut_max+1,rcut_max:rcut_min+1],\\\n",
    "                 RSDPower.covariance_PXi04[kcut_min:kcut_max+1,rcut_max:rcut_min+1],\\\n",
    "                 RSDPower.covariance_PXi20[kcut_min:kcut_max+1,rcut_max:rcut_min+1],\\\n",
    "                 RSDPower.covariance_PXi22[kcut_min:kcut_max+1,rcut_max:rcut_min+1],\\\n",
    "                 RSDPower.covariance_PXi24[kcut_min:kcut_max+1,rcut_max:rcut_min+1],\\\n",
    "                 RSDPower.covariance_PXi40[kcut_min:kcut_max+1,rcut_max:rcut_min+1],\\\n",
    "                 RSDPower.covariance_PXi42[kcut_min:kcut_max+1,rcut_max:rcut_min+1],\\\n",
    "                 RSDPower.covariance_PXi44[kcut_min:kcut_max+1,rcut_max:rcut_min+1]]\n",
    "\n",
    "\n",
    "    l1 = RSDPower.kcenter_y.size\n",
    "    l2 = rcut_min+1 - rcut_max\n",
    "    l3 = kcut_max+1 - kcut_min\n",
    "\n",
    "    # combining covariances\n",
    "    C_matrix3PP_all = CombineCovariance3(l1, matricesPP_all)\n",
    "    C_matrix3PP = CombineCovariance3(l3, matricesPP)\n",
    "    C_matrix3Xi = CombineCovariance3(l2, matricesXi)\n",
    "\n",
    "    #C_matrix3PXi = np.zeros((C_matrix3PXi.shape))\n",
    "    C_matrix3PXi, C_matrix3XiP = CombineCrossCovariance3(l3, l2, matricesPXi, transpose = True)\n",
    "    C_matrix3_tot = np.concatenate((np.concatenate((C_matrix3PP, C_matrix3PXi), axis=1),\\\n",
    "                                    np.concatenate((C_matrix3PXi.T, C_matrix3Xi), axis=1)), axis = 0)\n",
    "\n",
    "\n",
    "\n",
    "    # inverting matrices\n",
    "    from test_SNR import blockwiseInversion\n",
    "    FisherP_all = inv(C_matrix3PP_all)\n",
    "    FisherP = inv(C_matrix3PP)\n",
    "    FisherXi = blockwiseInversion( C_matrix3Xi, rcut_min+1-rcut_max )\n",
    "    Fisher3_tot = blockwiseInversion( C_matrix3_tot, 3 * (kcut_max+1-kcut_min) )\n",
    "\n",
    "    # derivatives\n",
    "    derivative_P0 = np.identity(RSDPower.kcenter_y.size)[:,kcut_min:kcut_max+1]\n",
    "    Pzeros = np.zeros((derivative_P0.shape))\n",
    "\n",
    "    derivative_P = np.concatenate((np.concatenate((derivative_P0, Pzeros, Pzeros),axis=1 ),\\\n",
    "                                   np.concatenate((Pzeros, derivative_P0, Pzeros),axis=1 ),\\\n",
    "                                   np.concatenate((Pzeros, Pzeros, derivative_P0),axis=1 )), axis=0)\n",
    "    Xizeros = np.zeros((RSDPower.dxip0[:,rcut_max:rcut_min+1].shape))\n",
    "    derivative_correl_avg = np.concatenate(( np.concatenate((RSDPower.dxip0[:,rcut_max:rcut_min+1],Xizeros,Xizeros), axis=1),\\\n",
    "                                            np.concatenate((Xizeros,RSDPower.dxip2[:,rcut_max:rcut_min+1],Xizeros), axis=1),\\\n",
    "                                            np.concatenate((Xizeros,Xizeros,RSDPower.dxip4[:,rcut_max:rcut_min+1]), axis=1)),axis=0 )\n",
    "    Derivatives = np.concatenate((derivative_P,derivative_correl_avg), axis=1)\n",
    "\n",
    "    \n",
    "    \n",
    "    # Bandpower Fisher matrices from different estimators\n",
    "    FisherBand_P = FisherP.copy()\n",
    "    FisherBand_P_all = FisherP_all.copy()\n",
    "    FisherBand_Xi = FisherProjection_Fishergiven(derivative_correl_avg, FisherXi)\n",
    "    FisherBand_tot = FisherProjection_Fishergiven(Derivatives, Fisher3_tot)\n",
    "    \n",
    "    \n",
    "    from test_SNR import reorderingVector, reordering\n",
    "\n",
    "    m_P0 = RSDPower.multipole_bandpower0[kcut_min:kcut_max+1]\n",
    "    m_P2 = RSDPower.multipole_bandpower2[kcut_min:kcut_max+1]\n",
    "    m_P4 = RSDPower.multipole_bandpower4[kcut_min:kcut_max+1]\n",
    "    m_P = reorderingVector( [m_P0, m_P2, m_P4] )\n",
    "\n",
    "    re_FisherBand_P_all, _ = reordering( RSDPower, FisherBand_P_all)\n",
    "    re_FisherBand_P, _ = reordering( RSDPower, FisherBand_P)\n",
    "    re_FisherBand_Xi, m_P_all = reordering( RSDPower, FisherBand_Xi)\n",
    "    re_FisherBand_tot, _ = reordering( RSDPower, FisherBand_tot)\n",
    "\n",
    "    \n",
    "    if reverse == True:\n",
    "        re_FisherBand_P = np.fliplr(np.rot90(re_FisherBand_P))\n",
    "        re_FisherBand_P_all = np.fliplr(np.rot90(re_FisherBand_P_all))\n",
    "        re_FisherBand_Xi = np.fliplr(np.rot90(re_FisherBand_Xi))\n",
    "        re_FisherBand_tot = np.fliplr(np.rot90(re_FisherBand_tot))\n",
    "        m_P = m_P[::-1]\n",
    "        m_P_all = m_P_all[::-1]\n",
    "    \n",
    "    \n",
    "    #P\n",
    "    from test_SNR import blockwise\n",
    "\n",
    "    FP = re_FisherBand_P_all.copy()\n",
    "    PP = m_P_all.copy()\n",
    "\n",
    "    SNRlist_P = []\n",
    "    SNRP = np.dot( np.dot(PP, FP), PP.T )\n",
    "    SNRlist_P.append(SNRP)\n",
    "    for j in range(1, PP.size/3):\n",
    "        PP = PP[:-3]\n",
    "        for i in range(0,3):\n",
    "            FP = blockwise( FP )\n",
    "        SNRP = np.dot( np.dot(PP, FP), PP.T )\n",
    "        SNRlist_P.append(SNRP)\n",
    "\n",
    "    SNRlist_P = np.array(SNRlist_P[::-1]).ravel()\n",
    "    kklist = RSDPower.kcenter_y#[kcut_min:kcut_max+1]\n",
    "\n",
    "    # Xi\n",
    "\n",
    "    F = re_FisherBand_Xi.copy()\n",
    "    P = m_P_all.copy()\n",
    "\n",
    "    SNRlist = []\n",
    "    SNR = np.dot( np.dot(P, F), P.T )\n",
    "    SNRlist.append(SNR)\n",
    "    for j in range(1, P.size/3):\n",
    "        P = P[:-3]\n",
    "        for i in range(0,3):\n",
    "            F = blockwise( F )\n",
    "        SNR = np.dot( np.dot(P, F), P.T )\n",
    "        SNRlist.append(SNR)\n",
    "\n",
    "    SNRlist = np.array(SNRlist[::-1]).ravel()\n",
    "    kklist2 = RSDPower.kcenter_y\n",
    "\n",
    "    # tot\n",
    "\n",
    "    Ft = re_FisherBand_tot.copy()\n",
    "    Pt = m_P_all.copy()\n",
    "\n",
    "    SNRlist_t = []\n",
    "    SNRt = np.dot( np.dot(Pt, Ft), Pt.T )\n",
    "    SNRlist_t.append(SNRt)\n",
    "    for j in range(1, Pt.size/3):\n",
    "        Pt = Pt[:-3]\n",
    "        for i in range(0,3):\n",
    "            Ft = blockwise( Ft )\n",
    "        SNRt = np.dot( np.dot(Pt, Ft), Pt.T )\n",
    "        SNRlist_t.append(SNRt)\n",
    "\n",
    "    SNRlist_t = np.array(SNRlist_t[::-1]).ravel()\n",
    "    #kklist2 = RSDPower.kcenter_y\n",
    "    \n",
    "    if reverse == True:\n",
    "        kklist = kklist[::-1]\n",
    "        kklist2 = kklist2[::-1]\n",
    "        \n",
    "    return RSDPower, kklist, SNRlist_P, kklist2, SNRlist, kklist2, SNRlist_t "
   ]
  },
  {
   "cell_type": "code",
   "execution_count": 575,
   "metadata": {
    "collapsed": true
   },
   "outputs": [],
   "source": [
    "def BandPowerFisher(RSDPower, RMIN = 0.1, RMAX = 180, kmin = 0.001, kmax = 2, reorder=False):\n",
    "\n",
    "    #RMAX = RSDPower.RMAX\n",
    "    #RMIN = RSDPower.RMIN\n",
    "    \n",
    "    rcut_max = get_closest_index_in_data( RMAX, RSDPower.rmax )\n",
    "    rcut_min = get_closest_index_in_data( RMIN, RSDPower.rmin )\n",
    "    \n",
    "    kcut_min = get_closest_index_in_data( kmin, RSDPower.kmin_y )   \n",
    "    kcut_max = get_closest_index_in_data( kmax, RSDPower.kmax_y )\n",
    "    \n",
    "    print 'rcut_min, rcut_max ', RSDPower.rmax[rcut_min], RSDPower.rmin[rcut_max]\n",
    "    \n",
    "    file = 'matterpower_z_0.55.dat'  # from camb (z=0.55)\n",
    "    RSDPower.MatterPower(file = file)\n",
    "    # power spectrum multipoles l = 0,2,4\n",
    "    RSDPower.multipole_P_band_all()\n",
    "\n",
    "    # derivative dXi/dp\n",
    "    RSDPower.derivative_Xi_band_all()\n",
    "\n",
    "    # P covariance matrix ( nine submatrices C_ll' )\n",
    "    RSDPower.RSDband_covariance_PP_all()\n",
    "\n",
    "    # Xi covariance matrix ( nine submatrices C_ll' )\n",
    "    RSDPower.covariance_Xi_all()\n",
    "    RSDPower.covariance_PXi_All()\n",
    "\n",
    "\n",
    "    matricesXi = [RSDPower.covariance00[rcut_max:rcut_min+1,rcut_max:rcut_min+1],\\\n",
    "              RSDPower.covariance02[rcut_max:rcut_min+1,rcut_max:rcut_min+1],\\\n",
    "              RSDPower.covariance04[rcut_max:rcut_min+1,rcut_max:rcut_min+1],\\\n",
    "              np.transpose(RSDPower.covariance02[rcut_max:rcut_min+1,rcut_max:rcut_min+1]),\\\n",
    "              RSDPower.covariance22[rcut_max:rcut_min+1,rcut_max:rcut_min+1],\\\n",
    "              RSDPower.covariance24[rcut_max:rcut_min+1,rcut_max:rcut_min+1],\\\n",
    "              np.transpose(RSDPower.covariance04[rcut_max:rcut_min+1,rcut_max:rcut_min+1]),\\\n",
    "              np.transpose(RSDPower.covariance24[rcut_max:rcut_min+1,rcut_max:rcut_min+1]),\\\n",
    "              RSDPower.covariance44[rcut_max:rcut_min+1,rcut_max:rcut_min+1]]\n",
    "\n",
    "    matricesPP_all = [RSDPower.covariance_PP00,RSDPower.covariance_PP02,\\\n",
    "                    RSDPower.covariance_PP04,RSDPower.covariance_PP02,\\\n",
    "                    RSDPower.covariance_PP22,RSDPower.covariance_PP24,\\\n",
    "                    RSDPower.covariance_PP04,RSDPower.covariance_PP24,\\\n",
    "                    RSDPower.covariance_PP44]\n",
    "\n",
    "    matricesPP = [RSDPower.covariance_PP00[kcut_min:kcut_max+1,kcut_min:kcut_max+1],\n",
    "                RSDPower.covariance_PP02[kcut_min:kcut_max+1,kcut_min:kcut_max+1],\n",
    "                RSDPower.covariance_PP04[kcut_min:kcut_max+1,kcut_min:kcut_max+1],\n",
    "                RSDPower.covariance_PP02[kcut_min:kcut_max+1,kcut_min:kcut_max+1],\n",
    "                RSDPower.covariance_PP22[kcut_min:kcut_max+1,kcut_min:kcut_max+1],\n",
    "                RSDPower.covariance_PP24[kcut_min:kcut_max+1,kcut_min:kcut_max+1],\n",
    "                RSDPower.covariance_PP04[kcut_min:kcut_max+1,kcut_min:kcut_max+1],\n",
    "                RSDPower.covariance_PP24[kcut_min:kcut_max+1,kcut_min:kcut_max+1],\n",
    "                RSDPower.covariance_PP44[kcut_min:kcut_max+1,kcut_min:kcut_max+1]]\n",
    "\n",
    "    matricesPXi = [RSDPower.covariance_PXi00[kcut_min:kcut_max+1,rcut_max:rcut_min+1],\\\n",
    "                 RSDPower.covariance_PXi02[kcut_min:kcut_max+1,rcut_max:rcut_min+1],\\\n",
    "                 RSDPower.covariance_PXi04[kcut_min:kcut_max+1,rcut_max:rcut_min+1],\\\n",
    "                 RSDPower.covariance_PXi20[kcut_min:kcut_max+1,rcut_max:rcut_min+1],\\\n",
    "                 RSDPower.covariance_PXi22[kcut_min:kcut_max+1,rcut_max:rcut_min+1],\\\n",
    "                 RSDPower.covariance_PXi24[kcut_min:kcut_max+1,rcut_max:rcut_min+1],\\\n",
    "                 RSDPower.covariance_PXi40[kcut_min:kcut_max+1,rcut_max:rcut_min+1],\\\n",
    "                 RSDPower.covariance_PXi42[kcut_min:kcut_max+1,rcut_max:rcut_min+1],\\\n",
    "                 RSDPower.covariance_PXi44[kcut_min:kcut_max+1,rcut_max:rcut_min+1]]\n",
    "\n",
    "\n",
    "    l1 = RSDPower.kcenter_y.size\n",
    "    l2 = rcut_min+1 - rcut_max\n",
    "    l3 = kcut_max+1 - kcut_min\n",
    "    \n",
    "    \n",
    "    # combining covariances\n",
    "    C_matrix3PP_all = CombineCovariance3(l1, matricesPP_all)\n",
    "    C_matrix3PP = CombineCovariance3(l3, matricesPP)\n",
    "    C_matrix3Xi = CombineCovariance3(l2, matricesXi)\n",
    "\n",
    "    #C_matrix3PXi = np.zeros((C_matrix3PXi.shape))\n",
    "    C_matrix3PXi, C_matrix3XiP = CombineCrossCovariance3(l3, l2, matricesPXi, transpose = True)\n",
    "    C_matrix3_tot = np.concatenate((np.concatenate((C_matrix3PP, C_matrix3PXi), axis=1),\\\n",
    "                                    np.concatenate((C_matrix3PXi.T, C_matrix3Xi), axis=1)), axis = 0)\n",
    "\n",
    "\n",
    "    \n",
    "    # inverting matrices\n",
    "    from test_SNR import blockwiseInversion\n",
    "    FisherP_all = inv(C_matrix3PP_all)\n",
    "    FisherP = inv(C_matrix3PP)\n",
    "    FisherXi = blockwiseInversion( C_matrix3Xi, rcut_min+1-rcut_max )\n",
    "    Fisher3_tot = blockwiseInversion( C_matrix3_tot, 3 * (kcut_max+1-kcut_min) )\n",
    "    \n",
    "    \n",
    "    # derivatives\n",
    "    derivative_P0 = np.identity(RSDPower.kcenter_y.size)[:,kcut_min:kcut_max+1]\n",
    "    Pzeros = np.zeros((derivative_P0.shape))\n",
    "\n",
    "    derivative_P = np.concatenate((np.concatenate((derivative_P0, Pzeros, Pzeros),axis=1 ),\\\n",
    "                                   np.concatenate((Pzeros, derivative_P0, Pzeros),axis=1 ),\\\n",
    "                                   np.concatenate((Pzeros, Pzeros, derivative_P0),axis=1 )), axis=0)\n",
    "    Xizeros = np.zeros((RSDPower.dxip0[:,rcut_max:rcut_min+1].shape))\n",
    "    derivative_correl_avg = np.concatenate(( np.concatenate((RSDPower.dxip0[:,rcut_max:rcut_min+1],Xizeros,Xizeros), axis=1),\\\n",
    "                                            np.concatenate((Xizeros,RSDPower.dxip2[:,rcut_max:rcut_min+1],Xizeros), axis=1),\\\n",
    "                                            np.concatenate((Xizeros,Xizeros,RSDPower.dxip4[:,rcut_max:rcut_min+1]), axis=1)),axis=0 )\n",
    "    Derivatives = np.concatenate((derivative_P,derivative_correl_avg), axis=1)\n",
    "\n",
    "    \n",
    "    # Fisher.....\n",
    "    FisherBand_P = FisherP.copy()\n",
    "    FisherBand_P_all = FisherP_all.copy()\n",
    "    FisherBand_Xi = FisherProjection_Fishergiven(derivative_correl_avg, FisherXi)\n",
    "    FisherBand_tot = FisherProjection_Fishergiven(Derivatives, Fisher3_tot)\n",
    "    \n",
    "    \n",
    "    # vector and reorder\n",
    "    from test_SNR import reorderingVector, reordering, blockwise\n",
    "    m_P0 = RSDPower.multipole_bandpower0[kcut_min:kcut_max+1]\n",
    "    m_P2 = RSDPower.multipole_bandpower2[kcut_min:kcut_max+1]\n",
    "    m_P4 = RSDPower.multipole_bandpower4[kcut_min:kcut_max+1]\n",
    "    m_P = reorderingVector( [m_P0, m_P2, m_P4] )\n",
    "    # Fisher reorering\n",
    "    re_FisherBand_P_all, _ = reordering( RSDPower, FisherBand_P_all)\n",
    "    re_FisherBand_P, _ = reordering( RSDPower, FisherBand_P)\n",
    "    re_FisherBand_Xi, m_P_all = reordering( RSDPower, FisherBand_Xi)\n",
    "    re_FisherBand_tot, _ = reordering( RSDPower, FisherBand_tot)\n",
    "\n",
    "    #if reorder is False : return [m_P0, m_P2, m_P4], [FisherBand_P, FisherBand_Xi]\n",
    "    #elif reorder is True : return m_P, m_P_all, re_FisherBand_P_all,re_FisherBand_P, re_FisherBand_Xi, re_FisherBand_tot\n",
    "    \n",
    "    return [m_P0, m_P2, m_P4], [FisherBand_P, FisherBand_Xi], m_P, m_P_all, re_FisherBand_P_all,re_FisherBand_P, re_FisherBand_Xi, re_FisherBand_tot"
   ]
  },
  {
   "cell_type": "code",
   "execution_count": 11,
   "metadata": {
    "collapsed": true
   },
   "outputs": [],
   "source": [
    "def BandPowerFisher(RSDPower, RMIN = 0.1, RMAX = 180, kmin = 0.001, kmax = 2, reorder=False):\n",
    "\n",
    "    #RMAX = RSDPower.RMAX\n",
    "    #RMIN = RSDPower.RMIN\n",
    "    \n",
    "    rcut_max = get_closest_index_in_data( RMAX, RSDPower.rmax )\n",
    "    rcut_min = get_closest_index_in_data( RMIN, RSDPower.rmin )\n",
    "    \n",
    "    kcut_min = get_closest_index_in_data( kmin, RSDPower.kmin_y )   \n",
    "    kcut_max = get_closest_index_in_data( kmax, RSDPower.kmax_y )\n",
    "    \n",
    "    print 'rcut_min, rcut_max ', RSDPower.rmax[rcut_min], RSDPower.rmin[rcut_max]\n",
    "    \n",
    "    file = 'matterpower_z_0.55.dat'  # from camb (z=0.55)\n",
    "    RSDPower.MatterPower(file = file)\n",
    "    # power spectrum multipoles l = 0,2,4\n",
    "    RSDPower.multipole_P_band_all()\n",
    "\n",
    "    # derivative dXi/dp\n",
    "    RSDPower.derivative_Xi_band_all()\n",
    "\n",
    "    # P covariance matrix ( nine submatrices C_ll' )\n",
    "    RSDPower.RSDband_covariance_PP_all()\n",
    "\n",
    "    # Xi covariance matrix ( nine submatrices C_ll' )\n",
    "    RSDPower.covariance_Xi_all()\n",
    "    RSDPower.covariance_PXi_All()\n",
    "\n",
    "\n",
    "    matricesXi = [RSDPower.covariance00[rcut_max:rcut_min+1,rcut_max:rcut_min+1],\\\n",
    "              RSDPower.covariance02[rcut_max:rcut_min+1,rcut_max:rcut_min+1],\\\n",
    "              RSDPower.covariance04[rcut_max:rcut_min+1,rcut_max:rcut_min+1],\\\n",
    "              np.transpose(RSDPower.covariance02[rcut_max:rcut_min+1,rcut_max:rcut_min+1]),\\\n",
    "              RSDPower.covariance22[rcut_max:rcut_min+1,rcut_max:rcut_min+1],\\\n",
    "              RSDPower.covariance24[rcut_max:rcut_min+1,rcut_max:rcut_min+1],\\\n",
    "              np.transpose(RSDPower.covariance04[rcut_max:rcut_min+1,rcut_max:rcut_min+1]),\\\n",
    "              np.transpose(RSDPower.covariance24[rcut_max:rcut_min+1,rcut_max:rcut_min+1]),\\\n",
    "              RSDPower.covariance44[rcut_max:rcut_min+1,rcut_max:rcut_min+1]]\n",
    "\n",
    "    matricesPP_all = [RSDPower.covariance_PP00,RSDPower.covariance_PP02,\\\n",
    "                    RSDPower.covariance_PP04,RSDPower.covariance_PP02,\\\n",
    "                    RSDPower.covariance_PP22,RSDPower.covariance_PP24,\\\n",
    "                    RSDPower.covariance_PP04,RSDPower.covariance_PP24,\\\n",
    "                    RSDPower.covariance_PP44]\n",
    "\n",
    "    matricesPP = [RSDPower.covariance_PP00[kcut_min:kcut_max+1,kcut_min:kcut_max+1],\n",
    "                RSDPower.covariance_PP02[kcut_min:kcut_max+1,kcut_min:kcut_max+1],\n",
    "                RSDPower.covariance_PP04[kcut_min:kcut_max+1,kcut_min:kcut_max+1],\n",
    "                RSDPower.covariance_PP02[kcut_min:kcut_max+1,kcut_min:kcut_max+1],\n",
    "                RSDPower.covariance_PP22[kcut_min:kcut_max+1,kcut_min:kcut_max+1],\n",
    "                RSDPower.covariance_PP24[kcut_min:kcut_max+1,kcut_min:kcut_max+1],\n",
    "                RSDPower.covariance_PP04[kcut_min:kcut_max+1,kcut_min:kcut_max+1],\n",
    "                RSDPower.covariance_PP24[kcut_min:kcut_max+1,kcut_min:kcut_max+1],\n",
    "                RSDPower.covariance_PP44[kcut_min:kcut_max+1,kcut_min:kcut_max+1]]\n",
    "\n",
    "    matricesPXi = [RSDPower.covariance_PXi00[kcut_min:kcut_max+1,rcut_max:rcut_min+1],\\\n",
    "                 RSDPower.covariance_PXi02[kcut_min:kcut_max+1,rcut_max:rcut_min+1],\\\n",
    "                 RSDPower.covariance_PXi04[kcut_min:kcut_max+1,rcut_max:rcut_min+1],\\\n",
    "                 RSDPower.covariance_PXi20[kcut_min:kcut_max+1,rcut_max:rcut_min+1],\\\n",
    "                 RSDPower.covariance_PXi22[kcut_min:kcut_max+1,rcut_max:rcut_min+1],\\\n",
    "                 RSDPower.covariance_PXi24[kcut_min:kcut_max+1,rcut_max:rcut_min+1],\\\n",
    "                 RSDPower.covariance_PXi40[kcut_min:kcut_max+1,rcut_max:rcut_min+1],\\\n",
    "                 RSDPower.covariance_PXi42[kcut_min:kcut_max+1,rcut_max:rcut_min+1],\\\n",
    "                 RSDPower.covariance_PXi44[kcut_min:kcut_max+1,rcut_max:rcut_min+1]]\n",
    "\n",
    "\n",
    "    l1 = RSDPower.kcenter_y.size\n",
    "    l2 = rcut_min+1 - rcut_max\n",
    "    l3 = kcut_max+1 - kcut_min\n",
    "    \n",
    "    \n",
    "    # combining covariances\n",
    "    C_matrix3PP_all = CombineCovariance3(l1, matricesPP_all)\n",
    "    C_matrix3PP = CombineCovariance3(l3, matricesPP)\n",
    "    C_matrix3Xi = CombineCovariance3(l2, matricesXi)\n",
    "\n",
    "    #C_matrix3PXi = np.zeros((C_matrix3PXi.shape))\n",
    "    C_matrix3PXi, C_matrix3XiP = CombineCrossCovariance3(l3, l2, matricesPXi, transpose = True)\n",
    "    C_matrix3_tot = np.concatenate((np.concatenate((C_matrix3PP, C_matrix3PXi), axis=1),\\\n",
    "                                    np.concatenate((C_matrix3PXi.T, C_matrix3Xi), axis=1)), axis = 0)\n",
    "\n",
    "\n",
    "    \n",
    "    # inverting matrices\n",
    "    from test_SNR import blockwiseInversion\n",
    "    FisherP_all = inv(C_matrix3PP_all)\n",
    "    FisherP = inv(C_matrix3PP)\n",
    "    FisherXi = blockwiseInversion( C_matrix3Xi, rcut_min+1-rcut_max )\n",
    "    Fisher3_tot = blockwiseInversion( C_matrix3_tot, 3 * (kcut_max+1-kcut_min) )\n",
    "    \n",
    "    \n",
    "    # derivatives\n",
    "    derivative_P0 = np.identity(RSDPower.kcenter_y.size)[:,kcut_min:kcut_max+1]\n",
    "    Pzeros = np.zeros((derivative_P0.shape))\n",
    "\n",
    "    derivative_P = np.concatenate((np.concatenate((derivative_P0, Pzeros, Pzeros),axis=1 ),\\\n",
    "                                   np.concatenate((Pzeros, derivative_P0, Pzeros),axis=1 ),\\\n",
    "                                   np.concatenate((Pzeros, Pzeros, derivative_P0),axis=1 )), axis=0)\n",
    "    Xizeros = np.zeros((RSDPower.dxip0[:,rcut_max:rcut_min+1].shape))\n",
    "    derivative_correl_avg = np.concatenate(( np.concatenate((RSDPower.dxip0[:,rcut_max:rcut_min+1],Xizeros,Xizeros), axis=1),\\\n",
    "                                            np.concatenate((Xizeros,RSDPower.dxip2[:,rcut_max:rcut_min+1],Xizeros), axis=1),\\\n",
    "                                            np.concatenate((Xizeros,Xizeros,RSDPower.dxip4[:,rcut_max:rcut_min+1]), axis=1)),axis=0 )\n",
    "    Derivatives = np.concatenate((derivative_P,derivative_correl_avg), axis=1)\n",
    "\n",
    "    \n",
    "    # Fisher.....\n",
    "    FisherBand_P = FisherP.copy()\n",
    "    FisherBand_P_all = FisherP_all.copy()\n",
    "    FisherBand_Xi = FisherProjection_Fishergiven(derivative_correl_avg, FisherXi)\n",
    "    FisherBand_tot = FisherProjection_Fishergiven(Derivatives, Fisher3_tot)\n",
    "    \n",
    "    \n",
    "    # vector and reorder\n",
    "    from test_SNR import reorderingVector, reordering, blockwise\n",
    "    m_P0 = RSDPower.multipole_bandpower0[kcut_min:kcut_max+1]\n",
    "    m_P2 = RSDPower.multipole_bandpower2[kcut_min:kcut_max+1]\n",
    "    m_P4 = RSDPower.multipole_bandpower4[kcut_min:kcut_max+1]\n",
    "    m_P = reorderingVector( [m_P0, m_P2, m_P4] )\n",
    "    # Fisher reorering\n",
    "    re_FisherBand_P_all, _ = reordering( RSDPower, FisherBand_P_all)\n",
    "    re_FisherBand_P, _ = reordering( RSDPower, FisherBand_P)\n",
    "    re_FisherBand_Xi, m_P_all = reordering( RSDPower, FisherBand_Xi)\n",
    "    re_FisherBand_tot, _ = reordering( RSDPower, FisherBand_tot)\n",
    "\n",
    "    #if reorder is False : return [m_P0, m_P2, m_P4], [FisherBand_P, FisherBand_Xi]\n",
    "    #elif reorder is True : return m_P, m_P_all, re_FisherBand_P_all,re_FisherBand_P, re_FisherBand_Xi, re_FisherBand_tot\n",
    "    \n",
    "    return [m_P0, m_P2, m_P4], [FisherBand_P, FisherBand_Xi], m_P, m_P_all, re_FisherBand_P_all,re_FisherBand_P, re_FisherBand_Xi, re_FisherBand_tot"
   ]
  },
  {
   "cell_type": "code",
   "execution_count": 10,
   "metadata": {
    "collapsed": true
   },
   "outputs": [],
   "source": [
    "def CumulativeSNR(RSDPower, re_FisherBand_P_all, m_P_all, kmin, kmax):\n",
    "    \n",
    "    from test_SNR import blockwise\n",
    "    \n",
    "    kcut_min = get_closest_index_in_data( kmin, RSDPower.kmin_y )\n",
    "    kcut_max = get_closest_index_in_data( kmax, RSDPower.kmax_y )\n",
    "\n",
    "    FP = re_FisherBand_P_all.copy()[3*kcut_min:3*kcut_max+3, 3*kcut_min:3*kcut_max+3]\n",
    "    PP = m_P_all.copy()[3*kcut_min:3*kcut_max+3]\n",
    "    \n",
    "    SNRlist_P = []\n",
    "    SNRP = np.dot( np.dot(PP, FP), PP.T )\n",
    "    SNRlist_P.append(SNRP)\n",
    "    for j in range(1, PP.size/3):\n",
    "        PP = PP[:-3]\n",
    "        for i in range(0,3):\n",
    "            FP = blockwise( FP )\n",
    "        SNRP = np.dot( np.dot(PP, FP), PP.T )\n",
    "        SNRlist_P.append(SNRP)\n",
    "\n",
    "    SNRlist_P = np.array(SNRlist_P[::-1]).ravel()\n",
    "    kklist = RSDPower.kcenter_y[kcut_min:kcut_max+1]\n",
    "    \n",
    "    return kklist, SNRlist_P"
   ]
  },
  {
   "cell_type": "markdown",
   "metadata": {},
   "source": [
    "#### Band-power Fisher matrixes from different estimators"
   ]
  },
  {
   "cell_type": "code",
   "execution_count": 488,
   "metadata": {
    "collapsed": true
   },
   "outputs": [],
   "source": [
    "#FisherBand_P = FisherP.copy()\n",
    "#FisherBand_P_all = FisherP_all.copy()\n",
    "#FisherBand_Xi = FisherProjection_Fishergiven(derivative_correl_avg, FisherXi)\n",
    "#FisherBand_tot = FisherProjection_Fishergiven(Derivatives, Fisher3_tot)"
   ]
  },
  {
   "cell_type": "markdown",
   "metadata": {},
   "source": [
    "## Initial settings "
   ]
  },
  {
   "cell_type": "code",
   "execution_count": 6,
   "metadata": {
    "collapsed": false
   },
   "outputs": [],
   "source": [
    "#  (parameter description in class code)\n",
    "# Fourier K 0.001~10\n",
    "KMIN = 1e-10\n",
    "KMAX = 2 # 361.32 #502.32\n",
    "RMIN = 1e-10\n",
    "RMAX = 200\n",
    "\n",
    "kmin = 0.01\n",
    "kmax = 0.2\n",
    "\n",
    "# the number of k sample point should be 2^n+1 (b/c romb integration)\n",
    "rN = 500 # (RMAX-int(RMIN)) * 2\n",
    "kN = 1\n",
    "kN_x = 2**13 + 1\n",
    "kN_y = 500\n",
    "#subN = 2**5 + 1\n",
    "# RSD class"
   ]
  },
  {
   "cell_type": "code",
   "execution_count": 13,
   "metadata": {
    "collapsed": false,
    "scrolled": true
   },
   "outputs": [
    {
     "name": "stdout",
     "output_type": "stream",
     "text": [
      "-------------------------------------------------------------------        \n",
      "class error_analysis, no RSD         \n",
      "z = 0.0, kN =1, N_y = 500, rN = 500\n",
      "dr = 0.400801603206, dk=nan, dk_y=0.00400801603186\n"
     ]
    }
   ],
   "source": [
    "RSDPower = NoShell_covariance(KMIN, KMAX, RMIN, RMAX, kN, rN, kN_x, kN_y, logscale = False)"
   ]
  },
  {
   "cell_type": "code",
   "execution_count": 14,
   "metadata": {
    "collapsed": false
   },
   "outputs": [
    {
     "name": "stdout",
     "output_type": "stream",
     "text": [
      "rcut_min, rcut_max  0.400801603306 199.599198397\n"
     ]
    },
    {
     "name": "stderr",
     "output_type": "stream",
     "text": [
      "/n/home00/lee.5922/.local/lib/python2.7/site-packages/scipy/integrate/quadrature.py:392: VisibleDeprecationWarning: using a non-integer number instead of an integer will result in an error in the future\n",
      "  x = x.reshape(tuple(shapex))\n",
      "/n/home00/lee.5922/.local/lib/python2.7/site-packages/scipy/integrate/quadrature.py:392: VisibleDeprecationWarning: using a non-integer number instead of an integer will result in an error in the future\n",
      "  x = x.reshape(tuple(shapex))\n",
      "/n/home00/lee.5922/.local/lib/python2.7/site-packages/scipy/integrate/quadrature.py:392: VisibleDeprecationWarning: using a non-integer number instead of an integer will result in an error in the future\n",
      "  x = x.reshape(tuple(shapex))\n"
     ]
    },
    {
     "name": "stdout",
     "output_type": "stream",
     "text": [
      "multiprocessing 100 %"
     ]
    },
    {
     "ename": "IndexError",
     "evalue": "index 0 is out of bounds for axis 0 with size 0",
     "output_type": "error",
     "traceback": [
      "\u001b[0;31m---------------------------------------------------------------------------\u001b[0m",
      "\u001b[0;31mIndexError\u001b[0m                                Traceback (most recent call last)",
      "\u001b[0;32m<ipython-input-14-863faceb2882>\u001b[0m in \u001b[0;36m<module>\u001b[0;34m()\u001b[0m\n\u001b[0;32m----> 1\u001b[0;31m \u001b[0;34m[\u001b[0m\u001b[0mm_P0\u001b[0m\u001b[0;34m,\u001b[0m \u001b[0mm_P2\u001b[0m\u001b[0;34m,\u001b[0m \u001b[0mm_P4\u001b[0m\u001b[0;34m]\u001b[0m\u001b[0;34m,\u001b[0m \u001b[0;34m[\u001b[0m\u001b[0mFisherBand_P\u001b[0m\u001b[0;34m,\u001b[0m \u001b[0mFisherBand_Xi\u001b[0m\u001b[0;34m]\u001b[0m\u001b[0;34m,\u001b[0m \u001b[0mm_P\u001b[0m\u001b[0;34m,\u001b[0m \u001b[0mm_P_all\u001b[0m\u001b[0;34m,\u001b[0m \u001b[0mre_FisherBand_P_all\u001b[0m\u001b[0;34m,\u001b[0m\u001b[0mre_FisherBand_P\u001b[0m\u001b[0;34m,\u001b[0m \u001b[0mre_FisherBand_Xi\u001b[0m\u001b[0;34m,\u001b[0m \u001b[0mre_FisherBand_tot\u001b[0m \u001b[0;34m=\u001b[0m \u001b[0mBandPowerFisher\u001b[0m\u001b[0;34m(\u001b[0m\u001b[0mRSDPower\u001b[0m\u001b[0;34m,\u001b[0m \u001b[0mRMIN\u001b[0m \u001b[0;34m=\u001b[0m \u001b[0mRMIN\u001b[0m\u001b[0;34m,\u001b[0m \u001b[0mRMAX\u001b[0m \u001b[0;34m=\u001b[0m \u001b[0mRMAX\u001b[0m\u001b[0;34m,\u001b[0m \u001b[0mkmin\u001b[0m \u001b[0;34m=\u001b[0m \u001b[0mkmin\u001b[0m\u001b[0;34m,\u001b[0m \u001b[0mkmax\u001b[0m \u001b[0;34m=\u001b[0m \u001b[0mkmax\u001b[0m\u001b[0;34m)\u001b[0m\u001b[0;34m\u001b[0m\u001b[0m\n\u001b[0m",
      "\u001b[0;32m<ipython-input-11-3fba7b12683c>\u001b[0m in \u001b[0;36mBandPowerFisher\u001b[0;34m(RSDPower, RMIN, RMAX, kmin, kmax, reorder)\u001b[0m\n\u001b[1;32m     24\u001b[0m \u001b[0;34m\u001b[0m\u001b[0m\n\u001b[1;32m     25\u001b[0m     \u001b[0;31m# Xi covariance matrix ( nine submatrices C_ll' )\u001b[0m\u001b[0;34m\u001b[0m\u001b[0;34m\u001b[0m\u001b[0m\n\u001b[0;32m---> 26\u001b[0;31m     \u001b[0mRSDPower\u001b[0m\u001b[0;34m.\u001b[0m\u001b[0mcovariance_Xi_all\u001b[0m\u001b[0;34m(\u001b[0m\u001b[0;34m)\u001b[0m\u001b[0;34m\u001b[0m\u001b[0m\n\u001b[0m\u001b[1;32m     27\u001b[0m     \u001b[0mRSDPower\u001b[0m\u001b[0;34m.\u001b[0m\u001b[0mcovariance_PXi_All\u001b[0m\u001b[0;34m(\u001b[0m\u001b[0;34m)\u001b[0m\u001b[0;34m\u001b[0m\u001b[0m\n\u001b[1;32m     28\u001b[0m \u001b[0;34m\u001b[0m\u001b[0m\n",
      "\u001b[0;32m/n/des/lee.5922/Dropbox/repositories/bandpower/SNR/noshellavg.pyc\u001b[0m in \u001b[0;36mcovariance_Xi_all\u001b[0;34m(self)\u001b[0m\n\u001b[1;32m   1051\u001b[0m         \u001b[0mmulistmatrix\u001b[0m \u001b[0;34m=\u001b[0m \u001b[0mmulist\u001b[0m\u001b[0;34m[\u001b[0m\u001b[0mmatrix1\u001b[0m\u001b[0;34m]\u001b[0m \u001b[0;31m# mu matrix (axis 0)\u001b[0m\u001b[0;34m\u001b[0m\u001b[0m\n\u001b[1;32m   1052\u001b[0m         \u001b[0mklistmatrix\u001b[0m \u001b[0;34m=\u001b[0m \u001b[0mkcenter\u001b[0m\u001b[0;34m[\u001b[0m\u001b[0mmatrix2\u001b[0m\u001b[0;34m]\u001b[0m \u001b[0;31m# k matrix (axis 1)\u001b[0m\u001b[0;34m\u001b[0m\u001b[0m\n\u001b[0;32m-> 1053\u001b[0;31m         \u001b[0mLe_matrix0\u001b[0m \u001b[0;34m=\u001b[0m \u001b[0mLl\u001b[0m\u001b[0;34m(\u001b[0m\u001b[0;36m0\u001b[0m\u001b[0;34m,\u001b[0m\u001b[0mmulistmatrix\u001b[0m\u001b[0;34m)\u001b[0m\u001b[0;34m\u001b[0m\u001b[0m\n\u001b[0m\u001b[1;32m   1054\u001b[0m         \u001b[0mLe_matrix2\u001b[0m \u001b[0;34m=\u001b[0m \u001b[0mLl\u001b[0m\u001b[0;34m(\u001b[0m\u001b[0;36m2\u001b[0m\u001b[0;34m,\u001b[0m\u001b[0mmulistmatrix\u001b[0m\u001b[0;34m)\u001b[0m\u001b[0;34m\u001b[0m\u001b[0m\n\u001b[1;32m   1055\u001b[0m         \u001b[0mLe_matrix4\u001b[0m \u001b[0;34m=\u001b[0m \u001b[0mLl\u001b[0m\u001b[0;34m(\u001b[0m\u001b[0;36m4\u001b[0m\u001b[0;34m,\u001b[0m\u001b[0mmulistmatrix\u001b[0m\u001b[0;34m)\u001b[0m\u001b[0;34m\u001b[0m\u001b[0m\n",
      "\u001b[0;32m/n/des/lee.5922/Dropbox/repositories/bandpower/SNR/noshellavg.pyc\u001b[0m in \u001b[0;36mLl\u001b[0;34m(l, x)\u001b[0m\n\u001b[1;32m    343\u001b[0m     \u001b[0mLe_func\u001b[0m \u001b[0;34m=\u001b[0m \u001b[0;32mlambda\u001b[0m \u001b[0mlp\u001b[0m\u001b[0;34m,\u001b[0m\u001b[0mxp\u001b[0m \u001b[0;34m:\u001b[0m \u001b[0meval_legendre\u001b[0m\u001b[0;34m(\u001b[0m\u001b[0mlp\u001b[0m\u001b[0;34m,\u001b[0m\u001b[0mxp\u001b[0m\u001b[0;34m)\u001b[0m\u001b[0;34m\u001b[0m\u001b[0m\n\u001b[1;32m    344\u001b[0m     \u001b[0mLe_func\u001b[0m \u001b[0;34m=\u001b[0m \u001b[0mnp\u001b[0m\u001b[0;34m.\u001b[0m\u001b[0mvectorize\u001b[0m\u001b[0;34m(\u001b[0m\u001b[0mLe_func\u001b[0m\u001b[0;34m)\u001b[0m\u001b[0;34m\u001b[0m\u001b[0m\n\u001b[0;32m--> 345\u001b[0;31m     \u001b[0mresult\u001b[0m \u001b[0;34m=\u001b[0m \u001b[0mLe_func\u001b[0m\u001b[0;34m(\u001b[0m\u001b[0ml\u001b[0m\u001b[0;34m,\u001b[0m\u001b[0mx\u001b[0m\u001b[0;34m)\u001b[0m\u001b[0;34m\u001b[0m\u001b[0m\n\u001b[0m\u001b[1;32m    346\u001b[0m \u001b[0;34m\u001b[0m\u001b[0m\n\u001b[1;32m    347\u001b[0m     \u001b[0;32mreturn\u001b[0m \u001b[0mresult\u001b[0m\u001b[0;34m\u001b[0m\u001b[0m\n",
      "\u001b[0;32m/n/home00/lee.5922/.local/lib/python2.7/site-packages/numpy/lib/function_base.pyc\u001b[0m in \u001b[0;36m__call__\u001b[0;34m(self, *args, **kwargs)\u001b[0m\n\u001b[1;32m   2216\u001b[0m             \u001b[0mvargs\u001b[0m\u001b[0;34m.\u001b[0m\u001b[0mextend\u001b[0m\u001b[0;34m(\u001b[0m\u001b[0;34m[\u001b[0m\u001b[0mkwargs\u001b[0m\u001b[0;34m[\u001b[0m\u001b[0m_n\u001b[0m\u001b[0;34m]\u001b[0m \u001b[0;32mfor\u001b[0m \u001b[0m_n\u001b[0m \u001b[0;32min\u001b[0m \u001b[0mnames\u001b[0m\u001b[0;34m]\u001b[0m\u001b[0;34m)\u001b[0m\u001b[0;34m\u001b[0m\u001b[0m\n\u001b[1;32m   2217\u001b[0m \u001b[0;34m\u001b[0m\u001b[0m\n\u001b[0;32m-> 2218\u001b[0;31m         \u001b[0;32mreturn\u001b[0m \u001b[0mself\u001b[0m\u001b[0;34m.\u001b[0m\u001b[0m_vectorize_call\u001b[0m\u001b[0;34m(\u001b[0m\u001b[0mfunc\u001b[0m\u001b[0;34m=\u001b[0m\u001b[0mfunc\u001b[0m\u001b[0;34m,\u001b[0m \u001b[0margs\u001b[0m\u001b[0;34m=\u001b[0m\u001b[0mvargs\u001b[0m\u001b[0;34m)\u001b[0m\u001b[0;34m\u001b[0m\u001b[0m\n\u001b[0m\u001b[1;32m   2219\u001b[0m \u001b[0;34m\u001b[0m\u001b[0m\n\u001b[1;32m   2220\u001b[0m     \u001b[0;32mdef\u001b[0m \u001b[0m_get_ufunc_and_otypes\u001b[0m\u001b[0;34m(\u001b[0m\u001b[0mself\u001b[0m\u001b[0;34m,\u001b[0m \u001b[0mfunc\u001b[0m\u001b[0;34m,\u001b[0m \u001b[0margs\u001b[0m\u001b[0;34m)\u001b[0m\u001b[0;34m:\u001b[0m\u001b[0;34m\u001b[0m\u001b[0m\n",
      "\u001b[0;32m/n/home00/lee.5922/.local/lib/python2.7/site-packages/numpy/lib/function_base.pyc\u001b[0m in \u001b[0;36m_vectorize_call\u001b[0;34m(self, func, args)\u001b[0m\n\u001b[1;32m   2279\u001b[0m             \u001b[0m_res\u001b[0m \u001b[0;34m=\u001b[0m \u001b[0mfunc\u001b[0m\u001b[0;34m(\u001b[0m\u001b[0;34m)\u001b[0m\u001b[0;34m\u001b[0m\u001b[0m\n\u001b[1;32m   2280\u001b[0m         \u001b[0;32melse\u001b[0m\u001b[0;34m:\u001b[0m\u001b[0;34m\u001b[0m\u001b[0m\n\u001b[0;32m-> 2281\u001b[0;31m             \u001b[0mufunc\u001b[0m\u001b[0;34m,\u001b[0m \u001b[0motypes\u001b[0m \u001b[0;34m=\u001b[0m \u001b[0mself\u001b[0m\u001b[0;34m.\u001b[0m\u001b[0m_get_ufunc_and_otypes\u001b[0m\u001b[0;34m(\u001b[0m\u001b[0mfunc\u001b[0m\u001b[0;34m=\u001b[0m\u001b[0mfunc\u001b[0m\u001b[0;34m,\u001b[0m \u001b[0margs\u001b[0m\u001b[0;34m=\u001b[0m\u001b[0margs\u001b[0m\u001b[0;34m)\u001b[0m\u001b[0;34m\u001b[0m\u001b[0m\n\u001b[0m\u001b[1;32m   2282\u001b[0m \u001b[0;34m\u001b[0m\u001b[0m\n\u001b[1;32m   2283\u001b[0m             \u001b[0;31m# Convert args to object arrays first\u001b[0m\u001b[0;34m\u001b[0m\u001b[0;34m\u001b[0m\u001b[0m\n",
      "\u001b[0;32m/n/home00/lee.5922/.local/lib/python2.7/site-packages/numpy/lib/function_base.pyc\u001b[0m in \u001b[0;36m_get_ufunc_and_otypes\u001b[0;34m(self, func, args)\u001b[0m\n\u001b[1;32m   2240\u001b[0m             \u001b[0;31m# Assumes that ufunc first evaluates the 0th elements in the input\u001b[0m\u001b[0;34m\u001b[0m\u001b[0;34m\u001b[0m\u001b[0m\n\u001b[1;32m   2241\u001b[0m             \u001b[0;31m# arrays (the input values are not checked to ensure this)\u001b[0m\u001b[0;34m\u001b[0m\u001b[0;34m\u001b[0m\u001b[0m\n\u001b[0;32m-> 2242\u001b[0;31m             \u001b[0minputs\u001b[0m \u001b[0;34m=\u001b[0m \u001b[0;34m[\u001b[0m\u001b[0masarray\u001b[0m\u001b[0;34m(\u001b[0m\u001b[0m_a\u001b[0m\u001b[0;34m)\u001b[0m\u001b[0;34m.\u001b[0m\u001b[0mflat\u001b[0m\u001b[0;34m[\u001b[0m\u001b[0;36m0\u001b[0m\u001b[0;34m]\u001b[0m \u001b[0;32mfor\u001b[0m \u001b[0m_a\u001b[0m \u001b[0;32min\u001b[0m \u001b[0margs\u001b[0m\u001b[0;34m]\u001b[0m\u001b[0;34m\u001b[0m\u001b[0m\n\u001b[0m\u001b[1;32m   2243\u001b[0m             \u001b[0moutputs\u001b[0m \u001b[0;34m=\u001b[0m \u001b[0mfunc\u001b[0m\u001b[0;34m(\u001b[0m\u001b[0;34m*\u001b[0m\u001b[0minputs\u001b[0m\u001b[0;34m)\u001b[0m\u001b[0;34m\u001b[0m\u001b[0m\n\u001b[1;32m   2244\u001b[0m \u001b[0;34m\u001b[0m\u001b[0m\n",
      "\u001b[0;31mIndexError\u001b[0m: index 0 is out of bounds for axis 0 with size 0"
     ]
    }
   ],
   "source": [
    "[m_P0, m_P2, m_P4], [FisherBand_P, FisherBand_Xi], m_P, m_P_all, re_FisherBand_P_all,re_FisherBand_P, re_FisherBand_Xi, re_FisherBand_tot \\\n",
    "= BandPowerFisher(RSDPower, RMIN = RMIN, RMAX = RMAX, kmin = kmin, kmax = kmax)"
   ]
  },
  {
   "cell_type": "code",
   "execution_count": null,
   "metadata": {
    "collapsed": true
   },
   "outputs": [],
   "source": [
    "#RSDPower = NoShell_covariance(KMIN, KMAX, RMIN, RMAX, kN, rN, kN_x, kN_y, logscale = False)\n",
    "#_, kbin, SNR_P, kbin2, SNR_Xi, kbin2, SNR_tot = SNR_convergence_test(RSDPower)\n",
    "#m_P, m_P_all, re_FisherBand_P_all,re_FisherBand_P, re_FisherBand_Xi, re_FisherBand_tot = \\\n",
    "#BandPowerFisher(RSDPower, RMIN = RMIN, RMAX = RMAX, kmin = kmin, kmax = kmax, reorder = True)\n",
    "#[m_P0, m_P2, m_P4], [FisherBand_P, FisherBand_Xi] = \\\n",
    "#BandPowerFisher(RSDPower, RMIN = RMIN, RMAX = RMAX, kmin = kmin, kmax = kmax)\n",
    "\n",
    "[m_P0, m_P2, m_P4], [FisherBand_P, FisherBand_Xi], m_P, m_P_all, re_FisherBand_P_all,re_FisherBand_P, re_FisherBand_Xi, re_FisherBand_tot \\\n",
    "= BandPowerFisher(RSDPower, RMIN = RMIN, RMAX = RMAX, kmin = kmin, kmax = kmax)\n",
    "\n",
    "kbin, SNR_P = CumulativeSNR(RSDPower, re_FisherBand_P_all, m_P_all, kmin, kmax)\n",
    "kbin2, SNR_Xi = CumulativeSNR(RSDPower, re_FisherBand_Xi, m_P_all, KMIN, KMAX)\n",
    "kbin_tot, SNR_tot = CumulativeSNR(RSDPower, re_FisherBand_tot, m_P_all, KMIN, KMAX)\n",
    "kbin_d, DiagCSNR_P, DiagCSNR_Xi =  CumulativeSNR_diag( FisherBand_P, FisherBand_Xi, data_vec = [m_P0, m_P2, m_P4])"
   ]
  },
  {
   "cell_type": "code",
   "execution_count": null,
   "metadata": {
    "collapsed": true
   },
   "outputs": [],
   "source": [
    "k_s, SNR_P_s = CumulativeSNR(RSDPower, re_FisherBand_P_all, m_P_all, kmin, kmax)\n",
    "DAT = np.column_stack((k_s, SNR_P_s ))\n",
    "#np.savetxt('data_txt/snr.txt', DAT)\n",
    "#np.savetxt('data_txt/snr_kmax'+str(kmax)+'_kmin'+str(kmin)+'.txt', DAT)"
   ]
  },
  {
   "cell_type": "code",
   "execution_count": null,
   "metadata": {
    "collapsed": true
   },
   "outputs": [],
   "source": [
    "kcolumn = np.zeros(kbin2.size)\n",
    "SNR_P_column = kcolumn.copy()\n",
    "kcolumn[:kbin.size] = kbin\n",
    "SNR_P_column[:kbin.size] = SNR_P\n",
    "DAT = np.column_stack((kcolumn, SNR_P_column, kbin2, SNR_Xi ))\n",
    "#np.savetxt('data_txt/snr.txt', DAT)\n",
    "np.savetxt('data_txt/snr_rmax'+str(RMAX)+'_rmin'+str(RMIN)+'.txt', DAT)\n",
    "\n",
    "# kbin_tot, SNR_tot\n",
    "DAT = np.column_stack((kbin_tot, SNR_tot ))\n",
    "#np.savetxt('data_txt/snr.txt', DAT)\n",
    "np.savetxt('data_txt/snr_tot_rmax'+str(RMAX)+'_rmin'+str(RMIN)+'_kmax'+str(kmax)+'_kmin'+str(kmin)+'.txt', DAT)\n",
    "\n",
    "#kbin_d, DiagCSNR_P, DiagCSNR_Xi =  CumulativeSNR_diag( FisherBand_P, FisherBand_Xi, data_vec = [m_P0, m_P2, m_P4])\n",
    "# diagonal data\n",
    "#DAT = np.column_stack((kbin_d, DiagCSNR_P, DiagCSNR_Xi ))\n",
    "#np.savetxt('data_txt/snr_diag_rmax'+str(RMAX)+'_rmin'+str(RMIN)+'.txt', DAT)"
   ]
  },
  {
   "cell_type": "code",
   "execution_count": null,
   "metadata": {
    "collapsed": true
   },
   "outputs": [],
   "source": []
  },
  {
   "cell_type": "code",
   "execution_count": null,
   "metadata": {
    "collapsed": true
   },
   "outputs": [],
   "source": []
  },
  {
   "cell_type": "code",
   "execution_count": null,
   "metadata": {
    "collapsed": true
   },
   "outputs": [],
   "source": []
  },
  {
   "cell_type": "code",
   "execution_count": null,
   "metadata": {
    "collapsed": true
   },
   "outputs": [],
   "source": []
  },
  {
   "cell_type": "code",
   "execution_count": 149,
   "metadata": {
    "collapsed": false
   },
   "outputs": [
    {
     "data": {
      "text/plain": [
       "<matplotlib.text.Text at 0x894b710>"
      ]
     },
     "execution_count": 149,
     "metadata": {},
     "output_type": "execute_result"
    },
    {
     "data": {
      "image/png": "[encoded data removed]",
      "text/plain": [
       "<matplotlib.figure.Figure at 0x4d01250>"
      ]
     },
     "metadata": {},
     "output_type": "display_data"
    },
    {
     "data": {
      "image/png": "[encoded data removed]",
      "text/plain": [
       "<matplotlib.figure.Figure at 0x89416d0>"
      ]
     },
     "metadata": {},
     "output_type": "display_data"
    }
   ],
   "source": [
    "r_range = [['200', '30'], ['152', '24'], ['180', '10']]\n",
    "\n",
    "\n",
    "fig, ax = plt.subplots(1,1, figsize = (7, 5))\n",
    "for j, r in enumerate(r_range):\n",
    "    D1 = np.loadtxt('data_txt/snr_rmax'+r[0]+'_rmin'+r[1]+'.txt')\n",
    "    D2 = np.loadtxt('data_txt/snr_tot_rmax'+r[0]+'_rmin'+r[1]+'_kmax0.2_kmin0.01.txt')\n",
    "    \n",
    "    _, _, kbin2, SNR_Xi = [D1[:,i] for i in range(D1[0,:].size)]\n",
    "    kbin_tot, SNR_tot = [D2[:,i] for i in range(D2[0,:].size)]    \n",
    "    \n",
    "    ax.plot(j, SNR_Xi[-1], marker='^', color = 'black')\n",
    "    ax.plot(j, SNR_tot[-1], marker = 'o', color = ax.lines[-1].get_color())\n",
    "    #ax.plot(kbin2, SNR_Xi, '--')\n",
    "    #ax.plot(kbin_tot, SNR_tot, linestyle = '-', color = ax.lines[-1].get_color())\n",
    "\n",
    "D3 = np.loadtxt('data_txt/snr_kmax0.2_kmin0.01.txt')\n",
    "kbin, SNR_P = [D3[:,i] for i in range(D3[0,:].size)]\n",
    "ax.axhline( y = SNR_P[-1], linestyle='--', color = 'grey', label = r'$P$')\n",
    "ax.set_ylim(0,500000)\n",
    "ax.set_xlim(-1, j+1)\n",
    "ax.set_xticks(np.arange(-1, j+1))\n",
    "ax.set_xticklabels(['', 'BAO\\n30-200 Mpc/h', 'Samushia et al\\n24-152 Mpc/h', 'Blake et al\\n10-180 Mpc/h'])\n",
    "ax.legend(loc='best')\n",
    "ax.set_ylabel('Cumulative SNR')\n",
    "    \n",
    "r_range = [['180', '10']]\n",
    "\n",
    "fig, ax = plt.subplots(1,1, figsize = (7, 5))\n",
    "for j, r in enumerate(r_range):\n",
    "    D1 = np.loadtxt('data_txt/snr_rmax'+r[0]+'_rmin'+r[1]+'.txt')\n",
    "    D2 = np.loadtxt('data_txt/snr_tot_rmax'+r[0]+'_rmin'+r[1]+'_kmax0.2_kmin0.01.txt')\n",
    "    \n",
    "    _, _, kbin2, SNR_Xi = [D1[:,i] for i in range(D1[0,:].size)]\n",
    "    kbin_tot, SNR_tot = [D2[:,i] for i in range(D2[0,:].size)]    \n",
    "    \n",
    "    ax.plot(j, SNR_Xi[-1], marker='^', color = 'black')\n",
    "    ax.plot(j, SNR_tot[-1], marker = 'o', color = ax.lines[-1].get_color())\n",
    "    #ax.plot(kbin2, SNR_Xi, '--')\n",
    "    #ax.plot(kbin_tot, SNR_tot, linestyle = '-', color = ax.lines[-1].get_color())\n",
    "\n",
    "D3 = np.loadtxt('data_txt/snr_kmax0.2_kmin0.01.txt')\n",
    "kbin, SNR_P = [D3[:,i] for i in range(D3[0,:].size)]\n",
    "ax.axhline( y = SNR_P[-1], linestyle='--', color = 'grey', label = r'$P$')\n",
    "ax.set_ylim(0,500000)\n",
    "ax.set_xlim(-1, j+1)\n",
    "ax.set_xticks(np.arange(-1, j+1))\n",
    "ax.set_xticklabels(['','BAO\\n30-200 Mpc/h', 'Samushia et al\\n24-152 Mpc/h', 'Blake et al\\n10-180 Mpc/h'])\n",
    "ax.legend(loc='best')\n",
    "ax.set_ylabel('Cumulative SNR')"
   ]
  },
  {
   "cell_type": "markdown",
   "metadata": {},
   "source": [
    "----"
   ]
  },
  {
   "cell_type": "code",
   "execution_count": 150,
   "metadata": {
    "collapsed": false
   },
   "outputs": [
    {
     "data": {
      "text/plain": [
       "(0, 600000)"
      ]
     },
     "execution_count": 150,
     "metadata": {},
     "output_type": "execute_result"
    },
    {
     "data": {
      "image/png": "[encoded data removed]",
      "text/plain": [
       "<matplotlib.figure.Figure at 0x6ffe3d0>"
      ]
     },
     "metadata": {},
     "output_type": "display_data"
    }
   ],
   "source": [
    "fig, ax = plt.subplots(1,1, figsize = (7, 5))\n",
    "for j, r in enumerate(r_range):\n",
    "    D1 = np.loadtxt('data_txt/snr_rmax'+r[0]+'_rmin'+r[1]+'.txt')\n",
    "    D2 = np.loadtxt('data_txt/snr_tot_rmax'+r[0]+'_rmin'+r[1]+'_kmax0.2_kmin0.01.txt')\n",
    "    \n",
    "    _, _, kbin2, SNR_Xi = [D1[:,i] for i in range(D1[0,:].size)]\n",
    "    kbin_tot, SNR_tot = [D2[:,i] for i in range(D2[0,:].size)]    \n",
    "    \n",
    "    ax.plot(kbin2, SNR_Xi, marker='.')\n",
    "    ax.plot(kbin_tot, SNR_tot, marker = '.', color = ax.lines[-1].get_color())\n",
    "    #ax.plot(kbin2, SNR_Xi, '--')\n",
    "    #ax.plot(kbin_tot, SNR_tot, linestyle = '-', color = ax.lines[-1].get_color())\n",
    "\n",
    "D3 = np.loadtxt('data_txt/snr_kmax0.2_kmin0.01.txt')\n",
    "kbin, SNR_P = [D3[:,i] for i in range(D3[0,:].size)]\n",
    "ax.plot(kbin, SNR_P, '--')\n",
    "ax.axhline( y = SNR_P[-1], linestyle='--', color = 'grey', label = r'$P$')\n",
    "ax.legend(loc='best')\n",
    "#ax.set_xscale('log')\n",
    "ax.set_xlim(0.01, 2)\n",
    "ax.set_ylabel('Cumulative SNR')\n",
    "ax.set_ylim(0, 600000)"
   ]
  },
  {
   "cell_type": "code",
   "execution_count": null,
   "metadata": {
    "collapsed": true
   },
   "outputs": [],
   "source": []
  }
 ],
 "metadata": {
  "kernelspec": {
   "display_name": "Python 2",
   "language": "python",
   "name": "python2"
  },
  "language_info": {
   "codemirror_mode": {
    "name": "ipython",
    "version": 2
   },
   "file_extension": ".py",
   "mimetype": "text/x-python",
   "name": "python",
   "nbconvert_exporter": "python",
   "pygments_lexer": "ipython2",
   "version": "2.7.5"
  }
 },
 "nbformat": 4,
 "nbformat_minor": 0
}
