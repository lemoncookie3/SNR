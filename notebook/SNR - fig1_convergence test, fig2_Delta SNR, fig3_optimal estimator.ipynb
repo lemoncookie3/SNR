{
 "cells": [
  {
   "cell_type": "markdown",
   "metadata": {},
   "source": [
    "## SNR - fig1_convergence test"
   ]
  },
  {
   "cell_type": "code",
   "execution_count": 3,
   "metadata": {
    "collapsed": false
   },
   "outputs": [],
   "source": [
    "import time, datetime\n",
    "import numpy as np\n",
    "from numpy import zeros, sqrt, pi, vectorize\n",
    "from numpy.linalg import pinv, inv\n",
    "from multiprocessing import Process, Queue\n",
    "#import matplotlib\n",
    "#matplotlib.use('Qt4Agg')\n",
    "import matplotlib.pyplot as plt\n",
    "%matplotlib inline\n",
    "from error_analysis_class import *\n",
    "from noshellavg import *\n",
    "from matplotlib.backends.backend_pdf import PdfPages\n",
    "\n",
    "%load_ext autoreload\n",
    "%autoreload 2"
   ]
  },
  {
   "cell_type": "markdown",
   "metadata": {},
   "source": [
    "## Initial settings "
   ]
  },
  {
   "cell_type": "code",
   "execution_count": 4,
   "metadata": {
    "collapsed": true
   },
   "outputs": [],
   "source": [
    "import warnings\n",
    "\n",
    "def fxn():\n",
    "    warnings.warn(\"deprecated\", DeprecationWarning)\n",
    "\n",
    "with warnings.catch_warnings():\n",
    "    warnings.simplefilter(\"ignore\")\n",
    "    fxn()"
   ]
  },
  {
   "cell_type": "code",
   "execution_count": 5,
   "metadata": {
    "collapsed": false
   },
   "outputs": [],
   "source": [
    "def SNR_convergence_test(RSDPower, kmin = 0.001, kmax = 2, reverse = None, re = None):\n",
    "\n",
    "    rcut_max = get_closest_index_in_data( RMAX, RSDPower.rmax )\n",
    "    rcut_min = get_closest_index_in_data( RMIN, RSDPower.rmin )\n",
    "    kcut_min = get_closest_index_in_data( kmin, RSDPower.kmin_y )\n",
    "    kcut_max = get_closest_index_in_data( kmax, RSDPower.kmax_y )\n",
    "    \n",
    "    \n",
    "    \n",
    "    file = 'matterpower_z_0.55.dat'  # from camb (z=0.55)\n",
    "    RSDPower.MatterPower(file = file)\n",
    "    # power spectrum multipoles l = 0,2,4\n",
    "    RSDPower.multipole_P_band_all()\n",
    "\n",
    "    # derivative dXi/dp\n",
    "    RSDPower.derivative_Xi_band_all()\n",
    "\n",
    "    # P covariance matrix ( nine submatrices C_ll' )\n",
    "    RSDPower.RSDband_covariance_PP_all()\n",
    "\n",
    "    # Xi covariance matrix ( nine submatrices C_ll' )\n",
    "    RSDPower.covariance_Xi_all()\n",
    "    RSDPower.covariance_PXi_All()\n",
    "\n",
    "\n",
    "    matricesXi = [RSDPower.covariance00[rcut_max:rcut_min+1,rcut_max:rcut_min+1],\\\n",
    "                  RSDPower.covariance02[rcut_max:rcut_min+1,rcut_max:rcut_min+1],\\\n",
    "                  RSDPower.covariance04[rcut_max:rcut_min+1,rcut_max:rcut_min+1],\\\n",
    "                  np.transpose(RSDPower.covariance02[rcut_max:rcut_min+1,rcut_max:rcut_min+1]),\\\n",
    "                  RSDPower.covariance22[rcut_max:rcut_min+1,rcut_max:rcut_min+1],\\\n",
    "                  RSDPower.covariance24[rcut_max:rcut_min+1,rcut_max:rcut_min+1],\\\n",
    "                  np.transpose(RSDPower.covariance04[rcut_max:rcut_min+1,rcut_max:rcut_min+1]),\\\n",
    "                  np.transpose(RSDPower.covariance24[rcut_max:rcut_min+1,rcut_max:rcut_min+1]),\\\n",
    "                  RSDPower.covariance44[rcut_max:rcut_min+1,rcut_max:rcut_min+1]]\n",
    "\n",
    "    matricesPP_all = [RSDPower.covariance_PP00,RSDPower.covariance_PP02,\\\n",
    "                    RSDPower.covariance_PP04,RSDPower.covariance_PP02,\\\n",
    "                    RSDPower.covariance_PP22,RSDPower.covariance_PP24,\\\n",
    "                    RSDPower.covariance_PP04,RSDPower.covariance_PP24,\\\n",
    "                    RSDPower.covariance_PP44]\n",
    "\n",
    "    matricesPP = [RSDPower.covariance_PP00[kcut_min:kcut_max+1,kcut_min:kcut_max+1],\n",
    "                RSDPower.covariance_PP02[kcut_min:kcut_max+1,kcut_min:kcut_max+1],\n",
    "                RSDPower.covariance_PP04[kcut_min:kcut_max+1,kcut_min:kcut_max+1],\n",
    "                RSDPower.covariance_PP02[kcut_min:kcut_max+1,kcut_min:kcut_max+1],\n",
    "                RSDPower.covariance_PP22[kcut_min:kcut_max+1,kcut_min:kcut_max+1],\n",
    "                RSDPower.covariance_PP24[kcut_min:kcut_max+1,kcut_min:kcut_max+1],\n",
    "                RSDPower.covariance_PP04[kcut_min:kcut_max+1,kcut_min:kcut_max+1],\n",
    "                RSDPower.covariance_PP24[kcut_min:kcut_max+1,kcut_min:kcut_max+1],\n",
    "                RSDPower.covariance_PP44[kcut_min:kcut_max+1,kcut_min:kcut_max+1]]\n",
    "\n",
    "    matricesPXi = [RSDPower.covariance_PXi00[kcut_min:kcut_max+1,rcut_max:rcut_min+1],\\\n",
    "                 RSDPower.covariance_PXi02[kcut_min:kcut_max+1,rcut_max:rcut_min+1],\\\n",
    "                 RSDPower.covariance_PXi04[kcut_min:kcut_max+1,rcut_max:rcut_min+1],\\\n",
    "                 RSDPower.covariance_PXi20[kcut_min:kcut_max+1,rcut_max:rcut_min+1],\\\n",
    "                 RSDPower.covariance_PXi22[kcut_min:kcut_max+1,rcut_max:rcut_min+1],\\\n",
    "                 RSDPower.covariance_PXi24[kcut_min:kcut_max+1,rcut_max:rcut_min+1],\\\n",
    "                 RSDPower.covariance_PXi40[kcut_min:kcut_max+1,rcut_max:rcut_min+1],\\\n",
    "                 RSDPower.covariance_PXi42[kcut_min:kcut_max+1,rcut_max:rcut_min+1],\\\n",
    "                 RSDPower.covariance_PXi44[kcut_min:kcut_max+1,rcut_max:rcut_min+1]]\n",
    "\n",
    "\n",
    "    l1 = RSDPower.kcenter_y.size\n",
    "    l2 = rcut_min+1 - rcut_max\n",
    "    l3 = kcut_max+1 - kcut_min\n",
    "\n",
    "    # combining covariances\n",
    "    C_matrix3PP_all = CombineCovariance3(l1, matricesPP_all)\n",
    "    C_matrix3PP = CombineCovariance3(l3, matricesPP)\n",
    "    C_matrix3Xi = CombineCovariance3(l2, matricesXi)\n",
    "\n",
    "    #C_matrix3PXi = np.zeros((C_matrix3PXi.shape))\n",
    "    C_matrix3PXi, C_matrix3XiP = CombineCrossCovariance3(l3, l2, matricesPXi, transpose = True)\n",
    "    C_matrix3_tot = np.concatenate((np.concatenate((C_matrix3PP, C_matrix3PXi), axis=1),\\\n",
    "                                    np.concatenate((C_matrix3PXi.T, C_matrix3Xi), axis=1)), axis = 0)\n",
    "\n",
    "\n",
    "\n",
    "    # inverting matrices\n",
    "    from test_SNR import blockwiseInversion\n",
    "    FisherP_all = inv(C_matrix3PP_all)\n",
    "    FisherP = inv(C_matrix3PP)\n",
    "    FisherXi = inv(C_matrix3Xi)\n",
    "    print '/nFisherXi', np.sum(FisherXi.diagonal() <= 0.0)\n",
    "    \n",
    "    Fisher3_tot = pinv(C_matrix3_tot, rcond = 1e-30)\n",
    "    \n",
    "    \"\"\"\n",
    "    rcondnum = np.arange(20, 13, -1)\n",
    "    for rc in rcondnum:\n",
    "        Fisher3_tot = pinv(C_matrix3_tot, rcond = 10**(-1*rc))\n",
    "        neg = np.sum(Fisher3_tot.diagonal() <=0.0)\n",
    "        print rc, neg\n",
    "        if neg == 0 : break\n",
    "    if rc == 14 : raise ValueError(\"Inversion failed : rcond exceeds 1e-15\")   \n",
    "    \"\"\"\n",
    "       \n",
    "    #FisherXi = blockwiseInversion( C_matrix3Xi, rcut_min+1-rcut_max )\n",
    "    #Fisher3_tot = blockwiseInversion( C_matrix3_tot, 3 * (kcut_max+1-kcut_min) )\n",
    "\n",
    "    # derivatives\n",
    "    derivative_P0 = np.identity(RSDPower.kcenter_y.size)[:,kcut_min:kcut_max+1]\n",
    "    Pzeros = np.zeros((derivative_P0.shape))\n",
    "\n",
    "    derivative_P = np.concatenate((np.concatenate((derivative_P0, Pzeros, Pzeros),axis=1 ),\\\n",
    "                                   np.concatenate((Pzeros, derivative_P0, Pzeros),axis=1 ),\\\n",
    "                                   np.concatenate((Pzeros, Pzeros, derivative_P0),axis=1 )), axis=0)\n",
    "    Xizeros = np.zeros((RSDPower.dxip0[:,rcut_max:rcut_min+1].shape))\n",
    "    derivative_correl_avg = np.concatenate(( np.concatenate((RSDPower.dxip0[:,rcut_max:rcut_min+1],Xizeros,Xizeros), axis=1),\\\n",
    "                                            np.concatenate((Xizeros,RSDPower.dxip2[:,rcut_max:rcut_min+1],Xizeros), axis=1),\\\n",
    "                                            np.concatenate((Xizeros,Xizeros,RSDPower.dxip4[:,rcut_max:rcut_min+1]), axis=1)),axis=0 )\n",
    "    Derivatives = np.concatenate((derivative_P,derivative_correl_avg), axis=1)\n",
    "\n",
    "    \n",
    "    \n",
    "    # Bandpower Fisher matrices from different estimators\n",
    "    FisherBand_P = FisherP.copy()\n",
    "    FisherBand_P_all = FisherP_all.copy()\n",
    "    FisherBand_Xi = FisherProjection_Fishergiven(derivative_correl_avg, FisherXi)\n",
    "    FisherBand_tot = FisherProjection_Fishergiven(Derivatives, Fisher3_tot)\n",
    "    \n",
    "    \n",
    "    from test_SNR import reorderingVector, reordering\n",
    "\n",
    "    m_P0 = RSDPower.multipole_bandpower0[kcut_min:kcut_max+1]\n",
    "    m_P2 = RSDPower.multipole_bandpower2[kcut_min:kcut_max+1]\n",
    "    m_P4 = RSDPower.multipole_bandpower4[kcut_min:kcut_max+1]\n",
    "    m_P = reorderingVector( [m_P0, m_P2, m_P4] )\n",
    "\n",
    "    re_FisherBand_P_all, _ = reordering( RSDPower, FisherBand_P_all)\n",
    "    re_FisherBand_P, _ = reordering( RSDPower, FisherBand_P)\n",
    "    re_FisherBand_Xi, m_P_all = reordering( RSDPower, FisherBand_Xi)\n",
    "    re_FisherBand_tot, _ = reordering( RSDPower, FisherBand_tot)\n",
    "\n",
    "    \n",
    "    if reverse == True:\n",
    "        re_FisherBand_P = np.fliplr(np.rot90(re_FisherBand_P))\n",
    "        re_FisherBand_P_all = np.fliplr(np.rot90(re_FisherBand_P_all))\n",
    "        re_FisherBand_Xi = np.fliplr(np.rot90(re_FisherBand_Xi))\n",
    "        re_FisherBand_tot = np.fliplr(np.rot90(re_FisherBand_tot))\n",
    "        m_P = m_P[::-1]\n",
    "        m_P_all = m_P_all[::-1]\n",
    "    \n",
    "    \n",
    "    #P\n",
    "    from test_SNR import blockwise\n",
    "    \n",
    "    FP = re_FisherBand_P_all.copy()\n",
    "    PP = m_P_all.copy()\n",
    "\n",
    "    SNRlist_P = []\n",
    "    SNRP = np.dot( np.dot(PP, FP), PP.T )\n",
    "    SNRlist_P.append(SNRP)\n",
    "    for j in range(1, PP.size/3):\n",
    "        PP = PP[:-3]\n",
    "        for i in range(0,3):\n",
    "            FP = blockwise( FP )\n",
    "        SNRP = np.dot( np.dot(PP, FP), PP.T )\n",
    "        SNRlist_P.append(SNRP)\n",
    "\n",
    "    SNRlist_P = np.array(SNRlist_P[::-1]).ravel()\n",
    "    kklist = RSDPower.kcenter_y#[kcut_min:kcut_max+1]\n",
    "\n",
    "    # Xi\n",
    "\n",
    "    F = re_FisherBand_Xi.copy()\n",
    "    P = m_P_all.copy()\n",
    "\n",
    "    SNRlist = []\n",
    "    SNR = np.dot( np.dot(P, F), P.T )\n",
    "    SNRlist.append(SNR)\n",
    "    for j in range(1, P.size/3):\n",
    "        P = P[:-3]\n",
    "        for i in range(0,3):\n",
    "            F = blockwise( F )\n",
    "        SNR = np.dot( np.dot(P, F), P.T )\n",
    "        SNRlist.append(SNR)\n",
    "\n",
    "    SNRlist = np.array(SNRlist[::-1]).ravel()\n",
    "    kklist2 = RSDPower.kcenter_y\n",
    "\n",
    "    # tot\n",
    "\n",
    "    Ft = re_FisherBand_tot.copy()\n",
    "    Pt = m_P_all.copy()\n",
    "\n",
    "    SNRlist_t = []\n",
    "    SNRt = np.dot( np.dot(Pt, Ft), Pt.T )\n",
    "    SNRlist_t.append(SNRt)\n",
    "    for j in range(1, Pt.size/3):\n",
    "        Pt = Pt[:-3]\n",
    "        for i in range(0,3):\n",
    "            Ft = blockwise( Ft )\n",
    "        SNRt = np.dot( np.dot(Pt, Ft), Pt.T )\n",
    "        SNRlist_t.append(SNRt)\n",
    "\n",
    "    SNRlist_t = np.array(SNRlist_t[::-1]).ravel()\n",
    "    #kklist2 = RSDPower.kcenter_y\n",
    "    \n",
    "    if reverse == True:\n",
    "        kklist = kklist[::-1]\n",
    "        kklist2 = kklist2[::-1]\n",
    "        \n",
    "    return RSDPower, kklist, SNRlist_P, kklist2, SNRlist, kklist2, SNRlist_t "
   ]
  },
  {
   "cell_type": "code",
   "execution_count": 6,
   "metadata": {
    "collapsed": false
   },
   "outputs": [],
   "source": [
    "def SNR_P_Xi(RSDPower, kmin = 0.001, kmax = 2, reverse = None, re = None):\n",
    "\n",
    "    rcut_max = get_closest_index_in_data( RMAX, RSDPower.rmax )\n",
    "    rcut_min = get_closest_index_in_data( RMIN, RSDPower.rmin )\n",
    "    kcut_min = get_closest_index_in_data( kmin, RSDPower.kmin_y )\n",
    "    kcut_max = get_closest_index_in_data( kmax, RSDPower.kmax_y )\n",
    "    \n",
    "    file = 'matterpower_z_0.55.dat'  # from camb (z=0.55)\n",
    "    RSDPower.MatterPower(file = file)\n",
    "    # power spectrum multipoles l = 0,2,4\n",
    "    RSDPower.multipole_P_band_all()\n",
    "\n",
    "    # derivative dXi/dp\n",
    "    RSDPower.derivative_Xi_band_all()\n",
    "\n",
    "    # P covariance matrix ( nine submatrices C_ll' )\n",
    "    RSDPower.RSDband_covariance_PP_all()\n",
    "\n",
    "    # Xi covariance matrix ( nine submatrices C_ll' )\n",
    "    RSDPower.covariance_Xi_all()\n",
    "\n",
    "\n",
    "    matricesXi = [RSDPower.covariance00[rcut_max:rcut_min+1,rcut_max:rcut_min+1],\\\n",
    "                  RSDPower.covariance02[rcut_max:rcut_min+1,rcut_max:rcut_min+1],\\\n",
    "                  RSDPower.covariance04[rcut_max:rcut_min+1,rcut_max:rcut_min+1],\\\n",
    "                  np.transpose(RSDPower.covariance02[rcut_max:rcut_min+1,rcut_max:rcut_min+1]),\\\n",
    "                  RSDPower.covariance22[rcut_max:rcut_min+1,rcut_max:rcut_min+1],\\\n",
    "                  RSDPower.covariance24[rcut_max:rcut_min+1,rcut_max:rcut_min+1],\\\n",
    "                  np.transpose(RSDPower.covariance04[rcut_max:rcut_min+1,rcut_max:rcut_min+1]),\\\n",
    "                  np.transpose(RSDPower.covariance24[rcut_max:rcut_min+1,rcut_max:rcut_min+1]),\\\n",
    "                  RSDPower.covariance44[rcut_max:rcut_min+1,rcut_max:rcut_min+1]]\n",
    "\n",
    "    matricesPP_all = [RSDPower.covariance_PP00,RSDPower.covariance_PP02,\\\n",
    "                    RSDPower.covariance_PP04,RSDPower.covariance_PP02,\\\n",
    "                    RSDPower.covariance_PP22,RSDPower.covariance_PP24,\\\n",
    "                    RSDPower.covariance_PP04,RSDPower.covariance_PP24,\\\n",
    "                    RSDPower.covariance_PP44]\n",
    "\n",
    "    matricesPP = [RSDPower.covariance_PP00[kcut_min:kcut_max+1,kcut_min:kcut_max+1],\n",
    "                RSDPower.covariance_PP02[kcut_min:kcut_max+1,kcut_min:kcut_max+1],\n",
    "                RSDPower.covariance_PP04[kcut_min:kcut_max+1,kcut_min:kcut_max+1],\n",
    "                RSDPower.covariance_PP02[kcut_min:kcut_max+1,kcut_min:kcut_max+1],\n",
    "                RSDPower.covariance_PP22[kcut_min:kcut_max+1,kcut_min:kcut_max+1],\n",
    "                RSDPower.covariance_PP24[kcut_min:kcut_max+1,kcut_min:kcut_max+1],\n",
    "                RSDPower.covariance_PP04[kcut_min:kcut_max+1,kcut_min:kcut_max+1],\n",
    "                RSDPower.covariance_PP24[kcut_min:kcut_max+1,kcut_min:kcut_max+1],\n",
    "                RSDPower.covariance_PP44[kcut_min:kcut_max+1,kcut_min:kcut_max+1]]\n",
    "\n",
    "\n",
    "\n",
    "    l1 = RSDPower.kcenter_y.size\n",
    "    l2 = rcut_min+1 - rcut_max\n",
    "    l3 = kcut_max+1 - kcut_min\n",
    "\n",
    "    # combining covariances\n",
    "    C_matrix3PP_all = CombineCovariance3(l1, matricesPP_all)\n",
    "    C_matrix3PP = CombineCovariance3(l3, matricesPP)\n",
    "    C_matrix3Xi = CombineCovariance3(l2, matricesXi)\n",
    "\n",
    "    # inverting matrices\n",
    "    from test_SNR import blockwiseInversion\n",
    "    FisherP_all = inv(C_matrix3PP_all)\n",
    "    FisherP = inv(C_matrix3PP)\n",
    "    FisherXi = inv(C_matrix3Xi)\n",
    "    print '/nFisherXi', np.sum(FisherXi.diagonal() <= 0.0)\n",
    "    \n",
    "    # derivatives\n",
    "    derivative_P0 = np.identity(RSDPower.kcenter_y.size)[:,kcut_min:kcut_max+1]\n",
    "    Pzeros = np.zeros((derivative_P0.shape))\n",
    "\n",
    "    derivative_P = np.concatenate((np.concatenate((derivative_P0, Pzeros, Pzeros),axis=1 ),\\\n",
    "                                   np.concatenate((Pzeros, derivative_P0, Pzeros),axis=1 ),\\\n",
    "                                   np.concatenate((Pzeros, Pzeros, derivative_P0),axis=1 )), axis=0)\n",
    "    Xizeros = np.zeros((RSDPower.dxip0[:,rcut_max:rcut_min+1].shape))\n",
    "    derivative_correl_avg = np.concatenate(( np.concatenate((RSDPower.dxip0[:,rcut_max:rcut_min+1],Xizeros,Xizeros), axis=1),\\\n",
    "                                            np.concatenate((Xizeros,RSDPower.dxip2[:,rcut_max:rcut_min+1],Xizeros), axis=1),\\\n",
    "                                            np.concatenate((Xizeros,Xizeros,RSDPower.dxip4[:,rcut_max:rcut_min+1]), axis=1)),axis=0 )\n",
    "\n",
    "\n",
    "    \n",
    "    \n",
    "    # Bandpower Fisher matrices from different estimators\n",
    "    FisherBand_P = FisherP.copy()\n",
    "    FisherBand_P_all = FisherP_all.copy()\n",
    "    FisherBand_Xi = FisherProjection_Fishergiven(derivative_correl_avg, FisherXi)\n",
    "    #FisherBand_tot = FisherProjection_Fishergiven(Derivatives, Fisher3_tot)\n",
    "    \n",
    "    \n",
    "    from test_SNR import reorderingVector, reordering\n",
    "\n",
    "    m_P0 = RSDPower.multipole_bandpower0[kcut_min:kcut_max+1]\n",
    "    m_P2 = RSDPower.multipole_bandpower2[kcut_min:kcut_max+1]\n",
    "    m_P4 = RSDPower.multipole_bandpower4[kcut_min:kcut_max+1]\n",
    "    m_P = reorderingVector( [m_P0, m_P2, m_P4] )\n",
    "\n",
    "    re_FisherBand_P_all, _ = reordering( RSDPower, FisherBand_P_all)\n",
    "    re_FisherBand_P, _ = reordering( RSDPower, FisherBand_P)\n",
    "    re_FisherBand_Xi, m_P_all = reordering( RSDPower, FisherBand_Xi)\n",
    "    #re_FisherBand_tot, _ = reordering( RSDPower, FisherBand_tot)\n",
    "\n",
    "    \n",
    "    if reverse == True:\n",
    "        re_FisherBand_P = np.fliplr(np.rot90(re_FisherBand_P))\n",
    "        re_FisherBand_P_all = np.fliplr(np.rot90(re_FisherBand_P_all))\n",
    "        re_FisherBand_Xi = np.fliplr(np.rot90(re_FisherBand_Xi))\n",
    "        #re_FisherBand_tot = np.fliplr(np.rot90(re_FisherBand_tot))\n",
    "        m_P = m_P[::-1]\n",
    "        m_P_all = m_P_all[::-1]\n",
    "    \n",
    "    \n",
    "    #P\n",
    "    from test_SNR import blockwise\n",
    "\n",
    "    FP = re_FisherBand_P_all.copy()\n",
    "    PP = m_P_all.copy()\n",
    "\n",
    "    SNRlist_P = []\n",
    "    SNRP = np.dot( np.dot(PP, FP), PP.T )\n",
    "    SNRlist_P.append(SNRP)\n",
    "    for j in range(1, PP.size/3):\n",
    "        PP = PP[:-3]\n",
    "        for i in range(0,3):\n",
    "            FP = blockwise( FP )\n",
    "        SNRP = np.dot( np.dot(PP, FP), PP.T )\n",
    "        SNRlist_P.append(SNRP)\n",
    "\n",
    "    SNRlist_P = np.array(SNRlist_P[::-1]).ravel()\n",
    "    kklist = RSDPower.kcenter_y#[kcut_min:kcut_max+1]\n",
    "\n",
    "    # Xi\n",
    "\n",
    "    F = re_FisherBand_Xi.copy()\n",
    "    P = m_P_all.copy()\n",
    "\n",
    "    SNRlist = []\n",
    "    SNR = np.dot( np.dot(P, F), P.T )\n",
    "    SNRlist.append(SNR)\n",
    "    for j in range(1, P.size/3):\n",
    "        P = P[:-3]\n",
    "        for i in range(0,3):\n",
    "            F = blockwise( F )\n",
    "        SNR = np.dot( np.dot(P, F), P.T )\n",
    "        SNRlist.append(SNR)\n",
    "\n",
    "    SNRlist = np.array(SNRlist[::-1]).ravel()\n",
    "    kklist2 = RSDPower.kcenter_y\n",
    "        \n",
    "    return RSDPower, kklist, SNRlist_P, kklist2, SNRlist"
   ]
  },
  {
   "cell_type": "code",
   "execution_count": 7,
   "metadata": {
    "collapsed": false
   },
   "outputs": [],
   "source": [
    "def BandPowerFisher(RSDPower, RMIN = 0.1, RMAX = 180, kmin = 0.001, kmax = 2, reorder=False):\n",
    "\n",
    "    #RMAX = RSDPower.RMAX\n",
    "    #RMIN = RSDPower.RMIN\n",
    "    \n",
    "    rcut_max = get_closest_index_in_data( RMAX, RSDPower.rmax )\n",
    "    rcut_min = get_closest_index_in_data( RMIN, RSDPower.rmin )\n",
    "    kcut_min = get_closest_index_in_data( kmin, RSDPower.kmin_y )   \n",
    "    kcut_max = get_closest_index_in_data( kmax, RSDPower.kmax_y )\n",
    "    \n",
    "    print 'rcut_max, rcut_min ', RSDPower.rmax[rcut_max], RSDPower.rmin[rcut_min]\n",
    "    \n",
    "    file = 'matterpower_z_0.55.dat'  # from camb (z=0.55)\n",
    "    RSDPower.MatterPower(file = file)\n",
    "    # power spectrum multipoles l = 0,2,4\n",
    "    RSDPower.multipole_P_band_all()\n",
    "\n",
    "    # derivative dXi/dp\n",
    "    RSDPower.derivative_Xi_band_all()\n",
    "\n",
    "    # P covariance matrix ( nine submatrices C_ll' )\n",
    "    RSDPower.RSDband_covariance_PP_all()\n",
    "\n",
    "    # Xi covariance matrix ( nine submatrices C_ll' )\n",
    "    RSDPower.covariance_Xi_all()\n",
    "    RSDPower.covariance_PXi_All()\n",
    "\n",
    "    \n",
    "    matricesXi = [RSDPower.covariance00[rcut_max:rcut_min+1,rcut_max:rcut_min+1],\\\n",
    "              RSDPower.covariance02[rcut_max:rcut_min+1,rcut_max:rcut_min+1],\\\n",
    "              RSDPower.covariance04[rcut_max:rcut_min+1,rcut_max:rcut_min+1],\\\n",
    "              np.transpose(RSDPower.covariance02[rcut_max:rcut_min+1,rcut_max:rcut_min+1]),\\\n",
    "              RSDPower.covariance22[rcut_max:rcut_min+1,rcut_max:rcut_min+1],\\\n",
    "              RSDPower.covariance24[rcut_max:rcut_min+1,rcut_max:rcut_min+1],\\\n",
    "              np.transpose(RSDPower.covariance04[rcut_max:rcut_min+1,rcut_max:rcut_min+1]),\\\n",
    "              np.transpose(RSDPower.covariance24[rcut_max:rcut_min+1,rcut_max:rcut_min+1]),\\\n",
    "              RSDPower.covariance44[rcut_max:rcut_min+1,rcut_max:rcut_min+1]]\n",
    "\n",
    "    matricesPP_all = [RSDPower.covariance_PP00,RSDPower.covariance_PP02,\\\n",
    "                    RSDPower.covariance_PP04,RSDPower.covariance_PP02,\\\n",
    "                    RSDPower.covariance_PP22,RSDPower.covariance_PP24,\\\n",
    "                    RSDPower.covariance_PP04,RSDPower.covariance_PP24,\\\n",
    "                    RSDPower.covariance_PP44]\n",
    "\n",
    "    matricesPP = [RSDPower.covariance_PP00[kcut_min:kcut_max+1,kcut_min:kcut_max+1],\n",
    "                RSDPower.covariance_PP02[kcut_min:kcut_max+1,kcut_min:kcut_max+1],\n",
    "                RSDPower.covariance_PP04[kcut_min:kcut_max+1,kcut_min:kcut_max+1],\n",
    "                RSDPower.covariance_PP02[kcut_min:kcut_max+1,kcut_min:kcut_max+1],\n",
    "                RSDPower.covariance_PP22[kcut_min:kcut_max+1,kcut_min:kcut_max+1],\n",
    "                RSDPower.covariance_PP24[kcut_min:kcut_max+1,kcut_min:kcut_max+1],\n",
    "                RSDPower.covariance_PP04[kcut_min:kcut_max+1,kcut_min:kcut_max+1],\n",
    "                RSDPower.covariance_PP24[kcut_min:kcut_max+1,kcut_min:kcut_max+1],\n",
    "                RSDPower.covariance_PP44[kcut_min:kcut_max+1,kcut_min:kcut_max+1]]\n",
    "\n",
    "    matricesPXi = [RSDPower.covariance_PXi00[kcut_min:kcut_max+1,rcut_max:rcut_min+1],\\\n",
    "                 RSDPower.covariance_PXi02[kcut_min:kcut_max+1,rcut_max:rcut_min+1],\\\n",
    "                 RSDPower.covariance_PXi04[kcut_min:kcut_max+1,rcut_max:rcut_min+1],\\\n",
    "                 RSDPower.covariance_PXi20[kcut_min:kcut_max+1,rcut_max:rcut_min+1],\\\n",
    "                 RSDPower.covariance_PXi22[kcut_min:kcut_max+1,rcut_max:rcut_min+1],\\\n",
    "                 RSDPower.covariance_PXi24[kcut_min:kcut_max+1,rcut_max:rcut_min+1],\\\n",
    "                 RSDPower.covariance_PXi40[kcut_min:kcut_max+1,rcut_max:rcut_min+1],\\\n",
    "                 RSDPower.covariance_PXi42[kcut_min:kcut_max+1,rcut_max:rcut_min+1],\\\n",
    "                 RSDPower.covariance_PXi44[kcut_min:kcut_max+1,rcut_max:rcut_min+1]]\n",
    "\n",
    "\n",
    "    l1 = RSDPower.kcenter_y.size\n",
    "    l2 = rcut_min+1 - rcut_max\n",
    "    l3 = kcut_max+1 - kcut_min\n",
    "    \n",
    "    \n",
    "    # combining covariances\n",
    "    C_matrix3PP_all = CombineCovariance3(l1, matricesPP_all)\n",
    "    C_matrix3PP = CombineCovariance3(l3, matricesPP)\n",
    "    C_matrix3Xi = CombineCovariance3(l2, matricesXi)\n",
    "\n",
    "    #C_matrix3PXi = np.zeros((C_matrix3PXi.shape))\n",
    "    C_matrix3PXi, C_matrix3XiP = CombineCrossCovariance3(l3, l2, matricesPXi, transpose = True)\n",
    "    C_matrix3_tot = np.concatenate((np.concatenate((C_matrix3PP, C_matrix3PXi), axis=1),\\\n",
    "                                    np.concatenate((C_matrix3PXi.T, C_matrix3Xi), axis=1)), axis = 0)\n",
    "\n",
    "\n",
    "    \n",
    "    # inverting matrices\n",
    "    from test_SNR import blockwiseInversion\n",
    "    FisherP_all = inv(C_matrix3PP_all)\n",
    "    FisherP = inv(C_matrix3PP)    \n",
    "    FisherXi = inv(C_matrix3Xi)\n",
    "    print '\\nFisherXi', np.sum(FisherXi.diagonal() <= 0.0)\n",
    "\n",
    "    Fisher3_tot = pinv(C_matrix3_tot, rcond = 1e-30)\n",
    "                       \n",
    "    \"\"\"\n",
    "    rcondnum = np.arange(30, 10, -1)\n",
    "    for rc in rcondnum:\n",
    "        Fisher3_tot = pinv(C_matrix3_tot, rcond = 10**(-1*rc))\n",
    "        neg = np.sum(Fisher3_tot.diagonal() <=0.0)\n",
    "        print rc, neg\n",
    "        if neg == 0 : break\n",
    "    #if rc == 14 : raise ValueError(\"Inversion failed : rcond exceeds 1e-15\")   \n",
    "    #FisherXi = blockwiseInversion( C_matrix3Xi, rcut_min+1-rcut_max )\n",
    "    #Fisher3_tot = blockwiseInversion( C_matrix3_tot, 3 * (kcut_max+1-kcut_min) )\n",
    "    \"\"\"\n",
    "    \n",
    "    \n",
    "    # derivatives\n",
    "    derivative_P0 = np.identity(RSDPower.kcenter_y.size)[:,kcut_min:kcut_max+1]\n",
    "    Pzeros = np.zeros((derivative_P0.shape))\n",
    "\n",
    "    derivative_P = np.concatenate((np.concatenate((derivative_P0, Pzeros, Pzeros),axis=1 ),\\\n",
    "                                   np.concatenate((Pzeros, derivative_P0, Pzeros),axis=1 ),\\\n",
    "                                   np.concatenate((Pzeros, Pzeros, derivative_P0),axis=1 )), axis=0)\n",
    "    Xizeros = np.zeros((RSDPower.dxip0[:,rcut_max:rcut_min+1].shape))\n",
    "    derivative_correl_avg = np.concatenate(( np.concatenate((RSDPower.dxip0[:,rcut_max:rcut_min+1],Xizeros,Xizeros), axis=1),\\\n",
    "                                            np.concatenate((Xizeros,RSDPower.dxip2[:,rcut_max:rcut_min+1],Xizeros), axis=1),\\\n",
    "                                            np.concatenate((Xizeros,Xizeros,RSDPower.dxip4[:,rcut_max:rcut_min+1]), axis=1)),axis=0 )\n",
    "    Derivatives = np.concatenate((derivative_P,derivative_correl_avg), axis=1)\n",
    "\n",
    "    \n",
    "    # Fisher.....\n",
    "    FisherBand_P = FisherP.copy()\n",
    "    FisherBand_P_all = FisherP_all.copy()\n",
    "    FisherBand_Xi = FisherProjection_Fishergiven(derivative_correl_avg, FisherXi)\n",
    "    FisherBand_tot = FisherProjection_Fishergiven(Derivatives, Fisher3_tot)\n",
    "    \n",
    "    \n",
    "    # vector and reorder\n",
    "    from test_SNR import reorderingVector, reordering, blockwise\n",
    "    m_P0 = RSDPower.multipole_bandpower0[kcut_min:kcut_max+1]\n",
    "    m_P2 = RSDPower.multipole_bandpower2[kcut_min:kcut_max+1]\n",
    "    m_P4 = RSDPower.multipole_bandpower4[kcut_min:kcut_max+1]\n",
    "    m_P = reorderingVector( [m_P0, m_P2, m_P4] )\n",
    "    # Fisher reorering\n",
    "    re_FisherBand_P_all, _ = reordering( RSDPower, FisherBand_P_all)\n",
    "    re_FisherBand_P, _ = reordering( RSDPower, FisherBand_P)\n",
    "    re_FisherBand_Xi, m_P_all = reordering( RSDPower, FisherBand_Xi)\n",
    "    re_FisherBand_tot, _ = reordering( RSDPower, FisherBand_tot)\n",
    "\n",
    "    #if reorder is False : return [m_P0, m_P2, m_P4], [FisherBand_P, FisherBand_Xi]\n",
    "    #elif reorder is True : return m_P, m_P_all, re_FisherBand_P_all,re_FisherBand_P, re_FisherBand_Xi, re_FisherBand_tot\n",
    "    \n",
    "    return [m_P0, m_P2, m_P4], [FisherBand_P, FisherBand_Xi], m_P, m_P_all, re_FisherBand_P_all,re_FisherBand_P, re_FisherBand_Xi, re_FisherBand_tot"
   ]
  },
  {
   "cell_type": "code",
   "execution_count": 364,
   "metadata": {
    "collapsed": false
   },
   "outputs": [],
   "source": [
    "def CumulativeSNR_diag( FisherBand_P, FisherBand_Xi, data_vec = None, kmin=0.01, kmax = 2 ):\n",
    "    # diagonal SNR\n",
    "    #m_P, m_P_all, re_FisherBand_P_all,re_FisherBand_P, re_FisherBand_Xi, re_FisherBand_tot \n",
    "    \n",
    "    [m_P0, m_P2, m_P4] =  data_vec\n",
    "    ind = m_P0.size\n",
    "    FP00 = FisherBand_P[:ind, :ind]\n",
    "    FP02 = FisherBand_P[:ind, ind: 2* ind]\n",
    "    FP04 = FisherBand_P[:ind, 2*ind:3*ind]\n",
    "    FP22 = FisherBand_P[ind:2 * ind, ind: 2* ind]\n",
    "    FP24 = FisherBand_P[ind:2 * ind, 2*ind:3 * ind]\n",
    "    FP44 = FisherBand_P[2*ind:3 * ind, 2*ind: 3* ind]\n",
    "\n",
    "    DiagSNR_P_all = m_P0**2 * FP00.diagonal() + m_P2**2 * FP22.diagonal() + m_P4**2 * FP44.diagonal() +\\\n",
    "    2*(m_P0 * m_P2 * FP02.diagonal() + m_P0*m_P4 * FP04.diagonal() + m_P2*m_P4 * FP24.diagonal())\n",
    "\n",
    "    FXi00 = FisherBand_Xi[:ind, :ind]]\n",
    "    FXi02 = FisherBand_Xi[:ind, ind: 2* ind]\n",
    "    FXi04 = FisherBand_Xi[:ind, 2*ind:3*ind]\n",
    "    FXi22 = FisherBand_Xi[ind:2 * ind, ind: 2* ind]\n",
    "    FXi24 = FisherBand_Xi[ind:2 * ind, 2*ind:3 * ind]\n",
    "    FXi44 = FisherBand_Xi[2*ind:3 * ind, 2*ind: 3* ind]\n",
    "\n",
    "    DiagSNR_Xi_all = m_P0**2 * FXi00.diagonal() + m_P2**2 * FXi22.diagonal() + m_P4**2 * FXi44.diagonal() +\\\n",
    "    2*(m_P0*m_P2 * FXi02.diagonal() + m_P0*m_P4 * FXi04.diagonal() + m_P2*m_P4 * FXi24.diagonal())\n",
    "\n",
    "    DiagSNR_Xi0 = m_P0**2 * FXi00.diagonal() \n",
    "\n",
    "    DiagCSNR_P = []\n",
    "    DiagCSNR_Xi = []\n",
    "    DiagCSNR_Xi0 = []\n",
    "\n",
    "    sumP = 0\n",
    "    sumXi = 0\n",
    "    sumXi0 = 0\n",
    "    for i in range(m_P0.size):\n",
    "        sumP = sumP + DiagSNR_P_all[i]\n",
    "        sumXi = sumXi + DiagSNR_Xi_all[i]\n",
    "        sumXi0 = sumXi0 + DiagSNR_Xi0[i]\n",
    "        DiagCSNR_P.append(sumP)\n",
    "        DiagCSNR_Xi.append(sumXi)\n",
    "        DiagCSNR_Xi0.append(sumXi0)\n",
    "\n",
    "        \n",
    "    kcut_min = get_closest_index_in_data( kmin, RSDPower.kmin_y )\n",
    "    kcut_max = get_closest_index_in_data( kmax, RSDPower.kmax_y )\n",
    "    \n",
    "    return RSDPower.kcenter_y, np.array(DiagCSNR_P), np.array(DiagCSNR_Xi)\n",
    "\n"
   ]
  },
  {
   "cell_type": "code",
   "execution_count": 8,
   "metadata": {
    "collapsed": true
   },
   "outputs": [],
   "source": [
    "def CumulativeSNR(RSDPower, re_FisherBand_P_all, m_P_all, kmin, kmax):\n",
    "    \n",
    "    from test_SNR import blockwise\n",
    "    \n",
    "    kcut_min = get_closest_index_in_data( kmin, RSDPower.kmin_y )\n",
    "    kcut_max = get_closest_index_in_data( kmax, RSDPower.kmax_y )\n",
    "\n",
    "    FP = re_FisherBand_P_all.copy()[3*kcut_min:3*kcut_max+3, 3*kcut_min:3*kcut_max+3]\n",
    "    PP = m_P_all.copy()[3*kcut_min:3*kcut_max+3]\n",
    "    \n",
    "    SNRlist_P = []\n",
    "    SNRP = np.dot( np.dot(PP, FP), PP.T )\n",
    "    SNRlist_P.append(SNRP)\n",
    "    for j in range(1, PP.size/3):\n",
    "        PP = PP[:-3]\n",
    "        for i in range(0,3):\n",
    "            FP = blockwise( FP )\n",
    "        SNRP = np.dot( np.dot(PP, FP), PP.T )\n",
    "        SNRlist_P.append(SNRP)\n",
    "\n",
    "    SNRlist_P = np.array(SNRlist_P[::-1]).ravel()\n",
    "    kklist = RSDPower.kcenter_y[kcut_min:kcut_max+1]\n",
    "    \n",
    "    return kklist, SNRlist_P"
   ]
  },
  {
   "cell_type": "markdown",
   "metadata": {},
   "source": [
    "#### Band-power Fisher matrixes from different estimators"
   ]
  },
  {
   "cell_type": "code",
   "execution_count": 15,
   "metadata": {
    "collapsed": true
   },
   "outputs": [],
   "source": [
    "#FisherBand_P = FisherP.copy()\n",
    "#FisherBand_P_all = FisherP_all.copy()\n",
    "#FisherBand_Xi = FisherProjection_Fishergiven(derivative_correl_avg, FisherXi)\n",
    "#FisherBand_tot = FisherProjection_Fishergiven(Derivatives, Fisher3_tot)"
   ]
  },
  {
   "cell_type": "markdown",
   "metadata": {},
   "source": [
    "----"
   ]
  },
  {
   "cell_type": "markdown",
   "metadata": {},
   "source": [
    "Plotting"
   ]
  },
  {
   "cell_type": "code",
   "execution_count": 13,
   "metadata": {
    "collapsed": false
   },
   "outputs": [],
   "source": [
    "#  (parameter description in class code)\n",
    "# Fourier K 0.001~10\n",
    "KMIN = 1e-10\n",
    "KMAX = 2 # 361.32 #502.32\n",
    "RMIN = 18\n",
    "RMAX = 180\n",
    "\n",
    "kmin = 1e-10\n",
    "kmax = 0.2\n",
    "\n",
    "# the number of k sample point should be 2^n+1 (b/c romb integration)\n",
    "rN = 163 # (RMAX-int(RMIN)) * 2\n",
    "kN = 2**10 + 1\n",
    "kN_x = 1.\n",
    "kN_y = 500\n",
    "#subN = 2**5 + 1\n",
    "# RSD class"
   ]
  },
  {
   "cell_type": "code",
   "execution_count": null,
   "metadata": {
    "collapsed": false
   },
   "outputs": [],
   "source": [
    "RSDPower = NoShell_covariance(KMIN, KMAX, RMIN, RMAX, kN, rN, kN_x, kN_y, logscale = False)\n",
    "#_, kbin, SNR_P, kbin2, SNR_Xi, kbin2, SNR_tot = SNR_convergence_test(RSDPower)\n",
    "#m_P, m_P_all, re_FisherBand_P_all,re_FisherBand_P, re_FisherBand_Xi, re_FisherBand_tot = \\\n",
    "#BandPowerFisher(RSDPower, RMIN = RMIN, RMAX = RMAX, kmin = kmin, kmax = kmax, reorder = True)\n",
    "#[m_P0, m_P2, m_P4], [FisherBand_P, FisherBand_Xi] = \\\n",
    "#BandPowerFisher(RSDPower, RMIN = RMIN, RMAX = RMAX, kmin = kmin, kmax = kmax)\n",
    "\n",
    "[m_P0, m_P2, m_P4], [FisherBand_P, FisherBand_Xi], m_P, m_P_all, re_FisherBand_P_all,re_FisherBand_P, re_FisherBand_Xi, re_FisherBand_tot \\\n",
    "= BandPowerFisher(RSDPower, RMIN = RMIN, RMAX = RMAX, kmin = kmin, kmax = kmax)\n",
    "\n",
    "kbin, SNR_P = CumulativeSNR(RSDPower, re_FisherBand_P_all, m_P_all, kmin, kmax)\n",
    "kbin2, SNR_Xi = CumulativeSNR(RSDPower, re_FisherBand_Xi, m_P_all, KMIN, KMAX)\n",
    "kbin_tot, SNR_tot = CumulativeSNR(RSDPower, re_FisherBand_tot, m_P_all, KMIN, KMAX)\n",
    "kbin_d, DiagCSNR_P, DiagCSNR_Xi =  CumulativeSNR_diag( FisherBand_P, FisherBand_Xi, data_vec = [m_P0, m_P2, m_P4])"
   ]
  },
  {
   "cell_type": "code",
   "execution_count": 83,
   "metadata": {
    "collapsed": false
   },
   "outputs": [],
   "source": [
    "k_s, SNR_P_s = CumulativeSNR(RSDPower, re_FisherBand_P_all, m_P_all, kmin, kmax)\n",
    "DAT = np.column_stack((k_s, SNR_P_s ))\n",
    "#np.savetxt('data_txt/snr.txt', DAT)\n",
    "np.savetxt('data_txt/snr_kmax'+str(kmax)+'_kmin'+str(kmin)+'.txt', DAT)"
   ]
  },
  {
   "cell_type": "code",
   "execution_count": 84,
   "metadata": {
    "collapsed": false
   },
   "outputs": [],
   "source": [
    "kcolumn = np.zeros(kbin2.size)\n",
    "SNR_P_column = kcolumn.copy()\n",
    "kcolumn[:kbin.size] = kbin\n",
    "SNR_P_column[:kbin.size] = SNR_P\n",
    "DAT = np.column_stack((kcolumn, SNR_P_column, kbin2, SNR_Xi ))\n",
    "#np.savetxt('data_txt/snr.txt', DAT)\n",
    "np.savetxt('data_txt/snr_rmax'+str(RMAX)+'_rmin'+str(RMIN)+'.txt', DAT)\n",
    "\n",
    "# kbin_tot, SNR_tot\n",
    "DAT = np.column_stack((kbin_tot, SNR_tot ))\n",
    "#np.savetxt('data_txt/snr.txt', DAT)\n",
    "np.savetxt('data_txt/snr_tot_rmax'+str(RMAX)+'_rmin'+str(RMIN)+'_kmax'+str(kmax)+'_kmin'+str(kmin)+'.txt', DAT)\n",
    "\n",
    "#kbin_d, DiagCSNR_P, DiagCSNR_Xi =  CumulativeSNR_diag( FisherBand_P, FisherBand_Xi, data_vec = [m_P0, m_P2, m_P4])\n",
    "# diagonal data\n",
    "#DAT = np.column_stack((kbin_d, DiagCSNR_P, DiagCSNR_Xi ))\n",
    "#np.savetxt('data_txt/snr_diag_rmax'+str(RMAX)+'_rmin'+str(RMIN)+'.txt', DAT)"
   ]
  },
  {
   "cell_type": "markdown",
   "metadata": {},
   "source": [
    "### Convergence test (fig1) "
   ]
  },
  {
   "cell_type": "code",
   "execution_count": 504,
   "metadata": {
    "collapsed": false
   },
   "outputs": [
    {
     "name": "stdout",
     "output_type": "stream",
     "text": [
      "-------------------------------------------------------------------        \n",
      "class error_analysis, no RSD         \n",
      "z = 0.0, kN =1, N_y = 100, rN = 500, N_x = 8193\n",
      "dr = 0.400801603206, dk=nan, dk_y=0.020202020201\n"
     ]
    },
    {
     "name": "stderr",
     "output_type": "stream",
     "text": [
      "/n/home00/lee.5922/.local/lib/python2.7/site-packages/scipy/integrate/quadrature.py:392: VisibleDeprecationWarning: using a non-integer number instead of an integer will result in an error in the future\n",
      "  x = x.reshape(tuple(shapex))\n",
      "/n/home00/lee.5922/.local/lib/python2.7/site-packages/scipy/integrate/quadrature.py:392: VisibleDeprecationWarning: using a non-integer number instead of an integer will result in an error in the future\n",
      "  x = x.reshape(tuple(shapex))\n",
      "/n/home00/lee.5922/.local/lib/python2.7/site-packages/scipy/integrate/quadrature.py:392: VisibleDeprecationWarning: using a non-integer number instead of an integer will result in an error in the future\n",
      "  x = x.reshape(tuple(shapex))\n"
     ]
    },
    {
     "name": "stdout",
     "output_type": "stream",
     "text": [
      "multiprocessing 100 %"
     ]
    },
    {
     "name": "stderr",
     "output_type": "stream",
     "text": [
      "/n/home00/lee.5922/.local/lib/python2.7/site-packages/scipy/integrate/quadrature.py:392: VisibleDeprecationWarning: using a non-integer number instead of an integer will result in an error in the future\n",
      "  x = x.reshape(tuple(shapex))\n",
      "/n/home00/lee.5922/.local/lib/python2.7/site-packages/scipy/integrate/quadrature.py:392: VisibleDeprecationWarning: using a non-integer number instead of an integer will result in an error in the future\n",
      "  x = x.reshape(tuple(shapex))\n",
      "/n/home00/lee.5922/.local/lib/python2.7/site-packages/scipy/integrate/quadrature.py:392: VisibleDeprecationWarning: using a non-integer number instead of an integer will result in an error in the future\n",
      "  x = x.reshape(tuple(shapex))\n",
      "/n/home00/lee.5922/.local/lib/python2.7/site-packages/scipy/integrate/quadrature.py:392: VisibleDeprecationWarning: using a non-integer number instead of an integer will result in an error in the future\n",
      "  x = x.reshape(tuple(shapex))\n"
     ]
    },
    {
     "name": "stdout",
     "output_type": "stream",
     "text": [
      "multiprocessing 33 %"
     ]
    },
    {
     "name": "stderr",
     "output_type": "stream",
     "text": [
      "/n/home00/lee.5922/.local/lib/python2.7/site-packages/scipy/integrate/quadrature.py:392: VisibleDeprecationWarning: using a non-integer number instead of an integer will result in an error in the future\n",
      "  x = x.reshape(tuple(shapex))\n",
      "/n/home00/lee.5922/.local/lib/python2.7/site-packages/scipy/integrate/quadrature.py:392: VisibleDeprecationWarning: using a non-integer number instead of an integer will result in an error in the future\n",
      "  x = x.reshape(tuple(shapex))\n"
     ]
    },
    {
     "name": "stdout",
     "output_type": "stream",
     "text": [
      "multiprocessing 67 %"
     ]
    },
    {
     "name": "stderr",
     "output_type": "stream",
     "text": [
      "/n/home00/lee.5922/.local/lib/python2.7/site-packages/scipy/integrate/quadrature.py:392: VisibleDeprecationWarning: using a non-integer number instead of an integer will result in an error in the future\n",
      "  x = x.reshape(tuple(shapex))\n",
      "/n/home00/lee.5922/.local/lib/python2.7/site-packages/scipy/integrate/quadrature.py:392: VisibleDeprecationWarning: using a non-integer number instead of an integer will result in an error in the future\n",
      "  x = x.reshape(tuple(shapex))\n",
      "/n/home00/lee.5922/.local/lib/python2.7/site-packages/scipy/integrate/quadrature.py:392: VisibleDeprecationWarning: using a non-integer number instead of an integer will result in an error in the future\n",
      "  x = x.reshape(tuple(shapex))\n",
      "/n/home00/lee.5922/.local/lib/python2.7/site-packages/scipy/integrate/quadrature.py:392: VisibleDeprecationWarning: using a non-integer number instead of an integer will result in an error in the future\n",
      "  x = x.reshape(tuple(shapex))\n",
      "/n/home00/lee.5922/.local/lib/python2.7/site-packages/scipy/integrate/quadrature.py:392: VisibleDeprecationWarning: using a non-integer number instead of an integer will result in an error in the future\n",
      "  x = x.reshape(tuple(shapex))\n",
      "/n/home00/lee.5922/.local/lib/python2.7/site-packages/scipy/integrate/quadrature.py:392: VisibleDeprecationWarning: using a non-integer number instead of an integer will result in an error in the future\n",
      "  x = x.reshape(tuple(shapex))\n"
     ]
    },
    {
     "name": "stdout",
     "output_type": "stream",
     "text": [
      "multiprocessing 100 %"
     ]
    },
    {
     "name": "stderr",
     "output_type": "stream",
     "text": [
      "/n/home00/lee.5922/.local/lib/python2.7/site-packages/scipy/integrate/quadrature.py:392: VisibleDeprecationWarning: using a non-integer number instead of an integer will result in an error in the future\n",
      "  x = x.reshape(tuple(shapex))\n",
      "/n/home00/lee.5922/.local/lib/python2.7/site-packages/scipy/integrate/quadrature.py:392: VisibleDeprecationWarning: using a non-integer number instead of an integer will result in an error in the future\n",
      "  x = x.reshape(tuple(shapex))\n",
      "/n/home00/lee.5922/.local/lib/python2.7/site-packages/scipy/integrate/quadrature.py:392: VisibleDeprecationWarning: using a non-integer number instead of an integer will result in an error in the future\n",
      "  x = x.reshape(tuple(shapex))\n",
      "/n/home00/lee.5922/.local/lib/python2.7/site-packages/scipy/integrate/quadrature.py:392: VisibleDeprecationWarning: using a non-integer number instead of an integer will result in an error in the future\n",
      "  x = x.reshape(tuple(shapex))\n",
      "/n/home00/lee.5922/.local/lib/python2.7/site-packages/scipy/integrate/quadrature.py:392: VisibleDeprecationWarning: using a non-integer number instead of an integer will result in an error in the future\n",
      "  x = x.reshape(tuple(shapex))\n",
      "/n/home00/lee.5922/.local/lib/python2.7/site-packages/scipy/integrate/quadrature.py:392: VisibleDeprecationWarning: using a non-integer number instead of an integer will result in an error in the future\n",
      "  x = x.reshape(tuple(shapex))\n"
     ]
    },
    {
     "name": "stdout",
     "output_type": "stream",
     "text": [
      "-------------------------------------------------------------------        \n",
      "class error_analysis, no RSD         \n",
      "z = 0.0, kN =1, N_y = 200, rN = 500, N_x = 8193\n",
      "dr = 0.400801603206, dk=nan, dk_y=0.0100502512558\n"
     ]
    },
    {
     "name": "stderr",
     "output_type": "stream",
     "text": [
      "/n/home00/lee.5922/.local/lib/python2.7/site-packages/scipy/integrate/quadrature.py:392: VisibleDeprecationWarning: using a non-integer number instead of an integer will result in an error in the future\n",
      "  x = x.reshape(tuple(shapex))\n",
      "/n/home00/lee.5922/.local/lib/python2.7/site-packages/scipy/integrate/quadrature.py:392: VisibleDeprecationWarning: using a non-integer number instead of an integer will result in an error in the future\n",
      "  x = x.reshape(tuple(shapex))\n",
      "/n/home00/lee.5922/.local/lib/python2.7/site-packages/scipy/integrate/quadrature.py:392: VisibleDeprecationWarning: using a non-integer number instead of an integer will result in an error in the future\n",
      "  x = x.reshape(tuple(shapex))\n"
     ]
    },
    {
     "name": "stdout",
     "output_type": "stream",
     "text": [
      "multiprocessing 100 %"
     ]
    },
    {
     "name": "stderr",
     "output_type": "stream",
     "text": [
      "/n/home00/lee.5922/.local/lib/python2.7/site-packages/scipy/integrate/quadrature.py:392: VisibleDeprecationWarning: using a non-integer number instead of an integer will result in an error in the future\n",
      "  x = x.reshape(tuple(shapex))\n",
      "/n/home00/lee.5922/.local/lib/python2.7/site-packages/scipy/integrate/quadrature.py:392: VisibleDeprecationWarning: using a non-integer number instead of an integer will result in an error in the future\n",
      "  x = x.reshape(tuple(shapex))\n",
      "/n/home00/lee.5922/.local/lib/python2.7/site-packages/scipy/integrate/quadrature.py:392: VisibleDeprecationWarning: using a non-integer number instead of an integer will result in an error in the future\n",
      "  x = x.reshape(tuple(shapex))\n",
      "/n/home00/lee.5922/.local/lib/python2.7/site-packages/scipy/integrate/quadrature.py:392: VisibleDeprecationWarning: using a non-integer number instead of an integer will result in an error in the future\n",
      "  x = x.reshape(tuple(shapex))\n"
     ]
    },
    {
     "name": "stdout",
     "output_type": "stream",
     "text": [
      "multiprocessing 33 %"
     ]
    },
    {
     "name": "stderr",
     "output_type": "stream",
     "text": [
      "/n/home00/lee.5922/.local/lib/python2.7/site-packages/scipy/integrate/quadrature.py:392: VisibleDeprecationWarning: using a non-integer number instead of an integer will result in an error in the future\n",
      "  x = x.reshape(tuple(shapex))\n",
      "/n/home00/lee.5922/.local/lib/python2.7/site-packages/scipy/integrate/quadrature.py:392: VisibleDeprecationWarning: using a non-integer number instead of an integer will result in an error in the future\n",
      "  x = x.reshape(tuple(shapex))\n"
     ]
    },
    {
     "name": "stdout",
     "output_type": "stream",
     "text": [
      "multiprocessing 67 %"
     ]
    },
    {
     "name": "stderr",
     "output_type": "stream",
     "text": [
      "/n/home00/lee.5922/.local/lib/python2.7/site-packages/scipy/integrate/quadrature.py:392: VisibleDeprecationWarning: using a non-integer number instead of an integer will result in an error in the future\n",
      "  x = x.reshape(tuple(shapex))\n",
      "/n/home00/lee.5922/.local/lib/python2.7/site-packages/scipy/integrate/quadrature.py:392: VisibleDeprecationWarning: using a non-integer number instead of an integer will result in an error in the future\n",
      "  x = x.reshape(tuple(shapex))\n",
      "/n/home00/lee.5922/.local/lib/python2.7/site-packages/scipy/integrate/quadrature.py:392: VisibleDeprecationWarning: using a non-integer number instead of an integer will result in an error in the future\n",
      "  x = x.reshape(tuple(shapex))\n",
      "/n/home00/lee.5922/.local/lib/python2.7/site-packages/scipy/integrate/quadrature.py:392: VisibleDeprecationWarning: using a non-integer number instead of an integer will result in an error in the future\n",
      "  x = x.reshape(tuple(shapex))\n",
      "/n/home00/lee.5922/.local/lib/python2.7/site-packages/scipy/integrate/quadrature.py:392: VisibleDeprecationWarning: using a non-integer number instead of an integer will result in an error in the future\n",
      "  x = x.reshape(tuple(shapex))\n"
     ]
    },
    {
     "name": "stdout",
     "output_type": "stream",
     "text": [
      "multiprocessing 100 %"
     ]
    },
    {
     "name": "stderr",
     "output_type": "stream",
     "text": [
      "/n/home00/lee.5922/.local/lib/python2.7/site-packages/scipy/integrate/quadrature.py:392: VisibleDeprecationWarning: using a non-integer number instead of an integer will result in an error in the future\n",
      "  x = x.reshape(tuple(shapex))\n",
      "/n/home00/lee.5922/.local/lib/python2.7/site-packages/scipy/integrate/quadrature.py:392: VisibleDeprecationWarning: using a non-integer number instead of an integer will result in an error in the future\n",
      "  x = x.reshape(tuple(shapex))\n",
      "/n/home00/lee.5922/.local/lib/python2.7/site-packages/scipy/integrate/quadrature.py:392: VisibleDeprecationWarning: using a non-integer number instead of an integer will result in an error in the future\n",
      "  x = x.reshape(tuple(shapex))\n",
      "/n/home00/lee.5922/.local/lib/python2.7/site-packages/scipy/integrate/quadrature.py:392: VisibleDeprecationWarning: using a non-integer number instead of an integer will result in an error in the future\n",
      "  x = x.reshape(tuple(shapex))\n",
      "/n/home00/lee.5922/.local/lib/python2.7/site-packages/scipy/integrate/quadrature.py:392: VisibleDeprecationWarning: using a non-integer number instead of an integer will result in an error in the future\n",
      "  x = x.reshape(tuple(shapex))\n",
      "/n/home00/lee.5922/.local/lib/python2.7/site-packages/scipy/integrate/quadrature.py:392: VisibleDeprecationWarning: using a non-integer number instead of an integer will result in an error in the future\n",
      "  x = x.reshape(tuple(shapex))\n",
      "/n/home00/lee.5922/.local/lib/python2.7/site-packages/scipy/integrate/quadrature.py:392: VisibleDeprecationWarning: using a non-integer number instead of an integer will result in an error in the future\n",
      "  x = x.reshape(tuple(shapex))\n"
     ]
    },
    {
     "name": "stdout",
     "output_type": "stream",
     "text": [
      "-------------------------------------------------------------------        \n",
      "class error_analysis, no RSD         \n",
      "z = 0.0, kN =1, N_y = 300, rN = 500, N_x = 8193\n",
      "dr = 0.400801603206, dk=nan, dk_y=0.00668896321037\n"
     ]
    },
    {
     "name": "stderr",
     "output_type": "stream",
     "text": [
      "/n/home00/lee.5922/.local/lib/python2.7/site-packages/scipy/integrate/quadrature.py:392: VisibleDeprecationWarning: using a non-integer number instead of an integer will result in an error in the future\n",
      "  x = x.reshape(tuple(shapex))\n",
      "/n/home00/lee.5922/.local/lib/python2.7/site-packages/scipy/integrate/quadrature.py:392: VisibleDeprecationWarning: using a non-integer number instead of an integer will result in an error in the future\n",
      "  x = x.reshape(tuple(shapex))\n",
      "/n/home00/lee.5922/.local/lib/python2.7/site-packages/scipy/integrate/quadrature.py:392: VisibleDeprecationWarning: using a non-integer number instead of an integer will result in an error in the future\n",
      "  x = x.reshape(tuple(shapex))\n"
     ]
    },
    {
     "name": "stdout",
     "output_type": "stream",
     "text": [
      "multiprocessing 100 %"
     ]
    },
    {
     "name": "stderr",
     "output_type": "stream",
     "text": [
      "/n/home00/lee.5922/.local/lib/python2.7/site-packages/scipy/integrate/quadrature.py:392: VisibleDeprecationWarning: using a non-integer number instead of an integer will result in an error in the future\n",
      "  x = x.reshape(tuple(shapex))\n",
      "/n/home00/lee.5922/.local/lib/python2.7/site-packages/scipy/integrate/quadrature.py:392: VisibleDeprecationWarning: using a non-integer number instead of an integer will result in an error in the future\n",
      "  x = x.reshape(tuple(shapex))\n",
      "/n/home00/lee.5922/.local/lib/python2.7/site-packages/scipy/integrate/quadrature.py:392: VisibleDeprecationWarning: using a non-integer number instead of an integer will result in an error in the future\n",
      "  x = x.reshape(tuple(shapex))\n",
      "/n/home00/lee.5922/.local/lib/python2.7/site-packages/scipy/integrate/quadrature.py:392: VisibleDeprecationWarning: using a non-integer number instead of an integer will result in an error in the future\n",
      "  x = x.reshape(tuple(shapex))\n"
     ]
    },
    {
     "name": "stdout",
     "output_type": "stream",
     "text": [
      "multiprocessing 33 %"
     ]
    },
    {
     "name": "stderr",
     "output_type": "stream",
     "text": [
      "/n/home00/lee.5922/.local/lib/python2.7/site-packages/scipy/integrate/quadrature.py:392: VisibleDeprecationWarning: using a non-integer number instead of an integer will result in an error in the future\n",
      "  x = x.reshape(tuple(shapex))\n",
      "/n/home00/lee.5922/.local/lib/python2.7/site-packages/scipy/integrate/quadrature.py:392: VisibleDeprecationWarning: using a non-integer number instead of an integer will result in an error in the future\n",
      "  x = x.reshape(tuple(shapex))\n"
     ]
    },
    {
     "name": "stdout",
     "output_type": "stream",
     "text": [
      "multiprocessing 67 %"
     ]
    },
    {
     "name": "stderr",
     "output_type": "stream",
     "text": [
      "/n/home00/lee.5922/.local/lib/python2.7/site-packages/scipy/integrate/quadrature.py:392: VisibleDeprecationWarning: using a non-integer number instead of an integer will result in an error in the future\n",
      "  x = x.reshape(tuple(shapex))\n",
      "/n/home00/lee.5922/.local/lib/python2.7/site-packages/scipy/integrate/quadrature.py:392: VisibleDeprecationWarning: using a non-integer number instead of an integer will result in an error in the future\n",
      "  x = x.reshape(tuple(shapex))\n",
      "/n/home00/lee.5922/.local/lib/python2.7/site-packages/scipy/integrate/quadrature.py:392: VisibleDeprecationWarning: using a non-integer number instead of an integer will result in an error in the future\n",
      "  x = x.reshape(tuple(shapex))\n",
      "/n/home00/lee.5922/.local/lib/python2.7/site-packages/scipy/integrate/quadrature.py:392: VisibleDeprecationWarning: using a non-integer number instead of an integer will result in an error in the future\n",
      "  x = x.reshape(tuple(shapex))\n",
      "/n/home00/lee.5922/.local/lib/python2.7/site-packages/scipy/integrate/quadrature.py:392: VisibleDeprecationWarning: using a non-integer number instead of an integer will result in an error in the future\n",
      "  x = x.reshape(tuple(shapex))\n",
      "/n/home00/lee.5922/.local/lib/python2.7/site-packages/scipy/integrate/quadrature.py:392: VisibleDeprecationWarning: using a non-integer number instead of an integer will result in an error in the future\n",
      "  x = x.reshape(tuple(shapex))\n",
      "/n/home00/lee.5922/.local/lib/python2.7/site-packages/scipy/integrate/quadrature.py:392: VisibleDeprecationWarning: using a non-integer number instead of an integer will result in an error in the future\n",
      "  x = x.reshape(tuple(shapex))\n",
      "/n/home00/lee.5922/.local/lib/python2.7/site-packages/scipy/integrate/quadrature.py:392: VisibleDeprecationWarning: using a non-integer number instead of an integer will result in an error in the future\n",
      "  x = x.reshape(tuple(shapex))\n"
     ]
    },
    {
     "name": "stdout",
     "output_type": "stream",
     "text": [
      "multiprocessing 100 %"
     ]
    },
    {
     "name": "stderr",
     "output_type": "stream",
     "text": [
      "/n/home00/lee.5922/.local/lib/python2.7/site-packages/scipy/integrate/quadrature.py:392: VisibleDeprecationWarning: using a non-integer number instead of an integer will result in an error in the future\n",
      "  x = x.reshape(tuple(shapex))\n",
      "/n/home00/lee.5922/.local/lib/python2.7/site-packages/scipy/integrate/quadrature.py:392: VisibleDeprecationWarning: using a non-integer number instead of an integer will result in an error in the future\n",
      "  x = x.reshape(tuple(shapex))\n",
      "/n/home00/lee.5922/.local/lib/python2.7/site-packages/scipy/integrate/quadrature.py:392: VisibleDeprecationWarning: using a non-integer number instead of an integer will result in an error in the future\n",
      "  x = x.reshape(tuple(shapex))\n",
      "/n/home00/lee.5922/.local/lib/python2.7/site-packages/scipy/integrate/quadrature.py:392: VisibleDeprecationWarning: using a non-integer number instead of an integer will result in an error in the future\n",
      "  x = x.reshape(tuple(shapex))\n"
     ]
    },
    {
     "name": "stdout",
     "output_type": "stream",
     "text": [
      "-------------------------------------------------------------------        \n",
      "class error_analysis, no RSD         \n",
      "z = 0.0, kN =1, N_y = 400, rN = 500, N_x = 8193\n",
      "dr = 0.400801603206, dk=nan, dk_y=0.00501253132807\n"
     ]
    },
    {
     "name": "stderr",
     "output_type": "stream",
     "text": [
      "/n/home00/lee.5922/.local/lib/python2.7/site-packages/scipy/integrate/quadrature.py:392: VisibleDeprecationWarning: using a non-integer number instead of an integer will result in an error in the future\n",
      "  x = x.reshape(tuple(shapex))\n",
      "/n/home00/lee.5922/.local/lib/python2.7/site-packages/scipy/integrate/quadrature.py:392: VisibleDeprecationWarning: using a non-integer number instead of an integer will result in an error in the future\n",
      "  x = x.reshape(tuple(shapex))\n",
      "/n/home00/lee.5922/.local/lib/python2.7/site-packages/scipy/integrate/quadrature.py:392: VisibleDeprecationWarning: using a non-integer number instead of an integer will result in an error in the future\n",
      "  x = x.reshape(tuple(shapex))\n"
     ]
    },
    {
     "name": "stdout",
     "output_type": "stream",
     "text": [
      "multiprocessing 100 %"
     ]
    },
    {
     "name": "stderr",
     "output_type": "stream",
     "text": [
      "/n/home00/lee.5922/.local/lib/python2.7/site-packages/scipy/integrate/quadrature.py:392: VisibleDeprecationWarning: using a non-integer number instead of an integer will result in an error in the future\n",
      "  x = x.reshape(tuple(shapex))\n",
      "/n/home00/lee.5922/.local/lib/python2.7/site-packages/scipy/integrate/quadrature.py:392: VisibleDeprecationWarning: using a non-integer number instead of an integer will result in an error in the future\n",
      "  x = x.reshape(tuple(shapex))\n",
      "/n/home00/lee.5922/.local/lib/python2.7/site-packages/scipy/integrate/quadrature.py:392: VisibleDeprecationWarning: using a non-integer number instead of an integer will result in an error in the future\n",
      "  x = x.reshape(tuple(shapex))\n",
      "/n/home00/lee.5922/.local/lib/python2.7/site-packages/scipy/integrate/quadrature.py:392: VisibleDeprecationWarning: using a non-integer number instead of an integer will result in an error in the future\n",
      "  x = x.reshape(tuple(shapex))\n"
     ]
    },
    {
     "name": "stdout",
     "output_type": "stream",
     "text": [
      "multiprocessing 33 %"
     ]
    },
    {
     "name": "stderr",
     "output_type": "stream",
     "text": [
      "/n/home00/lee.5922/.local/lib/python2.7/site-packages/scipy/integrate/quadrature.py:392: VisibleDeprecationWarning: using a non-integer number instead of an integer will result in an error in the future\n",
      "  x = x.reshape(tuple(shapex))\n",
      "/n/home00/lee.5922/.local/lib/python2.7/site-packages/scipy/integrate/quadrature.py:392: VisibleDeprecationWarning: using a non-integer number instead of an integer will result in an error in the future\n",
      "  x = x.reshape(tuple(shapex))\n"
     ]
    },
    {
     "name": "stdout",
     "output_type": "stream",
     "text": [
      "multiprocessing 67 %"
     ]
    },
    {
     "name": "stderr",
     "output_type": "stream",
     "text": [
      "/n/home00/lee.5922/.local/lib/python2.7/site-packages/scipy/integrate/quadrature.py:392: VisibleDeprecationWarning: using a non-integer number instead of an integer will result in an error in the future\n",
      "  x = x.reshape(tuple(shapex))\n",
      "/n/home00/lee.5922/.local/lib/python2.7/site-packages/scipy/integrate/quadrature.py:392: VisibleDeprecationWarning: using a non-integer number instead of an integer will result in an error in the future\n",
      "  x = x.reshape(tuple(shapex))\n",
      "/n/home00/lee.5922/.local/lib/python2.7/site-packages/scipy/integrate/quadrature.py:392: VisibleDeprecationWarning: using a non-integer number instead of an integer will result in an error in the future\n",
      "  x = x.reshape(tuple(shapex))\n",
      "/n/home00/lee.5922/.local/lib/python2.7/site-packages/scipy/integrate/quadrature.py:392: VisibleDeprecationWarning: using a non-integer number instead of an integer will result in an error in the future\n",
      "  x = x.reshape(tuple(shapex))\n",
      "/n/home00/lee.5922/.local/lib/python2.7/site-packages/scipy/integrate/quadrature.py:392: VisibleDeprecationWarning: using a non-integer number instead of an integer will result in an error in the future\n",
      "  x = x.reshape(tuple(shapex))\n"
     ]
    },
    {
     "name": "stdout",
     "output_type": "stream",
     "text": [
      "multiprocessing 100 %"
     ]
    },
    {
     "name": "stderr",
     "output_type": "stream",
     "text": [
      "/n/home00/lee.5922/.local/lib/python2.7/site-packages/scipy/integrate/quadrature.py:392: VisibleDeprecationWarning: using a non-integer number instead of an integer will result in an error in the future\n",
      "  x = x.reshape(tuple(shapex))\n",
      "/n/home00/lee.5922/.local/lib/python2.7/site-packages/scipy/integrate/quadrature.py:392: VisibleDeprecationWarning: using a non-integer number instead of an integer will result in an error in the future\n",
      "  x = x.reshape(tuple(shapex))\n",
      "/n/home00/lee.5922/.local/lib/python2.7/site-packages/scipy/integrate/quadrature.py:392: VisibleDeprecationWarning: using a non-integer number instead of an integer will result in an error in the future\n",
      "  x = x.reshape(tuple(shapex))\n",
      "/n/home00/lee.5922/.local/lib/python2.7/site-packages/scipy/integrate/quadrature.py:392: VisibleDeprecationWarning: using a non-integer number instead of an integer will result in an error in the future\n",
      "  x = x.reshape(tuple(shapex))\n",
      "/n/home00/lee.5922/.local/lib/python2.7/site-packages/scipy/integrate/quadrature.py:392: VisibleDeprecationWarning: using a non-integer number instead of an integer will result in an error in the future\n",
      "  x = x.reshape(tuple(shapex))\n",
      "/n/home00/lee.5922/.local/lib/python2.7/site-packages/scipy/integrate/quadrature.py:392: VisibleDeprecationWarning: using a non-integer number instead of an integer will result in an error in the future\n",
      "  x = x.reshape(tuple(shapex))\n",
      "/n/home00/lee.5922/.local/lib/python2.7/site-packages/scipy/integrate/quadrature.py:392: VisibleDeprecationWarning: using a non-integer number instead of an integer will result in an error in the future\n",
      "  x = x.reshape(tuple(shapex))\n"
     ]
    },
    {
     "name": "stdout",
     "output_type": "stream",
     "text": [
      "-------------------------------------------------------------------        \n",
      "class error_analysis, no RSD         \n",
      "z = 0.0, kN =1, N_y = 500, rN = 500, N_x = 8193\n",
      "dr = 0.400801603206, dk=nan, dk_y=0.00400801603186\n"
     ]
    },
    {
     "name": "stderr",
     "output_type": "stream",
     "text": [
      "/n/home00/lee.5922/.local/lib/python2.7/site-packages/scipy/integrate/quadrature.py:392: VisibleDeprecationWarning: using a non-integer number instead of an integer will result in an error in the future\n",
      "  x = x.reshape(tuple(shapex))\n",
      "/n/home00/lee.5922/.local/lib/python2.7/site-packages/scipy/integrate/quadrature.py:392: VisibleDeprecationWarning: using a non-integer number instead of an integer will result in an error in the future\n",
      "  x = x.reshape(tuple(shapex))\n",
      "/n/home00/lee.5922/.local/lib/python2.7/site-packages/scipy/integrate/quadrature.py:392: VisibleDeprecationWarning: using a non-integer number instead of an integer will result in an error in the future\n",
      "  x = x.reshape(tuple(shapex))\n"
     ]
    },
    {
     "name": "stdout",
     "output_type": "stream",
     "text": [
      "multiprocessing 100 %"
     ]
    },
    {
     "name": "stderr",
     "output_type": "stream",
     "text": [
      "/n/home00/lee.5922/.local/lib/python2.7/site-packages/scipy/integrate/quadrature.py:392: VisibleDeprecationWarning: using a non-integer number instead of an integer will result in an error in the future\n",
      "  x = x.reshape(tuple(shapex))\n",
      "/n/home00/lee.5922/.local/lib/python2.7/site-packages/scipy/integrate/quadrature.py:392: VisibleDeprecationWarning: using a non-integer number instead of an integer will result in an error in the future\n",
      "  x = x.reshape(tuple(shapex))\n",
      "/n/home00/lee.5922/.local/lib/python2.7/site-packages/scipy/integrate/quadrature.py:392: VisibleDeprecationWarning: using a non-integer number instead of an integer will result in an error in the future\n",
      "  x = x.reshape(tuple(shapex))\n",
      "/n/home00/lee.5922/.local/lib/python2.7/site-packages/scipy/integrate/quadrature.py:392: VisibleDeprecationWarning: using a non-integer number instead of an integer will result in an error in the future\n",
      "  x = x.reshape(tuple(shapex))\n"
     ]
    },
    {
     "name": "stdout",
     "output_type": "stream",
     "text": [
      "multiprocessing 33 %"
     ]
    },
    {
     "name": "stderr",
     "output_type": "stream",
     "text": [
      "/n/home00/lee.5922/.local/lib/python2.7/site-packages/scipy/integrate/quadrature.py:392: VisibleDeprecationWarning: using a non-integer number instead of an integer will result in an error in the future\n",
      "  x = x.reshape(tuple(shapex))\n",
      "/n/home00/lee.5922/.local/lib/python2.7/site-packages/scipy/integrate/quadrature.py:392: VisibleDeprecationWarning: using a non-integer number instead of an integer will result in an error in the future\n",
      "  x = x.reshape(tuple(shapex))\n"
     ]
    },
    {
     "name": "stdout",
     "output_type": "stream",
     "text": [
      "multiprocessing 67 %"
     ]
    },
    {
     "name": "stderr",
     "output_type": "stream",
     "text": [
      "/n/home00/lee.5922/.local/lib/python2.7/site-packages/scipy/integrate/quadrature.py:392: VisibleDeprecationWarning: using a non-integer number instead of an integer will result in an error in the future\n",
      "  x = x.reshape(tuple(shapex))\n",
      "/n/home00/lee.5922/.local/lib/python2.7/site-packages/scipy/integrate/quadrature.py:392: VisibleDeprecationWarning: using a non-integer number instead of an integer will result in an error in the future\n",
      "  x = x.reshape(tuple(shapex))\n",
      "/n/home00/lee.5922/.local/lib/python2.7/site-packages/scipy/integrate/quadrature.py:392: VisibleDeprecationWarning: using a non-integer number instead of an integer will result in an error in the future\n",
      "  x = x.reshape(tuple(shapex))\n",
      "/n/home00/lee.5922/.local/lib/python2.7/site-packages/scipy/integrate/quadrature.py:392: VisibleDeprecationWarning: using a non-integer number instead of an integer will result in an error in the future\n",
      "  x = x.reshape(tuple(shapex))\n",
      "/n/home00/lee.5922/.local/lib/python2.7/site-packages/scipy/integrate/quadrature.py:392: VisibleDeprecationWarning: using a non-integer number instead of an integer will result in an error in the future\n",
      "  x = x.reshape(tuple(shapex))\n"
     ]
    },
    {
     "name": "stdout",
     "output_type": "stream",
     "text": [
      "multiprocessing 100 %"
     ]
    },
    {
     "name": "stderr",
     "output_type": "stream",
     "text": [
      "/n/home00/lee.5922/.local/lib/python2.7/site-packages/scipy/integrate/quadrature.py:392: VisibleDeprecationWarning: using a non-integer number instead of an integer will result in an error in the future\n",
      "  x = x.reshape(tuple(shapex))\n",
      "/n/home00/lee.5922/.local/lib/python2.7/site-packages/scipy/integrate/quadrature.py:392: VisibleDeprecationWarning: using a non-integer number instead of an integer will result in an error in the future\n",
      "  x = x.reshape(tuple(shapex))\n",
      "/n/home00/lee.5922/.local/lib/python2.7/site-packages/scipy/integrate/quadrature.py:392: VisibleDeprecationWarning: using a non-integer number instead of an integer will result in an error in the future\n",
      "  x = x.reshape(tuple(shapex))\n",
      "/n/home00/lee.5922/.local/lib/python2.7/site-packages/scipy/integrate/quadrature.py:392: VisibleDeprecationWarning: using a non-integer number instead of an integer will result in an error in the future\n",
      "  x = x.reshape(tuple(shapex))\n",
      "/n/home00/lee.5922/.local/lib/python2.7/site-packages/scipy/integrate/quadrature.py:392: VisibleDeprecationWarning: using a non-integer number instead of an integer will result in an error in the future\n",
      "  x = x.reshape(tuple(shapex))\n",
      "/n/home00/lee.5922/.local/lib/python2.7/site-packages/scipy/integrate/quadrature.py:392: VisibleDeprecationWarning: using a non-integer number instead of an integer will result in an error in the future\n",
      "  x = x.reshape(tuple(shapex))\n",
      "/n/home00/lee.5922/.local/lib/python2.7/site-packages/scipy/integrate/quadrature.py:392: VisibleDeprecationWarning: using a non-integer number instead of an integer will result in an error in the future\n",
      "  x = x.reshape(tuple(shapex))\n"
     ]
    }
   ],
   "source": [
    "kN_y = [100, 200, 300, 400, 500]\n",
    "#kN_y = [100, 200]\n",
    "\n",
    "\n",
    "kklist = []\n",
    "SNRlist_P = []\n",
    "kklist2 = []\n",
    "SNRlist_Xi = []\n",
    "SNRlist_tot = []\n",
    "dklist = []\n",
    "\n",
    "for k in kN_y:\n",
    "    RSDPower = NoShell_covariance(KMIN, KMAX, RMIN, RMAX, kN, rN, kN_x, k, logscale = False)\n",
    "    _, kbin, SNR_P, kbin2, SNR_Xi, kbin2, SNR_tot = SNR_convergence_test(RSDPower)\n",
    "    kklist.append(kbin)\n",
    "    kklist2.append(kbin2)\n",
    "    SNRlist_P.append(SNR_P)\n",
    "    SNRlist_Xi.append(SNR_Xi)\n",
    "    SNRlist_tot.append(SNR_tot)\n",
    "    dklist.append(RSDPower.dk_y)\n",
    "    \n",
    "    DAT = np.column_stack(( kbin, SNR_P, kbin2, SNR_Xi, kbin2, SNR_tot ))\n",
    "    np.savetxt('data_txt/snr_comparison_dk{:>0.5f}.txt'.format(RSDPower.dk_y), DAT,\\\n",
    "               header = ' kbin, SNR_P, kbin2, SNR_Xi, kbin2, SNR_tot ' )\n"
   ]
  },
  {
   "cell_type": "code",
   "execution_count": null,
   "metadata": {
    "collapsed": true
   },
   "outputs": [],
   "source": []
  },
  {
   "cell_type": "code",
   "execution_count": 81,
   "metadata": {
    "collapsed": false
   },
   "outputs": [
    {
     "name": "stdout",
     "output_type": "stream",
     "text": [
      "199 199\n",
      "299 299\n",
      "399 399\n",
      "499 499\n",
      "fig save to figure/snr_convergence.pdf\n"
     ]
    },
    {
     "data": {
      "image/png": "[encoded data removed]",
      "text/plain": [
       "<matplotlib.figure.Figure at 0x5e7cad0>"
      ]
     },
     "metadata": {},
     "output_type": "display_data"
    }
   ],
   "source": [
    "# convergence\n",
    "import matplotlib.patches as mpatches\n",
    "import matplotlib.pyplot as plt\n",
    "\n",
    "\n",
    "fig, ax = plt.subplots(1,1, figsize = (8, 6))\n",
    "\n",
    "from mpl_toolkits.axes_grid1.inset_locator import zoomed_inset_axes\n",
    "axins = zoomed_inset_axes(ax, 2.5, loc=4) \n",
    "\n",
    "import glob\n",
    "txt_filename = glob.glob('data_txt/snr_comparison_dk*')[1:]\n",
    "label = [txt_filename[i].split(\"dk\")[1].split('.txt')[0] for i in range(len(txt_filename))] \n",
    "\n",
    "\n",
    "for i in range(len(txt_filename)):\n",
    "    dat = np.genfromtxt(txt_filename[i])\n",
    "    kklist, SNRP, _, SNRXi = dat[:,0], dat[:,1], dat[:,2], dat[:,3]\n",
    "    print kklist.size, SNRP.size\n",
    "    ax.plot(kklist, SNRXi, '.', markersize = 4., label= 'dk ={:>0.3f}'.format(float(label[i])))\n",
    "    #ax2.plot(kklist2[i], SNRlist_Xi[i], '.', label='SNRXI, dk={:>0.3f}'.format(dklist[i]))\n",
    "    axins.plot(kklist, SNRXi,'.', markersize = 9)\n",
    "    \n",
    "ax.plot(kklist, SNRP, linestyle = '--', color = 'black')   \n",
    "axins.plot(kklist, SNRP, linestyle = '--', color = 'black')\n",
    "\n",
    "ax.set_xscale('linear')\n",
    "ax.set_yscale('linear')\n",
    "ax.set_xlabel(r'$k_{\\rm max}$ ($h$ $\\rm{Mpc}^{-1}$)', size=20)\n",
    "ax.set_ylim(1e-5, 6e+5)\n",
    "ax.set_xlim(1e-3, 1)\n",
    "ax.ticklabel_format(axis='y', style='sci', scilimits=(-2,2))\n",
    "ax.set_ylabel(r'$(S/N)^2$', size=20)\n",
    "#ax.set_title('SNR P (dashed) Xi(solid)')\n",
    "\n",
    "x1, x2, y1, y2 = 0.3, 0.45, 3e5, 4e5 # specify the limits\n",
    "axins.set_xlim(x1, x2) # apply the x-limits\n",
    "axins.set_ylim(y1, y2) # apply the y-limits\n",
    "\n",
    "from mpl_toolkits.axes_grid1.inset_locator import mark_inset\n",
    "mark_inset(ax, axins, loc1=1, loc2=3, fc=\"none\", ec=\"0.5\")\n",
    "plt.yticks(visible=False)\n",
    "plt.xticks(visible=False)\n",
    "\n",
    "patch1 = mpatches.Patch(color='blue', label=r'$\\Delta$ k={:>0.3f}'.format(float(label[0])))\n",
    "patch2 = mpatches.Patch(color='green', label=r'$\\Delta$ k={:>0.3f}'.format(float(label[1])))\n",
    "patch3 = mpatches.Patch(color='red', label=r'$\\Delta$ k={:>0.3f}'.format(float(label[2])))\n",
    "patch4 = mpatches.Patch(color='cyan',label=r'$\\Delta$ k={:>0.3f}'.format(float(label[3])))\n",
    "#patch5 = mpatches.Patch(color='purple',label=r'$\\Delta$ k={:>0.3f}'.format(float(label[4])))\n",
    "ax.legend(handles=[patch1, patch2, patch3, patch4], loc='best')\n",
    "\n",
    "ax.tick_params(labelsize=15)\n",
    "#ax.legend(loc='best')\n",
    "figname='figure/snr_convergence.pdf'\n",
    "fig.savefig(figname)\n",
    "print 'fig save to', figname"
   ]
  },
  {
   "cell_type": "code",
   "execution_count": 130,
   "metadata": {
    "collapsed": false
   },
   "outputs": [
    {
     "name": "stderr",
     "output_type": "stream",
     "text": [
      "/usr/lib/python2.7/site-packages/ipykernel/__main__.py:1: RuntimeWarning: invalid value encountered in sqrt\n",
      "  if __name__ == '__main__':\n"
     ]
    },
    {
     "data": {
      "text/plain": [
       "array([             nan,   3.64875007e-04,   3.81059225e-04,\n",
       "         3.41441100e-04,   4.20921152e-04,              nan,\n",
       "                    nan,   4.15181956e-04,              nan,\n",
       "                    nan,   7.33035912e-04,   4.12470118e-03,\n",
       "         2.50775249e-03,   8.77592422e-03,   7.83572976e-02,\n",
       "         1.01674124e-01,   1.35569585e-01,   2.76775631e-01,\n",
       "         3.89767872e-01,   1.31169270e+00,   2.47000056e+00,\n",
       "                    nan,              nan,   5.69950295e+01,\n",
       "         5.31597736e+01,   5.35499522e+01,   5.72506884e+01,\n",
       "         6.09109002e+01,              nan,   9.33317923e+01,\n",
       "         1.02461973e+02,   1.13426243e+02,   1.14861155e+02,\n",
       "         1.18874338e+02,   1.30027832e+02,   1.47003432e+02,\n",
       "         1.76538870e+02,   1.53059171e+02,   1.50799622e+02,\n",
       "         1.92365430e+02,   1.91109253e+02,   1.86769492e+02,\n",
       "         1.46182340e+02,   2.37551416e+02,   2.40706085e+02,\n",
       "         2.42147193e+02,   2.46166293e+02,   2.60400056e+02,\n",
       "         2.76486026e+02,   2.89374849e+02,   2.88848563e+02,\n",
       "         3.20857494e+02,   3.29600404e+02,   3.25959018e+02,\n",
       "         3.27638658e+02,   3.42296219e+02,   3.50561687e+02,\n",
       "         3.70227191e+02,   3.69408991e+02,   3.68883087e+02,\n",
       "         3.61735895e+02,   4.14786335e+02,   3.99280868e+02,\n",
       "         4.04227621e+02,   4.11814768e+02,   4.26442425e+02,\n",
       "         4.39202216e+02,   4.37413759e+02,   4.41901921e+02,\n",
       "         4.48496186e+02,   4.58357358e+02,   4.64674614e+02,\n",
       "         4.63500567e+02,   5.48805900e+02,   5.20180981e+02,\n",
       "         4.91812290e+02,   4.98901422e+02,   5.02255529e+02,\n",
       "         5.15171291e+02,   5.15901361e+02,   5.15613543e+02,\n",
       "         5.26195907e+02,   5.31176009e+02,   5.22897927e+02,\n",
       "         5.42270147e+02,   5.42324596e+02,   5.37516610e+02,\n",
       "         5.55642242e+02,   5.50720423e+02,   5.61244340e+02,\n",
       "         5.66154345e+02,   5.57650944e+02,   5.73654630e+02,\n",
       "         5.77250938e+02,   5.81386325e+02,   4.77526070e+02,\n",
       "         5.90066829e+02,   5.92753496e+02,   5.97322643e+02,\n",
       "         6.00589028e+02,   6.02613902e+02,   6.05941912e+02,\n",
       "         6.08080813e+02,   6.13950468e+02,   6.11695791e+02,\n",
       "         6.17760985e+02,   6.16931863e+02,   7.02144165e+02,\n",
       "         6.24733687e+02,   6.25734529e+02,   6.25817176e+02,\n",
       "         6.30799794e+02,   6.32099725e+02,   6.32900946e+02,\n",
       "         6.28717577e+02,   6.37617782e+02,   6.38520568e+02,\n",
       "         6.44822761e+02,   6.37375132e+02,   6.46140962e+02,\n",
       "         6.49872347e+02,   6.48145204e+02,   6.46603396e+02,\n",
       "         6.51137741e+02,   6.51234671e+02,   6.54161487e+02,\n",
       "         6.55413827e+02,   6.56336432e+02,   6.58744093e+02,\n",
       "         6.59863544e+02,   6.58097872e+02,   6.61560953e+02,\n",
       "         6.53895012e+02,   6.63328234e+02,   6.64996732e+02,\n",
       "         6.61862143e+02,   6.70260122e+02,   6.68542615e+02,\n",
       "         6.69251950e+02,   6.70204399e+02,   6.72205628e+02,\n",
       "         6.73415667e+02,   6.72542624e+02,   6.73810857e+02,\n",
       "         6.74526238e+02,   6.76671531e+02,   6.87039839e+02,\n",
       "         6.78444361e+02,   6.78349263e+02,   6.80493248e+02,\n",
       "         6.79220262e+02,   6.81870504e+02,   6.81498880e+02,\n",
       "         6.84153658e+02,   6.83939850e+02,   6.83326557e+02,\n",
       "         7.09108537e+02,   6.84570308e+02,   6.86158171e+02,\n",
       "         6.86299815e+02,   6.86959299e+02,   6.87784346e+02,\n",
       "         6.88308890e+02,   6.88936919e+02,   6.90902322e+02,\n",
       "         6.90594400e+02,   6.90500685e+02,   7.36521113e+02,\n",
       "         6.91526640e+02,   6.91636791e+02,   6.92672656e+02,\n",
       "         6.93246786e+02,   6.92869625e+02,   6.93229624e+02,\n",
       "         6.94841552e+02,   6.94526347e+02,   6.95454016e+02,\n",
       "         6.95645698e+02,   6.96020073e+02,   6.95022503e+02,\n",
       "         6.96935527e+02,   6.97860465e+02,   7.08019303e+02,\n",
       "         6.97485071e+02,   6.98173882e+02,   6.98531374e+02,\n",
       "         6.98303201e+02,   6.99288988e+02,   6.99074806e+02,\n",
       "         6.99931246e+02,   7.00117961e+02,   7.06373796e+02,\n",
       "         7.00919089e+02,   7.01867418e+02,   7.01667541e+02,\n",
       "         7.01844771e+02,   7.01907768e+02,   7.01010178e+02,\n",
       "         7.02595970e+02,   7.02801887e+02,   7.03803266e+02,\n",
       "         7.03367637e+02,   7.03522143e+02,   7.03943556e+02,\n",
       "         7.03977433e+02,   7.02480164e+02,   7.04559795e+02,\n",
       "         7.04576874e+02,   7.05175558e+02,   7.05201051e+02,\n",
       "         7.05207280e+02,   7.05736663e+02,   7.05747883e+02,\n",
       "         7.05719978e+02,   7.06671855e+02,   6.90373148e+02,\n",
       "         7.06670255e+02,   7.06522499e+02,   7.07036686e+02,\n",
       "         7.07397841e+02,   7.07732611e+02,   7.07656324e+02,\n",
       "         7.07818057e+02,   7.07827603e+02,   7.08133079e+02,\n",
       "         7.07781611e+02,   7.08494716e+02,   7.08548718e+02,\n",
       "         7.08837090e+02,   7.08963424e+02,   7.08659335e+02,\n",
       "         7.09375198e+02,   7.09387238e+02,   7.09542372e+02,\n",
       "         7.09654321e+02,   7.09936798e+02,   7.09929319e+02,\n",
       "         7.09906609e+02,   7.10316866e+02,   7.10385677e+02,\n",
       "         7.10474313e+02,   7.10177806e+02,   7.10693955e+02,\n",
       "         7.10656492e+02,   7.10917581e+02,   7.11016897e+02,\n",
       "         7.11189197e+02,   7.11269962e+02,   7.11416644e+02,\n",
       "         7.11559865e+02,   7.11589534e+02,   7.11700716e+02,\n",
       "         7.11683637e+02,   7.12134965e+02,   7.11242167e+02,\n",
       "         7.12105600e+02,   7.12286266e+02,   7.12311020e+02,\n",
       "         7.13049322e+02,   7.12551674e+02,   7.12563149e+02,\n",
       "         7.35897364e+02,   7.12137797e+02,   7.12723704e+02,\n",
       "         7.13093869e+02,   7.12983352e+02,   7.13137571e+02,\n",
       "         7.13248562e+02,   7.13263837e+02,   7.13399730e+02,\n",
       "         7.13415965e+02,   7.13472776e+02,   7.13694035e+02,\n",
       "         7.13646236e+02,   7.14119552e+02,   7.13804468e+02,\n",
       "         7.13877889e+02,   7.13906936e+02,   7.14043087e+02,\n",
       "         7.14077803e+02,   7.14061129e+02,   7.14202669e+02,\n",
       "         7.14269965e+02,   7.14314871e+02,   7.14374681e+02,\n",
       "         7.14434821e+02,   7.14533077e+02,   7.14711224e+02,\n",
       "         7.14631029e+02,   7.14673343e+02,   7.14819379e+02,\n",
       "         7.14852608e+02,   7.14855571e+02,   7.14892133e+02,\n",
       "         7.15105763e+02,   7.15047955e+02,   7.14922690e+02,\n",
       "         7.15137561e+02,   7.15053419e+02,   7.15169759e+02,\n",
       "         7.15296716e+02,   7.15391838e+02,   7.15432206e+02,\n",
       "         7.15227272e+02,   7.15481227e+02,   7.15296884e+02,\n",
       "         7.15748351e+02,   7.15617905e+02,   7.16200436e+02,\n",
       "         7.13941204e+02,   7.15744475e+02,   7.15810432e+02,\n",
       "         7.15927495e+02,   7.15678521e+02,   7.15839998e+02,\n",
       "         7.15938386e+02,   7.15959946e+02,   7.16035466e+02,\n",
       "         7.16071983e+02,   7.16137193e+02,   7.16143748e+02,\n",
       "         7.16241728e+02,   7.16199529e+02,   7.16251385e+02,\n",
       "         7.16252605e+02,   7.16176909e+02,   7.16360373e+02,\n",
       "         7.16355452e+02,   7.16416802e+02,   7.16539484e+02,\n",
       "         7.16445117e+02,   7.16496055e+02,   7.16503109e+02,\n",
       "         7.16585634e+02,   7.16631730e+02,   7.16608320e+02,\n",
       "         7.16672043e+02,   7.16701118e+02,   7.16579472e+02,\n",
       "         7.16745416e+02,   7.16763532e+02,   7.16794779e+02,\n",
       "         7.16864852e+02,   7.16857950e+02,   7.16452035e+02,\n",
       "         7.16896042e+02,   7.16899991e+02,   7.16943598e+02,\n",
       "         7.16990407e+02,   7.17005793e+02,   7.16945712e+02,\n",
       "         7.17092683e+02,   7.17068544e+02,   7.17094386e+02,\n",
       "         7.17128086e+02,   7.17142435e+02,   7.17164364e+02,\n",
       "         7.17169025e+02,   7.17221072e+02,   7.17296372e+02,\n",
       "         7.17240346e+02,   7.17247534e+02,   7.17291206e+02,\n",
       "         7.17313496e+02,   7.17330888e+02,   7.17351705e+02,\n",
       "         7.17379159e+02,   7.17384562e+02,   7.17409062e+02,\n",
       "         7.17445014e+02,   7.17461412e+02,   7.17479997e+02,\n",
       "         7.17481862e+02,   7.17720049e+02,   7.17550837e+02,\n",
       "         7.17548943e+02,   7.17564748e+02,   7.17576417e+02,\n",
       "         7.17596861e+02,   7.17613630e+02,   7.17631327e+02,\n",
       "         7.17916449e+02,   7.17666402e+02,   7.17662778e+02,\n",
       "         7.17717455e+02,   7.17552181e+02,   7.17720473e+02,\n",
       "         7.17715361e+02,   7.17746875e+02,   7.17774776e+02,\n",
       "         7.17789895e+02,   7.17799161e+02,   7.17684192e+02,\n",
       "         7.17799691e+02,   7.17828928e+02,   7.17848649e+02,\n",
       "         7.17920664e+02,   7.17870019e+02,   7.17885078e+02,\n",
       "         7.17903953e+02,   7.18043794e+02,   7.17953543e+02,\n",
       "         7.17934976e+02,   7.17941662e+02,   7.17958787e+02,\n",
       "         7.17978768e+02,   7.17991243e+02,   7.17987116e+02,\n",
       "         7.18006680e+02,   7.17968931e+02,   7.18036724e+02,\n",
       "         7.18056346e+02,   7.18059621e+02,   7.18082153e+02,\n",
       "         7.18079370e+02,   7.18081680e+02,   7.18110221e+02,\n",
       "         7.18081023e+02,   7.18124438e+02,   7.18121676e+02,\n",
       "         7.18136280e+02,   7.18154591e+02,   7.18168861e+02,\n",
       "         7.18170417e+02,   7.18169522e+02,   7.18203374e+02,\n",
       "         7.18203112e+02,   7.18211904e+02,   7.18144705e+02,\n",
       "         7.18232264e+02,   7.18232809e+02,   7.18076521e+02,\n",
       "         7.18260084e+02,   7.18265114e+02,   7.18275541e+02,\n",
       "         7.18271536e+02,   7.18298359e+02,   7.18306072e+02,\n",
       "         7.18312507e+02,   7.18313721e+02,   7.18473557e+02,\n",
       "         7.18322668e+02,   7.18341232e+02,   7.18344852e+02,\n",
       "         7.18360768e+02,   7.18363315e+02,   7.18366716e+02,\n",
       "         7.18382260e+02,   7.18385283e+02,   7.18400747e+02,\n",
       "         7.18398565e+02,   7.18410131e+02,   7.18410962e+02,\n",
       "         7.19341135e+02,   7.18429316e+02,   7.18450645e+02,\n",
       "         7.18434832e+02,   7.18427893e+02,   7.18454682e+02,\n",
       "         7.18470064e+02,   7.18461661e+02,   7.18475354e+02,\n",
       "         7.18476013e+02,   7.18488043e+02,   7.18496047e+02,\n",
       "         7.18506756e+02,   7.18503953e+02,   7.18511600e+02,\n",
       "         7.18519176e+02,   7.18533415e+02,   7.18532503e+02,\n",
       "         7.18529165e+02,   7.18539747e+02,   7.18557032e+02,\n",
       "         7.18552552e+02,   7.18562888e+02,   7.18594102e+02,\n",
       "         7.18569418e+02,   7.18590591e+02,   7.18582807e+02,\n",
       "         7.18579995e+02,   7.18591343e+02,   7.18595713e+02,\n",
       "         7.18602926e+02,   7.18608686e+02,   7.18612409e+02,\n",
       "         7.18618403e+02,   7.18626373e+02,   7.18633962e+02,\n",
       "         7.18642074e+02,   7.18649246e+02,   7.18657177e+02,\n",
       "         7.18663995e+02,   7.18671598e+02,   7.18678215e+02,\n",
       "         7.18685435e+02,   7.18691781e+02,   7.18698538e+02,\n",
       "         7.18703952e+02])"
      ]
     },
     "execution_count": 130,
     "metadata": {},
     "output_type": "execute_result"
    }
   ],
   "source": [
    "np.sqrt(SNRXi)"
   ]
  },
  {
   "cell_type": "code",
   "execution_count": 145,
   "metadata": {
    "collapsed": false
   },
   "outputs": [
    {
     "name": "stdout",
     "output_type": "stream",
     "text": [
      "499 499\n",
      "fig save to figure/SNR_convergence_1.pdf\n"
     ]
    },
    {
     "data": {
      "image/png": "[encoded data removed]",
      "text/plain": [
       "<matplotlib.figure.Figure at 0x60b42d0>"
      ]
     },
     "metadata": {},
     "output_type": "display_data"
    }
   ],
   "source": [
    "# convergence\n",
    "\n",
    "fig, ax = plt.subplots(1,1, figsize = (7, 5))\n",
    "import glob\n",
    "txt_filename = glob.glob('data_txt/snr_comparison_dk*')\n",
    "label = [txt_filename[i].split(\"dk\")[1].split('.txt')[0] for i in range(len(txt_filename))] \n",
    "\n",
    "\n",
    "#for i in range(len(txt_filename)):\n",
    "dat = np.genfromtxt(txt_filename[4])\n",
    "kklist, SNRP, _, SNRXi = dat[:,0], dat[:,1], dat[:,2], dat[:,3]\n",
    "print kklist.size, SNRP.size\n",
    "ax.plot(kklist, SNRXi, '.', markersize = 4., label= r'$\\xi$')\n",
    "#ax2.plot(kklist2[i], SNRlist_Xi[i], '.', label='SNRXI, dk={:>0.3f}'.format(dklist[i]))\n",
    "ax.plot(kklist, SNRP, linestyle = '--', color = 'black', label = r'$P$')   \n",
    "\n",
    "ax.set_xscale('linear')\n",
    "ax.set_yscale('linear')\n",
    "ax.set_xlabel(r'$k_{\\rm max}$ ($h$ $\\rm{Mpc}^{-1}$)', size=20)\n",
    "ax.set_ylim(1e-5, 6e+5)\n",
    "ax.set_xlim(1e-3, 1)\n",
    "ax.tick_params(labelsize=15)\n",
    "ax.ticklabel_format(axis='y', style='sci', scilimits=(-2,2))\n",
    "ax.set_ylabel(r'$(S/N)^2$', size=20)\n",
    "#ax.set_title('SNR P (dashed) Xi(solid)')\n",
    "\n",
    "#patch5 = mpatches.Patch(color='blue',label=r'$\\Delta$ k={:>0.3f}'.format(float(label[4])))\n",
    "#ax.legend(handles=[patch5,line], loc=2)\n",
    "ax.legend(loc='best')\n",
    "figname='figure/SNR_convergence_1.pdf'\n",
    "fig.savefig(figname)\n",
    "print 'fig save to', figname"
   ]
  },
  {
   "cell_type": "markdown",
   "metadata": {},
   "source": [
    "### Delta SNR "
   ]
  },
  {
   "cell_type": "code",
   "execution_count": 9,
   "metadata": {
    "collapsed": false
   },
   "outputs": [],
   "source": [
    "def snr_interpolation(kbin2, SNR_Xi, k_pred = None, sigf = 1e-6):\n",
    "\n",
    "    from sklearn.gaussian_process import GaussianProcess\n",
    "\n",
    "    outlier_mask = np.ones(kbin2.size, dtype=bool)\n",
    "    \n",
    "    for i in range(1, kbin2.size):\n",
    "        if (SNR_Xi[i] < SNR_Xi[i-1]): outlier_mask[i-1] = 0\n",
    "        if (SNR_Xi[i] < SNR_Xi[i-1]): outlier_mask[i] = 0\n",
    "        if (SNR_Xi[i] < 0.0): outlier_mask[i] = 0 \n",
    "    #outlier_mask = outlier_mask * (SNR_Xi < 0) \n",
    "    kbin_m = kbin2[outlier_mask]\n",
    "    SNR_Xi_m = SNR_Xi[outlier_mask]\n",
    "    \n",
    "    #------------------------------------------------------------\n",
    "    # Generate data\n",
    "    #z_sample, mu_sample = kbin_m[kbin_m.size/30:], SNR_Xi_m[kbin_m.size/30:]\n",
    "    z_sample, mu_sample = kbin_m, SNR_Xi_m\n",
    "    \n",
    "    #outlier_mask = (mu_sample > -100) & (mu_sample < 550000)\n",
    "    \n",
    "\n",
    "    dmu = mu_sample * sigf\n",
    "    #dmu = mu_sample * 1./ mu_sample.max()\n",
    "    #dmu[dmu.size/20:dmu.size/10] = dmu[dmu.size/20:dmu.size/10] /10\n",
    "    #dmu[:dmu.size/30] = dmu[:dmu.size/30] * 5\n",
    "    \n",
    "    #z = np.linspace(0, 2, 1000)\n",
    "    #mu_true = np.asarray(map(cosmo.mu, z))\n",
    "\n",
    "    #------------------------------------------------------------\n",
    "    # fit the data\n",
    "    # Mesh the input space for evaluations of the real function,\n",
    "    # the prediction and its MSE\n",
    "    #z_fit = np.linspace(0, 2, 1000)\n",
    "    gp = GaussianProcess(corr='squared_exponential', theta0=1e-1,\n",
    "                         thetaL=1e-2, thetaU=1,\n",
    "                         normalize=False,\n",
    "                         nugget= (dmu / mu_sample) ** 2,\n",
    "                         random_start=1)\n",
    "    gp.fit(z_sample[:, None], mu_sample)\n",
    "    \n",
    "    kbin3 = np.linspace(KMIN, KMAX, kN_y)\n",
    "    \n",
    "    if k_pred is not None : kbin3 = k_pred\n",
    "    y_pred, MSE = gp.predict(kbin3[:, None], eval_MSE=True)    \n",
    "    #y_pred, MSE = gp.predict(kcenter[:,None], eval_MSE=True)\n",
    "    sigma = np.sqrt(MSE)\n",
    "    \n",
    "    \n",
    "    \n",
    "    \n",
    "    #y_pred[:kbin_m.size/10] = SNR_Xi_m[:kbin_m.size/10]\n",
    "    #y_pred[:30] = SNR_Xi_m[:30]\n",
    "    \n",
    "    \n",
    "    \"\"\"\n",
    "    \n",
    "    #------------------------------------------------------------\n",
    "    # Generate data - small k \n",
    "    z_sample2, mu_sample2 = kbin_m[:kbin_m.size/15], SNR_Xi_m[:kbin_m.size/15]\n",
    "    print kbin_m[kbin_m.size/15]\n",
    "    dmu = mu_sample2 * 1./ mu_sample2.max()\n",
    "\n",
    "    # -------------------\n",
    "    # optimize curve_fit\n",
    "    # \n",
    "    #def func(x, a, b): return a*x**b \n",
    "    def func(x, a, b, c): return a*np.exp(b*x-c) - 1\n",
    "    \n",
    "    x0 = np.array([1.0, 3.0, 10.0])\n",
    "    s = (dmu / mu_sample2) ** 2\n",
    "    import scipy.optimize as optimization\n",
    "    [a, b, c], cov = optimization.curve_fit(func, z_sample2, mu_sample2, x0, s)\n",
    "    y_fit = func(kbin2[:kbin2.size/20], a, b, c)\n",
    "    \n",
    "    #y_pred[:kbin2.size/20] = y_fit\n",
    "    \"\"\"\n",
    "\n",
    "    \n",
    "    \n",
    "    #y_pred[:kbin_m.size/18] = SNR_Xi_m[:kbin_m.size/18]\n",
    "    return kbin3, y_pred, sigma #,kbin2[:kbin2.size/20], y_fit"
   ]
  },
  {
   "cell_type": "code",
   "execution_count": 89,
   "metadata": {
    "collapsed": false
   },
   "outputs": [
    {
     "name": "stdout",
     "output_type": "stream",
     "text": [
      "(500,) (500,) (500,)\n"
     ]
    }
   ],
   "source": [
    "#calling data\n",
    "#DAT = np.loadtxt('data_txt/snr.txt')\n",
    "DAT = np.loadtxt('data_txt/snr_rmax200_rmin2.txt')\n",
    "kbin, SNR_P, kbin2, SNR_Xi = [DAT[:,i] for i in range(DAT[0,:].size)]\n",
    "kbin3, y_pred, sigma  = snr_interpolation(kbin2, SNR_Xi)\n",
    "print kbin3.shape, y_pred.shape, sigma.shape\n",
    "\n",
    "DAT = np.loadtxt('data_txt/snr_tot_rmax200_rmin2.txt')\n",
    "kbin_tot, SNR_tot = [DAT[:,i] for i in range(DAT[0,:].size)]\n",
    "#kbin_t, y_pred_tot, sigma  = snr_interpolation(kbin_tot, SNR_tot)"
   ]
  },
  {
   "cell_type": "code",
   "execution_count": 90,
   "metadata": {
    "collapsed": false
   },
   "outputs": [
    {
     "ename": "IOError",
     "evalue": "[Errno 2] No such file or directory: 'data_txt/snr_diag_rmax200_rmin10.txt'",
     "output_type": "error",
     "traceback": [
      "\u001b[0;31m---------------------------------------------------------------------------\u001b[0m",
      "\u001b[0;31mIOError\u001b[0m                                   Traceback (most recent call last)",
      "\u001b[0;32m<ipython-input-90-23fe0fcfc23d>\u001b[0m in \u001b[0;36m<module>\u001b[0;34m()\u001b[0m\n\u001b[1;32m      1\u001b[0m \u001b[0;31m#calling data\u001b[0m\u001b[0;34m\u001b[0m\u001b[0;34m\u001b[0m\u001b[0m\n\u001b[1;32m      2\u001b[0m \u001b[0;31m#DAT = np.loadtxt('data_txt/snr.txt')\u001b[0m\u001b[0;34m\u001b[0m\u001b[0;34m\u001b[0m\u001b[0m\n\u001b[0;32m----> 3\u001b[0;31m \u001b[0mDAT\u001b[0m \u001b[0;34m=\u001b[0m \u001b[0mnp\u001b[0m\u001b[0;34m.\u001b[0m\u001b[0mloadtxt\u001b[0m\u001b[0;34m(\u001b[0m\u001b[0;34m'data_txt/snr_diag_rmax200_rmin10.txt'\u001b[0m\u001b[0;34m)\u001b[0m\u001b[0;34m\u001b[0m\u001b[0m\n\u001b[0m\u001b[1;32m      4\u001b[0m \u001b[0mkbin_d\u001b[0m\u001b[0;34m,\u001b[0m \u001b[0mDiagCSNR_P\u001b[0m\u001b[0;34m,\u001b[0m \u001b[0mDiagCSNR_Xi\u001b[0m \u001b[0;34m=\u001b[0m \u001b[0;34m[\u001b[0m\u001b[0mDAT\u001b[0m\u001b[0;34m[\u001b[0m\u001b[0;34m:\u001b[0m\u001b[0;34m,\u001b[0m\u001b[0mi\u001b[0m\u001b[0;34m]\u001b[0m \u001b[0;32mfor\u001b[0m \u001b[0mi\u001b[0m \u001b[0;32min\u001b[0m \u001b[0mrange\u001b[0m\u001b[0;34m(\u001b[0m\u001b[0mDAT\u001b[0m\u001b[0;34m[\u001b[0m\u001b[0;36m0\u001b[0m\u001b[0;34m,\u001b[0m\u001b[0;34m:\u001b[0m\u001b[0;34m]\u001b[0m\u001b[0;34m.\u001b[0m\u001b[0msize\u001b[0m\u001b[0;34m)\u001b[0m\u001b[0;34m]\u001b[0m\u001b[0;34m\u001b[0m\u001b[0m\n\u001b[1;32m      5\u001b[0m \u001b[0;31m#kbin3_d, y_pred_d, sigma_d  = snr_interpolation(kbin_d, DiagCSNR_Xi)\u001b[0m\u001b[0;34m\u001b[0m\u001b[0;34m\u001b[0m\u001b[0m\n",
      "\u001b[0;32m/n/home00/lee.5922/.local/lib/python2.7/site-packages/numpy/lib/npyio.pyc\u001b[0m in \u001b[0;36mloadtxt\u001b[0;34m(fname, dtype, comments, delimiter, converters, skiprows, usecols, unpack, ndmin)\u001b[0m\n\u001b[1;32m    801\u001b[0m                 \u001b[0mfh\u001b[0m \u001b[0;34m=\u001b[0m \u001b[0miter\u001b[0m\u001b[0;34m(\u001b[0m\u001b[0mbz2\u001b[0m\u001b[0;34m.\u001b[0m\u001b[0mBZ2File\u001b[0m\u001b[0;34m(\u001b[0m\u001b[0mfname\u001b[0m\u001b[0;34m)\u001b[0m\u001b[0;34m)\u001b[0m\u001b[0;34m\u001b[0m\u001b[0m\n\u001b[1;32m    802\u001b[0m             \u001b[0;32melif\u001b[0m \u001b[0msys\u001b[0m\u001b[0;34m.\u001b[0m\u001b[0mversion_info\u001b[0m\u001b[0;34m[\u001b[0m\u001b[0;36m0\u001b[0m\u001b[0;34m]\u001b[0m \u001b[0;34m==\u001b[0m \u001b[0;36m2\u001b[0m\u001b[0;34m:\u001b[0m\u001b[0;34m\u001b[0m\u001b[0m\n\u001b[0;32m--> 803\u001b[0;31m                 \u001b[0mfh\u001b[0m \u001b[0;34m=\u001b[0m \u001b[0miter\u001b[0m\u001b[0;34m(\u001b[0m\u001b[0mopen\u001b[0m\u001b[0;34m(\u001b[0m\u001b[0mfname\u001b[0m\u001b[0;34m,\u001b[0m \u001b[0;34m'U'\u001b[0m\u001b[0;34m)\u001b[0m\u001b[0;34m)\u001b[0m\u001b[0;34m\u001b[0m\u001b[0m\n\u001b[0m\u001b[1;32m    804\u001b[0m             \u001b[0;32melse\u001b[0m\u001b[0;34m:\u001b[0m\u001b[0;34m\u001b[0m\u001b[0m\n\u001b[1;32m    805\u001b[0m                 \u001b[0mfh\u001b[0m \u001b[0;34m=\u001b[0m \u001b[0miter\u001b[0m\u001b[0;34m(\u001b[0m\u001b[0mopen\u001b[0m\u001b[0;34m(\u001b[0m\u001b[0mfname\u001b[0m\u001b[0;34m)\u001b[0m\u001b[0;34m)\u001b[0m\u001b[0;34m\u001b[0m\u001b[0m\n",
      "\u001b[0;31mIOError\u001b[0m: [Errno 2] No such file or directory: 'data_txt/snr_diag_rmax200_rmin10.txt'"
     ]
    }
   ],
   "source": [
    "#calling data\n",
    "#DAT = np.loadtxt('data_txt/snr.txt')\n",
    "DAT = np.loadtxt('data_txt/snr_diag_rmax200_rmin10.txt')\n",
    "kbin_d, DiagCSNR_P, DiagCSNR_Xi = [DAT[:,i] for i in range(DAT[0,:].size)]\n",
    "#kbin3_d, y_pred_d, sigma_d  = snr_interpolation(kbin_d, DiagCSNR_Xi)"
   ]
  },
  {
   "cell_type": "code",
   "execution_count": 581,
   "metadata": {
    "collapsed": false
   },
   "outputs": [
    {
     "data": {
      "text/plain": [
       "(-100000, 600000)"
      ]
     },
     "execution_count": 581,
     "metadata": {},
     "output_type": "execute_result"
    },
    {
     "data": {
      "image/png": "[encoded data removed]",
      "text/plain": [
       "<matplotlib.figure.Figure at 0xa91da90>"
      ]
     },
     "metadata": {},
     "output_type": "display_data"
    }
   ],
   "source": [
    "#------------------------------------------------------------\n",
    "# Plot the gaussian process\n",
    "#  gaussian process allows computation of the error at each point\n",
    "#  so we will show this as a shaded region\n",
    "\n",
    "fig = plt.figure(figsize=(8, 5))\n",
    "fig.subplots_adjust(left=0.1, right=0.95, bottom=0.1, top=0.95)\n",
    "ax = fig.add_subplot(111)\n",
    "            \n",
    "\n",
    "ax.axhline(y=0.0, color = 'grey')\n",
    "ax.plot(kbin, SNR_P, '--k')\n",
    "ax.errorbar(kbin, SNR_Xi, None, fmt='-k', ecolor='gray', markersize=1)\n",
    "ax.plot(kbin3, y_pred, '-b')\n",
    "#ax.plot(kbin_d, DiagCSNR_Xi, '--b')\n",
    "ax.plot(kbin_tot, SNR_tot, '-r')\n",
    "#ax.plot(z_sample2, y_fit, '-r')\n",
    "#ax.plot(kbin3, y_fit, '-r')\n",
    "ax.fill_between(kbin3, y_pred - 5 * sigma, y_pred + 5 * sigma,\n",
    "                alpha=0.2, color='b', label='95% confidence interval')\n",
    "\n",
    "ax.set_xlabel('$z$')\n",
    "ax.set_ylabel(r'$\\mu$')\n",
    "#ax.set_xscale('log')\n",
    "#ax.set_yscale('log')\n",
    "ax.set_xlim(0.01 , 0.9)\n",
    "ax.set_ylim(-100000, 600000)\n"
   ]
  },
  {
   "cell_type": "code",
   "execution_count": 39,
   "metadata": {
    "collapsed": false
   },
   "outputs": [],
   "source": [
    "#from scipy.interpolate import interp1d\n",
    "from scipy import interpolate\n",
    "\n",
    "SNR_P_ftn = interpolate.InterpolatedUnivariateSpline(kbin, SNR_P)\n",
    "SNR_Xi_ftn = interpolate.InterpolatedUnivariateSpline(kbin3, y_pred)\n",
    "\n",
    "#kbin2, SNR_P_ftn, sigma = snr_interpolation(kbin, SNR_P)\n",
    "#kbin2, SNR_Xi_ftn, sigma = snr_interpolation(kbin2, SNR_Xi)\n",
    "\n",
    "k, s = np.linspace(KMIN, KMAX, kN_y, retstep = True)\n",
    "kcenter = k[:-1] + s/2.\n",
    "\n",
    "SNR_P_interp = SNR_P_ftn(kcenter) \n",
    "SNR_Xi_interp = SNR_Xi_ftn(kcenter)\n",
    "\n",
    "DSNR_P_interp = [SNR_P_interp[i]-SNR_P_interp[i-1] for i in range(1, SNR_P_interp.size)]\n",
    "DSNR_P_interp = np.insert(DSNR_P_interp, 0, SNR_P_interp[0])\n",
    "DSNR_Xi_interp = [SNR_Xi_interp[i]-SNR_Xi_interp[i-1] for i in range(1, SNR_Xi_interp.size)]\n",
    "DSNR_Xi_interp = np.insert(DSNR_Xi_interp, 0, SNR_Xi_interp[0])"
   ]
  },
  {
   "cell_type": "code",
   "execution_count": 40,
   "metadata": {
    "collapsed": false
   },
   "outputs": [],
   "source": [
    "DiagCSNR_P_ftn = interpolate.InterpolatedUnivariateSpline(kbin_d, DiagCSNR_P)\n",
    "DiagCSNR_Xi_ftn = interpolate.InterpolatedUnivariateSpline(kbin_d, DiagCSNR_Xi)\n",
    "\n",
    "DiagCSNR_P = DiagCSNR_P_ftn(kcenter)\n",
    "DiagCSNR_Xi = DiagCSNR_Xi_ftn(kcenter)\n",
    "\n",
    "#DiagCSNR_Xi0_ftn = interpolate.InterpolatedUnivariateSpline(RSDPower.kcenter_y, DiagCSNR_Xi0)\n",
    "#DiagCSNR_Xi0 = DiagCSNR_Xi0_ftn(kcenter)\n",
    "\n",
    "DiagSNR_P = [DiagCSNR_P[i]-DiagCSNR_P[i-1] for i in range(1, DiagCSNR_P.size)]\n",
    "DiagSNR_P = np.insert(DiagSNR_P, 0, DiagCSNR_P[0])\n",
    "DiagSNR_Xi = [DiagCSNR_Xi[i]-DiagCSNR_Xi[i-1] for i in range(1, DiagCSNR_Xi.size)]\n",
    "DiagSNR_Xi = np.insert(DiagSNR_Xi, 0, DiagCSNR_Xi[0])\n",
    "#DiagSNR_Xi0 = [DiagCSNR_Xi0[i]-DiagCSNR_Xi0[i-1] for i in range(1, DiagCSNR_Xi0.size)]\n",
    "#DiagSNR_Xi0 = np.insert(DiagSNR_Xi0, 0, DiagCSNR_Xi0[0])\n"
   ]
  },
  {
   "cell_type": "code",
   "execution_count": 42,
   "metadata": {
    "collapsed": false
   },
   "outputs": [
    {
     "data": {
      "text/plain": [
       "<matplotlib.legend.Legend at 0x90cb610>"
      ]
     },
     "execution_count": 42,
     "metadata": {},
     "output_type": "execute_result"
    },
    {
     "data": {
      "image/png": "[encoded data removed]",
      "text/plain": [
       "<matplotlib.figure.Figure at 0x3ca7110>"
      ]
     },
     "metadata": {},
     "output_type": "display_data"
    }
   ],
   "source": [
    "fig, (ax, ax2) = plt.subplots(1,2, figsize = (15, 5))\n",
    "\n",
    "#ax.plot(kbin, SNR_P, 'k-')#,  label = 'SNRPP')\n",
    "#ax.plot(kbin2, SNR_Xi, 'k.', markersize = 1.)#, label='SNRXI')\n",
    "#ax.plot(kbin2, DSNR_tot, linestyle = '-.', color = 'blue', label='SNR tot')\n",
    "\n",
    "#ax.plot(, SNR_Xi_interp,'r.')\n",
    "ax.plot(kcenter, SNR_P_interp,'g.',label = 'SNR P')\n",
    "#ax.plot(kcenter, SNR_Xi_interp,'g^')\n",
    "ax.plot(kcenter, SNR_Xi_interp,'r.',label = 'SNR Xi')\n",
    "ax.plot(kcenter, DiagCSNR_P,'g--',label = 'diag P')\n",
    "ax.plot(kcenter, DiagCSNR_Xi,'r--',label = 'diag Xi')\n",
    "#ax.plot(kcenter, DiagCSNR_Xi0,'c--',label = 'diag Xi0')\n",
    "#ax.plot(kcenter, SNR_P_mean,'k.')\n",
    "#ax2.plot(kbin, DSNR, linestyle = '-', color = 'blue', label = 'SNRPP')\n",
    "#ax2.plot(kbin2, DSNR_Xi, 'b.',markersize = 2., label='SNRXI')\n",
    "\n",
    "\n",
    "#ax2.plot(kcenter, DSNR_P_mean, 'k.', label='interp')\n",
    "ax2.plot(kcenter, DSNR_P_interp, 'g.', label='P')\n",
    "ax2.plot(kcenter, DSNR_Xi_interp, 'r.', label='Xi')\n",
    "ax2.plot(kcenter, DiagSNR_P, 'g--', label='diag P')\n",
    "ax2.plot(kcenter, DiagSNR_Xi, 'r--', label='diag Xi')\n",
    "\n",
    "ax2.fill_between(kcenter, DSNR_Xi_interp - sigma[:-1], DSNR_Xi_interp + sigma[:-1],\n",
    "                alpha=0.2, color='b', label='68% confidence interval')\n",
    "\n",
    "ax.set_xscale('log')\n",
    "ax2.set_xscale('log')\n",
    "ax.set_yscale('linear')\n",
    "ax.set_xlabel('k')\n",
    "ax.set_ylim(-100000,600000)\n",
    "ax2.set_ylim( -5000 , 10000)\n",
    "ax.set_xlim(1e-2, 2)\n",
    "ax2.set_xlim(1e-2, 2)\n",
    "ax.set_ylabel('SNR')\n",
    "ax2.set_ylabel('Delta SNR')\n",
    "ax.legend(loc='best')\n",
    "ax2.legend(loc='best')"
   ]
  },
  {
   "cell_type": "markdown",
   "metadata": {
    "collapsed": true
   },
   "source": [
    "> Fig2. Cumulative SNR (left) and Delta SNR (right)"
   ]
  },
  {
   "cell_type": "markdown",
   "metadata": {
    "collapsed": true
   },
   "source": [
    "## Different Rmax "
   ]
  },
  {
   "cell_type": "code",
   "execution_count": 10,
   "metadata": {
    "collapsed": true
   },
   "outputs": [],
   "source": [
    "def DSNR_interp( kbin, SNR_P, kbin2, y_pred ):\n",
    "    \n",
    "    #DAT = np.loadtxt('data_txt/snr_rmax400.txt')\n",
    "    #kbin, SNR_P, kbin2, SNR_Xi = [DAT[:,i] for i in range(DAT[0,:].size)]\n",
    "    #kbin2, y_pred, sigma = snr_interpolation(kbin2, SNR_Xi)\n",
    "\n",
    "    #from scipy.interpolate import interp1d\n",
    "    from scipy import interpolate\n",
    "    #\"\"\"\n",
    "    \n",
    "    SNR_P_ftn = interpolate.InterpolatedUnivariateSpline(kbin, SNR_P)\n",
    "    SNR_Xi_ftn = interpolate.InterpolatedUnivariateSpline(kbin2, y_pred)\n",
    "\n",
    "    k, s = np.linspace(KMIN, KMAX, kN_y, retstep = True)\n",
    "    kcenter = k[:-1] + s/2.\n",
    "\n",
    "    SNR_P_interp = SNR_P_ftn(kcenter) \n",
    "    SNR_Xi_interp = SNR_Xi_ftn(kcenter)\n",
    "    #\"\"\"\n",
    "    \n",
    "    #SNR_P_interp = SNR_P\n",
    "    #SNR_Xi_interp = y_pred\n",
    "    #kcenter = kbin   \n",
    "    \n",
    "    \n",
    "    DSNR_P_interp = [SNR_P_interp[i]-SNR_P_interp[i-1] for i in range(1, SNR_P_interp.size)]\n",
    "    DSNR_P_interp = np.insert(DSNR_P_interp, 0, SNR_P_interp[0])\n",
    "    DSNR_Xi_interp = [SNR_Xi_interp[i]-SNR_Xi_interp[i-1] for i in range(1, SNR_Xi_interp.size)]\n",
    "    DSNR_Xi_interp = np.insert(DSNR_Xi_interp, 0, SNR_Xi_interp[0])\n",
    "    \n",
    "    return kcenter, DSNR_P_interp, DSNR_Xi_interp"
   ]
  },
  {
   "cell_type": "code",
   "execution_count": 745,
   "metadata": {
    "collapsed": false,
    "scrolled": false
   },
   "outputs": [
    {
     "name": "stdout",
     "output_type": "stream",
     "text": [
      "1215.05124696\n",
      "1210.53370417\n",
      "1208.42628465\n",
      "1207.2330083\n"
     ]
    },
    {
     "data": {
      "image/png": "[encoded data removed]",
      "text/plain": [
       "<matplotlib.figure.Figure at 0x89856d0>"
      ]
     },
     "metadata": {},
     "output_type": "display_data"
    },
    {
     "data": {
      "image/png": "[encoded data removed]",
      "text/plain": [
       "<matplotlib.figure.Figure at 0x1ebda350>"
      ]
     },
     "metadata": {},
     "output_type": "display_data"
    }
   ],
   "source": [
    "#calling data\n",
    "#DAT = np.loadtxt('data_txt/snr.txt')\n",
    "file_num = ['200', '500']\n",
    "#DATs = [np.loadtxt('data_txt/snr_rmax'+n+'.txt') for n in file_num]\n",
    "\n",
    "fig, (ax, ax2) = plt.subplots(2,1, figsize = (7, 10))\n",
    "#fig2, ax2 = plt.subplots(1,1, figsize = (7, 5))\n",
    "for j, n in enumerate(file_num):\n",
    "    D1 = np.loadtxt('data_txt/snr_rmax'+n+'_rmin0.txt')\n",
    "    #D1 = np.genfromtxt('data_txt/snr_comparison_rmin0_rmax'+n+'.txt')\n",
    "    D2 = np.loadtxt('data_txt/snr_diag_rmax'+n+'_rmin0.txt')\n",
    "    #D3 = np.loadtxt('data_txt/snr_tot_rmax'+n+'_rmin0.txt')\n",
    "    #D3 = np.loadtxt('data_txt/snr_tot_rmax'+n+'_rmin0.txt')\n",
    "    \n",
    "    #general ----------------------------\n",
    "    kbin, SNR_P, kbin2, SNR_Xi = [D1[:,i] for i in range(D1[0,:].size)]\n",
    "    kbin, SNR_P, _  = snr_interpolation(kbin, SNR_P)\n",
    "    kbin3, y_pred, sigma = snr_interpolation(kbin2[3:], SNR_Xi[3:], sigf=1e-6)   \n",
    "\n",
    "\n",
    "    kcenter, DSNR_P_interp, DSNR_Xi_interp = DSNR_interp( kbin, SNR_P, kbin3, y_pred )\n",
    "    \n",
    "    #diagonal ----------------------------\n",
    "    kbin_d, DiagCSNR_P, DiagCSNR_Xi = [D2[:,i] for i in range(D2[0,:].size)]\n",
    "    kbin3_d, y_pred_d, sigma_d  = snr_interpolation(kbin_d, DiagCSNR_Xi)\n",
    "    kcenter_d, DSNR_P_interp_d, DSNR_Xi_interp_d = DSNR_interp( kbin_d, DiagCSNR_P, kbin_d, DiagCSNR_Xi )\n",
    "    \n",
    "        \n",
    "    if n is '200':\n",
    "        addition = np.linspace(0, 700, 30)[::-1]       \n",
    "        DSNR_Xi_interp[:30] = DSNR_Xi_interp[:30] + addition\n",
    "        \n",
    "    # total ----------------------------\n",
    "    #kbin_tot, SNR_tot = [D3[:,i] for i in range(D3[0,:].size)]\n",
    "    #kbin_tot, SNR_tot, _  = snr_interpolation(kbin_tot, SNR_tot)\n",
    "    #kcenter_t, _, DSNR_tot = DSNR_interp( kbin_tot, SNR_tot, kbin_tot, SNR_tot )\n",
    "    #ax.plot(kcenter, DSNR_P_interp,'g.',label = 'DSNR P')\n",
    "    \n",
    "    # plot ----------------------------\n",
    "    ax.plot(kbin3, y_pred, label = r'$\\xi$ (0,'+file_num[j] +')' )\n",
    "    #ax.plot(kbin_tot, SNR_tot, label = r'$tot$ '+ file_num[j])\n",
    "    #ax.plot(kbin_d, DiagCSNR_Xi, color = ax.lines[-1].get_color() ,linestyle = '--')\n",
    "    #ax.fill_between(kbin3, y_pred - sigma, y_pred + sigma,\n",
    "    #            alpha=0.1, color = ax.lines[-1].get_color())\n",
    "    \n",
    "    ax2.plot(kcenter, DSNR_Xi_interp)\n",
    "    #ax2.fill_between(kcenter, DSNR_Xi_interp - sigma[:-1], DSNR_Xi_interp + sigma[:-1],\n",
    "    #            alpha=0.1, color = ax2.lines[-1].get_color())\n",
    "    ax2.plot(kcenter_d, DSNR_Xi_interp_d, color = ax.lines[-1].get_color() ,linestyle = '--')\n",
    "    #ax2.plot(kcenter_t, DSNR_tot, label = r'$tot$ '+ file_num[j])\n",
    "\n",
    "    \n",
    "# tot \n",
    "D3 = np.loadtxt('data_txt/snr_comparison_rmin10_rmax200.txt')\n",
    "_, _, kbin2, SNR_Xi = [D3[:,i] for i in range(D3[0,:].size)]\n",
    "kbin_tot, SNR_tot, _  = snr_interpolation(kbin2, SNR_Xi, sigf=1e-3)\n",
    "kcenter_t, _, DSNR_tot = DSNR_interp( kbin_tot,SNR_tot, kbin_tot,SNR_tot)\n",
    "\n",
    "addition = np.linspace(0, 250, 17)[::-1]       \n",
    "DSNR_tot[:17] = 0 # DSNR_tot[:15] + addition\n",
    "        \n",
    "#ax.plot(kbin2, SNR_Xi, '.', markersize = 1, color = 'black')\n",
    "ax.plot(kbin_tot, SNR_tot, color = 'red',label = r'$\\xi$ (10, 200)' )\n",
    "ax2.plot(kcenter_t, 10*DSNR_tot, color = 'red', label = r'$\\xi \\times 10$ (10, 200)')\n",
    "#----------------------------------------\n",
    "\n",
    "\n",
    "ax.plot(kbin, SNR_P, 'k-.', label = r'$P$')\n",
    "ax2.plot(kcenter, DSNR_P_interp, 'k-.')   \n",
    "#ax.plot(kcenter, DiagCSNR_P,'g--',label = 'diag P')\n",
    "#ax.plot(kcenter, DiagCSNR_Xi,'r--',label = 'diag Xi')\n",
    "#ax.plot(kcenter, DiagCSNR_Xi0,'c--',label = 'diag Xi0')\n",
    "#ax.plot(kcenter, SNR_P_mean,'k.')\n",
    "#ax2.plot(kbin, DSNR, linestyle = '-', color = 'blue', label = 'SNRPP')\n",
    "#ax2.plot(kbin2, DSNR_Xi, 'b.',markersize = 2., label='SNRXI')\n",
    "\n",
    "#ax2.plot(kcenter, DSNR_P_mean, 'k.', label='interp')\n",
    "#ax2.plot(kcenter, DSNR_P_interp, 'g.', label='P')\n",
    "#ax2.plot(kcenter, DSNR_Xi_interp, 'r.', label='Xi')\n",
    "#ax2.plot(kcenter, DiagSNR_P, 'g--', label='diag P')\n",
    "#ax2.plot(kcenter, DiagSNR_Xi, 'r--', label='diag Xi')\n",
    "\n",
    "ax.set_xscale('log')\n",
    "ax2.set_xscale('log')\n",
    "ax.set_yscale('linear')\n",
    "ax.set_xlabel(r'$k_{\\rm max}$ ($h$ $Mpc^{-1}$)', size=20)\n",
    "ax2.set_xlabel(r'$k_{\\rm max}$ ($h$ $Mpc^{-1}$)', size=20)\n",
    "ax.set_ylim(-50000,600000)\n",
    "ax2.set_ylim( -2000 , 8000)\n",
    "ax.set_xlim(5e-2, 2)\n",
    "ax2.set_xlim(5e-2, 2)\n",
    "ax.set_ylabel(r'${\\rm (S/N)^2}$', size=20)\n",
    "ax2.set_ylabel(r'$\\Delta {\\rm (S/N)^2}$', size=20)\n",
    "ax.legend(loc='best')\n",
    "ax2.legend(loc='best')\n",
    "#ax2.legend(loc='best')\n",
    "ax.tick_params(labelsize=15)\n",
    "ax2.tick_params(labelsize=15)\n",
    "ax.ticklabel_format(axis='y', style='sci', scilimits=(-2,2))\n",
    "ax2.ticklabel_format(axis='y', style='sci', scilimits=(-2,2))\n",
    "plt.subplots_adjust(wspace=0, hspace=0)\n",
    "fig.savefig('figure/snr_comparison3.pdf')\n",
    "\n",
    "# --------------------------------\n",
    "# CSNR_P - CSNR_Xi\n",
    "\n",
    "\n",
    "\n",
    "file_num = ['200','300','400', '500']\n",
    "DATs = [np.loadtxt('data_txt/snr_rmax'+n+'_rmin0.txt') for n in file_num]\n",
    "Difference = np.zeros(len(DATs))\n",
    "fig, ax = plt.subplots()\n",
    "for j, D in enumerate(DATs):\n",
    "    kbin, SNR_P, kbin2, SNR_Xi = [D[:,i] for i in range(D[0,:].size)]\n",
    "    Difference[j] = SNR_P[-1] - SNR_Xi[-1]\n",
    "    print SNR_P[-1] - SNR_Xi[-1]\n",
    "\n",
    "\n",
    "ax.plot( np.arange(len(DATs)), Difference, 'o')\n",
    "ax.get_xaxis().set_ticks(np.arange(len(DATs)))\n",
    "ax.get_xaxis().set_ticklabels(file_num)\n",
    "ax.set_xlabel(r'r$_{\\rm max}$ ($h^{-1} Mpc$)', size=20) \n",
    "ax.set_ylabel(r'Difference (SNR$_P$ - SNR$_\\xi$)', size=10)\n",
    "ax.set_xlim(-1, len(DATs))\n",
    "ax.set_ylim(Difference.min() * 0.999, Difference.max() * 1.001)\n",
    "fig.savefig('figure/difference.pdf')\n",
    "\n",
    "\n"
   ]
  },
  {
   "cell_type": "markdown",
   "metadata": {
    "collapsed": true
   },
   "source": [
    "## fig3 _ optimal estimator "
   ]
  },
  {
   "cell_type": "code",
   "execution_count": 116,
   "metadata": {
    "collapsed": false
   },
   "outputs": [
    {
     "data": {
      "image/png": "[encoded data removed]",
      "text/plain": [
       "<matplotlib.figure.Figure at 0x8c4b210>"
      ]
     },
     "metadata": {},
     "output_type": "display_data"
    },
    {
     "data": {
      "image/png": "[encoded data removed]",
      "text/plain": [
       "<matplotlib.figure.Figure at 0x88f24d0>"
      ]
     },
     "metadata": {},
     "output_type": "display_data"
    }
   ],
   "source": [
    "#calling data\n",
    "#DAT = np.loadtxt('data_txt/snr.txt')\n",
    "file_num = ['200']\n",
    "#DATs = [np.loadtxt('data_txt/snr_rmax'+n+'.txt') for n in file_num]\n",
    "\n",
    "fig, ax = plt.subplots(1,1, figsize = (7, 5))\n",
    "fig2, ax2 = plt.subplots(1,1, figsize = (7, 5))\n",
    "for j, n in enumerate(file_num):\n",
    "    D1 = np.loadtxt('data_txt/snr_rmax'+n+'_rmin0.txt')\n",
    "    D2 = np.loadtxt('data_txt/snr_diag_rmax'+n+'_rmin0.txt')\n",
    "    D3 = np.loadtxt('data_txt/snr_tot_rmax'+n+'_rmin0.txt')\n",
    "    \n",
    "    #general ----------------------------\n",
    "    kbin, SNR_P, kbin2, SNR_Xi = [D1[:,i] for i in range(D1[0,:].size)]\n",
    "    kbin, SNR_P, _  = snr_interpolation(kbin, SNR_P)\n",
    "    \n",
    "    kbin3, y_pred, sigma = snr_interpolation(kbin2, SNR_Xi)\n",
    "    kcenter, DSNR_P_interp, DSNR_Xi_interp = DSNR_interp( kbin, SNR_P, kbin3, y_pred )\n",
    "    \n",
    "    #diagonal ----------------------------\n",
    "    kbin_d, DiagCSNR_P, DiagCSNR_Xi = [D2[:,i] for i in range(D2[0,:].size)]\n",
    "    #kbin3_d, y_pred_d, sigma_d  = snr_interpolation(kbin_d, DiagCSNR_Xi)\n",
    "    kcenter_d, DSNR_P_interp_d, DSNR_Xi_interp_d = DSNR_interp( kbin_d, DiagCSNR_P, kbin_d, DiagCSNR_Xi )\n",
    "    \n",
    "    # total ----------------------------\n",
    "    kbin_tot, SNR_tot = [D3[:,i] for i in range(D3[0,:].size)]\n",
    "    kbin_tot, SNR_tot, _  = snr_interpolation(kbin_tot, SNR_tot)\n",
    "    kcenter_t, _, DSNR_tot = DSNR_interp( kbin_tot, SNR_tot, kbin_tot, SNR_tot )\n",
    "    #ax.plot(kcenter, DSNR_P_interp,'g.',label = 'DSNR P')\n",
    "    \n",
    "    # plot ----------------------------\n",
    "    \n",
    "    ax.plot(kbin_tot, SNR_tot, color = 'red',label = r'$total$' )\n",
    "    ax.plot(kbin3, y_pred, label = r'$\\xi$ '+ file_num[j])\n",
    "    #ax.plot(kbin_d, DiagCSNR_Xi, color = ax.lines[-1].get_color() ,linestyle = '--')\n",
    "    #ax.fill_between(kbin3, y_pred - sigma, y_pred + sigma,\n",
    "    #            alpha=0.1, color = ax.lines[-1].get_color())\n",
    "    \n",
    "    ax2.plot(kcenter_t, DSNR_tot, color = 'red', label = r'$total$')\n",
    "    ax2.plot(kcenter, DSNR_Xi_interp, label=r'$\\xi$ '+ file_num[j])\n",
    "    #ax2.fill_between(kcenter, DSNR_Xi_interp - sigma[:-1], DSNR_Xi_interp + sigma[:-1],\n",
    "    #            alpha=0.1, color = ax2.lines[-1].get_color())\n",
    "    ax2.plot(kcenter_d, DSNR_Xi_interp_d, color = ax.lines[-1].get_color() ,linestyle = '--')\n",
    "    \n",
    "    \n",
    "ax.plot(kbin, SNR_P, 'k-.', label = r'$P$')\n",
    "ax2.plot(kcenter, DSNR_P_interp, 'k-.', label= r'$P$')   \n",
    "#ax.plot(kcenter, DiagCSNR_P,'g--',label = 'diag P')\n",
    "#ax.plot(kcenter, DiagCSNR_Xi,'r--',label = 'diag Xi')\n",
    "#ax.plot(kcenter, DiagCSNR_Xi0,'c--',label = 'diag Xi0')\n",
    "#ax.plot(kcenter, SNR_P_mean,'k.')\n",
    "#ax2.plot(kbin, DSNR, linestyle = '-', color = 'blue', label = 'SNRPP')\n",
    "#ax2.plot(kbin2, DSNR_Xi, 'b.',markersize = 2., label='SNRXI')\n",
    "\n",
    "#ax2.plot(kcenter, DSNR_P_mean, 'k.', label='interp')\n",
    "#ax2.plot(kcenter, DSNR_P_interp, 'g.', label='P')\n",
    "#ax2.plot(kcenter, DSNR_Xi_interp, 'r.', label='Xi')\n",
    "#ax2.plot(kcenter, DiagSNR_P, 'g--', label='diag P')\n",
    "#ax2.plot(kcenter, DiagSNR_Xi, 'r--', label='diag Xi')\n",
    "\n",
    "ax.set_xscale('log')\n",
    "ax2.set_xscale('log')\n",
    "ax.set_yscale('linear')\n",
    "ax.set_xlabel(r'$k_{\\rm max}$ ($h$ $Mpc^{-1}$)', size=20)\n",
    "ax2.set_xlabel(r'$k_{\\rm max}$ ($h$ $Mpc^{-1}$)', size=20)\n",
    "ax.set_ylim(-100000,600000)\n",
    "ax2.set_ylim( -2000 , 8000)\n",
    "ax.set_xlim(5e-2, 2)\n",
    "ax2.set_xlim(5e-2, 2)\n",
    "ax.set_ylabel('SNR', size=20)\n",
    "ax2.set_ylabel(r'$\\Delta$ SNR', size=20)\n",
    "ax.legend(loc='best')\n",
    "ax2.legend(loc='best')\n",
    "ax.ticklabel_format(axis='y', style='sci', scilimits=(-2,2))\n",
    "ax2.ticklabel_format(axis='y', style='sci', scilimits=(-2,2))\n",
    "fig.savefig('figure/snr_comparison_tot.pdf')\n"
   ]
  },
  {
   "cell_type": "code",
   "execution_count": 149,
   "metadata": {
    "collapsed": false
   },
   "outputs": [
    {
     "data": {
      "text/plain": [
       "<matplotlib.text.Text at 0x894b710>"
      ]
     },
     "execution_count": 149,
     "metadata": {},
     "output_type": "execute_result"
    },
    {
     "data": {
      "image/png": "[encoded data removed]",
      "text/plain": [
       "<matplotlib.figure.Figure at 0x4d01250>"
      ]
     },
     "metadata": {},
     "output_type": "display_data"
    },
    {
     "data": {
      "image/png": "[encoded data removed]",
      "text/plain": [
       "<matplotlib.figure.Figure at 0x89416d0>"
      ]
     },
     "metadata": {},
     "output_type": "display_data"
    }
   ],
   "source": [
    "r_range = [['200', '30'], ['152', '24'], ['180', '10']]\n",
    "\n",
    "\n",
    "fig, ax = plt.subplots(1,1, figsize = (7, 5))\n",
    "for j, r in enumerate(r_range):\n",
    "    D1 = np.loadtxt('data_txt/snr_rmax'+r[0]+'_rmin'+r[1]+'.txt')\n",
    "    D2 = np.loadtxt('data_txt/snr_tot_rmax'+r[0]+'_rmin'+r[1]+'_kmax0.2_kmin0.01.txt')\n",
    "    \n",
    "    _, _, kbin2, SNR_Xi = [D1[:,i] for i in range(D1[0,:].size)]\n",
    "    kbin_tot, SNR_tot = [D2[:,i] for i in range(D2[0,:].size)]    \n",
    "    \n",
    "    ax.plot(j, SNR_Xi[-1], marker='^', color = 'black')\n",
    "    ax.plot(j, SNR_tot[-1], marker = 'o', color = ax.lines[-1].get_color())\n",
    "    #ax.plot(kbin2, SNR_Xi, '--')\n",
    "    #ax.plot(kbin_tot, SNR_tot, linestyle = '-', color = ax.lines[-1].get_color())\n",
    "\n",
    "D3 = np.loadtxt('data_txt/snr_kmax0.2_kmin0.01.txt')\n",
    "kbin, SNR_P = [D3[:,i] for i in range(D3[0,:].size)]\n",
    "ax.axhline( y = SNR_P[-1], linestyle='--', color = 'grey', label = r'$P$')\n",
    "ax.set_ylim(0,500000)\n",
    "ax.set_xlim(-1, j+1)\n",
    "ax.set_xticks(np.arange(-1, j+1))\n",
    "ax.set_xticklabels(['', 'BAO\\n30-200 Mpc/h', 'Samushia et al\\n24-152 Mpc/h', 'Blake et al\\n10-180 Mpc/h'])\n",
    "ax.legend(loc='best')\n",
    "ax.set_ylabel('Cumulative SNR')\n",
    "    \n",
    "r_range = [['180', '10']]\n",
    "\n",
    "fig, ax = plt.subplots(1,1, figsize = (7, 5))\n",
    "for j, r in enumerate(r_range):\n",
    "    D1 = np.loadtxt('data_txt/snr_rmax'+r[0]+'_rmin'+r[1]+'.txt')\n",
    "    D2 = np.loadtxt('data_txt/snr_tot_rmax'+r[0]+'_rmin'+r[1]+'_kmax0.2_kmin0.01.txt')\n",
    "    \n",
    "    _, _, kbin2, SNR_Xi = [D1[:,i] for i in range(D1[0,:].size)]\n",
    "    kbin_tot, SNR_tot = [D2[:,i] for i in range(D2[0,:].size)]    \n",
    "    \n",
    "    ax.plot(j, SNR_Xi[-1], marker='^', color = 'black')\n",
    "    ax.plot(j, SNR_tot[-1], marker = 'o', color = ax.lines[-1].get_color())\n",
    "    #ax.plot(kbin2, SNR_Xi, '--')\n",
    "    #ax.plot(kbin_tot, SNR_tot, linestyle = '-', color = ax.lines[-1].get_color())\n",
    "\n",
    "D3 = np.loadtxt('data_txt/snr_kmax0.2_kmin0.01.txt')\n",
    "kbin, SNR_P = [D3[:,i] for i in range(D3[0,:].size)]\n",
    "ax.axhline( y = SNR_P[-1], linestyle='--', color = 'grey', label = r'$P$')\n",
    "ax.set_ylim(0,500000)\n",
    "ax.set_xlim(-1, j+1)\n",
    "ax.set_xticks(np.arange(-1, j+1))\n",
    "ax.set_xticklabels(['','BAO\\n30-200 Mpc/h', 'Samushia et al\\n24-152 Mpc/h', 'Blake et al\\n10-180 Mpc/h'])\n",
    "ax.legend(loc='best')\n",
    "ax.set_ylabel('Cumulative SNR')"
   ]
  },
  {
   "cell_type": "code",
   "execution_count": 21,
   "metadata": {
    "collapsed": false
   },
   "outputs": [
    {
     "name": "stderr",
     "output_type": "stream",
     "text": [
      "/usr/lib/python2.7/site-packages/ipykernel/__main__.py:48: RuntimeWarning: invalid value encountered in sqrt\n"
     ]
    },
    {
     "data": {
      "image/png": "[encoded data removed]",
      "text/plain": [
       "<matplotlib.figure.Figure at 0x56e93d0>"
      ]
     },
     "metadata": {},
     "output_type": "display_data"
    }
   ],
   "source": [
    "r = ['150', '25']\n",
    "\n",
    "fig, ax = plt.subplots(1,1, figsize = (7, 5))\n",
    "\n",
    "# calling data -------------------------------\n",
    "#for j, r in enumerate(r_range):\n",
    "\n",
    "D1 = np.loadtxt('data_txt/snr_rmax'+r[0]+'_rmin'+r[1]+'.txt')\n",
    "D2 = np.loadtxt('data_txt/snr_tot_rmax'+r[0]+'_rmin'+r[1]+'_kmax0.25_kmin1e-10.txt')\n",
    "D3 = np.loadtxt('data_txt/snr_kmax0.25_kmin1e-10.txt')\n",
    "kbin, SNR_P = [D3[:,i] for i in range(D3[0,:].size)]\n",
    "_,_,kbin2, SNR_Xi = [D1[:,i] for i in range(D1[0,:].size)]\n",
    "kbin_tot, SNR_tot = [D2[:,i] for i in range(D2[0,:].size)]    \n",
    "  \n",
    "\n",
    "## fitting-------------------------------\n",
    "\n",
    "k_pred = np.linspace(0.01, 2.0, 50)\n",
    "_, y_pred, sigma = snr_interpolation(kbin2, SNR_Xi, k_pred=k_pred)\n",
    "#kcenter, DSNR_P_interp, DSNR_Xi_interp = DSNR_interp( kbin, SNR_P, kbin3, y_pred )\n",
    "\n",
    "\n",
    "# snr_tot fitting\n",
    "def fitfunc(x, a, b):\n",
    "    #return a*x**2 + b*x+ c\n",
    "    return a* np.log(x) + b\n",
    "    #return a*np.exp(x**b)\n",
    "\n",
    "import scipy\n",
    "popt, pcov = scipy.optimize.curve_fit(fitfunc, kbin_tot[41:], SNR_tot[41:])\n",
    "\n",
    "\n",
    "#ax.plot(kbin_tot[:70], np.sqrt(SNR_tot[:70]), 'r-')\n",
    "k_pred_tot = np.linspace(0.25, 2.0, 30)\n",
    "#pred_tot = scipy.interpolate.UnivariateSpline(kbin_tot, SNR_tot)\n",
    "#pred_tot.set_smoothing_factor(0.5)\n",
    "#plt.plot(k_pred_tot, np.sqrt(pred_tot(k_pred_tot)), 'r-', label='fit')\n",
    "\n",
    "## plotting-------------------------------\n",
    "\n",
    "#print k_pred_tot_y\n",
    "\n",
    "#k_pred_tot_y = scipy.interpolate.spline(kbin_tot[70:], SNR_tot[70:], k_pred_tot, order=3, kind='smoothest', conds=None)\n",
    "#plt.plot(k_pred_tot, np.sqrt(k_pred_tot_y), 'r-', label='fit')\n",
    "\n",
    "ax.plot(kbin, np.sqrt(SNR_P), '--', linewidth=3, color = 'blue',label = r'$P$  ($0<k<0.25$ $h$ ${\\rm Mpc}^{-1}$)')\n",
    "#ax.plot(kbin2, np.sqrt(SNR_Xi), '.', markersize=3, color = 'grey', alpha = 0.7)\n",
    "ax.plot(k_pred, np.sqrt(y_pred), '--', markersize=5, color ='red', label= r'$\\xi$  ($20<r<160$ $h^{-1}$ ${\\rm Mpc}$)')\n",
    "#ax.plot(kbin_tot, np.sqrt(SNR_tot), '.', markersize = 3, alpha = 0.7, color= 'grey') #color = ax.lines[-1].get_color())\n",
    "#ax.plot(k_pred_tot, np.sqrt(y_pred_tot), 'o', markersize=5, color ='black', label= 'interp')\n",
    "\n",
    "y_pred_tot = fitfunc(k_pred_tot, *popt)\n",
    "ax.plot(k_pred_tot, np.sqrt(y_pred_tot), 'g-',  label = r'${\\rm combined}$')\n",
    "ax.plot(kbin, np.sqrt(SNR_P), 'g-')\n",
    "\n",
    "ax.axhline( y = np.sqrt(SNR_P[-1]), linestyle='--', color = 'grey')\n",
    "ax.legend(loc='best')\n",
    "ax.set_yscale('linear')\n",
    "ax.set_xlim(0.01, 2)\n",
    "\n",
    "ax.set_ylabel(r'$\\sqrt{(S/N)^2}$', size =20)\n",
    "ax.set_xlabel(r'$k_{\\rm max}$', size = 20)\n",
    "ax.set_ylim(0, 800)\n",
    "\n",
    "ax.tick_params(labelsize=15)\n",
    "fig.tight_layout()\n",
    "#fig.savefig('figure/snr_limit_datapoint_logscale.pdf')"
   ]
  },
  {
   "cell_type": "code",
   "execution_count": 32,
   "metadata": {
    "collapsed": false
   },
   "outputs": [
    {
     "data": {
      "text/plain": [
       "0.10110770824747696"
      ]
     },
     "execution_count": 32,
     "metadata": {},
     "output_type": "execute_result"
    }
   ],
   "source": [
    "kbin_tot[50]"
   ]
  },
  {
   "cell_type": "code",
   "execution_count": 61,
   "metadata": {
    "collapsed": false,
    "scrolled": true
   },
   "outputs": [
    {
     "name": "stderr",
     "output_type": "stream",
     "text": [
      "/usr/lib/python2.7/site-packages/ipykernel/__main__.py:47: RuntimeWarning: invalid value encountered in sqrt\n"
     ]
    },
    {
     "data": {
      "image/png": "[encoded data removed]",
      "text/plain": [
       "<matplotlib.figure.Figure at 0x56c1650>"
      ]
     },
     "metadata": {},
     "output_type": "display_data"
    }
   ],
   "source": [
    "r = ['150', '25']\n",
    "\n",
    "fig, ax = plt.subplots(1,1, figsize = (7, 5))\n",
    "\n",
    "# calling data -------------------------------\n",
    "#for j, r in enumerate(r_range):\n",
    "\n",
    "D1 = np.loadtxt('data_txt/snr/test_bf_k0_02_kN1000_r18_180_rN162_snr_xi')\n",
    "D2 = np.loadtxt('data_txt/snr/test_bf_k0_02_kN1000_r18_180_rN162_snr_tot')\n",
    "D3 = np.loadtxt('data_txt/snr/test_bf_k0_02_kN1000_r18_180_rN162_snr_p')\n",
    "kbin, SNR_P = [D3[:,i] for i in range(D3[0,:].size)]\n",
    "kbin2, SNR_Xi = [D1[:,i] for i in range(D1[0,:].size)]\n",
    "kbin_tot, SNR_tot = [D2[:,i] for i in range(D2[0,:].size)]    \n",
    "\n",
    "## fitting-------------------------------\n",
    "\n",
    "k_pred = np.linspace(0.01, 2.0, 50)\n",
    "_, y_pred, sigma = snr_interpolation(kbin2, SNR_Xi, k_pred=k_pred)\n",
    "#kcenter, DSNR_P_interp, DSNR_Xi_interp = DSNR_interp( kbin, SNR_P, kbin3, y_pred )\n",
    "\n",
    "\n",
    "# snr_tot fitting\n",
    "def fitfunc(x, a, b):\n",
    "    #return a*x**2 + b*x+ c\n",
    "    return a* np.log(x) + b\n",
    "    #return a*np.exp(x**b)\n",
    "\n",
    "import scipy\n",
    "popt, pcov = scipy.optimize.curve_fit(fitfunc, kbin_tot[70:], SNR_tot[70:])\n",
    "\n",
    "\n",
    "#ax.plot(kbin_tot[:70], np.sqrt(SNR_tot[:70]), 'r-')\n",
    "k_pred_tot = np.linspace(0.2, 2.0, 50)\n",
    "#pred_tot = scipy.interpolate.UnivariateSpline(kbin_tot, SNR_tot)\n",
    "#pred_tot.set_smoothing_factor(0.5)\n",
    "#plt.plot(k_pred_tot, np.sqrt(pred_tot(k_pred_tot)), 'r-', label='fit')\n",
    "\n",
    "## plotting-------------------------------\n",
    "\n",
    "#print k_pred_tot_y\n",
    "\n",
    "#k_pred_tot_y = scipy.interpolate.spline(kbin_tot[70:], SNR_tot[70:], k_pred_tot, order=3, kind='smoothest', conds=None)\n",
    "#plt.plot(k_pred_tot, np.sqrt(k_pred_tot_y), 'r-', label='fit')\n",
    "\n",
    "ax.plot(kbin, np.sqrt(SNR_P), '--', linewidth=3, color = 'blue',label = r'$P$  ($0<k<0.2$ $h$ ${\\rm Mpc}^{-1}$)')\n",
    "#ax.plot(kbin2, np.sqrt(SNR_Xi), '.', markersize=3, color = 'grey', alpha = 0.7)\n",
    "ax.plot(k_pred, np.sqrt(y_pred), '--', markersize=5, color ='red', label= r'$\\xi$  ($18<r<180$ $h^{-1}$ ${\\rm Mpc}$)')\n",
    "#ax.plot(kbin_tot, np.sqrt(SNR_tot), '.', markersize = 3, alpha = 0.7, color= 'grey') #color = ax.lines[-1].get_color())\n",
    "#ax.plot(k_pred_tot, np.sqrt(y_pred_tot), 'o', markersize=5, color ='black', label= 'interp')\n",
    "\n",
    "y_pred_tot = fitfunc(k_pred_tot, *popt)\n",
    "ax.plot(k_pred_tot, np.sqrt(y_pred_tot), 'g-',  label = r'${\\rm combined}$')\n",
    "ax.plot(kbin, np.sqrt(SNR_P), 'g-')\n",
    "\n",
    "ax.axhline( y = np.sqrt(SNR_P[-1]), linestyle='--', color = 'grey')\n",
    "ax.legend(loc='best')\n",
    "ax.set_yscale('linear')\n",
    "ax.set_xlim(0.01, 2)\n",
    "\n",
    "ax.set_ylabel(r'$\\sqrt{(S/N)^2}$', size =20)\n",
    "ax.set_xlabel(r'$k_{\\rm max}$', size = 20)\n",
    "ax.set_ylim(0, 800)\n",
    "\n",
    "ax.tick_params(labelsize=15)\n",
    "fig.tight_layout()\n",
    "fig.savefig('figure/test_bf_k0_02_kN1000_r18_180_rN162_snr.pdf')"
   ]
  },
  {
   "cell_type": "code",
   "execution_count": 82,
   "metadata": {
    "collapsed": false
   },
   "outputs": [
    {
     "name": "stdout",
     "output_type": "stream",
     "text": [
      "8\n",
      "(499,)\n",
      "(8,)\n"
     ]
    },
    {
     "ename": "TypeError",
     "evalue": "Improper input: N=2 must not exceed M=0",
     "output_type": "error",
     "traceback": [
      "\u001b[0;31m---------------------------------------------------------------------------\u001b[0m",
      "\u001b[0;31mTypeError\u001b[0m                                 Traceback (most recent call last)",
      "\u001b[0;32m<ipython-input-82-465f8b60ea04>\u001b[0m in \u001b[0;36m<module>\u001b[0;34m()\u001b[0m\n\u001b[1;32m     33\u001b[0m \u001b[0;34m\u001b[0m\u001b[0m\n\u001b[1;32m     34\u001b[0m \u001b[0;32mprint\u001b[0m \u001b[0mkbin_tot\u001b[0m\u001b[0;34m.\u001b[0m\u001b[0mshape\u001b[0m\u001b[0;34m\u001b[0m\u001b[0m\n\u001b[0;32m---> 35\u001b[0;31m \u001b[0mpopt\u001b[0m\u001b[0;34m,\u001b[0m \u001b[0mpcov\u001b[0m \u001b[0;34m=\u001b[0m \u001b[0mscipy\u001b[0m\u001b[0;34m.\u001b[0m\u001b[0moptimize\u001b[0m\u001b[0;34m.\u001b[0m\u001b[0mcurve_fit\u001b[0m\u001b[0;34m(\u001b[0m\u001b[0mfitfunc\u001b[0m\u001b[0;34m,\u001b[0m \u001b[0mkbin_tot\u001b[0m\u001b[0;34m[\u001b[0m\u001b[0;36m30\u001b[0m\u001b[0;34m:\u001b[0m\u001b[0;34m]\u001b[0m\u001b[0;34m,\u001b[0m \u001b[0mSNR_tot\u001b[0m\u001b[0;34m[\u001b[0m\u001b[0;36m30\u001b[0m\u001b[0;34m:\u001b[0m\u001b[0;34m]\u001b[0m\u001b[0;34m)\u001b[0m\u001b[0;34m\u001b[0m\u001b[0m\n\u001b[0m\u001b[1;32m     36\u001b[0m \u001b[0;34m\u001b[0m\u001b[0m\n\u001b[1;32m     37\u001b[0m \u001b[0;31m#ax.plot(kbin_tot[:70], np.sqrt(SNR_tot[:70]), 'r-')\u001b[0m\u001b[0;34m\u001b[0m\u001b[0;34m\u001b[0m\u001b[0m\n",
      "\u001b[0;32m/n/home00/lee.5922/.local/lib/python2.7/site-packages/scipy/optimize/minpack.pyc\u001b[0m in \u001b[0;36mcurve_fit\u001b[0;34m(f, xdata, ydata, p0, sigma, absolute_sigma, check_finite, **kw)\u001b[0m\n\u001b[1;32m    576\u001b[0m     \u001b[0;31m# Remove full_output from kw, otherwise we're passing it in twice.\u001b[0m\u001b[0;34m\u001b[0m\u001b[0;34m\u001b[0m\u001b[0m\n\u001b[1;32m    577\u001b[0m     \u001b[0mreturn_full\u001b[0m \u001b[0;34m=\u001b[0m \u001b[0mkw\u001b[0m\u001b[0;34m.\u001b[0m\u001b[0mpop\u001b[0m\u001b[0;34m(\u001b[0m\u001b[0;34m'full_output'\u001b[0m\u001b[0;34m,\u001b[0m \u001b[0mFalse\u001b[0m\u001b[0;34m)\u001b[0m\u001b[0;34m\u001b[0m\u001b[0m\n\u001b[0;32m--> 578\u001b[0;31m     \u001b[0mres\u001b[0m \u001b[0;34m=\u001b[0m \u001b[0mleastsq\u001b[0m\u001b[0;34m(\u001b[0m\u001b[0mfunc\u001b[0m\u001b[0;34m,\u001b[0m \u001b[0mp0\u001b[0m\u001b[0;34m,\u001b[0m \u001b[0margs\u001b[0m\u001b[0;34m=\u001b[0m\u001b[0margs\u001b[0m\u001b[0;34m,\u001b[0m \u001b[0mfull_output\u001b[0m\u001b[0;34m=\u001b[0m\u001b[0;36m1\u001b[0m\u001b[0;34m,\u001b[0m \u001b[0;34m**\u001b[0m\u001b[0mkw\u001b[0m\u001b[0;34m)\u001b[0m\u001b[0;34m\u001b[0m\u001b[0m\n\u001b[0m\u001b[1;32m    579\u001b[0m     \u001b[0;34m(\u001b[0m\u001b[0mpopt\u001b[0m\u001b[0;34m,\u001b[0m \u001b[0mpcov\u001b[0m\u001b[0;34m,\u001b[0m \u001b[0minfodict\u001b[0m\u001b[0;34m,\u001b[0m \u001b[0merrmsg\u001b[0m\u001b[0;34m,\u001b[0m \u001b[0mier\u001b[0m\u001b[0;34m)\u001b[0m \u001b[0;34m=\u001b[0m \u001b[0mres\u001b[0m\u001b[0;34m\u001b[0m\u001b[0m\n\u001b[1;32m    580\u001b[0m \u001b[0;34m\u001b[0m\u001b[0m\n",
      "\u001b[0;32m/n/home00/lee.5922/.local/lib/python2.7/site-packages/scipy/optimize/minpack.pyc\u001b[0m in \u001b[0;36mleastsq\u001b[0;34m(func, x0, args, Dfun, full_output, col_deriv, ftol, xtol, gtol, maxfev, epsfcn, factor, diag)\u001b[0m\n\u001b[1;32m    372\u001b[0m     \u001b[0mm\u001b[0m \u001b[0;34m=\u001b[0m \u001b[0mshape\u001b[0m\u001b[0;34m[\u001b[0m\u001b[0;36m0\u001b[0m\u001b[0;34m]\u001b[0m\u001b[0;34m\u001b[0m\u001b[0m\n\u001b[1;32m    373\u001b[0m     \u001b[0;32mif\u001b[0m \u001b[0mn\u001b[0m \u001b[0;34m>\u001b[0m \u001b[0mm\u001b[0m\u001b[0;34m:\u001b[0m\u001b[0;34m\u001b[0m\u001b[0m\n\u001b[0;32m--> 374\u001b[0;31m         \u001b[0;32mraise\u001b[0m \u001b[0mTypeError\u001b[0m\u001b[0;34m(\u001b[0m\u001b[0;34m'Improper input: N=%s must not exceed M=%s'\u001b[0m \u001b[0;34m%\u001b[0m \u001b[0;34m(\u001b[0m\u001b[0mn\u001b[0m\u001b[0;34m,\u001b[0m \u001b[0mm\u001b[0m\u001b[0;34m)\u001b[0m\u001b[0;34m)\u001b[0m\u001b[0;34m\u001b[0m\u001b[0m\n\u001b[0m\u001b[1;32m    375\u001b[0m     \u001b[0;32mif\u001b[0m \u001b[0mepsfcn\u001b[0m \u001b[0;32mis\u001b[0m \u001b[0mNone\u001b[0m\u001b[0;34m:\u001b[0m\u001b[0;34m\u001b[0m\u001b[0m\n\u001b[1;32m    376\u001b[0m         \u001b[0mepsfcn\u001b[0m \u001b[0;34m=\u001b[0m \u001b[0mfinfo\u001b[0m\u001b[0;34m(\u001b[0m\u001b[0mdtype\u001b[0m\u001b[0;34m)\u001b[0m\u001b[0;34m.\u001b[0m\u001b[0meps\u001b[0m\u001b[0;34m\u001b[0m\u001b[0m\n",
      "\u001b[0;31mTypeError\u001b[0m: Improper input: N=2 must not exceed M=0"
     ]
    },
    {
     "data": {
      "image/png": "[encoded data removed]",
      "text/plain": [
       "<matplotlib.figure.Figure at 0x58e9c90>"
      ]
     },
     "metadata": {},
     "output_type": "display_data"
    }
   ],
   "source": [
    "fig, ax = plt.subplots(1,1, figsize = (7, 5))\n",
    "\n",
    "# calling data -------------------------------\n",
    "#for j, r in enumerate(r_range):\n",
    "            \n",
    "D1 = np.loadtxt('data_txt/snr/test_bf_k0_02_kN500_r18_180_rN162_snr_xi')\n",
    "D2 = np.loadtxt('data_txt/snr/test_bf_k0_02_kN500_r18_180_rN162_snr_tot')\n",
    "D3 = np.loadtxt('data_txt/snr/test_bf_k0_02_kN500_r18_180_rN162_snr_p')\n",
    "kbin, SNR_P = [D3[:,i] for i in range(D3[0,:].size)]\n",
    "kbin2, SNR_Xi = [D1[:,i] for i in range(D1[0,:].size)]\n",
    "kbin_tot, SNR_tot = [D2[:,i] for i in range(D2[0,:].size)]    \n",
    "\n",
    "## fitting-------------------------------\n",
    "\n",
    "k_pred = np.linspace(0.01, 2.0, 50)\n",
    "_, y_pred, sigma = snr_interpolation(kbin2, SNR_Xi, k_pred=k_pred)\n",
    "#kcenter, DSNR_P_interp, DSNR_Xi_interp = DSNR_interp( kbin, SNR_P, kbin3, y_pred )\n",
    "\n",
    "\n",
    "# snr_tot fitting\n",
    "def fitfunc(x, a, b):\n",
    "    #return a*x**2 + b*x+ c\n",
    "    return a* np.log(x) + b\n",
    "    #return a*np.exp(x**b)\n",
    "\n",
    "import scipy\n",
    "mask = (SNR_tot < 600.0)\n",
    "print np.sum(mask)\n",
    "\n",
    "print kbin_tot.shape\n",
    "kbin_tot = kbin_tot[mask]\n",
    "SNR_tot = SNR_tot[mask]\n",
    "\n",
    "print kbin_tot.shape\n",
    "popt, pcov = scipy.optimize.curve_fit(fitfunc, kbin_tot[30:], SNR_tot[30:])\n",
    "\n",
    "#ax.plot(kbin_tot[:70], np.sqrt(SNR_tot[:70]), 'r-')\n",
    "k_pred_tot = np.linspace(0.2, 2.0, 50)\n",
    "#pred_tot = scipy.interpolate.UnivariateSpline(kbin_tot, SNR_tot)\n",
    "#pred_tot.set_smoothing_factor(0.5)\n",
    "#plt.plot(k_pred_tot, np.sqrt(pred_tot(k_pred_tot)), 'r-', label='fit')\n",
    "\n",
    "## plotting-------------------------------\n",
    "\n",
    "#print k_pred_tot_y\n",
    "\n",
    "#k_pred_tot_y = scipy.interpolate.spline(kbin_tot[70:], SNR_tot[70:], k_pred_tot, order=3, kind='smoothest', conds=None)\n",
    "#plt.plot(k_pred_tot, np.sqrt(k_pred_tot_y), 'r-', label='fit')\n",
    "\n",
    "ax.plot(kbin, np.sqrt(SNR_P), '--', linewidth=3, color = 'blue',label = r'$P$  ($0<k<0.2$ $h$ ${\\rm Mpc}^{-1}$)')\n",
    "#ax.plot(kbin2, np.sqrt(SNR_Xi), '.', markersize=3, color = 'grey', alpha = 0.7)\n",
    "ax.plot(k_pred, np.sqrt(y_pred), '--', markersize=5, color ='red', label= r'$\\xi$  ($18<r<180$ $h^{-1}$ ${\\rm Mpc}$)')\n",
    "ax.plot(kbin_tot, np.sqrt(SNR_tot), '.', markersize = 3, alpha = 0.7, color= 'grey') #color = ax.lines[-1].get_color())\n",
    "#ax.plot(k_pred_tot, np.sqrt(y_pred_tot), 'o', markersize=5, color ='black', label= 'interp')\n",
    "\n",
    "y_pred_tot = fitfunc(k_pred_tot, *popt)\n",
    "ax.plot(k_pred_tot, np.sqrt(y_pred_tot), 'g-',  label = r'${\\rm combined}$')\n",
    "ax.plot(kbin, np.sqrt(SNR_P), 'g-')\n",
    "\n",
    "ax.axhline( y = np.sqrt(SNR_P[-1]), linestyle='--', color = 'grey')\n",
    "ax.legend(loc='best')\n",
    "ax.set_yscale('linear')\n",
    "ax.set_xlim(0.01, 2)\n",
    "\n",
    "ax.set_ylabel(r'$\\sqrt{(S/N)^2}$', size =20)\n",
    "ax.set_xlabel(r'$k_{\\rm max}$', size = 20)\n",
    "ax.set_ylim(0, 800)\n",
    "\n",
    "ax.tick_params(labelsize=15)\n",
    "fig.tight_layout()\n",
    "fig.savefig('figure/test_bf_k0_02_kN500_r18_180_rN162_nn5_snr.pdf')"
   ]
  },
  {
   "cell_type": "code",
   "execution_count": null,
   "metadata": {
    "collapsed": true
   },
   "outputs": [],
   "source": []
  },
  {
   "cell_type": "code",
   "execution_count": 70,
   "metadata": {
    "collapsed": false
   },
   "outputs": [
    {
     "name": "stderr",
     "output_type": "stream",
     "text": [
      "/usr/lib/python2.7/site-packages/ipykernel/__main__.py:45: RuntimeWarning: invalid value encountered in sqrt\n"
     ]
    },
    {
     "data": {
      "image/png": "[encoded data removed]",
      "text/plain": [
       "<matplotlib.figure.Figure at 0x56e09d0>"
      ]
     },
     "metadata": {},
     "output_type": "display_data"
    }
   ],
   "source": [
    "fig, ax = plt.subplots(1,1, figsize = (7, 5))\n",
    "\n",
    "# calling data -------------------------------\n",
    "#for j, r in enumerate(r_range):\n",
    "            \n",
    "D1 = np.loadtxt('data_txt/snr/test_bf_k0_02_kN500_r18_180_rN162_nn5_snr_xi')\n",
    "D2 = np.loadtxt('data_txt/snr/test_bf_k0_02_kN500_r18_180_rN162_nn5_snr_tot')\n",
    "D3 = np.loadtxt('data_txt/snr/test_bf_k0_02_kN500_r18_180_rN162_nn5_snr_p')\n",
    "kbin, SNR_P = [D3[:,i] for i in range(D3[0,:].size)]\n",
    "kbin2, SNR_Xi = [D1[:,i] for i in range(D1[0,:].size)]\n",
    "kbin_tot, SNR_tot = [D2[:,i] for i in range(D2[0,:].size)]    \n",
    "\n",
    "## fitting-------------------------------\n",
    "\n",
    "k_pred = np.linspace(0.01, 2.0, 50)\n",
    "_, y_pred, sigma = snr_interpolation(kbin2, SNR_Xi, k_pred=k_pred)\n",
    "#kcenter, DSNR_P_interp, DSNR_Xi_interp = DSNR_interp( kbin, SNR_P, kbin3, y_pred )\n",
    "\n",
    "\n",
    "# snr_tot fitting\n",
    "def fitfunc(x, a, b):\n",
    "    #return a*x**2 + b*x+ c\n",
    "    return a* np.log(x) + b\n",
    "    #return a*np.exp(x**b)\n",
    "\n",
    "import scipy\n",
    "popt, pcov = scipy.optimize.curve_fit(fitfunc, kbin_tot[30:200], SNR_tot[30:200])\n",
    "\n",
    "\n",
    "#ax.plot(kbin_tot[:70], np.sqrt(SNR_tot[:70]), 'r-')\n",
    "k_pred_tot = np.linspace(0.2, 2.0, 50)\n",
    "#pred_tot = scipy.interpolate.UnivariateSpline(kbin_tot, SNR_tot)\n",
    "#pred_tot.set_smoothing_factor(0.5)\n",
    "#plt.plot(k_pred_tot, np.sqrt(pred_tot(k_pred_tot)), 'r-', label='fit')\n",
    "\n",
    "## plotting-------------------------------\n",
    "\n",
    "#print k_pred_tot_y\n",
    "\n",
    "#k_pred_tot_y = scipy.interpolate.spline(kbin_tot[70:], SNR_tot[70:], k_pred_tot, order=3, kind='smoothest', conds=None)\n",
    "#plt.plot(k_pred_tot, np.sqrt(k_pred_tot_y), 'r-', label='fit')\n",
    "\n",
    "ax.plot(kbin, np.sqrt(SNR_P), '--', linewidth=3, color = 'blue',label = r'$P$  ($0<k<0.2$ $h$ ${\\rm Mpc}^{-1}$)')\n",
    "#ax.plot(kbin2, np.sqrt(SNR_Xi), '.', markersize=3, color = 'grey', alpha = 0.7)\n",
    "ax.plot(k_pred, np.sqrt(y_pred), '--', markersize=5, color ='red', label= r'$\\xi$  ($18<r<180$ $h^{-1}$ ${\\rm Mpc}$)')\n",
    "ax.plot(kbin_tot, np.sqrt(SNR_tot), '.', markersize = 3, alpha = 0.7, color= 'grey') #color = ax.lines[-1].get_color())\n",
    "#ax.plot(k_pred_tot, np.sqrt(y_pred_tot), 'o', markersize=5, color ='black', label= 'interp')\n",
    "\n",
    "y_pred_tot = fitfunc(k_pred_tot, *popt)\n",
    "ax.plot(k_pred_tot, np.sqrt(y_pred_tot), 'g-',  label = r'${\\rm combined}$')\n",
    "ax.plot(kbin, np.sqrt(SNR_P), 'g-')\n",
    "\n",
    "ax.axhline( y = np.sqrt(SNR_P[-1]), linestyle='--', color = 'grey')\n",
    "ax.legend(loc='best')\n",
    "ax.set_yscale('linear')\n",
    "ax.set_xlim(0.01, 2)\n",
    "\n",
    "ax.set_ylabel(r'$\\sqrt{(S/N)^2}$', size =20)\n",
    "ax.set_xlabel(r'$k_{\\rm max}$', size = 20)\n",
    "ax.set_ylim(0, 400)\n",
    "\n",
    "ax.tick_params(labelsize=15)\n",
    "fig.tight_layout()\n",
    "fig.savefig('figure/test_bf_k0_02_kN500_r18_180_rN162_nn5_snr.pdf')"
   ]
  },
  {
   "cell_type": "code",
   "execution_count": 55,
   "metadata": {
    "collapsed": false
   },
   "outputs": [
    {
     "name": "stderr",
     "output_type": "stream",
     "text": [
      "/usr/lib/python2.7/site-packages/ipykernel/__main__.py:45: RuntimeWarning: invalid value encountered in sqrt\n"
     ]
    },
    {
     "data": {
      "image/png": "[encoded data removed]",
      "text/plain": [
       "<matplotlib.figure.Figure at 0x56e9410>"
      ]
     },
     "metadata": {},
     "output_type": "display_data"
    }
   ],
   "source": [
    "fig, ax = plt.subplots(1,1, figsize = (7, 5))\n",
    "\n",
    "# calling data -------------------------------\n",
    "#for j, r in enumerate(r_range):\n",
    "            \n",
    "D1 = np.loadtxt('data_txt/snr/test_bf_k0_02_kN1000_r18_180_rN162_nn5_snr_xi')\n",
    "D2 = np.loadtxt('data_txt/snr/test_bf_k0_02_kN1000_r18_180_rN162_nn5_snr_tot')\n",
    "D3 = np.loadtxt('data_txt/snr/test_bf_k0_02_kN1000_r18_180_rN162_nn5_snr_p')\n",
    "kbin, SNR_P = [D3[:,i] for i in range(D3[0,:].size)]\n",
    "kbin2, SNR_Xi = [D1[:,i] for i in range(D1[0,:].size)]\n",
    "kbin_tot, SNR_tot = [D2[:,i] for i in range(D2[0,:].size)]    \n",
    "\n",
    "## fitting-------------------------------\n",
    "\n",
    "k_pred = np.linspace(0.01, 2.0, 50)\n",
    "_, y_pred, sigma = snr_interpolation(kbin2, SNR_Xi, k_pred=k_pred)\n",
    "#kcenter, DSNR_P_interp, DSNR_Xi_interp = DSNR_interp( kbin, SNR_P, kbin3, y_pred )\n",
    "\n",
    "\n",
    "# snr_tot fitting\n",
    "def fitfunc(x, a, b):\n",
    "    #return a*x**2 + b*x+ c\n",
    "    return a* np.log(x) + b\n",
    "    #return a*np.exp(x**b)\n",
    "\n",
    "import scipy\n",
    "popt, pcov = scipy.optimize.curve_fit(fitfunc, kbin_tot[30:], SNR_tot[30:])\n",
    "\n",
    "\n",
    "#ax.plot(kbin_tot[:70], np.sqrt(SNR_tot[:70]), 'r-')\n",
    "k_pred_tot = np.linspace(0.2, 2.0, 50)\n",
    "#pred_tot = scipy.interpolate.UnivariateSpline(kbin_tot, SNR_tot)\n",
    "#pred_tot.set_smoothing_factor(0.5)\n",
    "#plt.plot(k_pred_tot, np.sqrt(pred_tot(k_pred_tot)), 'r-', label='fit')\n",
    "\n",
    "## plotting-------------------------------\n",
    "\n",
    "#print k_pred_tot_y\n",
    "\n",
    "#k_pred_tot_y = scipy.interpolate.spline(kbin_tot[70:], SNR_tot[70:], k_pred_tot, order=3, kind='smoothest', conds=None)\n",
    "#plt.plot(k_pred_tot, np.sqrt(k_pred_tot_y), 'r-', label='fit')\n",
    "\n",
    "ax.plot(kbin, np.sqrt(SNR_P), '--', linewidth=3, color = 'blue',label = r'$P$  ($0<k<0.2$ $h$ ${\\rm Mpc}^{-1}$)')\n",
    "#ax.plot(kbin2, np.sqrt(SNR_Xi), '.', markersize=3, color = 'grey', alpha = 0.7)\n",
    "ax.plot(k_pred, np.sqrt(y_pred), '--', markersize=5, color ='red', label= r'$\\xi$  ($18<r<180$ $h^{-1}$ ${\\rm Mpc}$)')\n",
    "#ax.plot(kbin_tot, np.sqrt(SNR_tot), '.', markersize = 3, alpha = 0.7, color= 'grey') #color = ax.lines[-1].get_color())\n",
    "#ax.plot(k_pred_tot, np.sqrt(y_pred_tot), 'o', markersize=5, color ='black', label= 'interp')\n",
    "\n",
    "y_pred_tot = fitfunc(k_pred_tot, *popt)\n",
    "ax.plot(k_pred_tot, np.sqrt(y_pred_tot), 'g-',  label = r'${\\rm combined}$')\n",
    "ax.plot(kbin, np.sqrt(SNR_P), 'g-')\n",
    "\n",
    "ax.axhline( y = np.sqrt(SNR_P[-1]), linestyle='--', color = 'grey')\n",
    "ax.legend(loc='best')\n",
    "ax.set_yscale('linear')\n",
    "ax.set_xlim(0.01, 2)\n",
    "\n",
    "ax.set_ylabel(r'$\\sqrt{(S/N)^2}$', size =20)\n",
    "ax.set_xlabel(r'$k_{\\rm max}$', size = 20)\n",
    "ax.set_ylim(0, 400)\n",
    "\n",
    "ax.tick_params(labelsize=15)\n",
    "fig.tight_layout()\n",
    "fig.savefig('figure/test_bf_k0_02_kN1000_r18_180_rN162_nn5_snr.pdf')"
   ]
  },
  {
   "cell_type": "code",
   "execution_count": 342,
   "metadata": {
    "collapsed": false
   },
   "outputs": [],
   "source": [
    "kcenter, DSNR_P_interp, DSNR_Xi_interp = DSNR_interp( kbin, SNR_P, k_pred, y_pred )\n",
    "_, DSNR_P_interp_sqrt, DSNR_Xi_interp_sqrt = DSNR_interp( kbin, np.sqrt(SNR_P), k_pred[6:], np.sqrt(y_pred[6:]) )\n",
    "#kcenter, DSNR_P_interp, DSNR_Xi_interp = DSNR_interp( kbin, SNR_P, kbin2, SNR_Xi )\n",
    "#kbin_tot = np.hstack([kbin, k_pred_tot])\n",
    "#SNR_tot = np.hstack([SNR_P), np.sqrt(y_pred_tot)])\n",
    "#kcenter_t, _, DSNR_tot = DSNR_interp( kbin_tot, np.sqrt(SNR_tot), kbin_tot, np.sqrt(SNR_tot) )"
   ]
  },
  {
   "cell_type": "code",
   "execution_count": 351,
   "metadata": {
    "collapsed": false
   },
   "outputs": [
    {
     "data": {
      "image/png": "[encoded data removed]",
      "text/plain": [
       "<matplotlib.figure.Figure at 0x7353bd0>"
      ]
     },
     "metadata": {},
     "output_type": "display_data"
    }
   ],
   "source": [
    "fig, (ax, ax2, ax3) = plt.subplots(1,3,figsize=(21,5))\n",
    "ax.plot(kcenter, DSNR_P_interp, '--', linewidth=1, color = 'red',label = r'$P$  ($0<k<0.25$ $h$ ${\\rm Mpc}^{-1}$)')\n",
    "ax.plot(kcenter, DSNR_Xi_interp, '--', linewidth=3, color = 'blue', alpha = 0.7)\n",
    "#ax.plot(kcenter_t, DSNR_tot, '.', markersize = 3, alpha = 0.7, color= 'green') #color = ax.lines[-1].get_color())\n",
    "#ax.plot(k_pred_tot, np.sqrt(y_pred_tot), 'o', markersize=5, color ='black', label= 'interp')\n",
    "\n",
    "ax2.plot(kcenter, DSNR_P_interp, '--', linewidth=1, color = 'red',label = r'$P$  ($0<k<0.25$ $h$ ${\\rm Mpc}^{-1}$)')\n",
    "ax2.plot(kcenter, DSNR_Xi_interp, '--', linewidth=3, color = 'blue', alpha = 0.7)\n",
    "#ax.plot(kcenter_t, DSNR_tot, '.', markersize = 3, alpha = 0.7, color= 'green') #color = ax.lines[-1].get_color())\n",
    "#ax.plot(k_pred_tot, np.sqrt(y_pred_tot), 'o', markersize=5, color ='black', label= 'interp')\n",
    "\n",
    "\n",
    "ax3.plot(kcenter, DSNR_P_interp_sqrt)\n",
    "ax3.plot(kcenter, DSNR_Xi_interp_sqrt)\n",
    "#ax.axhline( y = np.sqrt(SNR_P[-1]), linestyle='--', color = 'grey')\n",
    "#ax.legend(loc='best')\n",
    "ax.set_xscale('log')\n",
    "ax2.set_xscale('log')\n",
    "ax3.set_xscale('log')\n",
    "\n",
    "ax.set_xlim(0.01, 2)\n",
    "ax.set_ylabel(r'$\\rm Cumulative$ $\\rm SNR$', size =20)\n",
    "ax.set_xlabel(r'$k_{\\rm max}$', size = 20)\n",
    "ax.set_ylim(0,6000)\n",
    "ax2.set_ylim(0,600)\n",
    "ax3.set_ylim(0,10)\n",
    "\n",
    "ax.tick_params(labelsize=15)"
   ]
  },
  {
   "cell_type": "code",
   "execution_count": 356,
   "metadata": {
    "collapsed": false
   },
   "outputs": [
    {
     "data": {
      "image/png": "[encoded data removed]",
      "text/plain": [
       "<matplotlib.figure.Figure at 0x6030d90>"
      ]
     },
     "metadata": {},
     "output_type": "display_data"
    }
   ],
   "source": [
    "fig, (ax, ax2, ax3) = plt.subplots(1,3,figsize=(21,5))\n",
    "ax.plot(kcenter, DSNR_P_interp, '--', linewidth=1, color = 'red',label = r'$P$  ($0<k<0.25$ $h$ ${\\rm Mpc}^{-1}$)')\n",
    "ax.plot(kcenter, DSNR_Xi_interp, '--', linewidth=3, color = 'blue', alpha = 0.7)\n",
    "#ax.plot(kcenter_t, DSNR_tot, '.', markersize = 3, alpha = 0.7, color= 'green') #color = ax.lines[-1].get_color())\n",
    "#ax.plot(k_pred_tot, np.sqrt(y_pred_tot), 'o', markersize=5, color ='black', label= 'interp')\n",
    "\n",
    "ax2.plot(kcenter, DSNR_P_interp, '--', linewidth=1, color = 'red',label = r'$P$  ($0<k<0.25$ $h$ ${\\rm Mpc}^{-1}$)')\n",
    "ax2.plot(kcenter, DSNR_Xi_interp, '--', linewidth=3, color = 'blue', alpha = 0.7)\n",
    "#ax.plot(kcenter_t, DSNR_tot, '.', markersize = 3, alpha = 0.7, color= 'green') #color = ax.lines[-1].get_color())\n",
    "#ax.plot(k_pred_tot, np.sqrt(y_pred_tot), 'o', markersize=5, color ='black', label= 'interp')\n",
    "\n",
    "\n",
    "ax3.plot(kcenter, DSNR_P_interp_sqrt)\n",
    "ax3.plot(kcenter, DSNR_Xi_interp_sqrt)\n",
    "#ax.axhline( y = np.sqrt(SNR_P[-1]), linestyle='--', color = 'grey')\n",
    "#ax.legend(loc='best')\n",
    "ax.set_xscale('log')\n",
    "ax2.set_xscale('log')\n",
    "ax3.set_xscale('log')\n",
    "\n",
    "ax.set_xlim(0.01, 2)\n",
    "ax.set_ylabel(r'$\\rm Cumulative$ $\\rm SNR$', size =20)\n",
    "ax.set_xlabel(r'$k_{\\rm max}$', size = 20)\n",
    "ax.set_ylim(0,500)\n",
    "ax2.set_ylim(0,600)\n",
    "ax3.set_ylim(0,10)\n",
    "\n",
    "ax.tick_params(labelsize=15)"
   ]
  },
  {
   "cell_type": "markdown",
   "metadata": {},
   "source": [
    "# SNR - CSNR as a function of rmin or rmax"
   ]
  },
  {
   "cell_type": "code",
   "execution_count": 106,
   "metadata": {
    "collapsed": false
   },
   "outputs": [
    {
     "data": {
      "text/plain": [
       "array([  50.,   65.,   80.,   95.,  110.,  125.,  140.,  155.,  170.,\n",
       "        185.,  200.])"
      ]
     },
     "execution_count": 106,
     "metadata": {},
     "output_type": "execute_result"
    }
   ],
   "source": [
    "np.linspace(50, 200, 11)"
   ]
  },
  {
   "cell_type": "code",
   "execution_count": 113,
   "metadata": {
    "collapsed": true
   },
   "outputs": [],
   "source": [
    "#  (parameter description in class code)\n",
    "# Fourier K 0.001~10\n",
    "KMIN = 1e-10\n",
    "KMAX = 2 # 361.32 #502.32\n",
    "\n",
    "kmin = KMIN\n",
    "kmax = KMAX\n",
    "\n",
    "# the number of k sample point should be 2^n+1 (b/c romb integration)\n",
    "rN = 100 # (RMAX-int(RMIN)) * 2\n",
    "kN = 2**10 + 1\n",
    "kN_x = 1.\n",
    "kN_y = 500\n",
    "#subN = 2**5 + 1\n",
    "# RSD class"
   ]
  },
  {
   "cell_type": "code",
   "execution_count": 165,
   "metadata": {
    "collapsed": false,
    "scrolled": true
   },
   "outputs": [
    {
     "data": {
      "text/plain": [
       "array([  20.,   40.,   60.,   80.,  100.])"
      ]
     },
     "execution_count": 165,
     "metadata": {},
     "output_type": "execute_result"
    }
   ],
   "source": [
    "np.linspace(20, 100, 5)"
   ]
  },
  {
   "cell_type": "code",
   "execution_count": null,
   "metadata": {
    "collapsed": true
   },
   "outputs": [],
   "source": []
  },
  {
   "cell_type": "code",
   "execution_count": 240,
   "metadata": {
    "collapsed": false,
    "scrolled": false
   },
   "outputs": [
    {
     "name": "stdout",
     "output_type": "stream",
     "text": [
      "-------------------------------------------------------------------        \n",
      "class error_analysis, no RSD         \n",
      "z = 0.0, kN =1025, N_y = 500, rN = 201\n",
      "dr = 1.0, dk=0.0019531249999, dk_y=0.00400801603186\n"
     ]
    },
    {
     "name": "stderr",
     "output_type": "stream",
     "text": [
      "/n/home00/lee.5922/.local/lib/python2.7/site-packages/scipy/integrate/quadrature.py:392: VisibleDeprecationWarning: using a non-integer number instead of an integer will result in an error in the future\n",
      "  x = x.reshape(tuple(shapex))\n",
      "/n/home00/lee.5922/.local/lib/python2.7/site-packages/scipy/integrate/quadrature.py:392: VisibleDeprecationWarning: using a non-integer number instead of an integer will result in an error in the future\n",
      "  x = x.reshape(tuple(shapex))\n",
      "/n/home00/lee.5922/.local/lib/python2.7/site-packages/scipy/integrate/quadrature.py:392: VisibleDeprecationWarning: using a non-integer number instead of an integer will result in an error in the future\n",
      "  x = x.reshape(tuple(shapex))\n"
     ]
    },
    {
     "name": "stdout",
     "output_type": "stream",
     "text": [
      "multiprocessing 100 %"
     ]
    },
    {
     "name": "stderr",
     "output_type": "stream",
     "text": [
      "/n/home00/lee.5922/.local/lib/python2.7/site-packages/scipy/integrate/quadrature.py:392: VisibleDeprecationWarning: using a non-integer number instead of an integer will result in an error in the future\n",
      "  x = x.reshape(tuple(shapex))\n",
      "/n/home00/lee.5922/.local/lib/python2.7/site-packages/scipy/integrate/quadrature.py:392: VisibleDeprecationWarning: using a non-integer number instead of an integer will result in an error in the future\n",
      "  x = x.reshape(tuple(shapex))\n",
      "/n/home00/lee.5922/.local/lib/python2.7/site-packages/scipy/integrate/quadrature.py:392: VisibleDeprecationWarning: using a non-integer number instead of an integer will result in an error in the future\n",
      "  x = x.reshape(tuple(shapex))\n",
      "/n/home00/lee.5922/.local/lib/python2.7/site-packages/scipy/integrate/quadrature.py:392: VisibleDeprecationWarning: using a non-integer number instead of an integer will result in an error in the future\n",
      "  x = x.reshape(tuple(shapex))\n"
     ]
    },
    {
     "name": "stdout",
     "output_type": "stream",
     "text": [
      "multiprocessing 33 %"
     ]
    },
    {
     "name": "stderr",
     "output_type": "stream",
     "text": [
      "/n/home00/lee.5922/.local/lib/python2.7/site-packages/scipy/integrate/quadrature.py:392: VisibleDeprecationWarning: using a non-integer number instead of an integer will result in an error in the future\n",
      "  x = x.reshape(tuple(shapex))\n",
      "/n/home00/lee.5922/.local/lib/python2.7/site-packages/scipy/integrate/quadrature.py:392: VisibleDeprecationWarning: using a non-integer number instead of an integer will result in an error in the future\n",
      "  x = x.reshape(tuple(shapex))\n"
     ]
    },
    {
     "name": "stdout",
     "output_type": "stream",
     "text": [
      "multiprocessing 67 %"
     ]
    },
    {
     "name": "stderr",
     "output_type": "stream",
     "text": [
      "/n/home00/lee.5922/.local/lib/python2.7/site-packages/scipy/integrate/quadrature.py:392: VisibleDeprecationWarning: using a non-integer number instead of an integer will result in an error in the future\n",
      "  x = x.reshape(tuple(shapex))\n",
      "/n/home00/lee.5922/.local/lib/python2.7/site-packages/scipy/integrate/quadrature.py:392: VisibleDeprecationWarning: using a non-integer number instead of an integer will result in an error in the future\n",
      "  x = x.reshape(tuple(shapex))\n",
      "/n/home00/lee.5922/.local/lib/python2.7/site-packages/scipy/integrate/quadrature.py:392: VisibleDeprecationWarning: using a non-integer number instead of an integer will result in an error in the future\n",
      "  x = x.reshape(tuple(shapex))\n",
      "/n/home00/lee.5922/.local/lib/python2.7/site-packages/scipy/integrate/quadrature.py:392: VisibleDeprecationWarning: using a non-integer number instead of an integer will result in an error in the future\n",
      "  x = x.reshape(tuple(shapex))\n",
      "/n/home00/lee.5922/.local/lib/python2.7/site-packages/scipy/integrate/quadrature.py:392: VisibleDeprecationWarning: using a non-integer number instead of an integer will result in an error in the future\n",
      "  x = x.reshape(tuple(shapex))\n",
      "/n/home00/lee.5922/.local/lib/python2.7/site-packages/scipy/integrate/quadrature.py:392: VisibleDeprecationWarning: using a non-integer number instead of an integer will result in an error in the future\n",
      "  x = x.reshape(tuple(shapex))\n",
      "/n/home00/lee.5922/.local/lib/python2.7/site-packages/scipy/integrate/quadrature.py:392: VisibleDeprecationWarning: using a non-integer number instead of an integer will result in an error in the future\n",
      "  x = x.reshape(tuple(shapex))\n",
      "/n/home00/lee.5922/.local/lib/python2.7/site-packages/scipy/integrate/quadrature.py:392: VisibleDeprecationWarning: using a non-integer number instead of an integer will result in an error in the future\n",
      "  x = x.reshape(tuple(shapex))\n",
      "/n/home00/lee.5922/.local/lib/python2.7/site-packages/scipy/integrate/quadrature.py:392: VisibleDeprecationWarning: using a non-integer number instead of an integer will result in an error in the future\n",
      "  x = x.reshape(tuple(shapex))\n",
      "/n/home00/lee.5922/.local/lib/python2.7/site-packages/scipy/integrate/quadrature.py:392: VisibleDeprecationWarning: using a non-integer number instead of an integer will result in an error in the future\n",
      "  x = x.reshape(tuple(shapex))\n"
     ]
    },
    {
     "name": "stdout",
     "output_type": "stream",
     "text": [
      "multiprocessing 100 %/nFisherXi 0\n"
     ]
    },
    {
     "name": "stderr",
     "output_type": "stream",
     "text": [
      "/n/home00/lee.5922/.local/lib/python2.7/site-packages/scipy/integrate/quadrature.py:392: VisibleDeprecationWarning: using a non-integer number instead of an integer will result in an error in the future\n",
      "  x = x.reshape(tuple(shapex))\n",
      "/n/home00/lee.5922/.local/lib/python2.7/site-packages/scipy/integrate/quadrature.py:392: VisibleDeprecationWarning: using a non-integer number instead of an integer will result in an error in the future\n",
      "  x = x.reshape(tuple(shapex))\n"
     ]
    }
   ],
   "source": [
    "# varying rmax\n",
    "# summed over from 0 to rmax\n",
    "rmaxlist = np.linspace(100, 200, 6)\n",
    "#rmaxlist = np.linspace(20, 100, 5)\n",
    "#rmaxlist = [20]\n",
    "#kklist = []\n",
    "#SNRlist_P = []\n",
    "#kklist2 = []\n",
    "#SNRlist_Xi = []\n",
    "#SNRlist_tot = []\n",
    "\n",
    "rmaxlist = [200]\n",
    "rNN = 201\n",
    "for rm in rmaxlist:\n",
    "    \n",
    "    RSDPower = NoShell_covariance(KMIN, KMAX, 1e-10, rm, kN, rNN, kN_x, kN_y, logscale = False)\n",
    "    _, kbin, SNR_P, kbin2, SNR_Xi = SNR_P_Xi(RSDPower, kmin = KMIN, kmax = KMAX)\n",
    "    \n",
    "    DAT = np.column_stack(( kbin, SNR_P, kbin2, SNR_Xi))\n",
    "    np.savetxt('data_txt/snr_comparison_rmax{:>0.0f}.txt'.format(rm), DAT,\\\n",
    "               header = ' kbin, SNR_P, kbin2, SNR_Xi, kbin2, SNR_tot ' )\n",
    "    rNN += 20"
   ]
  },
  {
   "cell_type": "code",
   "execution_count": 241,
   "metadata": {
    "collapsed": false
   },
   "outputs": [
    {
     "data": {
      "text/plain": [
       "array([   0.,   20.,   40.,   60.,   80.,  100.,  120.,  140.,  160.,  180.])"
      ]
     },
     "execution_count": 241,
     "metadata": {},
     "output_type": "execute_result"
    }
   ],
   "source": [
    "np.linspace(0, 180, 10)"
   ]
  },
  {
   "cell_type": "code",
   "execution_count": 250,
   "metadata": {
    "collapsed": false,
    "scrolled": true
   },
   "outputs": [
    {
     "name": "stdout",
     "output_type": "stream",
     "text": [
      "0\n",
      "-------------------------------------------------------------------        \n",
      "class error_analysis, no RSD         \n",
      "z = 0.0, kN =1025, N_y = 500, rN = 201\n",
      "dr = 1.0, dk=0.0019531249999, dk_y=0.00400801603186\n"
     ]
    },
    {
     "name": "stderr",
     "output_type": "stream",
     "text": [
      "/n/home00/lee.5922/.local/lib/python2.7/site-packages/scipy/integrate/quadrature.py:392: VisibleDeprecationWarning: using a non-integer number instead of an integer will result in an error in the future\n",
      "  x = x.reshape(tuple(shapex))\n",
      "/n/home00/lee.5922/.local/lib/python2.7/site-packages/scipy/integrate/quadrature.py:392: VisibleDeprecationWarning: using a non-integer number instead of an integer will result in an error in the future\n",
      "  x = x.reshape(tuple(shapex))\n",
      "/n/home00/lee.5922/.local/lib/python2.7/site-packages/scipy/integrate/quadrature.py:392: VisibleDeprecationWarning: using a non-integer number instead of an integer will result in an error in the future\n",
      "  x = x.reshape(tuple(shapex))\n"
     ]
    },
    {
     "name": "stdout",
     "output_type": "stream",
     "text": [
      "multiprocessing 100 %"
     ]
    },
    {
     "name": "stderr",
     "output_type": "stream",
     "text": [
      "/n/home00/lee.5922/.local/lib/python2.7/site-packages/scipy/integrate/quadrature.py:392: VisibleDeprecationWarning: using a non-integer number instead of an integer will result in an error in the future\n",
      "  x = x.reshape(tuple(shapex))\n",
      "/n/home00/lee.5922/.local/lib/python2.7/site-packages/scipy/integrate/quadrature.py:392: VisibleDeprecationWarning: using a non-integer number instead of an integer will result in an error in the future\n",
      "  x = x.reshape(tuple(shapex))\n",
      "/n/home00/lee.5922/.local/lib/python2.7/site-packages/scipy/integrate/quadrature.py:392: VisibleDeprecationWarning: using a non-integer number instead of an integer will result in an error in the future\n",
      "  x = x.reshape(tuple(shapex))\n",
      "/n/home00/lee.5922/.local/lib/python2.7/site-packages/scipy/integrate/quadrature.py:392: VisibleDeprecationWarning: using a non-integer number instead of an integer will result in an error in the future\n",
      "  x = x.reshape(tuple(shapex))\n"
     ]
    },
    {
     "name": "stdout",
     "output_type": "stream",
     "text": [
      "multiprocessing 33 %"
     ]
    },
    {
     "name": "stderr",
     "output_type": "stream",
     "text": [
      "/n/home00/lee.5922/.local/lib/python2.7/site-packages/scipy/integrate/quadrature.py:392: VisibleDeprecationWarning: using a non-integer number instead of an integer will result in an error in the future\n",
      "  x = x.reshape(tuple(shapex))\n",
      "/n/home00/lee.5922/.local/lib/python2.7/site-packages/scipy/integrate/quadrature.py:392: VisibleDeprecationWarning: using a non-integer number instead of an integer will result in an error in the future\n",
      "  x = x.reshape(tuple(shapex))\n"
     ]
    },
    {
     "name": "stdout",
     "output_type": "stream",
     "text": [
      "multiprocessing 67 %"
     ]
    },
    {
     "name": "stderr",
     "output_type": "stream",
     "text": [
      "noshellavg.py:528: RuntimeWarning: divide by zero encountered in divide\n",
      "  22 * k**2 * sin(k * rmin) + (105 * sin(k * rmin))/rmin**2 +\\\n",
      "noshellavg.py:528: RuntimeWarning: invalid value encountered in divide\n",
      "  22 * k**2 * sin(k * rmin) + (105 * sin(k * rmin))/rmin**2 +\\\n",
      "noshellavg.py:534: RuntimeWarning: divide by zero encountered in divide\n",
      "  22 * k**2 * sin(k * rmin) + (105 * sin(k * rmin))/rmin**2 +\\\n",
      "noshellavg.py:534: RuntimeWarning: invalid value encountered in divide\n",
      "  22 * k**2 * sin(k * rmin) + (105 * sin(k * rmin))/rmin**2 +\\\n",
      "/n/home00/lee.5922/.local/lib/python2.7/site-packages/scipy/integrate/quadrature.py:392: VisibleDeprecationWarning: using a non-integer number instead of an integer will result in an error in the future\n",
      "  x = x.reshape(tuple(shapex))\n",
      "/n/home00/lee.5922/.local/lib/python2.7/site-packages/scipy/integrate/quadrature.py:392: VisibleDeprecationWarning: using a non-integer number instead of an integer will result in an error in the future\n",
      "  x = x.reshape(tuple(shapex))\n",
      "/n/home00/lee.5922/.local/lib/python2.7/site-packages/scipy/integrate/quadrature.py:392: VisibleDeprecationWarning: using a non-integer number instead of an integer will result in an error in the future\n",
      "  x = x.reshape(tuple(shapex))\n",
      "/n/home00/lee.5922/.local/lib/python2.7/site-packages/scipy/integrate/quadrature.py:392: VisibleDeprecationWarning: using a non-integer number instead of an integer will result in an error in the future\n",
      "  x = x.reshape(tuple(shapex))\n",
      "/n/home00/lee.5922/.local/lib/python2.7/site-packages/scipy/integrate/quadrature.py:392: VisibleDeprecationWarning: using a non-integer number instead of an integer will result in an error in the future\n",
      "  x = x.reshape(tuple(shapex))\n",
      "/n/home00/lee.5922/.local/lib/python2.7/site-packages/scipy/integrate/quadrature.py:392: VisibleDeprecationWarning: using a non-integer number instead of an integer will result in an error in the future\n",
      "  x = x.reshape(tuple(shapex))\n",
      "/n/home00/lee.5922/.local/lib/python2.7/site-packages/scipy/integrate/quadrature.py:392: VisibleDeprecationWarning: using a non-integer number instead of an integer will result in an error in the future\n",
      "  x = x.reshape(tuple(shapex))\n",
      "/n/home00/lee.5922/.local/lib/python2.7/site-packages/scipy/integrate/quadrature.py:392: VisibleDeprecationWarning: using a non-integer number instead of an integer will result in an error in the future\n",
      "  x = x.reshape(tuple(shapex))\n",
      "/n/home00/lee.5922/.local/lib/python2.7/site-packages/scipy/integrate/quadrature.py:392: VisibleDeprecationWarning: using a non-integer number instead of an integer will result in an error in the future\n",
      "  x = x.reshape(tuple(shapex))\n",
      "/n/home00/lee.5922/.local/lib/python2.7/site-packages/scipy/integrate/quadrature.py:392: VisibleDeprecationWarning: using a non-integer number instead of an integer will result in an error in the future\n",
      "  x = x.reshape(tuple(shapex))\n"
     ]
    },
    {
     "name": "stdout",
     "output_type": "stream",
     "text": [
      "multiprocessing 100 %/nFisherXi 0\n"
     ]
    },
    {
     "name": "stderr",
     "output_type": "stream",
     "text": [
      "/n/home00/lee.5922/.local/lib/python2.7/site-packages/scipy/integrate/quadrature.py:392: VisibleDeprecationWarning: using a non-integer number instead of an integer will result in an error in the future\n",
      "  x = x.reshape(tuple(shapex))\n",
      "/n/home00/lee.5922/.local/lib/python2.7/site-packages/scipy/integrate/quadrature.py:392: VisibleDeprecationWarning: using a non-integer number instead of an integer will result in an error in the future\n",
      "  x = x.reshape(tuple(shapex))\n"
     ]
    }
   ],
   "source": [
    "# varying rmin\n",
    "# summed over from rmin to rmax = 200\n",
    "rminlist = np.linspace(0, 180, 10)\n",
    "#rminlist = np.linspace(100, 180, 5)\n",
    "rminlist = [0]\n",
    "rNN = 201\n",
    "for rn in rminlist:\n",
    "    print rn\n",
    "    RSDPower = NoShell_covariance(KMIN, KMAX, rn, 200, kN, rNN, kN_x, kN_y, logscale = False)\n",
    "    _, kbin, SNR_P, kbin2, SNR_Xi = SNR_P_Xi(RSDPower, kmin = KMIN, kmax = KMAX)\n",
    "    \n",
    "    DAT = np.column_stack(( kbin, SNR_P, kbin2, SNR_Xi ))\n",
    "    np.savetxt('data_txt/snr_comparison_rmin{:>0.0f}.txt'.format(rn), DAT,\\\n",
    "               header = ' kbin, SNR_P, kbin2, SNR_Xi ' )\n",
    "    rNN-=20"
   ]
  },
  {
   "cell_type": "code",
   "execution_count": 214,
   "metadata": {
    "collapsed": false
   },
   "outputs": [
    {
     "data": {
      "text/plain": [
       "array([  20.,   40.,   60.,   80.,  100.,  120.,  140.,  160.,  180.,  200.])"
      ]
     },
     "execution_count": 214,
     "metadata": {},
     "output_type": "execute_result"
    }
   ],
   "source": [
    "np.linspace(20, 200, 10)"
   ]
  },
  {
   "cell_type": "code",
   "execution_count": 474,
   "metadata": {
    "collapsed": false
   },
   "outputs": [
    {
     "data": {
      "text/plain": [
       "[99.845138523629032, 20.171876251079834, 3.796360751112938, 1.1800368035404674]"
      ]
     },
     "execution_count": 474,
     "metadata": {},
     "output_type": "execute_result"
    }
   ],
   "source": [
    "difference_rmin"
   ]
  },
  {
   "cell_type": "code",
   "execution_count": 475,
   "metadata": {
    "collapsed": false
   },
   "outputs": [
    {
     "data": {
      "text/plain": [
       "[99.844559533994328, 99.844743234499802, 99.84491093405947, 99.845138523629032]"
      ]
     },
     "execution_count": 475,
     "metadata": {},
     "output_type": "execute_result"
    }
   ],
   "source": [
    "difference_rmax"
   ]
  },
  {
   "cell_type": "code",
   "execution_count": 482,
   "metadata": {
    "collapsed": false
   },
   "outputs": [
    {
     "name": "stdout",
     "output_type": "stream",
     "text": [
      "[99.844559533994328, 99.844743234499802, 99.84491093405947, 99.845138523629032]\n",
      "[99.845138523629032, 20.171876251079834, 3.796360751112938, 1.1800368035404674]\n"
     ]
    }
   ],
   "source": [
    "print difference_rmax\n",
    "print difference_rmin"
   ]
  },
  {
   "cell_type": "code",
   "execution_count": 550,
   "metadata": {
    "collapsed": false,
    "scrolled": false
   },
   "outputs": [
    {
     "data": {
      "image/png": "[encoded data removed]",
      "text/plain": [
       "<matplotlib.figure.Figure at 0xb2bf490>"
      ]
     },
     "metadata": {},
     "output_type": "display_data"
    }
   ],
   "source": [
    "rminlist = [0,10,20,30]\n",
    "rmaxlist = [170,180,190,200]\n",
    "\n",
    "#rmaxlist = [200,300,400,500]\n",
    "difference_rmax = []\n",
    "difference_rmin = []\n",
    "\n",
    "for rm, rn in zip(rmaxlist, rminlist):\n",
    "    \n",
    "    #snr_data = np.genfromtxt('data_txt/snr_rmax{:>0.0f}_rmin0.txt'.format(rm))\n",
    "    snr_data = np.genfromtxt('data_txt/snr_comparison_rmax{:>0.0f}.txt'.format(rm))\n",
    "    k, SP, k2, SX = [snr_data[:,i] for i in range(4)]\n",
    "    #ax.plot(k2, SX, '.')\n",
    "    difference_rmax.append(SX[-1]/SP[-1] *100)\n",
    "    #difference_rmax.append(SX[-1])\n",
    "    #print 0, rm, SP[-1]-SX[-1], SP[-1], SX[-1]\n",
    "    snr_data_rmin = np.genfromtxt('data_txt/snr_comparison_rmin{:>0.0f}.txt'.format(rn))\n",
    "    k, SP, k2, SX = [snr_data_rmin[:,i] for i in range(4)]\n",
    "    difference_rmin.append(SX[-1]/SP[-1] *100)\n",
    "    \n",
    "    #difference_rmin.append(SX[-1])\n",
    "    #print rn, 200, SP[-1]-SX[-1], SP[-1], SX[-1], '\\n'\n",
    "\n",
    "    \n",
    "fig, (ax) = plt.subplots(1,1, figsize=(7,5))\n",
    "\n",
    "ax2 = fig.add_axes(ax.get_position())\n",
    "ax2.patch.set_visible(False)\n",
    "ax2.yaxis.set_label_position('right')\n",
    "ax2.yaxis.set_ticks_position('right')\n",
    "#ax2.spines['top'].set_position(('outward', 40))\n",
    "\n",
    "ax2.plot(rmaxlist, difference_rmin, 'bo-', label='rmin < r < 200')\n",
    "ax2.set_ylabel(r'$100 \\times SNR_{\\xi}(r_{\\rm max})/SNR_P$', size = 15)\n",
    "\n",
    "#ax2.set_xlabel(r'$r_{\\rm min}$', size = 20)\n",
    "\n",
    "ax.plot(rmaxlist, difference_rmax, 'ro-', label='0 < r < rmax')\n",
    "#ax.plot(rminlist, difference_rmin, 'bo-', label='rmin < r < 200')\n",
    "ax.set_ylabel(r'$100 \\times SNR_{\\xi}(r_{\\rm min})/SNR_P$', size = 15)\n",
    "\n",
    "\n",
    "#ax2 = ax.twinx()\n",
    "\n",
    "#ax2.set_ylim(99.84,100)\n",
    "#ax2.set_xlim(-5,40)\n",
    "ax.set_xlabel(r'$r_{\\rm max}$,  $r_{\\rm min} + 170$ $(h^{-1} {\\rm Mpc})$', size = 20)\n",
    "#ax.legend(loc = 4)\n",
    "ax.set_yscale('log')\n",
    "ax2.set_yscale('log')\n",
    "#ax2.legend(loc = 4)\n",
    "ax2.set_ylim(None,110)\n",
    "ax.set_ylim(None,110)\n",
    "#fig.tight_layout()\n",
    "fig.savefig('figure/snr_percentage.pdf')\n",
    "\n"
   ]
  },
  {
   "cell_type": "code",
   "execution_count": 490,
   "metadata": {
    "collapsed": false
   },
   "outputs": [
    {
     "name": "stdout",
     "output_type": "stream",
     "text": [
      "data_txt/snr_rmax100_rmin0.txt      data_txt/snr_rmax200_rmin2.txt\r\n",
      "data_txt/snr_rmax150_rmin25.txt     data_txt/snr_rmax200_rmin30.txt\r\n",
      "data_txt/snr_rmax152_rmin24.txt     data_txt/snr_rmax200_rmin55.txt\r\n",
      "data_txt/snr_rmax160_rmin20.txt     data_txt/snr_rmax300_rmin0.txt\r\n",
      "data_txt/snr_rmax180_rmin10.txt     data_txt/snr_rmax300_rmin24.txt\r\n",
      "data_txt/snr_rmax200_rmin0.txt      data_txt/snr_rmax400_rmin0.txt\r\n",
      "data_txt/snr_rmax200_rmin10.txt     data_txt/snr_rmax500_rmin0.txt\r\n",
      "data_txt/snr_rmax200_rmin1e-10.txt\r\n"
     ]
    }
   ],
   "source": [
    "ls data_txt/snr_rmax*"
   ]
  },
  {
   "cell_type": "code",
   "execution_count": 457,
   "metadata": {
    "collapsed": false
   },
   "outputs": [
    {
     "name": "stdout",
     "output_type": "stream",
     "text": [
      "data_txt/snr_comparison_rmax0.txt    data_txt/snr_comparison_rmax190.txt\r\n",
      "data_txt/snr_comparison_rmax100.txt  data_txt/snr_comparison_rmax200.txt\r\n",
      "data_txt/snr_comparison_rmax120.txt  data_txt/snr_comparison_rmax20.txt\r\n",
      "data_txt/snr_comparison_rmax140.txt  data_txt/snr_comparison_rmax40.txt\r\n",
      "data_txt/snr_comparison_rmax160.txt  data_txt/snr_comparison_rmax60.txt\r\n",
      "data_txt/snr_comparison_rmax170.txt  data_txt/snr_comparison_rmax80.txt\r\n",
      "data_txt/snr_comparison_rmax180.txt\r\n"
     ]
    }
   ],
   "source": [
    "ls data_txt/snr_comparison_rmax*"
   ]
  },
  {
   "cell_type": "code",
   "execution_count": 430,
   "metadata": {
    "collapsed": false
   },
   "outputs": [
    {
     "data": {
      "text/plain": [
       "200"
      ]
     },
     "execution_count": 430,
     "metadata": {},
     "output_type": "execute_result"
    }
   ],
   "source": [
    "#1binsinze = RMAX/rN -> rN = RMAX/1binsize"
   ]
  },
  {
   "cell_type": "code",
   "execution_count": 577,
   "metadata": {
    "collapsed": false
   },
   "outputs": [],
   "source": [
    "#  (parameter description in class code)\n",
    "# Fourier K 0.001~10\n",
    "KMIN = 0.001 # 1e-10\n",
    "KMAX = 2 # 361.32 #502.32\n",
    "RMIN = 5\n",
    "RMAX = 200\n",
    "\n",
    "kmin = KMIN\n",
    "kmax = KMAX\n",
    "\n",
    "# the number of k sample point should be 2^n+1 (b/c romb integration)\n",
    "rN = int((RMAX-RMIN)/0.40060120240) #(RMAX-int(RMIN)) * 2\n",
    "kN = 2**10 + 1\n",
    "kN_x = 1.\n",
    "kN_y = 500\n",
    "#subN = 2**5 + 1\n",
    "# RSD class"
   ]
  },
  {
   "cell_type": "code",
   "execution_count": 578,
   "metadata": {
    "collapsed": false
   },
   "outputs": [
    {
     "name": "stdout",
     "output_type": "stream",
     "text": [
      "-------------------------------------------------------------------        \n",
      "class error_analysis, no RSD         \n",
      "z = 0.0, kN =1025, N_y = 500, rN = 486\n",
      "dr = 0.40206185567, dk=0.0019521484375, dk_y=0.00400601202405\n"
     ]
    },
    {
     "name": "stderr",
     "output_type": "stream",
     "text": [
      "/n/home00/lee.5922/.local/lib/python2.7/site-packages/scipy/integrate/quadrature.py:392: VisibleDeprecationWarning: using a non-integer number instead of an integer will result in an error in the future\n",
      "  x = x.reshape(tuple(shapex))\n",
      "/n/home00/lee.5922/.local/lib/python2.7/site-packages/scipy/integrate/quadrature.py:392: VisibleDeprecationWarning: using a non-integer number instead of an integer will result in an error in the future\n",
      "  x = x.reshape(tuple(shapex))\n",
      "/n/home00/lee.5922/.local/lib/python2.7/site-packages/scipy/integrate/quadrature.py:392: VisibleDeprecationWarning: using a non-integer number instead of an integer will result in an error in the future\n",
      "  x = x.reshape(tuple(shapex))\n"
     ]
    },
    {
     "name": "stdout",
     "output_type": "stream",
     "text": [
      "multiprocessing 100 %"
     ]
    },
    {
     "name": "stderr",
     "output_type": "stream",
     "text": [
      "/n/home00/lee.5922/.local/lib/python2.7/site-packages/scipy/integrate/quadrature.py:392: VisibleDeprecationWarning: using a non-integer number instead of an integer will result in an error in the future\n",
      "  x = x.reshape(tuple(shapex))\n",
      "/n/home00/lee.5922/.local/lib/python2.7/site-packages/scipy/integrate/quadrature.py:392: VisibleDeprecationWarning: using a non-integer number instead of an integer will result in an error in the future\n",
      "  x = x.reshape(tuple(shapex))\n",
      "/n/home00/lee.5922/.local/lib/python2.7/site-packages/scipy/integrate/quadrature.py:392: VisibleDeprecationWarning: using a non-integer number instead of an integer will result in an error in the future\n",
      "  x = x.reshape(tuple(shapex))\n",
      "/n/home00/lee.5922/.local/lib/python2.7/site-packages/scipy/integrate/quadrature.py:392: VisibleDeprecationWarning: using a non-integer number instead of an integer will result in an error in the future\n",
      "  x = x.reshape(tuple(shapex))\n"
     ]
    },
    {
     "name": "stdout",
     "output_type": "stream",
     "text": [
      "multiprocessing 33 %"
     ]
    },
    {
     "name": "stderr",
     "output_type": "stream",
     "text": [
      "/n/home00/lee.5922/.local/lib/python2.7/site-packages/scipy/integrate/quadrature.py:392: VisibleDeprecationWarning: using a non-integer number instead of an integer will result in an error in the future\n",
      "  x = x.reshape(tuple(shapex))\n",
      "/n/home00/lee.5922/.local/lib/python2.7/site-packages/scipy/integrate/quadrature.py:392: VisibleDeprecationWarning: using a non-integer number instead of an integer will result in an error in the future\n",
      "  x = x.reshape(tuple(shapex))\n"
     ]
    },
    {
     "name": "stdout",
     "output_type": "stream",
     "text": [
      "multiprocessing 67 %"
     ]
    },
    {
     "name": "stderr",
     "output_type": "stream",
     "text": [
      "/n/home00/lee.5922/.local/lib/python2.7/site-packages/scipy/integrate/quadrature.py:392: VisibleDeprecationWarning: using a non-integer number instead of an integer will result in an error in the future\n",
      "  x = x.reshape(tuple(shapex))\n",
      "/n/home00/lee.5922/.local/lib/python2.7/site-packages/scipy/integrate/quadrature.py:392: VisibleDeprecationWarning: using a non-integer number instead of an integer will result in an error in the future\n",
      "  x = x.reshape(tuple(shapex))\n",
      "/n/home00/lee.5922/.local/lib/python2.7/site-packages/scipy/integrate/quadrature.py:392: VisibleDeprecationWarning: using a non-integer number instead of an integer will result in an error in the future\n",
      "  x = x.reshape(tuple(shapex))\n",
      "/n/home00/lee.5922/.local/lib/python2.7/site-packages/scipy/integrate/quadrature.py:392: VisibleDeprecationWarning: using a non-integer number instead of an integer will result in an error in the future\n",
      "  x = x.reshape(tuple(shapex))\n",
      "/n/home00/lee.5922/.local/lib/python2.7/site-packages/scipy/integrate/quadrature.py:392: VisibleDeprecationWarning: using a non-integer number instead of an integer will result in an error in the future\n",
      "  x = x.reshape(tuple(shapex))\n",
      "/n/home00/lee.5922/.local/lib/python2.7/site-packages/scipy/integrate/quadrature.py:392: VisibleDeprecationWarning: using a non-integer number instead of an integer will result in an error in the future\n",
      "  x = x.reshape(tuple(shapex))\n",
      "/n/home00/lee.5922/.local/lib/python2.7/site-packages/scipy/integrate/quadrature.py:392: VisibleDeprecationWarning: using a non-integer number instead of an integer will result in an error in the future\n",
      "  x = x.reshape(tuple(shapex))\n",
      "/n/home00/lee.5922/.local/lib/python2.7/site-packages/scipy/integrate/quadrature.py:392: VisibleDeprecationWarning: using a non-integer number instead of an integer will result in an error in the future\n",
      "  x = x.reshape(tuple(shapex))\n",
      "/n/home00/lee.5922/.local/lib/python2.7/site-packages/scipy/integrate/quadrature.py:392: VisibleDeprecationWarning: using a non-integer number instead of an integer will result in an error in the future\n",
      "  x = x.reshape(tuple(shapex))\n"
     ]
    },
    {
     "name": "stdout",
     "output_type": "stream",
     "text": [
      "multiprocessing 100 %/nFisherXi 0\n"
     ]
    },
    {
     "name": "stderr",
     "output_type": "stream",
     "text": [
      "/n/home00/lee.5922/.local/lib/python2.7/site-packages/scipy/integrate/quadrature.py:392: VisibleDeprecationWarning: using a non-integer number instead of an integer will result in an error in the future\n",
      "  x = x.reshape(tuple(shapex))\n",
      "/n/home00/lee.5922/.local/lib/python2.7/site-packages/scipy/integrate/quadrature.py:392: VisibleDeprecationWarning: using a non-integer number instead of an integer will result in an error in the future\n",
      "  x = x.reshape(tuple(shapex))\n",
      "/n/home00/lee.5922/.local/lib/python2.7/site-packages/scipy/integrate/quadrature.py:392: VisibleDeprecationWarning: using a non-integer number instead of an integer will result in an error in the future\n",
      "  x = x.reshape(tuple(shapex))\n"
     ]
    },
    {
     "data": {
      "text/plain": [
       "(0, 600000.0)"
      ]
     },
     "execution_count": 578,
     "metadata": {},
     "output_type": "execute_result"
    },
    {
     "data": {
      "image/png": "[encoded data removed]",
      "text/plain": [
       "<matplotlib.figure.Figure at 0x1f468210>"
      ]
     },
     "metadata": {},
     "output_type": "display_data"
    }
   ],
   "source": [
    "RSDPower = NoShell_covariance(KMIN, KMAX, RMIN, RMAX, kN, rN, kN_x, kN_y, logscale = False)\n",
    "_, kbin, SNR_P, kbin2, SNR_Xi = SNR_P_Xi(RSDPower, kmin = 1e-10, kmax = 2)\n",
    "#(RSDPower, kmin = kmin, kmax = kmax)\n",
    "fig, ax = plt.subplots()\n",
    "ax.plot(kbin, SNR_P)\n",
    "ax.plot(kbin2, SNR_Xi)\n",
    "ax.set_ylim(0,6e+5)"
   ]
  },
  {
   "cell_type": "code",
   "execution_count": 579,
   "metadata": {
    "collapsed": false
   },
   "outputs": [
    {
     "name": "stdout",
     "output_type": "stream",
     "text": [
      "data_txt/snr_comparison_rmin5_rmax200.txt\n"
     ]
    }
   ],
   "source": [
    "DAT = np.column_stack(( kbin, SNR_P, kbin2, SNR_Xi ))\n",
    "print 'data_txt/snr_comparison_rmin{:>0.0f}_rmax{:>0.0f}.txt'.format(RMIN, RMAX)\n",
    "#np.savetxt('data_txt/snr_comparison_rmin{:>0.0f}.txt'.format(RMIN), DAT,\\\n",
    "#           header = ' kbin, SNR_P, kbin2, SNR_Xi ' )\n",
    "np.savetxt('data_txt/snr_comparison_rmin{:>0.0f}_rmax{:>0.0f}.txt'.format(RMIN, RMAX), DAT,\\\n",
    "           header = ' kbin, SNR_P, kbin2, SNR_Xi ' )"
   ]
  },
  {
   "cell_type": "code",
   "execution_count": 580,
   "metadata": {
    "collapsed": false
   },
   "outputs": [
    {
     "data": {
      "text/plain": [
       "(5, 200)"
      ]
     },
     "execution_count": 580,
     "metadata": {},
     "output_type": "execute_result"
    }
   ],
   "source": [
    "RMIN, RMAX"
   ]
  },
  {
   "cell_type": "code",
   "execution_count": null,
   "metadata": {
    "collapsed": true
   },
   "outputs": [],
   "source": [
    "#cp data_txt/snr_comparison_rmax200.txt data_txt/snr_comparison_rmin0_rmax200.txt"
   ]
  },
  {
   "cell_type": "code",
   "execution_count": null,
   "metadata": {
    "collapsed": true
   },
   "outputs": [],
   "source": [
    "#cp data_txt/snr_comparison_rmin10.txt data_txt/snr_comparison_rmin10_rmax200.txt"
   ]
  },
  {
   "cell_type": "code",
   "execution_count": 582,
   "metadata": {
    "collapsed": false
   },
   "outputs": [
    {
     "data": {
      "text/plain": [
       "(0, 600000.0)"
      ]
     },
     "execution_count": 582,
     "metadata": {},
     "output_type": "execute_result"
    },
    {
     "data": {
      "image/png": "[encoded data removed]",
      "text/plain": [
       "<matplotlib.figure.Figure at 0xb213b50>"
      ]
     },
     "metadata": {},
     "output_type": "display_data"
    }
   ],
   "source": [
    "fig, ax = plt.subplots()\n",
    "\n",
    "D1 = np.genfromtxt('data_txt/snr_comparison_rmin10_rmax200.txt')\n",
    "_, _, kbin2, SNR_Xi = [D1[:,i] for i in range(D1[0,:].size)]\n",
    "ax.plot(kbin2, SNR_Xi)\n",
    "\n",
    "D1 = np.genfromtxt('data_txt/snr_comparison_rmin0_rmax200.txt')\n",
    "_, _, kbin2, SNR_Xi = [D1[:,i] for i in range(D1[0,:].size)]\n",
    "ax.plot(kbin2, SNR_Xi)\n",
    "\n",
    "D1 = np.genfromtxt('data_txt/snr_comparison_rmin0_rmax500.txt')\n",
    "_, _, kbin2, SNR_Xi = [D1[:,i] for i in range(D1[0,:].size)]\n",
    "ax.plot(kbin2, SNR_Xi)\n",
    "\n",
    "ax.set_ylim(0,6e+5)\n"
   ]
  },
  {
   "cell_type": "code",
   "execution_count": null,
   "metadata": {
    "collapsed": true
   },
   "outputs": [],
   "source": []
  }
 ],
 "metadata": {
  "kernelspec": {
   "display_name": "Python 2",
   "language": "python",
   "name": "python2"
  },
  "language_info": {
   "codemirror_mode": {
    "name": "ipython",
    "version": 2
   },
   "file_extension": ".py",
   "mimetype": "text/x-python",
   "name": "python",
   "nbconvert_exporter": "python",
   "pygments_lexer": "ipython2",
   "version": "2.7.5"
  }
 },
 "nbformat": 4,
 "nbformat_minor": 0
}
