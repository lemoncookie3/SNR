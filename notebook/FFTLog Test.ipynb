{
 "cells": [
  {
   "cell_type": "code",
   "execution_count": 20,
   "metadata": {
    "collapsed": false
   },
   "outputs": [],
   "source": [
    "import sys\n",
    "sys.path.insert(0, '/n/des/lee.5922/programs/pyfftlog/')\n",
    "import pyfftlog\n",
    "import numpy as np\n",
    "import matplotlib as mpl\n",
    "import matplotlib.pyplot as plt\n",
    "\n",
    "%matplotlib inline\n",
    "#plt.style.use('ggplot')\n",
    "#mpl.rcParams.update({'font.size': 16})"
   ]
  },
  {
   "cell_type": "code",
   "execution_count": 23,
   "metadata": {
    "collapsed": true
   },
   "outputs": [],
   "source": [
    "# Range of periodic interval\n",
    "logkmin = -4.\n",
    "logkmax = 4.\n",
    "\n",
    "# Number of points (Max 4096)\n",
    "n = 64\n",
    "\n",
    "# Order mu of Bessel function\n",
    "mu = 0.5\n",
    "\n",
    "# Bias exponent: q = 0 is unbiased\n",
    "q = 3\n",
    "\n",
    "# Sensible approximate choice of k_c r_c\n",
    "kr = 1\n",
    "\n",
    "# Tell fhti to change kr to low-ringing value\n",
    "# WARNING: kropt = 3 will fail, as interaction is not supported\n",
    "kropt = 1\n",
    "\n",
    "# Forward transform (changed from dir to tdir, as dir is a python fct)\n",
    "tdir = 1"
   ]
  },
  {
   "cell_type": "code",
   "execution_count": 24,
   "metadata": {
    "collapsed": false
   },
   "outputs": [
    {
     "name": "stdout",
     "output_type": "stream",
     "text": [
      "('Central point of periodic interval at log10(r_c) = ', 0.0)\n"
     ]
    }
   ],
   "source": [
    "# Central point log10(r_c) of periodic interval\n",
    "logkc = (logkmin + logkmax)/2\n",
    "\n",
    "print('Central point of periodic interval at log10(r_c) = ', logkc)\n",
    "\n",
    "# Central index (1/2 integral if n is even)\n",
    "nc = (n + 1)/2.0\n",
    "\n",
    "# Log-spacing of points\n",
    "dlogk = (logkmax - logkmin)/n\n",
    "dlnk = dlogk*np.log(10.0)"
   ]
  },
  {
   "cell_type": "code",
   "execution_count": null,
   "metadata": {
    "collapsed": true
   },
   "outputs": [],
   "source": []
  }
 ],
 "metadata": {
  "kernelspec": {
   "display_name": "Python 2",
   "language": "python",
   "name": "python2"
  },
  "language_info": {
   "codemirror_mode": {
    "name": "ipython",
    "version": 2
   },
   "file_extension": ".py",
   "mimetype": "text/x-python",
   "name": "python",
   "nbconvert_exporter": "python",
   "pygments_lexer": "ipython2",
   "version": "2.7.5"
  }
 },
 "nbformat": 4,
 "nbformat_minor": 0
}
