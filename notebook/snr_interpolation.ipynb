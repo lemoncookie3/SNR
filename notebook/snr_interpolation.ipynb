{
 "cells": [
  {
   "cell_type": "code",
   "execution_count": 1,
   "metadata": {
    "collapsed": true
   },
   "outputs": [],
   "source": [
    "import time, datetime\n",
    "import numpy as np\n",
    "from numpy import zeros, sqrt, pi, vectorize\n",
    "from numpy.linalg import pinv, inv\n",
    "from multiprocessing import Process, Queue\n",
    "#import matplotlib\n",
    "#matplotlib.use('Qt4Agg')\n",
    "import matplotlib.pyplot as plt\n",
    "%matplotlib inline\n",
    "from error_analysis_class import *\n",
    "from noshellavg import *\n",
    "from matplotlib.backends.backend_pdf import PdfPages"
   ]
  },
  {
   "cell_type": "code",
   "execution_count": null,
   "metadata": {
    "collapsed": true
   },
   "outputs": [],
   "source": [
    "def snr_interpolation(kbin2, SNR_Xi):\n",
    "\n",
    "    from sklearn.gaussian_process import GaussianProcess\n",
    "\n",
    "    outlier_mask = np.ones(kbin2.size, dtype=bool)\n",
    "    \n",
    "    for i in range(1, kbin2.size):\n",
    "        if (SNR_Xi[i] < SNR_Xi[i-1]): outlier_mask[i-1] = 0\n",
    "        if (SNR_Xi[i] < SNR_Xi[i-1]): outlier_mask[i] = 0\n",
    "        \n",
    "     \n",
    "    kbin_m = kbin2[outlier_mask]\n",
    "    SNR_Xi_m = SNR_Xi[outlier_mask]\n",
    "    \n",
    "    #------------------------------------------------------------\n",
    "    # Generate data\n",
    "    #z_sample, mu_sample = kbin_m[kbin_m.size/30:], SNR_Xi_m[kbin_m.size/30:]\n",
    "    z_sample, mu_sample = kbin_m, SNR_Xi_m\n",
    "    \n",
    "    #outlier_mask = (mu_sample > -100) & (mu_sample < 550000)\n",
    "    \n",
    "\n",
    "    dmu = mu_sample * 1e-6\n",
    "    #dmu = mu_sample * 1./ mu_sample.max()\n",
    "    #dmu[dmu.size/20:dmu.size/10] = dmu[dmu.size/20:dmu.size/10] /10\n",
    "    #dmu[:dmu.size/30] = dmu[:dmu.size/30] * 5\n",
    "    \n",
    "    #z = np.linspace(0, 2, 1000)\n",
    "    #mu_true = np.asarray(map(cosmo.mu, z))\n",
    "\n",
    "    #------------------------------------------------------------\n",
    "    # fit the data\n",
    "    # Mesh the input space for evaluations of the real function,\n",
    "    # the prediction and its MSE\n",
    "    #z_fit = np.linspace(0, 2, 1000)\n",
    "    gp = GaussianProcess(corr='squared_exponential', theta0=1e-1,\n",
    "                         thetaL=1e-2, thetaU=1,\n",
    "                         normalize=False,\n",
    "                         nugget= (dmu / mu_sample) ** 2,\n",
    "                         random_start=1)\n",
    "    gp.fit(z_sample[:, None], mu_sample)\n",
    "    \n",
    "    kbin3 = np.linspace(KMIN, KMAX, kN_y)\n",
    "    y_pred, MSE = gp.predict(kbin3[:, None], eval_MSE=True)    \n",
    "    #y_pred, MSE = gp.predict(kcenter[:,None], eval_MSE=True)\n",
    "    sigma = np.sqrt(MSE)\n",
    "\n",
    "    return kbin3, y_pred, sigma #,kbin2[:kbin2.size/20], y_fit"
   ]
  },
  {
   "cell_type": "code",
   "execution_count": null,
   "metadata": {
    "collapsed": true
   },
   "outputs": [],
   "source": []
  },
  {
   "cell_type": "code",
   "execution_count": 21,
   "metadata": {
    "collapsed": false
   },
   "outputs": [],
   "source": [
    "D1 = np.loadtxt('data_txt/snr_rmax200_rmin0.txt')\n",
    "kbin, SNR_P, kbin2, SNR_Xi = [D1[:,i] for i in range(D1[0,:].size)]\n",
    "\n",
    "from scipy import interpolate\n",
    "SNR_Xi_ftn = interpolate.InterpolatedUnivariateSpline(kbin2,SNR_Xi)"
   ]
  },
  {
   "cell_type": "code",
   "execution_count": 28,
   "metadata": {
    "collapsed": false
   },
   "outputs": [],
   "source": [
    "from scipy.optimize import curve_fit"
   ]
  },
  {
   "cell_type": "code",
   "execution_count": 40,
   "metadata": {
    "collapsed": true
   },
   "outputs": [],
   "source": [
    "def func(x, a, b, c):\n",
    "    return a*np.exp(-b*x)-c"
   ]
  },
  {
   "cell_type": "code",
   "execution_count": 35,
   "metadata": {
    "collapsed": false
   },
   "outputs": [],
   "source": [
    "polyfitted = np.polyfit(kbin2, SNR_Xi, 10)"
   ]
  },
  {
   "cell_type": "code",
   "execution_count": 37,
   "metadata": {
    "collapsed": true
   },
   "outputs": [],
   "source": [
    "kk = np.linspace(0,2,20)"
   ]
  },
  {
   "cell_type": "code",
   "execution_count": 38,
   "metadata": {
    "collapsed": true
   },
   "outputs": [],
   "source": [
    "y = np.zeros(len(kk))\n",
    "for i in range(len(polyfitted)):\n",
    "    y+= polyfitted[i]*kk**i"
   ]
  },
  {
   "cell_type": "code",
   "execution_count": null,
   "metadata": {
    "collapsed": true
   },
   "outputs": [],
   "source": []
  },
  {
   "cell_type": "code",
   "execution_count": 33,
   "metadata": {
    "collapsed": false
   },
   "outputs": [
    {
     "ename": "TypeError",
     "evalue": "leastsq() got an unexpected keyword argument 'bounds'",
     "output_type": "error",
     "traceback": [
      "\u001b[0;31m---------------------------------------------------------------------------\u001b[0m",
      "\u001b[0;31mTypeError\u001b[0m                                 Traceback (most recent call last)",
      "\u001b[0;32m<ipython-input-33-155d6c63cecd>\u001b[0m in \u001b[0;36m<module>\u001b[0;34m()\u001b[0m\n\u001b[0;32m----> 1\u001b[0;31m \u001b[0mpopt\u001b[0m\u001b[0;34m,\u001b[0m \u001b[0mpcov\u001b[0m \u001b[0;34m=\u001b[0m \u001b[0mcurve_fit\u001b[0m\u001b[0;34m(\u001b[0m\u001b[0mfunc\u001b[0m\u001b[0;34m,\u001b[0m \u001b[0mkbin2\u001b[0m\u001b[0;34m,\u001b[0m \u001b[0mSNR_Xi\u001b[0m\u001b[0;34m,\u001b[0m \u001b[0mbounds\u001b[0m\u001b[0;34m=\u001b[0m\u001b[0;34m(\u001b[0m\u001b[0;36m0\u001b[0m\u001b[0;34m,\u001b[0m \u001b[0;34m[\u001b[0m\u001b[0;36m1\u001b[0m\u001b[0;34m,\u001b[0m \u001b[0;36m0.001\u001b[0m\u001b[0;34m]\u001b[0m\u001b[0;34m)\u001b[0m\u001b[0;34m)\u001b[0m\u001b[0;34m\u001b[0m\u001b[0m\n\u001b[0m",
      "\u001b[0;32m/n/home00/lee.5922/.local/lib/python2.7/site-packages/scipy/optimize/minpack.pyc\u001b[0m in \u001b[0;36mcurve_fit\u001b[0;34m(f, xdata, ydata, p0, sigma, absolute_sigma, check_finite, **kw)\u001b[0m\n\u001b[1;32m    576\u001b[0m     \u001b[0;31m# Remove full_output from kw, otherwise we're passing it in twice.\u001b[0m\u001b[0;34m\u001b[0m\u001b[0;34m\u001b[0m\u001b[0m\n\u001b[1;32m    577\u001b[0m     \u001b[0mreturn_full\u001b[0m \u001b[0;34m=\u001b[0m \u001b[0mkw\u001b[0m\u001b[0;34m.\u001b[0m\u001b[0mpop\u001b[0m\u001b[0;34m(\u001b[0m\u001b[0;34m'full_output'\u001b[0m\u001b[0;34m,\u001b[0m \u001b[0mFalse\u001b[0m\u001b[0;34m)\u001b[0m\u001b[0;34m\u001b[0m\u001b[0m\n\u001b[0;32m--> 578\u001b[0;31m     \u001b[0mres\u001b[0m \u001b[0;34m=\u001b[0m \u001b[0mleastsq\u001b[0m\u001b[0;34m(\u001b[0m\u001b[0mfunc\u001b[0m\u001b[0;34m,\u001b[0m \u001b[0mp0\u001b[0m\u001b[0;34m,\u001b[0m \u001b[0margs\u001b[0m\u001b[0;34m=\u001b[0m\u001b[0margs\u001b[0m\u001b[0;34m,\u001b[0m \u001b[0mfull_output\u001b[0m\u001b[0;34m=\u001b[0m\u001b[0;36m1\u001b[0m\u001b[0;34m,\u001b[0m \u001b[0;34m**\u001b[0m\u001b[0mkw\u001b[0m\u001b[0;34m)\u001b[0m\u001b[0;34m\u001b[0m\u001b[0m\n\u001b[0m\u001b[1;32m    579\u001b[0m     \u001b[0;34m(\u001b[0m\u001b[0mpopt\u001b[0m\u001b[0;34m,\u001b[0m \u001b[0mpcov\u001b[0m\u001b[0;34m,\u001b[0m \u001b[0minfodict\u001b[0m\u001b[0;34m,\u001b[0m \u001b[0merrmsg\u001b[0m\u001b[0;34m,\u001b[0m \u001b[0mier\u001b[0m\u001b[0;34m)\u001b[0m \u001b[0;34m=\u001b[0m \u001b[0mres\u001b[0m\u001b[0;34m\u001b[0m\u001b[0m\n\u001b[1;32m    580\u001b[0m \u001b[0;34m\u001b[0m\u001b[0m\n",
      "\u001b[0;31mTypeError\u001b[0m: leastsq() got an unexpected keyword argument 'bounds'"
     ]
    }
   ],
   "source": [
    "popt, pcov = curve_fit(func, kbin2, SNR_Xi, bounds=(0, [1, 0.001]))"
   ]
  },
  {
   "cell_type": "code",
   "execution_count": null,
   "metadata": {
    "collapsed": true
   },
   "outputs": [],
   "source": []
  },
  {
   "cell_type": "code",
   "execution_count": null,
   "metadata": {
    "collapsed": true
   },
   "outputs": [],
   "source": []
  },
  {
   "cell_type": "code",
   "execution_count": 41,
   "metadata": {
    "collapsed": false
   },
   "outputs": [
    {
     "data": {
      "text/plain": [
       "[<matplotlib.lines.Line2D at 0x6644b10>]"
      ]
     },
     "execution_count": 41,
     "metadata": {},
     "output_type": "execute_result"
    },
    {
     "data": {
      "image/png": "[encoded data removed]",
      "text/plain": [
       "<matplotlib.figure.Figure at 0x6dba8d0>"
      ]
     },
     "metadata": {},
     "output_type": "display_data"
    }
   ],
   "source": [
    "fig, ax = plt.subplots( figsize = (10,10))\n",
    "ax.plot(kbin2, SNR_Xi, '.')\n",
    "ax.plot(kk, SNR_Xi_ftn(kk), 'ro')\n",
    "#ax.plot(kbin2, func(kbin2, *popt), 'r-', label='fit')\n",
    "ax.plot(kk, y, 'r-', label='fit')"
   ]
  },
  {
   "cell_type": "code",
   "execution_count": null,
   "metadata": {
    "collapsed": true
   },
   "outputs": [],
   "source": []
  }
 ],
 "metadata": {
  "kernelspec": {
   "display_name": "Python 2",
   "language": "python",
   "name": "python2"
  },
  "language_info": {
   "codemirror_mode": {
    "name": "ipython",
    "version": 2
   },
   "file_extension": ".py",
   "mimetype": "text/x-python",
   "name": "python",
   "nbconvert_exporter": "python",
   "pygments_lexer": "ipython2",
   "version": "2.7.5"
  }
 },
 "nbformat": 4,
 "nbformat_minor": 0
}
