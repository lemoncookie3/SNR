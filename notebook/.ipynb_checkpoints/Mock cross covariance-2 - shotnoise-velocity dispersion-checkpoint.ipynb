{
 "cells": [
  {
   "cell_type": "code",
   "execution_count": 1,
   "metadata": {},
   "outputs": [],
   "source": [
    "import numpy as np\n",
    "import matplotlib\n",
    "import matplotlib.pyplot as plt\n",
    "\n",
    "import sys\n",
    "sys.path.append('../')\n",
    "#sys.path.append('/n/des/lee.5922/programs/cosmolike/MG_musigma/')\n",
    "from noshellavg_v2 import *\n",
    "from mock_test import *\n",
    "#from run_error_analysis import *\n",
    "#from plot_chain import plot_single, plot_triple, plot_distributions, plot_summary_bar\n",
    "%matplotlib inline\n",
    "\n",
    "%load_ext autoreload\n",
    "%autoreload 2"
   ]
  },
  {
   "cell_type": "markdown",
   "metadata": {},
   "source": [
    "## Initialize Class, Calculate datavector and cov matrices"
   ]
  },
  {
   "cell_type": "markdown",
   "metadata": {},
   "source": [
    "No Shotnoise, No Finger of God term"
   ]
  },
  {
   "cell_type": "code",
   "execution_count": 2,
   "metadata": {},
   "outputs": [],
   "source": [
    "\"\"\"\n",
    " b = galaxy bias\n",
    " f = structure growth rate\n",
    " s = velocity dispersion in FoG term \n",
    " nn = shot noise \n",
    "\"\"\"\n",
    "cosmo = class_covariance(KMIN=0.001, KMAX = 100, n=3000, RMIN = 0.001, RMAX = 200, n2 = 101, \\\n",
    "                         b = 2.0, f = 0.74, s=0.0, nn=3.0e-04, rscale = 'lin', kscale='lin')\n",
    "\n",
    "#cosmo.compile_fortran_modules()\n",
    "\n",
    "# copy class to keep initial setting\n",
    "cosmo2 = cosmo\n",
    "cosmo2.MatterPower()\n",
    "\n",
    "# calling matter power spectrum from camb\n",
    "cosmo.MatterPower()\n",
    "p_model = cosmo.multipole_P(0)\n",
    "xi_model = cosmo.multipole_Xi(0)\n",
    "\n",
    "# calculate covariance matrix\n",
    "covp_model = cosmo.covariance_PP(0,0)     # cov P monopole\n",
    "covxi_model = cosmo.covariance_Xi(0,0)    # cov Xi monopole  : double bessel FT of covp_model\n",
    "covpxi_model = cosmo.covariance_PXi(0,0)  # cov Pxi monopole : FT of covp_model\n",
    "covtot_model = np.vstack(( np.hstack((covp_model, covpxi_model )), \\\n",
    "                          np.hstack((covpxi_model.T, covxi_model )) ))   # cov_combined\n",
    "dpdb,_,_ = cosmo.derivative_P_bfs(0)      # dp/db\n",
    "dxdb,_,_ = cosmo.derivative_bfs(0)        # dxi/db"
   ]
  },
  {
   "cell_type": "markdown",
   "metadata": {},
   "source": [
    "## Generate Mocks"
   ]
  },
  {
   "cell_type": "code",
   "execution_count": null,
   "metadata": {},
   "outputs": [
    {
     "name": "stdout",
     "output_type": "stream",
     "text": [
      "generate mocks... size= 100\n",
      "fourier transform.. 55/100 \r"
     ]
    }
   ],
   "source": [
    "header = \"class_covariance(KMIN=0.001, KMAX = 10, n=3000, RMIN = 0.001, RMAX = 200, n2 = 41, \\\n",
    "                         b = 2.0, f = 0.74, s=0.0, nn=3.0e-04, rscale = 'lin', kscale='lin')\"\n",
    "dirs = '../data_txt/mocks20/'\n",
    "p_mock, xi_mock = generate_mocks( cosmo, p_model, covp_model, N_mock = 100 )\n",
    "save_mocks( cosmo, p_mock, xi_mock, header = header, dir = dirs  )\n",
    "kcenter, p_mock, rcenter, xi_mock = load_mocks(dir = dirs)\n",
    "mocks = np.hstack(( p_mock, xi_mock ))"
   ]
  },
  {
   "cell_type": "markdown",
   "metadata": {},
   "source": [
    "Mock Covariance matrices"
   ]
  },
  {
   "cell_type": "code",
   "execution_count": null,
   "metadata": {},
   "outputs": [],
   "source": [
    "mock_covpxi = mock_covariance(p_model, xi_model, p_mock, xi_mock)\n",
    "mock_covp = mock_covariance(p_model, p_model, p_mock, p_mock)\n",
    "mock_covxi = mock_covariance(xi_model, xi_model, xi_mock, xi_mock)\n",
    "mock_covtot = np.vstack(( np.hstack((mock_covp, mock_covpxi )), np.hstack((mock_covpxi.T, mock_covxi )) ))"
   ]
  },
  {
   "cell_type": "markdown",
   "metadata": {},
   "source": [
    "### Theory Datavector with varying bias"
   ]
  },
  {
   "cell_type": "markdown",
   "metadata": {},
   "source": [
    "#### 2D Interpolation "
   ]
  },
  {
   "cell_type": "code",
   "execution_count": null,
   "metadata": {},
   "outputs": [],
   "source": [
    "datavp_interp, datavxi_interp = datavector_bias_2d_interp(cosmo)\n",
    "cosmo.b = 2.0 "
   ]
  },
  {
   "cell_type": "code",
   "execution_count": null,
   "metadata": {},
   "outputs": [],
   "source": [
    "# interpolate\n",
    "bbin = np.linspace(0.5, 3.5, 20000)\n",
    "datav_p = datavp_interp(cosmo.kbin, bbin)\n",
    "datav_xi = datavxi_interp(cosmo.rcenter, bbin)\n",
    "datav_com = np.hstack((datav_p, datav_xi))"
   ]
  },
  {
   "cell_type": "markdown",
   "metadata": {},
   "source": [
    "#### Mock, Theory data vectors"
   ]
  },
  {
   "cell_type": "code",
   "execution_count": null,
   "metadata": {},
   "outputs": [],
   "source": [
    "kcenter = cosmo.kbin\n",
    "fig, ax = plt.subplots(figsize = (12,5))\n",
    "#for i in range(100): \n",
    "\n",
    "for i in range(len(p_mock)) : ax.plot(kcenter, p_mock[i],  color='grey', alpha = 0.1)\n",
    "ax.plot(kcenter, p_mock[-1], color='grey', alpha = 0.1, label = 'mocks')\n",
    "\n",
    "ax.errorbar(kcenter, p_model, \\\n",
    "            yerr = np.sqrt(covp_model.diagonal()), fmt='', label = 'theory')\n",
    "\n",
    "ax.fill_between(cosmo.kbin, datav_p[0], datav_p[-1], color = 'red', alpha = 0.1, label = 'varying b =[0.5,3.5]')\n",
    "ax.set_xscale('log')\n",
    "ax.set_yscale('log')\n",
    "ax.set_xlim(1e-02, 10)\n",
    "ax.set_ylim(1e03, 1e06)\n",
    "ax.legend(loc='best')\n",
    "ax.set_ylabel(r'$P(k)$')\n",
    "ax.set_xlabel(r'$k$')\n",
    "\n",
    "fig, ax = plt.subplots(figsize = (12,5))\n",
    "#for i in range(10): \n",
    "for i in range(len(xi_mock)) : ax.plot(cosmo.rcenter, cosmo.rcenter**2*xi_mock[i], color='grey', alpha = 0.1)\n",
    "ax.plot(cosmo.rcenter, cosmo.rcenter**2*xi_mock[-1], color='grey', alpha = 0.1, label = 'mocks')\n",
    "ax.errorbar(cosmo.rcenter, cosmo.rcenter**2*xi_model, \\\n",
    "            yerr = cosmo.rcenter**2*np.sqrt(covxi_model.diagonal()), fmt='',label = 'theory')\n",
    "ax.fill_between(cosmo.rcenter, cosmo.rcenter**2* datav_xi[0], \n",
    "                cosmo.rcenter**2* datav_xi[-1], facecolor = 'red', alpha = 0.1, label = 'varying b=[0.5, 3.5]')\n",
    "ax.set_ylim(-30, 120)\n",
    "ax.set_ylabel(r'$r^2 \\xi(r)$')\n",
    "ax.set_xlabel(r'$r$')\n",
    "ax.legend(loc='best')"
   ]
  },
  {
   "cell_type": "markdown",
   "metadata": {},
   "source": [
    "#### Mock cov, Theoretical Cov"
   ]
  },
  {
   "cell_type": "code",
   "execution_count": null,
   "metadata": {},
   "outputs": [],
   "source": [
    "fig, (ax, ax2, ax3) = plt.subplots(1,3, figsize = (18,5))\n",
    "\n",
    "kcenter = cosmo.kbin\n",
    "ax.loglog(kcenter, covp_model.diagonal(), '-', linewidth = 4.0, label = 'cov model')\n",
    "ax.loglog(kcenter, mock_covp.diagonal(), '-', label ='mock covp')\n",
    "ax.set_xlabel('k')\n",
    "ax.set_ylabel(r'$C_P (k,k)$')\n",
    "ax.legend()\n",
    "\n",
    "#fig, ax = plt.subplots()\n",
    "ax2.plot(cosmo.rcenter, cosmo.rcenter**2*covxi_model.diagonal(), label='cov model')\n",
    "ax2.plot(cosmo.rcenter, cosmo.rcenter**2*mock_covxi.diagonal(), '-', label = 'mock')\n",
    "#ax.plot(cosmo.rcenter, cosmo.rcenter**2*cov_xi_3.diagonal(), '-', label = 'model2')\n",
    "ax2.set_xlabel('r')\n",
    "ax2.set_ylabel(r'$r^2 C_{\\xi}(r,r)$')\n",
    "ax2.legend()\n",
    "\n",
    "\n",
    "#fig, ax = plt.subplots()\n",
    "for i in np.arange(0, cosmo.rcenter.size, 30):\n",
    "    ax3.plot(cosmo.kbin, mock_covpxi[:,i], alpha = 0.2)\n",
    "    ax3.plot(cosmo.kbin, covpxi_model[:,i], label='r = {:0.2f}'.format(cosmo.rcenter[i]), color = ax3.lines[-1].get_color())\n",
    "    \n",
    "ax3.set_ylim(-5, 5)\n",
    "ax3.set_xlim(1e-02,0.2)\n",
    "ax3.set_xlabel('k')\n",
    "ax3.set_ylabel(r'$C_{p\\xi}(k,r)$')\n",
    "ax3.set_xscale('log')\n",
    "ax3.legend(loc='best')\n",
    "\n",
    "\n",
    "fig, ((ax, ax2, ax3),(ax4, ax5, ax6)) = plt.subplots(2,3, figsize = (20,10))\n",
    "im = ax.imshow(covp_model, vmax = 1e8, vmin = 0)\n",
    "im2 = ax2.imshow(covxi_model, vmax=0.000001, vmin=-0.000001)\n",
    "im3 = ax3.imshow(covpxi_model, aspect='auto', vmax=0.01, vmin=-0.01)\n",
    "\n",
    "im4 = ax4.imshow(mock_covp, vmax = 1e8, vmin = 0)\n",
    "im5 = ax5.imshow(mock_covxi, vmax=0.000001, vmin=-0.000001)\n",
    "im6 = ax6.imshow(mock_covpxi, aspect='auto', vmax=0.01, vmin=-0.01)\n",
    "\n",
    "fig.colorbar(im,ax=ax)\n",
    "fig.colorbar(im2,ax=ax2)\n",
    "fig.colorbar(im3,ax=ax3)\n",
    "fig.colorbar(im4,ax=ax4)\n",
    "fig.colorbar(im5,ax=ax5)\n",
    "fig.colorbar(im6,ax=ax6)"
   ]
  },
  {
   "cell_type": "markdown",
   "metadata": {},
   "source": [
    "## Calcuate Bestfit Bias "
   ]
  },
  {
   "cell_type": "markdown",
   "metadata": {},
   "source": [
    "Setting k range and r range"
   ]
  },
  {
   "cell_type": "code",
   "execution_count": null,
   "metadata": {},
   "outputs": [],
   "source": [
    "kmin = 0.01\n",
    "kmax = 0.1\n",
    "rmin = 20\n",
    "rmax = 180"
   ]
  },
  {
   "cell_type": "markdown",
   "metadata": {},
   "source": [
    "#### Theoretical calculation "
   ]
  },
  {
   "cell_type": "code",
   "execution_count": null,
   "metadata": {},
   "outputs": [],
   "source": [
    "sigma_p = getting_sigma_bs_theory( cosmo2, b = bbin, cov = covp_model, datavs = datav_p, \n",
    "                                     mockdatavs = None, p=True, kmin=kmin, kmax=kmax )\n",
    "sigma_x = getting_sigma_bs_theory( cosmo2, b = bbin, cov = covxi_model, datavs = datav_xi, \n",
    "                                     mockdatavs = None, rmin = rmin, rmax=rmax )\n",
    "sigma_d = getting_sigma_bs_diff_theory( cosmo2, b = bbin, covp = covp_model, covxi = covxi_model, \n",
    "                          datavsp = datav_p, datavsxi = datav_xi, \n",
    "                          mockdatavsp = None, mockdatavsxi = None, kmin=kmin, kmax=kmax, rmin=rmin, rmax=rmax )\n",
    "sigma_c = getting_sigma_bs_com_theory( cosmo2, b = bbin, cov = covtot_model, \n",
    "                                     datavs = datav_com, mockdatavs = None,\n",
    "                                    kmin = kmin, kmax = kmax, rmin=rmin, rmax=rmax)\n",
    "\n",
    "# print out results-------------------------------\n",
    "print '---------------------------------\\\n",
    "\\n Error on bias (Theory) \\n sigma_p      : {} \\n sigma_xi     : {} \\n sigma_combin : {} \\n sigma_diff   : {} \\\n",
    "\\n---------------------------------'.format(sigma_p, sigma_x, sigma_c, sigma_d)"
   ]
  },
  {
   "cell_type": "markdown",
   "metadata": {},
   "source": [
    "#### Mock : Perform chisquare calculation to obtain bestfit biases with Cp, Cxi, Ctot, Cdiff"
   ]
  },
  {
   "cell_type": "code",
   "execution_count": null,
   "metadata": {},
   "outputs": [],
   "source": [
    "\n",
    "bestfit_b_p, chi2p = getting_sigma_bs( cosmo2, b = bbin, cov = covp_model, datavs = datav_p, \n",
    "                                     mockdatavs = p_mock, p=True, kmin=kmin, kmax=kmax )\n",
    "bestfit_b_xi, chi2x = getting_sigma_bs( cosmo2, b = bbin, cov = covxi_model, datavs = datav_xi, \n",
    "                                     mockdatavs = xi_mock, rmin = rmin, rmax=rmax )\n",
    "bestfit_b_diff ,chi2_diff = getting_sigma_bs_diff( cosmo2, b = bbin, covp = covp_model, covxi = covxi_model, \n",
    "                          datavsp = datav_p, datavsxi = datav_xi, \n",
    "                          mockdatavsp = p_mock, mockdatavsxi = xi_mock, kmin=kmin, kmax=kmax, rmin=rmin, rmax=rmax )\n",
    "bestfit_b_com, chi2_com = getting_sigma_bs_com( cosmo2, b = bbin, cov = covtot_model, \n",
    "                                     datavs = datav_com, mockdatavs = mocks,\n",
    "                                    kmin = kmin, kmax = kmax, rmin=rmin, rmax=rmax)"
   ]
  },
  {
   "cell_type": "code",
   "execution_count": null,
   "metadata": {
    "scrolled": true
   },
   "outputs": [],
   "source": [
    "# print out results-------------------------------\n",
    "sigma_pm, sigma_xm, sigma_cm, sigma_dm \\\n",
    "= np.std(bestfit_b_p), np.std(bestfit_b_xi), np.std(bestfit_b_com), np.std(bestfit_b_diff)\n",
    "print '---------------------------------\\\n",
    "\\n Error on bias (Mock) \\n sigma_p      : {} \\n sigma_xi     : {} \\n sigma_combin : {} \\n sigma_diff   : {} \\\n",
    "\\n---------------------------------'.format(sigma_pm, sigma_xm, sigma_cm, sigma_dm)"
   ]
  },
  {
   "cell_type": "markdown",
   "metadata": {},
   "source": [
    "#### Uncorrelated P and Xi mocks"
   ]
  },
  {
   "cell_type": "code",
   "execution_count": null,
   "metadata": {},
   "outputs": [],
   "source": [
    "xi_mock2 = np.vstack((xi_mock[1:,], xi_mock[0,:]))"
   ]
  },
  {
   "cell_type": "code",
   "execution_count": null,
   "metadata": {},
   "outputs": [],
   "source": [
    "mocks2 = np.hstack((p_mock, xi_mock2))\n",
    "bestfit_b_diff2 = getting_sigma_bs_diff( cosmo2, b = bbin, covp = covp_model, covxi = covxi_model, \n",
    "                          datavsp = datav_p, datavsxi = datav_xi, \n",
    "                          mockdatavsp = p_mock, mockdatavsxi = xi_mock2, kmin=kmin, kmax=kmax, rmin=rmin, rmax=rmax )\n",
    "bestfit_b_com2 = getting_sigma_bs_com( cosmo2, b = bbin, cov = covtot_model, \n",
    "                                     datavs = datav_com, mockdatavs = mocks2,\n",
    "                                    kmin = kmin, kmax = kmax, rmin=rmin, rmax=rmax)"
   ]
  },
  {
   "cell_type": "code",
   "execution_count": null,
   "metadata": {},
   "outputs": [],
   "source": [
    "# print out results-------------------------------\n",
    "sigma_cm2, sigma_dm2 = np.std(bestfit_b_com2[0]), np.std(bestfit_b_diff2[0])\n",
    "print '---------------------------------\\\n",
    "\\n Error on bias (Uncorrelated Mock) \\n sigma_combin : {} \\n sigma_diff   : {} \\\n",
    "\\n---------------------------------'.format(sigma_cm2, sigma_dm2)"
   ]
  },
  {
   "cell_type": "markdown",
   "metadata": {},
   "source": [
    "#### Obtain cross bias from bestfit b_p and b_xi"
   ]
  },
  {
   "cell_type": "code",
   "execution_count": null,
   "metadata": {},
   "outputs": [],
   "source": [
    "combine_sigmab(bestfit_b_p, bestfit_b_xi)"
   ]
  },
  {
   "cell_type": "markdown",
   "metadata": {},
   "source": [
    "#### Check outliers "
   ]
  },
  {
   "cell_type": "code",
   "execution_count": null,
   "metadata": {},
   "outputs": [],
   "source": [
    "bhist_bin = np.linspace(0.5, 3.5, 1000)\n",
    "fig, ax = plt.subplots()\n",
    "_, _, _ = ax.hist( bestfit_b_p, bins = bhist_bin, label = 'sigma_p' )\n",
    "_, _, _ = ax.hist( bestfit_b_xi, bins = bhist_bin, label = 'sigma_xi', alpha=0.5 )\n",
    "Nb, _, _ = ax.hist( bestfit_b_com, bins = bhist_bin, label = 'sigma_combine' ,alpha=0.5)\n",
    "Nb2, _, _ = ax.hist( bestfit_b_diff, bins = bhist_bin, label = 'sigma_diff', alpha = 0.5 )\n",
    "ax.set_xlabel('bestfit b')\n",
    "ax.set_ylabel('N');\n",
    "ax.set_xlim(1.9, 2.1)\n",
    "ax.legend()\n",
    "\n",
    "nonzero = bhist_bin[:-1][ Nb > 0.0]\n",
    "nonzero2= bhist_bin[:-1][ Nb2 > 0.0]\n",
    "print '\\nbestfit b exists between b=[{}, {}]'.format(nonzero.min(), nonzero.max() )\n",
    "print 'bestfit b exists between b=[{}, {}]\\n'.format(nonzero2.min(), nonzero2.max() )"
   ]
  },
  {
   "cell_type": "markdown",
   "metadata": {},
   "source": [
    "#### Chi2 distribution test"
   ]
  },
  {
   "cell_type": "code",
   "execution_count": null,
   "metadata": {},
   "outputs": [],
   "source": [
    "chibin = np.linspace(0.5, 1.5, 50)\n",
    "fig, ax = plt.subplots()\n",
    "#ax.plot( np.arange(len(chi2p) ), chi2p)\n",
    "ax.hist(chi2p, bins = chibin, label='p', histtype='step');\n",
    "ax.hist(chi2x, bins = chibin, label ='xi', histtype='step');\n",
    "ax.hist(chi2_diff, bins = chibin, label='diff', histtype='step');\n",
    "ax.hist(chi2_com, bins = chibin, label='combin', histtype='step');\n",
    "ax.set_xlabel('chi2')\n",
    "ax.legend()"
   ]
  },
  {
   "cell_type": "code",
   "execution_count": null,
   "metadata": {},
   "outputs": [],
   "source": [
    "print '* with SHOT Noise'\n",
    "\n",
    "# print out results-------------------------------\n",
    "print '---------------------------------\\\n",
    "\\n#1 Error on bias (Theory) \\n sigma_p      : {} \\n sigma_xi     : {} \\n sigma_combin : {} \\n sigma_diff   : {} \\\n",
    "\\n---------------------------------'.format(sigma_p, sigma_x, sigma_c, sigma_d)\n",
    "\n",
    "# print out results-------------------------------\n",
    "sigma_pm, sigma_xm, sigma_cm, sigma_dm \\\n",
    "= np.std(bestfit_b_p), np.std(bestfit_b_xi), np.std(bestfit_b_com), np.std(bestfit_b_diff)\n",
    "print '---------------------------------\\\n",
    "\\n#2 Error on bias (Mock) \\n sigma_p      : {} \\n sigma_xi     : {} \\n sigma_combin : {} \\n sigma_diff   : {} \\\n",
    "\\n'.format(sigma_pm, sigma_xm, sigma_cm, sigma_dm)\n",
    "\n",
    "# print out results-------------------------------\n",
    "sigma_cm2, sigma_dm2 = np.std(bestfit_b_com2[0]), np.std(bestfit_b_diff2[0])\n",
    "print ' (Uncorrelated Mock) \\n sigma_combin : {} \\n sigma_diff   : {} \\\n",
    "\\n---------------------------------'.format(sigma_cm2, sigma_dm2)\n",
    "\n",
    "print '---------------------------------\\n\\\n",
    "#3 Error on bias \\n \\\n",
    "(Mock, cross bias is obtained \\n from bestfit bias of P and Xi)\\n'\n",
    "combine_sigmab(bestfit_b_p, bestfit_b_xi)"
   ]
  },
  {
   "cell_type": "markdown",
   "metadata": {},
   "source": [
    "-------------------"
   ]
  },
  {
   "cell_type": "markdown",
   "metadata": {},
   "source": [
    "=========="
   ]
  },
  {
   "cell_type": "code",
   "execution_count": null,
   "metadata": {},
   "outputs": [],
   "source": [
    "def mock_covariance_xib(xi_model, xi_mock, bestfit_b, b_model):\n",
    "    #m1, m2 = np.mgrid[0:1, 0:xi_model.size]\n",
    "    mock_covbxi = np.zeros(( 1, xi_model.size ))\n",
    "    for i in range(len(xi_mock)) :\n",
    "        #p = p_mock[i]\n",
    "        b = bestfit_b[i]\n",
    "        x = xi_mock[i]\n",
    "        mock_covbxi += ( b - b_model) * (x - xi_model)\n",
    "        print '{}/{}                \\r'.format(i+1, len(bestfit_b)),\n",
    "    mock_covbxi = 1./( len(bestfit_b) - 1 ) * mock_covbxi\n",
    "    \n",
    "    #if p_model.size == xi_model.size : mock_covpxi = (mock_covpxi + mock_covpxi.T)/2.\n",
    "    return mock_covbxi\n",
    "\n",
    "\n",
    "def mock_covariance_pb(p_model, p_mock, bestfit_b, b_model):\n",
    "    #m1, m2 = np.mgrid[0:1, 0:xi_model.size]\n",
    "    mock_covbxi = np.zeros(( 1, p_model.size ))\n",
    "    for i in range(len(p_mock)) :\n",
    "        #p = p_mock[i]\n",
    "        b = bestfit_b[i]\n",
    "        p = p_mock[i]\n",
    "        mock_covbxi += ( b - b_model) * (p - p_model)\n",
    "        print '{}/{}                \\r'.format(i+1, len(bestfit_b)),\n",
    "    mock_covbxi = 1./( len(bestfit_b) - 1 ) * mock_covbxi\n",
    "    \n",
    "    #if p_model.size == xi_model.size : mock_covpxi = (mock_covpxi + mock_covpxi.T)/2.\n",
    "    return mock_covbxi"
   ]
  },
  {
   "cell_type": "code",
   "execution_count": null,
   "metadata": {},
   "outputs": [],
   "source": [
    "kmin = 0.001\n",
    "kmax = 0.06\n",
    "rmin = 20\n",
    "rmax = 200\n",
    "\n",
    "idx_kmin = get_closest_index_in_data( kmin, cosmo.kbin )   \n",
    "idx_kmax = get_closest_index_in_data( kmax, cosmo.kbin )\n",
    "\n",
    "idx_rmin = get_closest_index_in_data( rmin, cosmo.rmin )   \n",
    "idx_rmax = get_closest_index_in_data( rmax, cosmo.rmax )\n",
    "\n",
    "rbin = cosmo.rcenter[idx_rmax:idx_rmin]\n",
    "kbin = cosmo.kcenter[idx_kmin:idx_kmax]\n",
    "\n",
    "sigma_d = getting_sigma_bs_diff_theory( cosmo2, b = bbin, covp = covp_model, covxi = covxi_model, \n",
    "                          datavsp = datav_p, datavsxi = datav_xi, \n",
    "                          mockdatavsp = p_mock, mockdatavsxi = xi_mock, kmin=kmin, kmax=kmax, rmin=rmin, rmax=rmax )\n",
    "sigma_c = getting_sigma_bs_com_theory( cosmo2, b = bbin, cov = covtot_model, \n",
    "                                     datavs = datav_com, mockdatavs = mocks,\n",
    "                                    kmin = kmin, kmax = kmax, rmin=rmin, rmax=rmax)\n",
    "\n",
    "# print out results-------------------------------\n",
    "print '---------------------------------\\\n",
    "\\n Error on bias (Theory) \\n sigma_combin : {} \\n sigma_diff   : {} \\\n",
    "\\n---------------------------------'.format(sigma_c, sigma_d)"
   ]
  },
  {
   "cell_type": "code",
   "execution_count": null,
   "metadata": {},
   "outputs": [],
   "source": [
    "Fpp = np.linalg.inv(covp_model[idx_kmin:idx_kmax, idx_kmin:idx_kmax])\n",
    "Fpb = np.dot(Fpp, dpdb[idx_kmin:idx_kmax])\n",
    "Cxib = np.dot( covpxi_model[idx_kmin:idx_kmax,idx_rmax:idx_rmin].T, Fpb )  \n",
    "final = np.dot( np.linalg.inv(covxi_model[idx_rmax:idx_rmin, idx_rmax:idx_rmin]), Cxib)\n",
    "#mock_covbxi = mock_covariance_xib(xi_model, xi_mock, bestfit_b_p, 2.0)\n",
    "#final_mock = np.dot(mock_covbxi[:,idx_rmax:idx_rmin], np.linalg.inv(mock_covxi[idx_rmax:idx_rmin, idx_rmax:idx_rmin]) )\n"
   ]
  },
  {
   "cell_type": "code",
   "execution_count": null,
   "metadata": {},
   "outputs": [],
   "source": [
    "#bestfit_b_p, chi2p = getting_sigma_bs( cosmo2, b = bbin, cov = covp_model, datavs = datav_p, \n",
    "#                                     mockdatavs = p_mock, p=True, kmin=kmin, kmax=kmax )\n",
    "#bestfit_b_xi, chi2x = getting_sigma_bs( cosmo2, b = bbin, cov = covxi_model, datavs = datav_xi, \n",
    "#                                     mockdatavs = xi_mock, rmin = rmin, rmax=rmax )\n",
    "#sigma_pm = np.std(bestfit_b_p)\n",
    "#sigma_xm = np.std(bestfit_b_xi)"
   ]
  },
  {
   "cell_type": "code",
   "execution_count": null,
   "metadata": {},
   "outputs": [],
   "source": [
    "covdiag = covxi_model[idx_rmax:idx_rmin,idx_rmax:idx_rmin ].diagonal()\n",
    "DAT = np.column_stack((rbin, Cxib, covdiag, final))\n",
    "header = 'rbin, cxib, cxi_diag, final, final_mock \\n# kmin {} kmax {} rmin {} rmax{}'.format(kmin, kmax, rmin, rmax)\n",
    "filename = '../data_txt/chris/cov_test_k{:0.2f}_{:0.2f}.txt'.format(kmin, kmax)\n",
    "np.savetxt(filename, DAT, header=header)"
   ]
  },
  {
   "cell_type": "code",
   "execution_count": null,
   "metadata": {},
   "outputs": [],
   "source": [
    "#Fxi = np.linalg.inv(covxi_model[idx_rmax:idx_rmin, idx_rmax:idx_rmin])\n",
    "#Fxib = np.dot(Fxi, dxdb[idx_rmax:idx_rmin])\n",
    "#Cpb = np.dot( covpxi_model[idx_kmin:idx_kmax,idx_rmax:idx_rmin], Fxib )  \n",
    "#final_p = np.dot( np.linalg.inv(covp_model[idx_kmin:idx_kmax, idx_kmin:idx_kmax]), Cpb)\n",
    "#mock_covbp = mock_covariance_pb(p_model, p_mock, bestfit_b_xi, 2.0)\n",
    "#final_mock_p = np.dot(mock_covbp[:,idx_kmin:idx_kmax], np.linalg.inv(mock_covp[idx_kmin:idx_kmax, idx_kmin:idx_kmax]) )"
   ]
  },
  {
   "cell_type": "code",
   "execution_count": null,
   "metadata": {},
   "outputs": [],
   "source": []
  },
  {
   "cell_type": "code",
   "execution_count": null,
   "metadata": {},
   "outputs": [],
   "source": [
    "fig, (ax, ax2, ax3) = plt.subplots(1,3,figsize = (25,5))\n",
    "ax.plot( rbin,Cxib, label = 'theory')\n",
    "#ax.plot( rbin,mock_covbxi[:,idx_rmax:idx_rmin].ravel()*5e03, label='mock x 5000')\n",
    "ax.axhline(y=0, linestyle='--', color='grey')\n",
    "ax.set_xlabel('r')\n",
    "ax.set_ylabel(r'~$C_{\\xi,b}$')\n",
    "ax.legend()\n",
    "#ax.set_ylim(-50000,50000)\n",
    "\n",
    "\n",
    "\n",
    "ax2.plot( rbin,mock_covxi[idx_rmax:idx_rmin,idx_rmax:idx_rmin ].diagonal(), label='theory')\n",
    "#ax2.plot( rbin,covxi_model[idx_rmax:idx_rmin,idx_rmax:idx_rmin ].diagonal(), label='mock x 5000')\n",
    "#ax.plot( cosmo.rcenter, final_mock.ravel())\n",
    "\n",
    "#ax.plot( cosmo.rcenter, Cxib)\n",
    "#ax.plot( cosmo.rcenter, mock_covbxi.ravel())\n",
    "ax2.axhline(y=0, linestyle='--', color='grey')\n",
    "ax2.set_xlabel('r')\n",
    "ax2.set_ylabel(r'$C_{\\xi}$')\n",
    "#ax.set_ylim(-50000,50000)\n",
    "ax2.legend()\n",
    "\n",
    "\n",
    "ax3.plot( rbin, final, label='theory')\n",
    "#ax3.plot( rbin, final_mock.ravel()*5e03, label='mock x 5000')\n",
    "#ax.plot( cosmo.rcenter, Cxib)\n",
    "#ax.plot( cosmo.rcenter, mock_covbxi.ravel())\n",
    "ax3.axhline(y=0, linestyle='--', color='grey')\n",
    "ax3.set_xlabel('r')\n",
    "ax3.set_ylabel(r'$C_{\\xi,b} [C_{\\xi}]^{-1}$')\n",
    "#ax3.set_ylim(-50000,50000)\n",
    "ax3.legend()"
   ]
  },
  {
   "cell_type": "code",
   "execution_count": null,
   "metadata": {},
   "outputs": [],
   "source": []
  },
  {
   "cell_type": "code",
   "execution_count": null,
   "metadata": {
    "scrolled": false
   },
   "outputs": [],
   "source": [
    "fig, ax = plt.subplots()\n",
    "ax.plot( kbin,Cpb)\n",
    "ax.plot( kbin,mock_covbp[:,idx_kmin:idx_kmax].ravel())\n",
    "ax.axhline(y=0, linestyle='--', color='grey')\n",
    "ax.set_xlabel('k')\n",
    "ax.set_ylabel(r'~$C_{p,b}$')\n",
    "#ax.set_ylim(-50000,50000)\n",
    "\n",
    "\n",
    "fig, ax = plt.subplots()\n",
    "ax.plot( kbin,mock_covp[idx_kmin:idx_kmax,idx_kmin:idx_kmax ].diagonal())\n",
    "ax.plot( kbin,covp_model[idx_kmin:idx_kmax,idx_kmin:idx_kmax ].diagonal())\n",
    "#ax.plot( cosmo.rcenter, final_mock.ravel())\n",
    "\n",
    "#ax.plot( cosmo.rcenter, Cxib)\n",
    "#ax.plot( cosmo.rcenter, mock_covbxi.ravel())\n",
    "ax.axhline(y=0, linestyle='--', color='grey')\n",
    "ax.set_xlabel('k')\n",
    "ax.set_ylabel(k'$C_{p}$')\n",
    "#ax.set_ylim(-50000,50000)\n",
    "\n",
    "\n",
    "fig, ax = plt.subplots()\n",
    "ax.plot( kbin, final_p)\n",
    "ax.plot( kbin, final_mock_p.ravel())\n",
    "\n",
    "#ax.plot( cosmo.rcenter, Cxib)\n",
    "#ax.plot( cosmo.rcenter, mock_covbxi.ravel())\n",
    "ax.axhline(y=0, linestyle='--', color='grey')\n",
    "ax.set_xlabel('k')\n",
    "ax.set_ylabel(r'$C_{p,b} [C_{p}]^{-1}$')\n",
    "#ax.set_ylim(-50000,50000)"
   ]
  },
  {
   "cell_type": "code",
   "execution_count": null,
   "metadata": {},
   "outputs": [],
   "source": []
  },
  {
   "cell_type": "code",
   "execution_count": null,
   "metadata": {},
   "outputs": [],
   "source": []
  },
  {
   "cell_type": "code",
   "execution_count": null,
   "metadata": {},
   "outputs": [],
   "source": []
  },
  {
   "cell_type": "code",
   "execution_count": null,
   "metadata": {},
   "outputs": [],
   "source": []
  },
  {
   "cell_type": "code",
   "execution_count": null,
   "metadata": {},
   "outputs": [],
   "source": []
  }
 ],
 "metadata": {
  "kernelspec": {
   "display_name": "Python 2",
   "language": "python",
   "name": "python2"
  },
  "language_info": {
   "codemirror_mode": {
    "name": "ipython",
    "version": 2
   },
   "file_extension": ".py",
   "mimetype": "text/x-python",
   "name": "python",
   "nbconvert_exporter": "python",
   "pygments_lexer": "ipython2",
   "version": "2.7.14"
  }
 },
 "nbformat": 4,
 "nbformat_minor": 2
}
